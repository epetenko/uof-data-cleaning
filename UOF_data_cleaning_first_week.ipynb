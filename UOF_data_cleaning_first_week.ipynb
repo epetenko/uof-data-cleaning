{
 "cells": [
  {
   "cell_type": "code",
   "execution_count": 1,
   "metadata": {
    "collapsed": true
   },
   "outputs": [],
   "source": [
    "import pandas as pd"
   ]
  },
  {
   "cell_type": "markdown",
   "metadata": {},
   "source": [
    "<a id='table_of_contents'></a>\n",
    "\n",
    "# Table of contents\n",
    "[Reviewing the dataset](#reviewing_the_dataset)        \n",
    "    <a href='#file_information'>File information</a>         \n",
    "    <a href='#officer_information'>Officer information</a>      \n",
    "    <a href='#race'>Race data</a>         \n",
    "    <a href='#supervisor'>Supervisor information</a>       \n",
    "    <a href='#subject_profile'>Subject profile</a>        \n",
    "    <a href='#the_event'>The event</a>     "
   ]
  },
  {
   "cell_type": "markdown",
   "metadata": {},
   "source": [
    "<a id='reviewing_the_dataset'></a>\n",
    "# Reviewing the dataset"
   ]
  },
  {
   "cell_type": "markdown",
   "metadata": {},
   "source": [
    "### Assigned simplified column names to the dataset"
   ]
  },
  {
   "cell_type": "code",
   "execution_count": 2,
   "metadata": {
    "collapsed": true
   },
   "outputs": [],
   "source": [
    "new_cols = ['Timestamp', 'Date_inputted', 'County', 'Town', 'File_name', 'Case_report_no',\n",
    "            'Incident_date', 'Incident_time', 'Location_city', 'Location_detail','Incident_type', \n",
    "            'Officer_1_first','Officer_1_last','Officer_1_rank','Officer_1_exp',\n",
    "            'Officer_1_sex','Officer_1_race','Officer_1_badge_no','Officer_1_injured','Officer_1_hosp' ,'Officer_1_killed',\n",
    "            'Supervisor_first','Supervisor_last','Supervisor_badge_no','Supervisor_signed',\n",
    "            'Officer_2_first','Officer_2_last','Officer_2_rank','Officer_2_exp', 'Officer_2_sex',\n",
    "            'Officer_2_race','Officer_2_badge_no','Officer_2_injured','Officer_2_hosp', 'Officer_2_killed',\n",
    "            'Officer_3_first','Officer_3_last','Officer_3_rank','Officer_3_exp', 'Officer_3_sex',\n",
    "            'Officer_3_race','Officer_3_badge_no','Officer_3_injured','Officer_3_hosp', 'Officer_3_killed',\n",
    "            'Subject_1_first','Subject_1_last','Subject_1_age', 'Subject_1_race','Subject_1_sex',\n",
    "            'Subject_1_actions','Subject_1_charges','Subject_1_force_nature','Firearms_used',\n",
    "            'Firearms_discharged','Firearms_shots_no','Subject_1_injured','Subject_1_hosp',\n",
    "            'Subject_1_killed','Subject_1_photo','Narrative', \n",
    "            'Subject_2_first','Subject_2_last','Subject_2_age', 'Subject_2_race','Subject_2_sex',\n",
    "            'Subject_2_actions','Subject_2_charges','Subject_2_force_nature',\n",
    "            'Subject_2_injured','Subject_2_hosp','Subject_2_killed','Subject_2_photo', \n",
    "            'Subject_3_first','Subject_3_last', 'Subject_3_age', 'Subject_3_race',\n",
    "            'Subject_3_sex','Subject_3_actions','Subject_3_charges',\n",
    "            'Subject_3_force_nature','Subject_3_injured','Subject_3_hosp',\n",
    "            'Subject_3_killed','Subject_3_photo'\n",
    "           ]"
   ]
  },
  {
   "cell_type": "code",
   "execution_count": 3,
   "metadata": {
    "collapsed": false
   },
   "outputs": [
    {
     "name": "stderr",
     "output_type": "stream",
     "text": [
      "/Users/epetenko/miniconda2/lib/python2.7/site-packages/IPython/core/interactiveshell.py:2717: DtypeWarning: Columns (25,26,27,29,30,31,32,33,34,35,36,37,39,40,42,43,44,55,72,73,74,75,76,77,78,79,80,81,82) have mixed types. Specify dtype option on import or set low_memory=False.\n",
      "  interactivity=interactivity, compiler=compiler, result=result)\n"
     ]
    }
   ],
   "source": [
    "# Reading in the data\n",
    "df = pd.read_csv('UoF-RAW-Complete.csv', names=new_cols, header=None, skiprows=1)"
   ]
  },
  {
   "cell_type": "code",
   "execution_count": 4,
   "metadata": {
    "collapsed": false
   },
   "outputs": [
    {
     "data": {
      "text/html": [
       "<div>\n",
       "<table border=\"1\" class=\"dataframe\">\n",
       "  <thead>\n",
       "    <tr style=\"text-align: right;\">\n",
       "      <th></th>\n",
       "      <th>Timestamp</th>\n",
       "      <th>Date_inputted</th>\n",
       "      <th>County</th>\n",
       "      <th>Town</th>\n",
       "      <th>File_name</th>\n",
       "      <th>Case_report_no</th>\n",
       "      <th>Incident_date</th>\n",
       "      <th>Incident_time</th>\n",
       "      <th>Location_city</th>\n",
       "      <th>Location_detail</th>\n",
       "      <th>...</th>\n",
       "      <th>Subject_3_age</th>\n",
       "      <th>Subject_3_race</th>\n",
       "      <th>Subject_3_sex</th>\n",
       "      <th>Subject_3_actions</th>\n",
       "      <th>Subject_3_charges</th>\n",
       "      <th>Subject_3_force_nature</th>\n",
       "      <th>Subject_3_injured</th>\n",
       "      <th>Subject_3_hosp</th>\n",
       "      <th>Subject_3_killed</th>\n",
       "      <th>Subject_3_photo</th>\n",
       "    </tr>\n",
       "  </thead>\n",
       "  <tbody>\n",
       "    <tr>\n",
       "      <th>0</th>\n",
       "      <td>6/7/18 6:04</td>\n",
       "      <td>6/8/16</td>\n",
       "      <td>Union County</td>\n",
       "      <td>Springfield</td>\n",
       "      <td>SPRINGFIELD-UNION-UOF-2012-2016</td>\n",
       "      <td>I-2012-002796</td>\n",
       "      <td>4/14/12</td>\n",
       "      <td>7:46</td>\n",
       "      <td>Springfield</td>\n",
       "      <td>295 Route 22 Eastbound, NJ 07081</td>\n",
       "      <td>...</td>\n",
       "      <td>NaN</td>\n",
       "      <td>NaN</td>\n",
       "      <td>NaN</td>\n",
       "      <td>NaN</td>\n",
       "      <td>NaN</td>\n",
       "      <td>NaN</td>\n",
       "      <td>NaN</td>\n",
       "      <td>NaN</td>\n",
       "      <td>NaN</td>\n",
       "      <td>NaN</td>\n",
       "    </tr>\n",
       "    <tr>\n",
       "      <th>1</th>\n",
       "      <td>6/7/18 6:17</td>\n",
       "      <td>6/8/16</td>\n",
       "      <td>Union County</td>\n",
       "      <td>Springfield</td>\n",
       "      <td>SPRINGFIELD-UNION-UOF-2012-2016</td>\n",
       "      <td>I-2012-009250</td>\n",
       "      <td>10/2/12</td>\n",
       "      <td>4:34</td>\n",
       "      <td>Springfield</td>\n",
       "      <td>100 Mountain Avenue, NJ 07081</td>\n",
       "      <td>...</td>\n",
       "      <td>NaN</td>\n",
       "      <td>NaN</td>\n",
       "      <td>NaN</td>\n",
       "      <td>NaN</td>\n",
       "      <td>NaN</td>\n",
       "      <td>NaN</td>\n",
       "      <td>NaN</td>\n",
       "      <td>NaN</td>\n",
       "      <td>NaN</td>\n",
       "      <td>NaN</td>\n",
       "    </tr>\n",
       "    <tr>\n",
       "      <th>2</th>\n",
       "      <td>6/7/18 6:23</td>\n",
       "      <td>6/8/16</td>\n",
       "      <td>Union County</td>\n",
       "      <td>Springfield</td>\n",
       "      <td>SPRINGFIELD-UNION-UOF-2012-2016</td>\n",
       "      <td>I-2013-000011</td>\n",
       "      <td>1/1/13</td>\n",
       "      <td>1:39</td>\n",
       "      <td>Springfield</td>\n",
       "      <td>Stew Leonard's Wines - 901 Mountain Avenue, NJ...</td>\n",
       "      <td>...</td>\n",
       "      <td>NaN</td>\n",
       "      <td>NaN</td>\n",
       "      <td>NaN</td>\n",
       "      <td>NaN</td>\n",
       "      <td>NaN</td>\n",
       "      <td>NaN</td>\n",
       "      <td>NaN</td>\n",
       "      <td>NaN</td>\n",
       "      <td>NaN</td>\n",
       "      <td>NaN</td>\n",
       "    </tr>\n",
       "    <tr>\n",
       "      <th>3</th>\n",
       "      <td>6/7/18 6:32</td>\n",
       "      <td>6/8/16</td>\n",
       "      <td>Union County</td>\n",
       "      <td>Springfield</td>\n",
       "      <td>SPRINGFIELD-UNION-UOF-2012-2016</td>\n",
       "      <td>I-2013-004131</td>\n",
       "      <td>4/19/13</td>\n",
       "      <td>11:59</td>\n",
       "      <td>Springfield</td>\n",
       "      <td>Victory Road, NJ 07081</td>\n",
       "      <td>...</td>\n",
       "      <td>NaN</td>\n",
       "      <td>NaN</td>\n",
       "      <td>NaN</td>\n",
       "      <td>NaN</td>\n",
       "      <td>NaN</td>\n",
       "      <td>NaN</td>\n",
       "      <td>NaN</td>\n",
       "      <td>NaN</td>\n",
       "      <td>NaN</td>\n",
       "      <td>NaN</td>\n",
       "    </tr>\n",
       "    <tr>\n",
       "      <th>4</th>\n",
       "      <td>6/7/18 6:39</td>\n",
       "      <td>6/8/16</td>\n",
       "      <td>Union County</td>\n",
       "      <td>Springfield</td>\n",
       "      <td>SPRINGFIELD-UNION-UOF-2012-2016</td>\n",
       "      <td>I-2013-004131</td>\n",
       "      <td>4/19/13</td>\n",
       "      <td>10:51</td>\n",
       "      <td>Springfield</td>\n",
       "      <td>Victory Road, NJ 07081</td>\n",
       "      <td>...</td>\n",
       "      <td>NaN</td>\n",
       "      <td>NaN</td>\n",
       "      <td>NaN</td>\n",
       "      <td>NaN</td>\n",
       "      <td>NaN</td>\n",
       "      <td>NaN</td>\n",
       "      <td>NaN</td>\n",
       "      <td>NaN</td>\n",
       "      <td>NaN</td>\n",
       "      <td>NaN</td>\n",
       "    </tr>\n",
       "  </tbody>\n",
       "</table>\n",
       "<p>5 rows × 85 columns</p>\n",
       "</div>"
      ],
      "text/plain": [
       "     Timestamp Date_inputted        County         Town  \\\n",
       "0  6/7/18 6:04        6/8/16  Union County  Springfield   \n",
       "1  6/7/18 6:17        6/8/16  Union County  Springfield   \n",
       "2  6/7/18 6:23        6/8/16  Union County  Springfield   \n",
       "3  6/7/18 6:32        6/8/16  Union County  Springfield   \n",
       "4  6/7/18 6:39        6/8/16  Union County  Springfield   \n",
       "\n",
       "                         File_name Case_report_no Incident_date Incident_time  \\\n",
       "0  SPRINGFIELD-UNION-UOF-2012-2016  I-2012-002796       4/14/12          7:46   \n",
       "1  SPRINGFIELD-UNION-UOF-2012-2016  I-2012-009250       10/2/12          4:34   \n",
       "2  SPRINGFIELD-UNION-UOF-2012-2016  I-2013-000011        1/1/13          1:39   \n",
       "3  SPRINGFIELD-UNION-UOF-2012-2016  I-2013-004131       4/19/13         11:59   \n",
       "4  SPRINGFIELD-UNION-UOF-2012-2016  I-2013-004131       4/19/13         10:51   \n",
       "\n",
       "  Location_city                                    Location_detail  \\\n",
       "0   Springfield                   295 Route 22 Eastbound, NJ 07081   \n",
       "1   Springfield                      100 Mountain Avenue, NJ 07081   \n",
       "2   Springfield  Stew Leonard's Wines - 901 Mountain Avenue, NJ...   \n",
       "3   Springfield                             Victory Road, NJ 07081   \n",
       "4   Springfield                             Victory Road, NJ 07081   \n",
       "\n",
       "        ...       Subject_3_age Subject_3_race Subject_3_sex  \\\n",
       "0       ...                 NaN            NaN           NaN   \n",
       "1       ...                 NaN            NaN           NaN   \n",
       "2       ...                 NaN            NaN           NaN   \n",
       "3       ...                 NaN            NaN           NaN   \n",
       "4       ...                 NaN            NaN           NaN   \n",
       "\n",
       "  Subject_3_actions Subject_3_charges Subject_3_force_nature  \\\n",
       "0               NaN               NaN                    NaN   \n",
       "1               NaN               NaN                    NaN   \n",
       "2               NaN               NaN                    NaN   \n",
       "3               NaN               NaN                    NaN   \n",
       "4               NaN               NaN                    NaN   \n",
       "\n",
       "  Subject_3_injured Subject_3_hosp Subject_3_killed Subject_3_photo  \n",
       "0               NaN            NaN              NaN             NaN  \n",
       "1               NaN            NaN              NaN             NaN  \n",
       "2               NaN            NaN              NaN             NaN  \n",
       "3               NaN            NaN              NaN             NaN  \n",
       "4               NaN            NaN              NaN             NaN  \n",
       "\n",
       "[5 rows x 85 columns]"
      ]
     },
     "execution_count": 4,
     "metadata": {},
     "output_type": "execute_result"
    }
   ],
   "source": [
    "# Here are the first five rows\n",
    "df.head()"
   ]
  },
  {
   "cell_type": "code",
   "execution_count": 5,
   "metadata": {
    "collapsed": false,
    "scrolled": true
   },
   "outputs": [
    {
     "name": "stdout",
     "output_type": "stream",
     "text": [
      "<class 'pandas.core.frame.DataFrame'>\n",
      "RangeIndex: 72485 entries, 0 to 72484\n",
      "Data columns (total 85 columns):\n",
      "Timestamp                 72485 non-null object\n",
      "Date_inputted             72485 non-null object\n",
      "County                    72485 non-null object\n",
      "Town                      72485 non-null object\n",
      "File_name                 72485 non-null object\n",
      "Case_report_no            72485 non-null object\n",
      "Incident_date             72485 non-null object\n",
      "Incident_time             72485 non-null object\n",
      "Location_city             22859 non-null object\n",
      "Location_detail           72484 non-null object\n",
      "Incident_type             71814 non-null object\n",
      "Officer_1_first           72485 non-null object\n",
      "Officer_1_last            72485 non-null object\n",
      "Officer_1_rank            72485 non-null object\n",
      "Officer_1_exp             50508 non-null object\n",
      "Officer_1_sex             72485 non-null object\n",
      "Officer_1_race            52854 non-null object\n",
      "Officer_1_badge_no        71919 non-null object\n",
      "Officer_1_injured         72485 non-null object\n",
      "Officer_1_hosp            72485 non-null object\n",
      "Officer_1_killed          72485 non-null object\n",
      "Supervisor_first          72485 non-null object\n",
      "Supervisor_last           72485 non-null object\n",
      "Supervisor_badge_no       72485 non-null object\n",
      "Supervisor_signed         72485 non-null object\n",
      "Officer_2_first           12844 non-null object\n",
      "Officer_2_last            12844 non-null object\n",
      "Officer_2_rank            12844 non-null object\n",
      "Officer_2_exp             0 non-null float64\n",
      "Officer_2_sex             12844 non-null object\n",
      "Officer_2_race            294 non-null object\n",
      "Officer_2_badge_no        479 non-null object\n",
      "Officer_2_injured         12844 non-null object\n",
      "Officer_2_hosp            12844 non-null object\n",
      "Officer_2_killed          12844 non-null object\n",
      "Officer_3_first           12844 non-null object\n",
      "Officer_3_last            12844 non-null object\n",
      "Officer_3_rank            12844 non-null object\n",
      "Officer_3_exp             0 non-null float64\n",
      "Officer_3_sex             12844 non-null object\n",
      "Officer_3_race            96 non-null object\n",
      "Officer_3_badge_no        174 non-null float64\n",
      "Officer_3_injured         12844 non-null object\n",
      "Officer_3_hosp            12844 non-null object\n",
      "Officer_3_killed          12844 non-null object\n",
      "Subject_1_first           72485 non-null object\n",
      "Subject_1_last            72485 non-null object\n",
      "Subject_1_age             72485 non-null object\n",
      "Subject_1_race            70978 non-null object\n",
      "Subject_1_sex             72485 non-null object\n",
      "Subject_1_actions         71046 non-null object\n",
      "Subject_1_charges         72484 non-null object\n",
      "Subject_1_force_nature    71092 non-null object\n",
      "Firearms_used             72485 non-null object\n",
      "Firearms_discharged       72485 non-null object\n",
      "Firearms_shots_no         72485 non-null object\n",
      "Subject_1_injured         72485 non-null object\n",
      "Subject_1_hosp            72485 non-null object\n",
      "Subject_1_killed          51678 non-null object\n",
      "Subject_1_photo           2007 non-null object\n",
      "Narrative                 2945 non-null object\n",
      "Subject_2_first           72485 non-null object\n",
      "Subject_2_last            72485 non-null object\n",
      "Subject_2_age             72485 non-null object\n",
      "Subject_2_race            1898 non-null object\n",
      "Subject_2_sex             72484 non-null object\n",
      "Subject_2_actions         1741 non-null object\n",
      "Subject_2_charges         72475 non-null object\n",
      "Subject_2_force_nature    1772 non-null object\n",
      "Subject_2_injured         72480 non-null object\n",
      "Subject_2_hosp            72468 non-null object\n",
      "Subject_2_killed          1307 non-null object\n",
      "Subject_2_photo           75 non-null object\n",
      "Subject_3_first           12844 non-null object\n",
      "Subject_3_last            12844 non-null object\n",
      "Subject_3_age             12844 non-null object\n",
      "Subject_3_race            84 non-null object\n",
      "Subject_3_sex             12844 non-null object\n",
      "Subject_3_actions         76 non-null object\n",
      "Subject_3_charges         12844 non-null object\n",
      "Subject_3_force_nature    88 non-null object\n",
      "Subject_3_injured         12844 non-null object\n",
      "Subject_3_hosp            12844 non-null object\n",
      "Subject_3_killed          0 non-null float64\n",
      "Subject_3_photo           0 non-null float64\n",
      "dtypes: float64(5), object(80)\n",
      "memory usage: 47.0+ MB\n"
     ]
    }
   ],
   "source": [
    "#These are each column's names, length, and data type\n",
    "df.info()"
   ]
  },
  {
   "cell_type": "markdown",
   "metadata": {},
   "source": [
    "### Stripped whitespace from entire dataset"
   ]
  },
  {
   "cell_type": "code",
   "execution_count": 6,
   "metadata": {
    "collapsed": false
   },
   "outputs": [],
   "source": [
    "#Select object-only columns\n",
    "str_cols = df.select_dtypes(include=['object']).columns\n",
    "\n",
    "# Ran loop to strip each of those columns\n",
    "for n in str_cols:\n",
    "    df[n] = df[n].str.strip()"
   ]
  },
  {
   "cell_type": "markdown",
   "metadata": {},
   "source": [
    "#### Individually viewed each column to check what outlier points there may be"
   ]
  },
  {
   "cell_type": "code",
   "execution_count": 7,
   "metadata": {
    "collapsed": false
   },
   "outputs": [
    {
     "data": {
      "text/plain": [
       "array(['No', nan, 'Yes', 'REDACTED', 'ILLEGIBLE'], dtype=object)"
      ]
     },
     "execution_count": 7,
     "metadata": {},
     "output_type": "execute_result"
    }
   ],
   "source": [
    "#Just kind of imagine this but for every column. I don't feel like including all of it here\n",
    "df.Subject_1_killed.unique()"
   ]
  },
  {
   "cell_type": "markdown",
   "metadata": {},
   "source": [
    "#### Isolated deaths from subjects and officers to allow for faster reporting"
   ]
  },
  {
   "cell_type": "code",
   "execution_count": 8,
   "metadata": {
    "collapsed": false
   },
   "outputs": [],
   "source": [
    "# df[(df.Subject_1_killed == 'Yes') | (df.Subject_2_killed == 'Yes')].to_csv('Subjects_killed.csv', index=False)"
   ]
  },
  {
   "cell_type": "code",
   "execution_count": 9,
   "metadata": {
    "collapsed": false
   },
   "outputs": [],
   "source": [
    "# df[(df.Officer_1_killed == 'Yes') | (df.Officer_2_killed == 'Yes') | (df.Officer_3_killed == 'Yes')].to_csv('Officers_killed.csv', index=False)"
   ]
  },
  {
   "cell_type": "markdown",
   "metadata": {},
   "source": [
    "# Standardizing each column"
   ]
  },
  {
   "cell_type": "markdown",
   "metadata": {},
   "source": [
    "<a id='file_information'></a>\n",
    "\n",
    "## Part 1 - File information\n",
    "\n",
    "[Back to the top](#table_of_contents)"
   ]
  },
  {
   "cell_type": "markdown",
   "metadata": {},
   "source": [
    "### First step: Timestamp column. Changed to DateTime format"
   ]
  },
  {
   "cell_type": "code",
   "execution_count": 10,
   "metadata": {
    "collapsed": false
   },
   "outputs": [
    {
     "data": {
      "text/plain": [
       "array(['6/7/18 6:04', '6/7/18 6:17', '6/7/18 6:23', ...,\n",
       "       '6/15/2018 0:58:00', '6/15/2018 1:00:32', '6/15/2018 1:05:55'], dtype=object)"
      ]
     },
     "execution_count": 10,
     "metadata": {},
     "output_type": "execute_result"
    }
   ],
   "source": [
    "df.Timestamp.unique()"
   ]
  },
  {
   "cell_type": "code",
   "execution_count": 11,
   "metadata": {
    "collapsed": true
   },
   "outputs": [],
   "source": [
    "# Needed to replace year abbreviations with actual year\n",
    "df.Timestamp = df.Timestamp.replace(to_replace='/18 ', value=\"/2018 \", regex=True)"
   ]
  },
  {
   "cell_type": "code",
   "execution_count": 12,
   "metadata": {
    "collapsed": false
   },
   "outputs": [],
   "source": [
    "df.Timestamp = pd.to_datetime(df.Timestamp, errors='coerce')"
   ]
  },
  {
   "cell_type": "code",
   "execution_count": 13,
   "metadata": {
    "collapsed": false
   },
   "outputs": [
    {
     "data": {
      "text/plain": [
       "array(['2018-06-07T06:04:00.000000000', '2018-06-07T06:17:00.000000000',\n",
       "       '2018-06-07T06:23:00.000000000', ...,\n",
       "       '2018-06-15T00:58:00.000000000', '2018-06-15T01:00:32.000000000',\n",
       "       '2018-06-15T01:05:55.000000000'], dtype='datetime64[ns]')"
      ]
     },
     "execution_count": 13,
     "metadata": {},
     "output_type": "execute_result"
    }
   ],
   "source": [
    "#confirmed with visual check in both pandas and Excel\n",
    "df.Timestamp.unique()\n",
    "# pd.DataFrame(df.Timestamp.unique()).to_csv('datetime_check.csv')"
   ]
  },
  {
   "cell_type": "markdown",
   "metadata": {},
   "source": [
    "### Next: The given date in the form"
   ]
  },
  {
   "cell_type": "code",
   "execution_count": 14,
   "metadata": {
    "collapsed": false,
    "scrolled": true
   },
   "outputs": [
    {
     "data": {
      "text/plain": [
       "array(['6/8/16', '2/19/18', '2/20/18', '2/21/18', '2/22/18', '2/23/18',\n",
       "       '2/26/18', '2/27/18', '2/28/18', '3/1/18', '3/2/18', '3/5/18',\n",
       "       '3/6/18', '3/7/18', '3/8/18', '3/9/18', '3/12/18', '3/13/18',\n",
       "       '3/14/18', '3/15/18', '3/16/18', '3/19/18', '3/20/18', '3/21/18',\n",
       "       '3/22/18', '3/23/18', '3/26/18', '3/27/18', '3/28/18', '3/29/18',\n",
       "       '3/30/18', '4/2/18', '4/3/18', '4/4/18', '4/5/18', '4/6/18',\n",
       "       '4/9/18', '4/10/18', '4/11/18', '4/12/18', '4/13/18', '4/16/18',\n",
       "       '4/17/18', '4/18/18', '4/19/18', '4/20/18', '4/23/18', '4/24/18',\n",
       "       '4/25/18', '4/26/18', '4/27/18', '4/30/18', '5/1/18', '5/2/18',\n",
       "       '5/3/18', '5/4/18', '5/7/18', '5/8/18', '5/9/18', '5/10/18',\n",
       "       '5/11/18', '5/14/18', '5/15/18', '5/16/18', '5/17/18', '5/18/18',\n",
       "       '5/21/18', '5/22/18', '5/23/18', '5/24/18', '5/25/18', '5/28/18',\n",
       "       '5/29/18', '5/30/18', '5/31/18', '6/1/18', '6/4/18', '6/5/18',\n",
       "       '6/6/18', '6/7/18', '6/12/18', '6/13/18', '6/14/18', '6/18/18',\n",
       "       '6/19/18', '6/20/18', '6/21/18', '6/22/18', '6/25/18', '6/26/18',\n",
       "       '6/27/18', '6/28/18', '6/29/18', '7/2/18', '7/3/18', '7/4/18',\n",
       "       '7/5/18', '03-05-2018', '03-15-2018', '03-20-2018', '03-22-2018',\n",
       "       '03-23-2018', '04-17-2018', '05-07-2018', '05-15-2018',\n",
       "       '06-11-2018', '06-15-2018'], dtype=object)"
      ]
     },
     "execution_count": 14,
     "metadata": {},
     "output_type": "execute_result"
    }
   ],
   "source": [
    "#the original values\n",
    "df.Date_inputted.unique()"
   ]
  },
  {
   "cell_type": "markdown",
   "metadata": {},
   "source": [
    "#### Replaced 2016 date with 2018 as per Craig's instruction"
   ]
  },
  {
   "cell_type": "code",
   "execution_count": 15,
   "metadata": {
    "collapsed": true
   },
   "outputs": [],
   "source": [
    "df.Date_inputted = df.Date_inputted.replace(to_replace='6/8/16', value='6/8/18')"
   ]
  },
  {
   "cell_type": "markdown",
   "metadata": {},
   "source": [
    "#### Converted to DateTime: checked before and after that none were dropped"
   ]
  },
  {
   "cell_type": "code",
   "execution_count": null,
   "metadata": {
    "collapsed": false
   },
   "outputs": [
    {
     "data": {
      "text/plain": [
       "72485"
      ]
     },
     "execution_count": 16,
     "metadata": {},
     "output_type": "execute_result"
    }
   ],
   "source": [
    "df.Date_inputted.count()"
   ]
  },
  {
   "cell_type": "code",
   "execution_count": null,
   "metadata": {
    "collapsed": true
   },
   "outputs": [],
   "source": [
    "df.Date_inputted = pd.to_datetime(df.Date_inputted, errors='coerce')"
   ]
  },
  {
   "cell_type": "code",
   "execution_count": null,
   "metadata": {
    "collapsed": false
   },
   "outputs": [],
   "source": [
    "df.Date_inputted.count()"
   ]
  },
  {
   "cell_type": "code",
   "execution_count": null,
   "metadata": {
    "collapsed": false,
    "scrolled": true
   },
   "outputs": [],
   "source": [
    "df.Date_inputted.unique()\n",
    "# df.Date_inputted.to_csv('dateinputted_check.csv')"
   ]
  },
  {
   "cell_type": "markdown",
   "metadata": {},
   "source": [
    "### County: Just changed Hudson to Hudson County"
   ]
  },
  {
   "cell_type": "code",
   "execution_count": null,
   "metadata": {
    "collapsed": false
   },
   "outputs": [],
   "source": [
    "df.County.unique()"
   ]
  },
  {
   "cell_type": "code",
   "execution_count": null,
   "metadata": {
    "collapsed": true
   },
   "outputs": [],
   "source": [
    "df.County = df.County.replace(to_replace='Hudson', value='Hudson County', regex=False)"
   ]
  },
  {
   "cell_type": "code",
   "execution_count": null,
   "metadata": {
    "collapsed": false
   },
   "outputs": [],
   "source": [
    "df.County.unique()"
   ]
  },
  {
   "cell_type": "markdown",
   "metadata": {},
   "source": [
    "### Town"
   ]
  },
  {
   "cell_type": "markdown",
   "metadata": {},
   "source": [
    "#### Harder to standardize: Needed to go through and change a bunch"
   ]
  },
  {
   "cell_type": "code",
   "execution_count": null,
   "metadata": {
    "collapsed": false,
    "scrolled": true
   },
   "outputs": [],
   "source": [
    "df.Town.unique()"
   ]
  },
  {
   "cell_type": "code",
   "execution_count": null,
   "metadata": {
    "collapsed": true
   },
   "outputs": [],
   "source": [
    "df.Town = df.Town.replace(to_replace='Carlstadt NJ Scans 9-2017', value='Carlstadt')\n",
    "df.Town = df.Town.replace(to_replace='RIver Edge', value='River Edge')\n",
    "df.Town = df.Town.replace(to_replace='PENNSAUKEN', value='Pennsauken')\n",
    "df.Town = df.Town.replace(to_replace='Fairfield NJ Scans 9-2017', value='Fairfield')\n",
    "df.Town = df.Town.replace(to_replace='Verona 2011-16', value='Verona')\n",
    "df.Town = df.Town.replace(to_replace='East Brunswick NJ Scans 9-2017', value='East Brunswick')\n",
    "df.Town = df.Town.replace(to_replace='Secaucus 60', value='Secaucus')\n",
    "df.Town = df.Town.replace(to_replace='LOWER ALLOWAYS CREEK', value='Lower Alloways Creek')\n",
    "df.Town = df.Town.replace(to_replace='Phillipsburg NJ Scans 9-2017', value='Phillipsburg')"
   ]
  },
  {
   "cell_type": "markdown",
   "metadata": {},
   "source": [
    "#### Created unique Town and county combined column for prevention of duplicated town names"
   ]
  },
  {
   "cell_type": "code",
   "execution_count": null,
   "metadata": {
    "collapsed": false
   },
   "outputs": [],
   "source": [
    "df['Town_county'] = df.Town + ', ' + df.County\n",
    "\n",
    "print \"Number of unique towns: \", len(df.Town_county.unique())"
   ]
  },
  {
   "cell_type": "markdown",
   "metadata": {},
   "source": [
    "### Incident date / Time"
   ]
  },
  {
   "cell_type": "markdown",
   "metadata": {},
   "source": [
    "####  Changed to datetime, but ignored errors for now because there were about 832 of them "
   ]
  },
  {
   "cell_type": "code",
   "execution_count": null,
   "metadata": {
    "collapsed": false
   },
   "outputs": [],
   "source": [
    "df.Incident_date.unique()"
   ]
  },
  {
   "cell_type": "markdown",
   "metadata": {},
   "source": [
    "Note: Should I change \"XX\" to 01?"
   ]
  },
  {
   "cell_type": "code",
   "execution_count": null,
   "metadata": {
    "collapsed": false
   },
   "outputs": [],
   "source": [
    " df.Incident_date.count()"
   ]
  },
  {
   "cell_type": "code",
   "execution_count": null,
   "metadata": {
    "collapsed": false
   },
   "outputs": [],
   "source": [
    "df[df.Incident_date.str.contains('XX')].Incident_date.count()"
   ]
  },
  {
   "cell_type": "code",
   "execution_count": null,
   "metadata": {
    "collapsed": false
   },
   "outputs": [],
   "source": [
    "df.Incident_date = pd.to_datetime(df.Incident_date, errors='ignore')"
   ]
  },
  {
   "cell_type": "markdown",
   "metadata": {},
   "source": [
    "#### Incident time -- again ignored errors (mostly blank and illegible)"
   ]
  },
  {
   "cell_type": "code",
   "execution_count": null,
   "metadata": {
    "collapsed": false
   },
   "outputs": [],
   "source": [
    "df.Incident_time.count()"
   ]
  },
  {
   "cell_type": "code",
   "execution_count": null,
   "metadata": {
    "collapsed": false
   },
   "outputs": [],
   "source": [
    "print \"Number of blank or illegible values: \", df[df.Incident_time == 'BLANK']['Incident_time'].count() + df[df.Incident_time == 'ILLEGIBLE']['Incident_time'].count()"
   ]
  },
  {
   "cell_type": "code",
   "execution_count": null,
   "metadata": {
    "collapsed": false
   },
   "outputs": [],
   "source": [
    "df.Incident_time = pd.to_datetime(df.Incident_time, errors='ignore', format=\"%H:%M\")"
   ]
  },
  {
   "cell_type": "markdown",
   "metadata": {},
   "source": [
    "### Incident type"
   ]
  },
  {
   "cell_type": "markdown",
   "metadata": {},
   "source": [
    "#### Reducing the amount of repetition by changing everything to same capitalization"
   ]
  },
  {
   "cell_type": "code",
   "execution_count": null,
   "metadata": {
    "collapsed": false
   },
   "outputs": [],
   "source": [
    "df.Incident_type = df.Incident_type.str.title()"
   ]
  },
  {
   "cell_type": "code",
   "execution_count": null,
   "metadata": {
    "collapsed": false
   },
   "outputs": [],
   "source": [
    "print \"Number of unique incident types:\", len(df.Incident_type.unique())"
   ]
  },
  {
   "cell_type": "code",
   "execution_count": null,
   "metadata": {
    "collapsed": false,
    "scrolled": true
   },
   "outputs": [],
   "source": [
    "df.Incident_type.value_counts()"
   ]
  },
  {
   "cell_type": "code",
   "execution_count": null,
   "metadata": {
    "collapsed": false
   },
   "outputs": [],
   "source": [
    "# pd.DataFrame(df.Incident_type.value_counts()).to_csv('Incident_type_check.csv')"
   ]
  },
  {
   "cell_type": "markdown",
   "metadata": {},
   "source": [
    "<a id='officer_information'></a>\n",
    "\n",
    "## Part 2 -- Officer information\n",
    "\n",
    "[Back to the top](#table_of_contents)"
   ]
  },
  {
   "cell_type": "markdown",
   "metadata": {},
   "source": [
    "### Officer names"
   ]
  },
  {
   "cell_type": "markdown",
   "metadata": {},
   "source": [
    "#### Converting to proper case"
   ]
  },
  {
   "cell_type": "code",
   "execution_count": null,
   "metadata": {
    "collapsed": false
   },
   "outputs": [],
   "source": [
    "df.Officer_1_first = df.Officer_1_first.str.title()\n",
    "df.Officer_1_last = df.Officer_1_last.str.title()\n",
    "df.Officer_2_first = df.Officer_2_first.str.title()\n",
    "df.Officer_2_last = df.Officer_2_last.str.title()\n",
    "df.Officer_3_first = df.Officer_3_first.str.title()\n",
    "df.Officer_3_last = df.Officer_3_last.str.title()"
   ]
  },
  {
   "cell_type": "code",
   "execution_count": null,
   "metadata": {
    "collapsed": false
   },
   "outputs": [],
   "source": [
    "print \"Number of unique values for first Officer's name: \", len(df.Officer_1_first.unique())"
   ]
  },
  {
   "cell_type": "markdown",
   "metadata": {},
   "source": [
    "### Officer rank"
   ]
  },
  {
   "cell_type": "code",
   "execution_count": null,
   "metadata": {
    "collapsed": true
   },
   "outputs": [],
   "source": [
    "df.Officer_1_rank = df.Officer_1_rank.str.upper()\n",
    "df.Officer_2_rank = df.Officer_2_rank.str.upper()\n",
    "df.Officer_3_rank = df.Officer_3_rank.str.upper()"
   ]
  },
  {
   "cell_type": "markdown",
   "metadata": {},
   "source": [
    "#### Initially lots of dirty data: Had to convert to csv and manually translate"
   ]
  },
  {
   "cell_type": "code",
   "execution_count": null,
   "metadata": {
    "collapsed": false,
    "scrolled": true
   },
   "outputs": [],
   "source": [
    "df.Officer_1_rank.value_counts()"
   ]
  },
  {
   "cell_type": "code",
   "execution_count": null,
   "metadata": {
    "collapsed": true
   },
   "outputs": [],
   "source": [
    "# pd.DataFrame(df.Officer_1_rank.value_counts()).to_csv('officer_rank_check.csv')"
   ]
  },
  {
   "cell_type": "markdown",
   "metadata": {},
   "source": [
    "#### Read in new csv with standardized values"
   ]
  },
  {
   "cell_type": "code",
   "execution_count": null,
   "metadata": {
    "collapsed": true
   },
   "outputs": [],
   "source": [
    "rank = pd.read_csv('Officer_rank_dict.csv', index_col='Input', dtype={'Input':str})"
   ]
  },
  {
   "cell_type": "code",
   "execution_count": null,
   "metadata": {
    "collapsed": false
   },
   "outputs": [],
   "source": [
    "rank.head()"
   ]
  },
  {
   "cell_type": "markdown",
   "metadata": {},
   "source": [
    "#### Created a dictionary from the standardized values and mapped it to the original data"
   ]
  },
  {
   "cell_type": "code",
   "execution_count": null,
   "metadata": {
    "collapsed": false
   },
   "outputs": [],
   "source": [
    "standard_rank = rank['Standard_name'].to_dict()\n",
    "gen_rank = rank['General_name'].to_dict()"
   ]
  },
  {
   "cell_type": "code",
   "execution_count": null,
   "metadata": {
    "collapsed": false
   },
   "outputs": [],
   "source": [
    "df.Officer_1_rank = df.Officer_1_rank.map(standard_rank)\n",
    "df.Officer_1_genrank = df.Officer_1_rank.map(gen_rank)\n"
   ]
  },
  {
   "cell_type": "code",
   "execution_count": null,
   "metadata": {
    "collapsed": true
   },
   "outputs": [],
   "source": [
    "df.Officer_2_rank = df.Officer_2_rank.map(standard_rank)\n",
    "df.Officer_2_genrank = df.Officer_2_rank.map(gen_rank)\n",
    "df.Officer_3_rank = df.Officer_3_rank.map(standard_rank)\n",
    "df.Officer_3_genrank = df.Officer_3_rank.map(gen_rank)"
   ]
  },
  {
   "cell_type": "markdown",
   "metadata": {},
   "source": [
    "#### Data is now simplified"
   ]
  },
  {
   "cell_type": "code",
   "execution_count": null,
   "metadata": {
    "collapsed": false,
    "scrolled": true
   },
   "outputs": [],
   "source": [
    "df.Officer_1_rank.value_counts()"
   ]
  },
  {
   "cell_type": "code",
   "execution_count": null,
   "metadata": {
    "collapsed": false,
    "scrolled": true
   },
   "outputs": [],
   "source": [
    "df.Officer_1_genrank.value_counts()"
   ]
  },
  {
   "cell_type": "markdown",
   "metadata": {},
   "source": [
    "### Officer experience"
   ]
  },
  {
   "cell_type": "code",
   "execution_count": null,
   "metadata": {
    "collapsed": false
   },
   "outputs": [],
   "source": [
    "# pd.DataFrame(df.Officer_1_exp.value_counts()).to_csv('Officer_experience_check.csv')"
   ]
  },
  {
   "cell_type": "code",
   "execution_count": null,
   "metadata": {
    "collapsed": false,
    "scrolled": true
   },
   "outputs": [],
   "source": [
    "df.Officer_1_exp.value_counts()"
   ]
  },
  {
   "cell_type": "markdown",
   "metadata": {},
   "source": [
    "#### Took out some unnecessary punctuation and words"
   ]
  },
  {
   "cell_type": "code",
   "execution_count": null,
   "metadata": {
    "collapsed": false
   },
   "outputs": [],
   "source": [
    "df.Officer_1_exp = df.Officer_1_exp.replace(to_replace=['\\+', 'Approx ', 'Approx. ','Approx, ',\n",
    "                                                       '3 Summer Seasons','>',' (Edison)', '3rd Summer',\n",
    "                                                       'Appx ','Apprx ','Aprx '], value=\"\", regex=True)"
   ]
  },
  {
   "cell_type": "markdown",
   "metadata": {},
   "source": [
    "#### Test of how much lost from trying to convert to numerical"
   ]
  },
  {
   "cell_type": "markdown",
   "metadata": {},
   "source": [
    "I.e. How many still have non-numerical characters in them?"
   ]
  },
  {
   "cell_type": "code",
   "execution_count": null,
   "metadata": {
    "collapsed": false
   },
   "outputs": [],
   "source": [
    "df.Officer_1_exp.count()"
   ]
  },
  {
   "cell_type": "code",
   "execution_count": null,
   "metadata": {
    "collapsed": true
   },
   "outputs": [],
   "source": [
    "df.Officer_1_exp = pd.to_numeric(df.Officer_1_exp, errors='coerce')"
   ]
  },
  {
   "cell_type": "code",
   "execution_count": null,
   "metadata": {
    "collapsed": false
   },
   "outputs": [],
   "source": [
    "df.Officer_1_exp.count()"
   ]
  },
  {
   "cell_type": "markdown",
   "metadata": {},
   "source": [
    "### Officer sex : Everything looks pretty clean! :)"
   ]
  },
  {
   "cell_type": "code",
   "execution_count": null,
   "metadata": {
    "collapsed": false
   },
   "outputs": [],
   "source": [
    "df.Officer_1_sex.value_counts()"
   ]
  },
  {
   "cell_type": "code",
   "execution_count": null,
   "metadata": {
    "collapsed": false
   },
   "outputs": [],
   "source": [
    "df.Officer_2_sex.value_counts()"
   ]
  },
  {
   "cell_type": "code",
   "execution_count": null,
   "metadata": {
    "collapsed": false
   },
   "outputs": [],
   "source": [
    "df.Officer_3_sex.value_counts()"
   ]
  },
  {
   "cell_type": "markdown",
   "metadata": {},
   "source": [
    "<a id='race'></a>\n",
    "\n",
    "## Race: Did officer and subject combined\n",
    "\n",
    "[Back to the top](#table_of_contents)"
   ]
  },
  {
   "cell_type": "markdown",
   "metadata": {},
   "source": [
    "#### Standard capitalization"
   ]
  },
  {
   "cell_type": "code",
   "execution_count": null,
   "metadata": {
    "collapsed": true
   },
   "outputs": [],
   "source": [
    "df.Officer_1_race = df.Officer_1_race.str.upper()\n",
    "df.Officer_2_race = df.Officer_2_race.str.upper()\n",
    "df.Officer_3_race = df.Officer_3_race.str.upper()\n",
    "\n",
    "df.Subject_1_race = df.Subject_1_race.str.upper()\n",
    "df.Subject_2_race = df.Subject_2_race.str.upper()\n",
    "df.Subject_3_race = df.Subject_3_race.str.upper()\n"
   ]
  },
  {
   "cell_type": "markdown",
   "metadata": {},
   "source": [
    "#### Still many, many dirty values"
   ]
  },
  {
   "cell_type": "code",
   "execution_count": null,
   "metadata": {
    "collapsed": false,
    "scrolled": true
   },
   "outputs": [],
   "source": [
    "df.Officer_1_race.value_counts()"
   ]
  },
  {
   "cell_type": "markdown",
   "metadata": {},
   "source": [
    "### Race codes:\n",
    "1. white\n",
    "2. black\n",
    "3. american indian/alaskan native\n",
    "4. asian/pacific islander\n",
    "\n",
    "### Ethnicity:      \n",
    "A. of hispanic origin     \n",
    "B. not of hispanic origin"
   ]
  },
  {
   "cell_type": "markdown",
   "metadata": {},
   "source": [
    "#### Created a list of all unique racial values"
   ]
  },
  {
   "cell_type": "code",
   "execution_count": null,
   "metadata": {
    "collapsed": true
   },
   "outputs": [],
   "source": [
    "# Retrieve unique values for race in officer categories\n",
    "off_race = pd.concat([pd.DataFrame(df.Officer_1_race.value_counts()),\n",
    "                       pd.DataFrame(df.Officer_2_race.value_counts()),\n",
    "                       pd.DataFrame(df.Officer_3_race.value_counts())\n",
    "                    ])\n",
    "\n",
    "#same with Subject\n",
    "subj_race = pd.concat([pd.DataFrame(df.Subject_1_race.value_counts()),\n",
    "                       pd.DataFrame(df.Subject_2_race.value_counts()),\n",
    "                       pd.DataFrame(df.Subject_3_race.value_counts())\n",
    "                    ])\n",
    "\n",
    "#Combined both into single DF of all race values\n",
    "comb_race = pd.concat([subj_race, off_race])\n",
    "\n",
    "# Exported it to csv to put into separate Google sheets document\n",
    "# pd.DataFrame(comb_race.index.value_counts()).to_csv('Race_values.csv')"
   ]
  },
  {
   "cell_type": "markdown",
   "metadata": {},
   "source": [
    "To create the standardized racial categories, we put all unique race values into a Google spreadsheet and allowed \n",
    "for everyone on the team to edit it. We discussed edge cases and created specific standardized codes, as well as separate codes for when the value indicated both race and ethnicity."
   ]
  },
  {
   "cell_type": "markdown",
   "metadata": {},
   "source": [
    "#### Read in the results"
   ]
  },
  {
   "cell_type": "code",
   "execution_count": null,
   "metadata": {
    "collapsed": false
   },
   "outputs": [],
   "source": [
    "race_cat = pd.read_csv('https://docs.google.com/spreadsheets/d/1fG0Ehp1hG_I8KIp9KTtCG88XOxBCXtpiEStJg4H1hLE/export?format=csv', index_col='Input', dtype={'Input':str})"
   ]
  },
  {
   "cell_type": "code",
   "execution_count": null,
   "metadata": {
    "collapsed": false,
    "scrolled": true
   },
   "outputs": [],
   "source": [
    "race_cat"
   ]
  },
  {
   "cell_type": "markdown",
   "metadata": {},
   "source": [
    "Created a python dictionary to turn codes into the standardized and separate racial and ethnic cat"
   ]
  },
  {
   "cell_type": "code",
   "execution_count": null,
   "metadata": {
    "collapsed": false
   },
   "outputs": [],
   "source": [
    "standard_race = race_cat.Standardized_race.to_dict()\n",
    "sep_race = race_cat.Separate_race.to_dict()\n",
    "sep_eth = race_cat.Separate_eth.to_dict()"
   ]
  },
  {
   "cell_type": "code",
   "execution_count": null,
   "metadata": {
    "collapsed": false
   },
   "outputs": [],
   "source": [
    "standard_race"
   ]
  },
  {
   "cell_type": "markdown",
   "metadata": {},
   "source": [
    "#### Then mapped the category, creating extra columns for each"
   ]
  },
  {
   "cell_type": "code",
   "execution_count": null,
   "metadata": {
    "collapsed": false
   },
   "outputs": [],
   "source": [
    "df['Officer_1_race_st'] = df['Officer_1_race'].map(standard_race)\n",
    "df['Officer_2_race_st'] = df['Officer_2_race'].map(standard_race)\n",
    "df['Officer_3_race_st'] = df['Officer_3_race'].map(standard_race)\n",
    "df['Officer_1_race_sep'] = df['Officer_1_race'].map(sep_race)\n",
    "df['Officer_2_race_sep'] = df['Officer_2_race'].map(sep_race)\n",
    "df['Officer_3_race_sep'] = df['Officer_3_race'].map(sep_race)\n",
    "df['Officer_1_eth_sep'] = df['Officer_1_race'].map(sep_eth)\n",
    "df['Officer_2_eth_sep'] = df['Officer_2_race'].map(sep_eth)\n",
    "df['Officer_3_eth_sep'] = df['Officer_3_race'].map(sep_eth)"
   ]
  },
  {
   "cell_type": "code",
   "execution_count": null,
   "metadata": {
    "collapsed": false,
    "scrolled": true
   },
   "outputs": [],
   "source": [
    "print \"Percent of racial values covered:\" , float(df.Officer_1_race_st.count()) / float(df.Officer_1_race.count())"
   ]
  },
  {
   "cell_type": "code",
   "execution_count": null,
   "metadata": {
    "collapsed": false
   },
   "outputs": [],
   "source": [
    "print \"Number of rows with separate racial and ethnic values for 1st officer: \", df.Officer_1_eth_sep.count()"
   ]
  },
  {
   "cell_type": "code",
   "execution_count": null,
   "metadata": {
    "collapsed": false,
    "scrolled": true
   },
   "outputs": [],
   "source": [
    "# Remaining racial categories to define\n",
    "df[df.Officer_1_race_st.isnull() == True]['Officer_1_race'].value_counts()"
   ]
  },
  {
   "cell_type": "markdown",
   "metadata": {},
   "source": [
    "#### Preliminary racial breakdown of first officer"
   ]
  },
  {
   "cell_type": "code",
   "execution_count": null,
   "metadata": {
    "collapsed": false
   },
   "outputs": [],
   "source": [
    "df.Officer_1_race_st.value_counts()"
   ]
  },
  {
   "cell_type": "code",
   "execution_count": null,
   "metadata": {
    "collapsed": false
   },
   "outputs": [],
   "source": [
    "print \"Total number of columns with completed race\", df.Officer_1_race_st.count()"
   ]
  },
  {
   "cell_type": "markdown",
   "metadata": {},
   "source": [
    "Officer badge no. is fairly straightforward, so skipped ahead "
   ]
  },
  {
   "cell_type": "markdown",
   "metadata": {},
   "source": [
    "### Officer injuries and deaths"
   ]
  },
  {
   "cell_type": "markdown",
   "metadata": {},
   "source": [
    "#### For each one, quickly replaced first officer category mistakes"
   ]
  },
  {
   "cell_type": "code",
   "execution_count": null,
   "metadata": {
    "collapsed": true
   },
   "outputs": [],
   "source": [
    "df.Officer_1_injured = df.Officer_1_injured.replace(to_replace='N/A  or not listed', value='N/A or not listed')"
   ]
  },
  {
   "cell_type": "code",
   "execution_count": null,
   "metadata": {
    "collapsed": false
   },
   "outputs": [],
   "source": [
    "df.Officer_1_injured.value_counts()"
   ]
  },
  {
   "cell_type": "code",
   "execution_count": null,
   "metadata": {
    "collapsed": false
   },
   "outputs": [],
   "source": [
    "df.Officer_2_injured.value_counts()"
   ]
  },
  {
   "cell_type": "code",
   "execution_count": null,
   "metadata": {
    "collapsed": false,
    "scrolled": true
   },
   "outputs": [],
   "source": [
    "df.Officer_3_injured.value_counts()"
   ]
  },
  {
   "cell_type": "code",
   "execution_count": null,
   "metadata": {
    "collapsed": true
   },
   "outputs": [],
   "source": [
    "df.Officer_1_hosp = df.Officer_1_hosp.replace(to_replace='N/A or Not listed', value='N/A or not listed')"
   ]
  },
  {
   "cell_type": "code",
   "execution_count": null,
   "metadata": {
    "collapsed": false
   },
   "outputs": [],
   "source": [
    "df.Officer_1_hosp.value_counts()"
   ]
  },
  {
   "cell_type": "code",
   "execution_count": null,
   "metadata": {
    "collapsed": false
   },
   "outputs": [],
   "source": [
    "df.Officer_2_hosp.value_counts()"
   ]
  },
  {
   "cell_type": "code",
   "execution_count": null,
   "metadata": {
    "collapsed": false
   },
   "outputs": [],
   "source": [
    "df.Officer_3_hosp.value_counts()"
   ]
  },
  {
   "cell_type": "code",
   "execution_count": null,
   "metadata": {
    "collapsed": true
   },
   "outputs": [],
   "source": [
    "df.Officer_1_killed = df.Officer_1_killed.replace(to_replace=['N/A  or not listed', 'N/A or Not listed'], value='N/A or not listed')"
   ]
  },
  {
   "cell_type": "code",
   "execution_count": null,
   "metadata": {
    "collapsed": false
   },
   "outputs": [],
   "source": [
    "df.Officer_1_killed.value_counts()"
   ]
  },
  {
   "cell_type": "code",
   "execution_count": null,
   "metadata": {
    "collapsed": false
   },
   "outputs": [],
   "source": [
    "df.Officer_2_killed.value_counts()"
   ]
  },
  {
   "cell_type": "code",
   "execution_count": null,
   "metadata": {
    "collapsed": false
   },
   "outputs": [],
   "source": [
    "df.Officer_3_killed.value_counts()"
   ]
  },
  {
   "cell_type": "markdown",
   "metadata": {},
   "source": [
    "<a id='supervisor'></a>\n",
    "\n",
    "## Supervisor stuff\n",
    "\n",
    "[Back to the top](#table_of_contents)"
   ]
  },
  {
   "cell_type": "markdown",
   "metadata": {},
   "source": [
    "#### First & last name"
   ]
  },
  {
   "cell_type": "code",
   "execution_count": null,
   "metadata": {
    "collapsed": true
   },
   "outputs": [],
   "source": [
    "df.Supervisor_first = df.Supervisor_first.str.title()"
   ]
  },
  {
   "cell_type": "code",
   "execution_count": null,
   "metadata": {
    "collapsed": false
   },
   "outputs": [],
   "source": [
    "df.Supervisor_first.unique()"
   ]
  },
  {
   "cell_type": "code",
   "execution_count": null,
   "metadata": {
    "collapsed": true
   },
   "outputs": [],
   "source": [
    "df.Supervisor_last = df.Supervisor_last.str.title()"
   ]
  },
  {
   "cell_type": "code",
   "execution_count": null,
   "metadata": {
    "collapsed": false
   },
   "outputs": [],
   "source": [
    "df.Supervisor_last.unique()"
   ]
  },
  {
   "cell_type": "markdown",
   "metadata": {},
   "source": [
    "#### Badge no. Fairly straightforward"
   ]
  },
  {
   "cell_type": "code",
   "execution_count": null,
   "metadata": {
    "collapsed": false
   },
   "outputs": [],
   "source": [
    "df.Supervisor_badge_no.unique()"
   ]
  },
  {
   "cell_type": "markdown",
   "metadata": {},
   "source": [
    "#### Signature: All clean"
   ]
  },
  {
   "cell_type": "code",
   "execution_count": null,
   "metadata": {
    "collapsed": false
   },
   "outputs": [],
   "source": [
    "df.Supervisor_signed.value_counts()"
   ]
  },
  {
   "cell_type": "markdown",
   "metadata": {},
   "source": [
    "<a id='subject_profile'></a>\n",
    "\n",
    "## Subject profile\n",
    "\n",
    "[Back to the top](#table_of_contents)"
   ]
  },
  {
   "cell_type": "markdown",
   "metadata": {},
   "source": [
    "### Name & age"
   ]
  },
  {
   "cell_type": "markdown",
   "metadata": {},
   "source": [
    "#### Put last and first in correct caps"
   ]
  },
  {
   "cell_type": "code",
   "execution_count": null,
   "metadata": {
    "collapsed": false
   },
   "outputs": [],
   "source": [
    "df.Subject_1_first = df.Subject_1_first.str.title()\n",
    "df.Subject_1_last = df.Subject_1_last.str.title()\n",
    "df.Subject_2_first = df.Subject_2_first.str.title()\n",
    "df.Subject_2_last = df.Subject_2_last.str.title()\n",
    "df.Subject_3_first = df.Subject_3_first.str.title()\n",
    "df.Subject_3_last = df.Subject_3_last.str.title()"
   ]
  },
  {
   "cell_type": "code",
   "execution_count": null,
   "metadata": {
    "collapsed": false
   },
   "outputs": [],
   "source": [
    "df.Subject_1_age = df.Subject_1_age.str.upper()"
   ]
  },
  {
   "cell_type": "code",
   "execution_count": null,
   "metadata": {
    "collapsed": false,
    "scrolled": true
   },
   "outputs": [],
   "source": [
    "df.Subject_1_age.value_counts()"
   ]
  },
  {
   "cell_type": "markdown",
   "metadata": {},
   "source": [
    "### Sex"
   ]
  },
  {
   "cell_type": "code",
   "execution_count": null,
   "metadata": {
    "collapsed": false
   },
   "outputs": [],
   "source": [
    "df.Subject_1_sex.value_counts()"
   ]
  },
  {
   "cell_type": "code",
   "execution_count": null,
   "metadata": {
    "collapsed": false
   },
   "outputs": [],
   "source": [
    "df.Subject_2_sex.value_counts()"
   ]
  },
  {
   "cell_type": "code",
   "execution_count": null,
   "metadata": {
    "collapsed": true
   },
   "outputs": [],
   "source": [
    "df.Subject_2_sex = df.Subject_2_sex.replace(to_replace='M', value='Male')"
   ]
  },
  {
   "cell_type": "code",
   "execution_count": null,
   "metadata": {
    "collapsed": false
   },
   "outputs": [],
   "source": [
    "df.Subject_3_sex.value_counts()"
   ]
  },
  {
   "cell_type": "markdown",
   "metadata": {},
   "source": [
    "### Race"
   ]
  },
  {
   "cell_type": "markdown",
   "metadata": {},
   "source": [
    "#### Used existing dictionary from above to map values"
   ]
  },
  {
   "cell_type": "code",
   "execution_count": null,
   "metadata": {
    "collapsed": true
   },
   "outputs": [],
   "source": [
    "df['Subject_1_race_st'] = df['Subject_1_race'].map(standard_race)\n",
    "df['Subject_2_race_st'] = df['Subject_2_race'].map(standard_race)\n",
    "df['Subject_3_race_st'] = df['Subject_3_race'].map(standard_race)\n",
    "df['Subject_1_race_sep'] = df['Subject_1_race'].map(sep_race)\n",
    "df['Subject_2_race_sep'] = df['Subject_2_race'].map(sep_race)\n",
    "df['Subject_3_race_sep'] = df['Subject_3_race'].map(sep_race)\n",
    "df['Subject_1_eth_sep'] = df['Subject_1_race'].map(sep_eth)\n",
    "df['Subject_2_eth_sep'] = df['Subject_2_race'].map(sep_eth)\n",
    "df['Subject_3_eth_sep'] = df['Subject_3_race'].map(sep_eth)"
   ]
  },
  {
   "cell_type": "code",
   "execution_count": null,
   "metadata": {
    "collapsed": false,
    "scrolled": true
   },
   "outputs": [],
   "source": [
    "print \"Percent of racial values covered:\", float(df['Subject_1_race_st'].count()) / float(df.Subject_1_race.count())"
   ]
  },
  {
   "cell_type": "code",
   "execution_count": null,
   "metadata": {
    "collapsed": false
   },
   "outputs": [],
   "source": [
    "df[df['Subject_1_race_st'].isnull() == True].Subject_1_race.value_counts()"
   ]
  },
  {
   "cell_type": "markdown",
   "metadata": {},
   "source": [
    "#### Breakdown of subject race"
   ]
  },
  {
   "cell_type": "code",
   "execution_count": null,
   "metadata": {
    "collapsed": false
   },
   "outputs": [],
   "source": [
    "df['Subject_1_race_st'].value_counts()"
   ]
  },
  {
   "cell_type": "code",
   "execution_count": null,
   "metadata": {
    "collapsed": false
   },
   "outputs": [],
   "source": [
    "df['Subject_1_race_st'].count()"
   ]
  },
  {
   "cell_type": "code",
   "execution_count": null,
   "metadata": {
    "collapsed": false
   },
   "outputs": [],
   "source": [
    "print \"Number of first subject rows with separate racial, ethnic categories:\" , df['Subject_1_eth_sep'].count()"
   ]
  },
  {
   "cell_type": "markdown",
   "metadata": {},
   "source": [
    "<a id='the_event'></a>\n",
    "\n",
    "## The event\n",
    "\n",
    "[Back to the top](#table_of_contents)"
   ]
  },
  {
   "cell_type": "markdown",
   "metadata": {},
   "source": [
    "### Subject actions"
   ]
  },
  {
   "cell_type": "code",
   "execution_count": null,
   "metadata": {
    "collapsed": false,
    "scrolled": true
   },
   "outputs": [],
   "source": [
    "pd.DataFrame(df.Subject_1_actions.value_counts())"
   ]
  },
  {
   "cell_type": "markdown",
   "metadata": {},
   "source": [
    "### Charges"
   ]
  },
  {
   "cell_type": "code",
   "execution_count": null,
   "metadata": {
    "collapsed": false,
    "scrolled": true
   },
   "outputs": [],
   "source": [
    "df.Subject_1_charges.value_counts()"
   ]
  },
  {
   "cell_type": "markdown",
   "metadata": {},
   "source": [
    "#### First, created one csv with all the unique values for charges"
   ]
  },
  {
   "cell_type": "code",
   "execution_count": null,
   "metadata": {
    "collapsed": false
   },
   "outputs": [],
   "source": [
    "charges = pd.DataFrame(df.Subject_1_charges.str.split(', ', expand=True))\n",
    "\n",
    "ch_agg = charges[0].append(charges[1]).append(charges[2]).append(charges[3]).append(charges[4]).append(charges[5]).append(charges[6]).append(charges[7]).append(charges[8]).append(charges[9]).append(charges[10]).reset_index(drop=True)\n",
    "\n",
    "ch_agg = pd.DataFrame(ch_agg)[0].value_counts()\n",
    "\n",
    "# ch_agg.to_csv('aggregate_charges.csv')"
   ]
  },
  {
   "cell_type": "markdown",
   "metadata": {},
   "source": [
    "### Nature of force"
   ]
  },
  {
   "cell_type": "markdown",
   "metadata": {},
   "source": [
    "#### Put into title case"
   ]
  },
  {
   "cell_type": "code",
   "execution_count": null,
   "metadata": {
    "collapsed": true
   },
   "outputs": [],
   "source": [
    "df.Subject_1_force_nature = df.Subject_1_force_nature.str.title()"
   ]
  },
  {
   "cell_type": "code",
   "execution_count": null,
   "metadata": {
    "collapsed": false,
    "scrolled": true
   },
   "outputs": [],
   "source": [
    "df.Subject_1_force_nature.value_counts()"
   ]
  },
  {
   "cell_type": "code",
   "execution_count": null,
   "metadata": {
    "collapsed": true
   },
   "outputs": [],
   "source": [
    "df.Subject_2_force_nature = df.Subject_2_force_nature.str.title()"
   ]
  },
  {
   "cell_type": "code",
   "execution_count": null,
   "metadata": {
    "collapsed": false,
    "scrolled": true
   },
   "outputs": [],
   "source": [
    "df.Subject_2_force_nature.value_counts()"
   ]
  },
  {
   "cell_type": "code",
   "execution_count": null,
   "metadata": {
    "collapsed": true
   },
   "outputs": [],
   "source": [
    "df.Subject_3_force_nature = df.Subject_3_force_nature.str.title()"
   ]
  },
  {
   "cell_type": "code",
   "execution_count": null,
   "metadata": {
    "collapsed": false,
    "scrolled": true
   },
   "outputs": [],
   "source": [
    "df.Subject_3_force_nature.value_counts()"
   ]
  },
  {
   "cell_type": "markdown",
   "metadata": {},
   "source": [
    "### Firearms"
   ]
  },
  {
   "cell_type": "code",
   "execution_count": null,
   "metadata": {
    "collapsed": false
   },
   "outputs": [],
   "source": [
    "df.Firearms_used.value_counts()"
   ]
  },
  {
   "cell_type": "markdown",
   "metadata": {},
   "source": [
    "#### Changed one mistake in \"Discharge\""
   ]
  },
  {
   "cell_type": "code",
   "execution_count": null,
   "metadata": {
    "collapsed": true
   },
   "outputs": [],
   "source": [
    "df.Firearms_used = df.Firearms_used.str.title()\n",
    "df.Firearms_used = df.Firearms_used.replace(to_replace='Discharge', value='Discharged')"
   ]
  },
  {
   "cell_type": "code",
   "execution_count": null,
   "metadata": {
    "collapsed": false
   },
   "outputs": [],
   "source": [
    "df.Firearms_discharged.unique()"
   ]
  },
  {
   "cell_type": "code",
   "execution_count": null,
   "metadata": {
    "collapsed": true
   },
   "outputs": [],
   "source": [
    "df.Firearms_discharged = df.Firearms_discharged.str.title()"
   ]
  },
  {
   "cell_type": "code",
   "execution_count": null,
   "metadata": {
    "collapsed": false
   },
   "outputs": [],
   "source": [
    "df.Firearms_shots_no.value_counts()"
   ]
  },
  {
   "cell_type": "code",
   "execution_count": null,
   "metadata": {
    "collapsed": false
   },
   "outputs": [],
   "source": [
    "df.Firearms_shots_no = df.Firearms_shots_no.str.upper()"
   ]
  },
  {
   "cell_type": "markdown",
   "metadata": {},
   "source": [
    "### Subject injured, hospitalized, killed"
   ]
  },
  {
   "cell_type": "code",
   "execution_count": null,
   "metadata": {
    "collapsed": true
   },
   "outputs": [],
   "source": [
    "df.Subject_1_injured = df.Subject_1_injured.str.title()\n",
    "df.Subject_2_injured = df.Subject_2_injured.str.title()\n",
    "df.Subject_3_injured = df.Subject_3_injured.str.title()"
   ]
  },
  {
   "cell_type": "code",
   "execution_count": null,
   "metadata": {
    "collapsed": true
   },
   "outputs": [],
   "source": [
    "df.Subject_1_hosp = df.Subject_1_hosp.str.title()\n",
    "df.Subject_2_hosp = df.Subject_2_hosp.str.title()\n",
    "df.Subject_3_hosp = df.Subject_3_hosp.str.title()"
   ]
  },
  {
   "cell_type": "code",
   "execution_count": null,
   "metadata": {
    "collapsed": false
   },
   "outputs": [],
   "source": [
    "df.Subject_1_killed = df.Subject_1_killed.str.title()\n",
    "df.Subject_2_killed = df.Subject_2_killed.str.title()"
   ]
  },
  {
   "cell_type": "code",
   "execution_count": null,
   "metadata": {
    "collapsed": false
   },
   "outputs": [],
   "source": [
    "df.Subject_1_killed.value_counts()"
   ]
  },
  {
   "cell_type": "code",
   "execution_count": null,
   "metadata": {
    "collapsed": false
   },
   "outputs": [],
   "source": [
    "df.Subject_3_killed.unique()"
   ]
  },
  {
   "cell_type": "markdown",
   "metadata": {},
   "source": [
    "### Photo and narrative"
   ]
  },
  {
   "cell_type": "code",
   "execution_count": null,
   "metadata": {
    "collapsed": false
   },
   "outputs": [],
   "source": [
    "df.Subject_1_photo = df.Subject_1_photo.str.title()\n",
    "df.Subject_2_photo = df.Subject_2_photo.str.title()"
   ]
  },
  {
   "cell_type": "code",
   "execution_count": null,
   "metadata": {
    "collapsed": false
   },
   "outputs": [],
   "source": [
    "df.Subject_1_photo.value_counts()"
   ]
  },
  {
   "cell_type": "code",
   "execution_count": null,
   "metadata": {
    "collapsed": false
   },
   "outputs": [],
   "source": [
    "df.Narrative.unique()"
   ]
  }
 ],
 "metadata": {
  "kernelspec": {
   "display_name": "Python 2",
   "language": "python",
   "name": "python2"
  },
  "language_info": {
   "codemirror_mode": {
    "name": "ipython",
    "version": 2
   },
   "file_extension": ".py",
   "mimetype": "text/x-python",
   "name": "python",
   "nbconvert_exporter": "python",
   "pygments_lexer": "ipython2",
   "version": "2.7.12"
  }
 },
 "nbformat": 4,
 "nbformat_minor": 2
}
