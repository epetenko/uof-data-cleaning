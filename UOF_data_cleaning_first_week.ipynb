{
 "cells": [
  {
   "cell_type": "code",
   "execution_count": 1,
   "metadata": {
    "collapsed": true
   },
   "outputs": [],
   "source": [
    "import pandas as pd"
   ]
  },
  {
   "cell_type": "code",
   "execution_count": 2,
   "metadata": {
    "collapsed": true
   },
   "outputs": [],
   "source": [
    "import numpy as np"
   ]
  },
  {
   "cell_type": "markdown",
   "metadata": {},
   "source": [
    "<a id='table_of_contents'></a>\n",
    "\n",
    "# Table of contents\n",
    "[Reviewing the dataset](#reviewing_the_dataset)        \n",
    "    <a href='#file_information'>File information</a>         \n",
    "    <a href='#officer_information'>Officer information</a>      \n",
    "    <a href='#race'>Race data</a>         \n",
    "    <a href='#supervisor'>Supervisor information</a>       \n",
    "    <a href='#subject_profile'>Subject profile</a>        \n",
    "    <a href='#the_event'>The event</a>     "
   ]
  },
  {
   "cell_type": "markdown",
   "metadata": {},
   "source": [
    "<a id='reviewing_the_dataset'></a>\n",
    "# Reviewing the dataset"
   ]
  },
  {
   "cell_type": "markdown",
   "metadata": {},
   "source": [
    "### Assigned simplified column names to the dataset"
   ]
  },
  {
   "cell_type": "code",
   "execution_count": 3,
   "metadata": {
    "collapsed": true
   },
   "outputs": [],
   "source": [
    "new_cols = ['Timestamp', 'Date_inputted', 'County', 'Town', 'File_name', 'Case_report_no',\n",
    "            'Incident_date', 'Incident_time', 'Location_city', 'Location_detail','Incident_type', \n",
    "            'Officer_1_first','Officer_1_last','Officer_1_rank','Officer_1_exp',\n",
    "            'Officer_1_sex','Officer_1_race','Officer_1_badge_no','Officer_1_injured','Officer_1_hosp' ,'Officer_1_killed',\n",
    "            'Supervisor_first','Supervisor_last','Supervisor_badge_no','Supervisor_signed',\n",
    "            'Officer_2_first','Officer_2_last','Officer_2_rank','Officer_2_exp', 'Officer_2_sex',\n",
    "            'Officer_2_race','Officer_2_badge_no','Officer_2_injured','Officer_2_hosp', 'Officer_2_killed',\n",
    "            'Officer_3_first','Officer_3_last','Officer_3_rank','Officer_3_exp', 'Officer_3_sex',\n",
    "            'Officer_3_race','Officer_3_badge_no','Officer_3_injured','Officer_3_hosp', 'Officer_3_killed',\n",
    "            'Subject_1_first','Subject_1_last','Subject_1_age', 'Subject_1_race','Subject_1_sex',\n",
    "            'Subject_1_actions','Subject_1_charges','Subject_1_force_nature','Firearms_used',\n",
    "            'Firearms_discharged','Firearms_shots_no','Subject_1_injured','Subject_1_hosp',\n",
    "            'Subject_1_killed','Subject_1_photo','Narrative', \n",
    "            'Subject_2_first','Subject_2_last','Subject_2_age', 'Subject_2_race','Subject_2_sex',\n",
    "            'Subject_2_actions','Subject_2_charges','Subject_2_force_nature',\n",
    "            'Subject_2_injured','Subject_2_hosp','Subject_2_killed','Subject_2_photo', \n",
    "            'Subject_3_first','Subject_3_last', 'Subject_3_age', 'Subject_3_race',\n",
    "            'Subject_3_sex','Subject_3_actions','Subject_3_charges',\n",
    "            'Subject_3_force_nature','Subject_3_injured','Subject_3_hosp',\n",
    "            'Subject_3_killed','Subject_3_photo'\n",
    "           ]"
   ]
  },
  {
   "cell_type": "code",
   "execution_count": 5,
   "metadata": {
    "collapsed": false
   },
   "outputs": [
    {
     "name": "stderr",
     "output_type": "stream",
     "text": [
      "/Users/epetenko/miniconda2/lib/python2.7/site-packages/IPython/core/interactiveshell.py:2717: DtypeWarning: Columns (25,26,27,29,30,31,32,33,34,35,36,37,39,40,42,43,44,55,72,73,74,75,76,77,78,79,80,81,82) have mixed types. Specify dtype option on import or set low_memory=False.\n",
      "  interactivity=interactivity, compiler=compiler, result=result)\n"
     ]
    }
   ],
   "source": [
    "# Reading in the data\n",
    "df = pd.read_csv('UoF-RAW-Complete.csv', names=new_cols, header=None, skiprows=1,\n",
    "                dtype={'Officer_3_badge_no':str})"
   ]
  },
  {
   "cell_type": "code",
   "execution_count": 6,
   "metadata": {
    "collapsed": false
   },
   "outputs": [
    {
     "data": {
      "text/html": [
       "<div>\n",
       "<table border=\"1\" class=\"dataframe\">\n",
       "  <thead>\n",
       "    <tr style=\"text-align: right;\">\n",
       "      <th></th>\n",
       "      <th>Timestamp</th>\n",
       "      <th>Date_inputted</th>\n",
       "      <th>County</th>\n",
       "      <th>Town</th>\n",
       "      <th>File_name</th>\n",
       "      <th>Case_report_no</th>\n",
       "      <th>Incident_date</th>\n",
       "      <th>Incident_time</th>\n",
       "      <th>Location_city</th>\n",
       "      <th>Location_detail</th>\n",
       "      <th>...</th>\n",
       "      <th>Subject_3_age</th>\n",
       "      <th>Subject_3_race</th>\n",
       "      <th>Subject_3_sex</th>\n",
       "      <th>Subject_3_actions</th>\n",
       "      <th>Subject_3_charges</th>\n",
       "      <th>Subject_3_force_nature</th>\n",
       "      <th>Subject_3_injured</th>\n",
       "      <th>Subject_3_hosp</th>\n",
       "      <th>Subject_3_killed</th>\n",
       "      <th>Subject_3_photo</th>\n",
       "    </tr>\n",
       "  </thead>\n",
       "  <tbody>\n",
       "    <tr>\n",
       "      <th>0</th>\n",
       "      <td>6/7/18 6:04</td>\n",
       "      <td>6/8/16</td>\n",
       "      <td>Union County</td>\n",
       "      <td>Springfield</td>\n",
       "      <td>SPRINGFIELD-UNION-UOF-2012-2016</td>\n",
       "      <td>I-2012-002796</td>\n",
       "      <td>4/14/12</td>\n",
       "      <td>7:46</td>\n",
       "      <td>Springfield</td>\n",
       "      <td>295 Route 22 Eastbound, NJ 07081</td>\n",
       "      <td>...</td>\n",
       "      <td>NaN</td>\n",
       "      <td>NaN</td>\n",
       "      <td>NaN</td>\n",
       "      <td>NaN</td>\n",
       "      <td>NaN</td>\n",
       "      <td>NaN</td>\n",
       "      <td>NaN</td>\n",
       "      <td>NaN</td>\n",
       "      <td>NaN</td>\n",
       "      <td>NaN</td>\n",
       "    </tr>\n",
       "    <tr>\n",
       "      <th>1</th>\n",
       "      <td>6/7/18 6:17</td>\n",
       "      <td>6/8/16</td>\n",
       "      <td>Union County</td>\n",
       "      <td>Springfield</td>\n",
       "      <td>SPRINGFIELD-UNION-UOF-2012-2016</td>\n",
       "      <td>I-2012-009250</td>\n",
       "      <td>10/2/12</td>\n",
       "      <td>4:34</td>\n",
       "      <td>Springfield</td>\n",
       "      <td>100 Mountain Avenue, NJ 07081</td>\n",
       "      <td>...</td>\n",
       "      <td>NaN</td>\n",
       "      <td>NaN</td>\n",
       "      <td>NaN</td>\n",
       "      <td>NaN</td>\n",
       "      <td>NaN</td>\n",
       "      <td>NaN</td>\n",
       "      <td>NaN</td>\n",
       "      <td>NaN</td>\n",
       "      <td>NaN</td>\n",
       "      <td>NaN</td>\n",
       "    </tr>\n",
       "    <tr>\n",
       "      <th>2</th>\n",
       "      <td>6/7/18 6:23</td>\n",
       "      <td>6/8/16</td>\n",
       "      <td>Union County</td>\n",
       "      <td>Springfield</td>\n",
       "      <td>SPRINGFIELD-UNION-UOF-2012-2016</td>\n",
       "      <td>I-2013-000011</td>\n",
       "      <td>1/1/13</td>\n",
       "      <td>1:39</td>\n",
       "      <td>Springfield</td>\n",
       "      <td>Stew Leonard's Wines - 901 Mountain Avenue, NJ...</td>\n",
       "      <td>...</td>\n",
       "      <td>NaN</td>\n",
       "      <td>NaN</td>\n",
       "      <td>NaN</td>\n",
       "      <td>NaN</td>\n",
       "      <td>NaN</td>\n",
       "      <td>NaN</td>\n",
       "      <td>NaN</td>\n",
       "      <td>NaN</td>\n",
       "      <td>NaN</td>\n",
       "      <td>NaN</td>\n",
       "    </tr>\n",
       "    <tr>\n",
       "      <th>3</th>\n",
       "      <td>6/7/18 6:32</td>\n",
       "      <td>6/8/16</td>\n",
       "      <td>Union County</td>\n",
       "      <td>Springfield</td>\n",
       "      <td>SPRINGFIELD-UNION-UOF-2012-2016</td>\n",
       "      <td>I-2013-004131</td>\n",
       "      <td>4/19/13</td>\n",
       "      <td>11:59</td>\n",
       "      <td>Springfield</td>\n",
       "      <td>Victory Road, NJ 07081</td>\n",
       "      <td>...</td>\n",
       "      <td>NaN</td>\n",
       "      <td>NaN</td>\n",
       "      <td>NaN</td>\n",
       "      <td>NaN</td>\n",
       "      <td>NaN</td>\n",
       "      <td>NaN</td>\n",
       "      <td>NaN</td>\n",
       "      <td>NaN</td>\n",
       "      <td>NaN</td>\n",
       "      <td>NaN</td>\n",
       "    </tr>\n",
       "    <tr>\n",
       "      <th>4</th>\n",
       "      <td>6/7/18 6:39</td>\n",
       "      <td>6/8/16</td>\n",
       "      <td>Union County</td>\n",
       "      <td>Springfield</td>\n",
       "      <td>SPRINGFIELD-UNION-UOF-2012-2016</td>\n",
       "      <td>I-2013-004131</td>\n",
       "      <td>4/19/13</td>\n",
       "      <td>10:51</td>\n",
       "      <td>Springfield</td>\n",
       "      <td>Victory Road, NJ 07081</td>\n",
       "      <td>...</td>\n",
       "      <td>NaN</td>\n",
       "      <td>NaN</td>\n",
       "      <td>NaN</td>\n",
       "      <td>NaN</td>\n",
       "      <td>NaN</td>\n",
       "      <td>NaN</td>\n",
       "      <td>NaN</td>\n",
       "      <td>NaN</td>\n",
       "      <td>NaN</td>\n",
       "      <td>NaN</td>\n",
       "    </tr>\n",
       "  </tbody>\n",
       "</table>\n",
       "<p>5 rows × 85 columns</p>\n",
       "</div>"
      ],
      "text/plain": [
       "     Timestamp Date_inputted        County         Town  \\\n",
       "0  6/7/18 6:04        6/8/16  Union County  Springfield   \n",
       "1  6/7/18 6:17        6/8/16  Union County  Springfield   \n",
       "2  6/7/18 6:23        6/8/16  Union County  Springfield   \n",
       "3  6/7/18 6:32        6/8/16  Union County  Springfield   \n",
       "4  6/7/18 6:39        6/8/16  Union County  Springfield   \n",
       "\n",
       "                         File_name Case_report_no Incident_date Incident_time  \\\n",
       "0  SPRINGFIELD-UNION-UOF-2012-2016  I-2012-002796       4/14/12          7:46   \n",
       "1  SPRINGFIELD-UNION-UOF-2012-2016  I-2012-009250       10/2/12          4:34   \n",
       "2  SPRINGFIELD-UNION-UOF-2012-2016  I-2013-000011        1/1/13          1:39   \n",
       "3  SPRINGFIELD-UNION-UOF-2012-2016  I-2013-004131       4/19/13         11:59   \n",
       "4  SPRINGFIELD-UNION-UOF-2012-2016  I-2013-004131       4/19/13         10:51   \n",
       "\n",
       "  Location_city                                    Location_detail  \\\n",
       "0   Springfield                   295 Route 22 Eastbound, NJ 07081   \n",
       "1   Springfield                      100 Mountain Avenue, NJ 07081   \n",
       "2   Springfield  Stew Leonard's Wines - 901 Mountain Avenue, NJ...   \n",
       "3   Springfield                             Victory Road, NJ 07081   \n",
       "4   Springfield                             Victory Road, NJ 07081   \n",
       "\n",
       "        ...       Subject_3_age Subject_3_race Subject_3_sex  \\\n",
       "0       ...                 NaN            NaN           NaN   \n",
       "1       ...                 NaN            NaN           NaN   \n",
       "2       ...                 NaN            NaN           NaN   \n",
       "3       ...                 NaN            NaN           NaN   \n",
       "4       ...                 NaN            NaN           NaN   \n",
       "\n",
       "  Subject_3_actions Subject_3_charges Subject_3_force_nature  \\\n",
       "0               NaN               NaN                    NaN   \n",
       "1               NaN               NaN                    NaN   \n",
       "2               NaN               NaN                    NaN   \n",
       "3               NaN               NaN                    NaN   \n",
       "4               NaN               NaN                    NaN   \n",
       "\n",
       "  Subject_3_injured Subject_3_hosp Subject_3_killed Subject_3_photo  \n",
       "0               NaN            NaN              NaN             NaN  \n",
       "1               NaN            NaN              NaN             NaN  \n",
       "2               NaN            NaN              NaN             NaN  \n",
       "3               NaN            NaN              NaN             NaN  \n",
       "4               NaN            NaN              NaN             NaN  \n",
       "\n",
       "[5 rows x 85 columns]"
      ]
     },
     "execution_count": 6,
     "metadata": {},
     "output_type": "execute_result"
    }
   ],
   "source": [
    "# Here are the first five rows\n",
    "df.head()"
   ]
  },
  {
   "cell_type": "code",
   "execution_count": 7,
   "metadata": {
    "collapsed": false,
    "scrolled": true
   },
   "outputs": [
    {
     "name": "stdout",
     "output_type": "stream",
     "text": [
      "<class 'pandas.core.frame.DataFrame'>\n",
      "RangeIndex: 72485 entries, 0 to 72484\n",
      "Data columns (total 85 columns):\n",
      "Timestamp                 72485 non-null object\n",
      "Date_inputted             72485 non-null object\n",
      "County                    72485 non-null object\n",
      "Town                      72485 non-null object\n",
      "File_name                 72485 non-null object\n",
      "Case_report_no            72485 non-null object\n",
      "Incident_date             72485 non-null object\n",
      "Incident_time             72485 non-null object\n",
      "Location_city             22859 non-null object\n",
      "Location_detail           72484 non-null object\n",
      "Incident_type             71814 non-null object\n",
      "Officer_1_first           72485 non-null object\n",
      "Officer_1_last            72485 non-null object\n",
      "Officer_1_rank            72485 non-null object\n",
      "Officer_1_exp             50508 non-null object\n",
      "Officer_1_sex             72485 non-null object\n",
      "Officer_1_race            52854 non-null object\n",
      "Officer_1_badge_no        71919 non-null object\n",
      "Officer_1_injured         72485 non-null object\n",
      "Officer_1_hosp            72485 non-null object\n",
      "Officer_1_killed          72485 non-null object\n",
      "Supervisor_first          72485 non-null object\n",
      "Supervisor_last           72485 non-null object\n",
      "Supervisor_badge_no       72485 non-null object\n",
      "Supervisor_signed         72485 non-null object\n",
      "Officer_2_first           12844 non-null object\n",
      "Officer_2_last            12844 non-null object\n",
      "Officer_2_rank            12844 non-null object\n",
      "Officer_2_exp             0 non-null float64\n",
      "Officer_2_sex             12844 non-null object\n",
      "Officer_2_race            294 non-null object\n",
      "Officer_2_badge_no        479 non-null object\n",
      "Officer_2_injured         12844 non-null object\n",
      "Officer_2_hosp            12844 non-null object\n",
      "Officer_2_killed          12844 non-null object\n",
      "Officer_3_first           12844 non-null object\n",
      "Officer_3_last            12844 non-null object\n",
      "Officer_3_rank            12844 non-null object\n",
      "Officer_3_exp             0 non-null float64\n",
      "Officer_3_sex             12844 non-null object\n",
      "Officer_3_race            96 non-null object\n",
      "Officer_3_badge_no        174 non-null object\n",
      "Officer_3_injured         12844 non-null object\n",
      "Officer_3_hosp            12844 non-null object\n",
      "Officer_3_killed          12844 non-null object\n",
      "Subject_1_first           72485 non-null object\n",
      "Subject_1_last            72485 non-null object\n",
      "Subject_1_age             72485 non-null object\n",
      "Subject_1_race            70978 non-null object\n",
      "Subject_1_sex             72485 non-null object\n",
      "Subject_1_actions         71046 non-null object\n",
      "Subject_1_charges         72484 non-null object\n",
      "Subject_1_force_nature    71092 non-null object\n",
      "Firearms_used             72485 non-null object\n",
      "Firearms_discharged       72485 non-null object\n",
      "Firearms_shots_no         72485 non-null object\n",
      "Subject_1_injured         72485 non-null object\n",
      "Subject_1_hosp            72485 non-null object\n",
      "Subject_1_killed          51678 non-null object\n",
      "Subject_1_photo           2007 non-null object\n",
      "Narrative                 2945 non-null object\n",
      "Subject_2_first           72485 non-null object\n",
      "Subject_2_last            72485 non-null object\n",
      "Subject_2_age             72485 non-null object\n",
      "Subject_2_race            1898 non-null object\n",
      "Subject_2_sex             72484 non-null object\n",
      "Subject_2_actions         1741 non-null object\n",
      "Subject_2_charges         72475 non-null object\n",
      "Subject_2_force_nature    1772 non-null object\n",
      "Subject_2_injured         72480 non-null object\n",
      "Subject_2_hosp            72468 non-null object\n",
      "Subject_2_killed          1307 non-null object\n",
      "Subject_2_photo           75 non-null object\n",
      "Subject_3_first           12844 non-null object\n",
      "Subject_3_last            12844 non-null object\n",
      "Subject_3_age             12844 non-null object\n",
      "Subject_3_race            84 non-null object\n",
      "Subject_3_sex             12844 non-null object\n",
      "Subject_3_actions         76 non-null object\n",
      "Subject_3_charges         12844 non-null object\n",
      "Subject_3_force_nature    88 non-null object\n",
      "Subject_3_injured         12844 non-null object\n",
      "Subject_3_hosp            12844 non-null object\n",
      "Subject_3_killed          0 non-null float64\n",
      "Subject_3_photo           0 non-null float64\n",
      "dtypes: float64(4), object(81)\n",
      "memory usage: 47.0+ MB\n"
     ]
    }
   ],
   "source": [
    "#These are each column's names, length, and data type\n",
    "df.info()"
   ]
  },
  {
   "cell_type": "markdown",
   "metadata": {},
   "source": [
    "### Stripped whitespace from entire dataset"
   ]
  },
  {
   "cell_type": "code",
   "execution_count": 8,
   "metadata": {
    "collapsed": false
   },
   "outputs": [],
   "source": [
    "#Select object-only columns\n",
    "str_cols = df.select_dtypes(include=['object']).columns\n",
    "\n",
    "# Ran loop to strip each of those columns\n",
    "for n in str_cols:\n",
    "    df[n] = df[n].str.strip()"
   ]
  },
  {
   "cell_type": "markdown",
   "metadata": {},
   "source": [
    "#### Individually viewed each column to check what outlier points there may be"
   ]
  },
  {
   "cell_type": "code",
   "execution_count": 9,
   "metadata": {
    "collapsed": false
   },
   "outputs": [
    {
     "data": {
      "text/plain": [
       "array(['No', nan, 'Yes', 'REDACTED', 'ILLEGIBLE'], dtype=object)"
      ]
     },
     "execution_count": 9,
     "metadata": {},
     "output_type": "execute_result"
    }
   ],
   "source": [
    "#Just kind of imagine this but for every column. I don't feel like including all of it here\n",
    "df.Subject_1_killed.unique()"
   ]
  },
  {
   "cell_type": "markdown",
   "metadata": {},
   "source": [
    "#### Isolated deaths from subjects and officers to allow for faster reporting"
   ]
  },
  {
   "cell_type": "code",
   "execution_count": 10,
   "metadata": {
    "collapsed": false
   },
   "outputs": [],
   "source": [
    "# df[(df.Subject_1_killed == 'Yes') | (df.Subject_2_killed == 'Yes')].to_csv('Subjects_killed.csv', index=False)"
   ]
  },
  {
   "cell_type": "code",
   "execution_count": 11,
   "metadata": {
    "collapsed": false
   },
   "outputs": [],
   "source": [
    "# df[(df.Officer_1_killed == 'Yes') | (df.Officer_2_killed == 'Yes') | (df.Officer_3_killed == 'Yes')].to_csv('Officers_killed.csv', index=False)"
   ]
  },
  {
   "cell_type": "markdown",
   "metadata": {},
   "source": [
    "# Standardizing each column"
   ]
  },
  {
   "cell_type": "markdown",
   "metadata": {},
   "source": [
    "<a id='file_information'></a>\n",
    "\n",
    "## Part 1 - File information\n",
    "\n",
    "[Back to the top](#table_of_contents)"
   ]
  },
  {
   "cell_type": "markdown",
   "metadata": {},
   "source": [
    "### First step: Timestamp column. Changed to DateTime format"
   ]
  },
  {
   "cell_type": "code",
   "execution_count": 12,
   "metadata": {
    "collapsed": false
   },
   "outputs": [
    {
     "data": {
      "text/plain": [
       "array(['6/7/18 6:04', '6/7/18 6:17', '6/7/18 6:23', ...,\n",
       "       '6/15/2018 0:58:00', '6/15/2018 1:00:32', '6/15/2018 1:05:55'], dtype=object)"
      ]
     },
     "execution_count": 12,
     "metadata": {},
     "output_type": "execute_result"
    }
   ],
   "source": [
    "df.Timestamp.unique()"
   ]
  },
  {
   "cell_type": "code",
   "execution_count": 13,
   "metadata": {
    "collapsed": true
   },
   "outputs": [],
   "source": [
    "# Needed to replace year abbreviations with actual year\n",
    "df.Timestamp = df.Timestamp.replace(to_replace='/18 ', value=\"/2018 \", regex=True)"
   ]
  },
  {
   "cell_type": "code",
   "execution_count": 14,
   "metadata": {
    "collapsed": false
   },
   "outputs": [],
   "source": [
    "df.Timestamp = pd.to_datetime(df.Timestamp, errors='coerce')"
   ]
  },
  {
   "cell_type": "code",
   "execution_count": 15,
   "metadata": {
    "collapsed": false
   },
   "outputs": [
    {
     "data": {
      "text/plain": [
       "array(['2018-06-07T06:04:00.000000000', '2018-06-07T06:17:00.000000000',\n",
       "       '2018-06-07T06:23:00.000000000', ...,\n",
       "       '2018-06-15T00:58:00.000000000', '2018-06-15T01:00:32.000000000',\n",
       "       '2018-06-15T01:05:55.000000000'], dtype='datetime64[ns]')"
      ]
     },
     "execution_count": 15,
     "metadata": {},
     "output_type": "execute_result"
    }
   ],
   "source": [
    "#confirmed with visual check in both pandas and Excel\n",
    "df.Timestamp.unique()\n",
    "# pd.DataFrame(df.Timestamp.unique()).to_csv('datetime_check.csv')"
   ]
  },
  {
   "cell_type": "markdown",
   "metadata": {},
   "source": [
    "### Next: The given date in the form"
   ]
  },
  {
   "cell_type": "code",
   "execution_count": 16,
   "metadata": {
    "collapsed": false,
    "scrolled": true
   },
   "outputs": [
    {
     "data": {
      "text/plain": [
       "array(['6/8/16', '2/19/18', '2/20/18', '2/21/18', '2/22/18', '2/23/18',\n",
       "       '2/26/18', '2/27/18', '2/28/18', '3/1/18', '3/2/18', '3/5/18',\n",
       "       '3/6/18', '3/7/18', '3/8/18', '3/9/18', '3/12/18', '3/13/18',\n",
       "       '3/14/18', '3/15/18', '3/16/18', '3/19/18', '3/20/18', '3/21/18',\n",
       "       '3/22/18', '3/23/18', '3/26/18', '3/27/18', '3/28/18', '3/29/18',\n",
       "       '3/30/18', '4/2/18', '4/3/18', '4/4/18', '4/5/18', '4/6/18',\n",
       "       '4/9/18', '4/10/18', '4/11/18', '4/12/18', '4/13/18', '4/16/18',\n",
       "       '4/17/18', '4/18/18', '4/19/18', '4/20/18', '4/23/18', '4/24/18',\n",
       "       '4/25/18', '4/26/18', '4/27/18', '4/30/18', '5/1/18', '5/2/18',\n",
       "       '5/3/18', '5/4/18', '5/7/18', '5/8/18', '5/9/18', '5/10/18',\n",
       "       '5/11/18', '5/14/18', '5/15/18', '5/16/18', '5/17/18', '5/18/18',\n",
       "       '5/21/18', '5/22/18', '5/23/18', '5/24/18', '5/25/18', '5/28/18',\n",
       "       '5/29/18', '5/30/18', '5/31/18', '6/1/18', '6/4/18', '6/5/18',\n",
       "       '6/6/18', '6/7/18', '6/12/18', '6/13/18', '6/14/18', '6/18/18',\n",
       "       '6/19/18', '6/20/18', '6/21/18', '6/22/18', '6/25/18', '6/26/18',\n",
       "       '6/27/18', '6/28/18', '6/29/18', '7/2/18', '7/3/18', '7/4/18',\n",
       "       '7/5/18', '03-05-2018', '03-15-2018', '03-20-2018', '03-22-2018',\n",
       "       '03-23-2018', '04-17-2018', '05-07-2018', '05-15-2018',\n",
       "       '06-11-2018', '06-15-2018'], dtype=object)"
      ]
     },
     "execution_count": 16,
     "metadata": {},
     "output_type": "execute_result"
    }
   ],
   "source": [
    "#the original values\n",
    "df.Date_inputted.unique()"
   ]
  },
  {
   "cell_type": "markdown",
   "metadata": {},
   "source": [
    "#### Replaced 2016 date with 2018 as per Craig's instruction"
   ]
  },
  {
   "cell_type": "code",
   "execution_count": 17,
   "metadata": {
    "collapsed": true
   },
   "outputs": [],
   "source": [
    "df.Date_inputted = df.Date_inputted.replace(to_replace='6/8/16', value='6/8/18')"
   ]
  },
  {
   "cell_type": "markdown",
   "metadata": {},
   "source": [
    "#### Converted to DateTime: checked before and after that none were dropped"
   ]
  },
  {
   "cell_type": "code",
   "execution_count": 18,
   "metadata": {
    "collapsed": false
   },
   "outputs": [
    {
     "data": {
      "text/plain": [
       "72485"
      ]
     },
     "execution_count": 18,
     "metadata": {},
     "output_type": "execute_result"
    }
   ],
   "source": [
    "df.Date_inputted.count()"
   ]
  },
  {
   "cell_type": "code",
   "execution_count": 19,
   "metadata": {
    "collapsed": true
   },
   "outputs": [],
   "source": [
    "df.Date_inputted = pd.to_datetime(df.Date_inputted, errors='coerce')"
   ]
  },
  {
   "cell_type": "code",
   "execution_count": 20,
   "metadata": {
    "collapsed": false
   },
   "outputs": [
    {
     "data": {
      "text/plain": [
       "72485"
      ]
     },
     "execution_count": 20,
     "metadata": {},
     "output_type": "execute_result"
    }
   ],
   "source": [
    "df.Date_inputted.count()"
   ]
  },
  {
   "cell_type": "code",
   "execution_count": 21,
   "metadata": {
    "collapsed": false,
    "scrolled": true
   },
   "outputs": [
    {
     "data": {
      "text/plain": [
       "array(['2018-06-08T00:00:00.000000000', '2018-02-19T00:00:00.000000000',\n",
       "       '2018-02-20T00:00:00.000000000', '2018-02-21T00:00:00.000000000',\n",
       "       '2018-02-22T00:00:00.000000000', '2018-02-23T00:00:00.000000000',\n",
       "       '2018-02-26T00:00:00.000000000', '2018-02-27T00:00:00.000000000',\n",
       "       '2018-02-28T00:00:00.000000000', '2018-03-01T00:00:00.000000000',\n",
       "       '2018-03-02T00:00:00.000000000', '2018-03-05T00:00:00.000000000',\n",
       "       '2018-03-06T00:00:00.000000000', '2018-03-07T00:00:00.000000000',\n",
       "       '2018-03-08T00:00:00.000000000', '2018-03-09T00:00:00.000000000',\n",
       "       '2018-03-12T00:00:00.000000000', '2018-03-13T00:00:00.000000000',\n",
       "       '2018-03-14T00:00:00.000000000', '2018-03-15T00:00:00.000000000',\n",
       "       '2018-03-16T00:00:00.000000000', '2018-03-19T00:00:00.000000000',\n",
       "       '2018-03-20T00:00:00.000000000', '2018-03-21T00:00:00.000000000',\n",
       "       '2018-03-22T00:00:00.000000000', '2018-03-23T00:00:00.000000000',\n",
       "       '2018-03-26T00:00:00.000000000', '2018-03-27T00:00:00.000000000',\n",
       "       '2018-03-28T00:00:00.000000000', '2018-03-29T00:00:00.000000000',\n",
       "       '2018-03-30T00:00:00.000000000', '2018-04-02T00:00:00.000000000',\n",
       "       '2018-04-03T00:00:00.000000000', '2018-04-04T00:00:00.000000000',\n",
       "       '2018-04-05T00:00:00.000000000', '2018-04-06T00:00:00.000000000',\n",
       "       '2018-04-09T00:00:00.000000000', '2018-04-10T00:00:00.000000000',\n",
       "       '2018-04-11T00:00:00.000000000', '2018-04-12T00:00:00.000000000',\n",
       "       '2018-04-13T00:00:00.000000000', '2018-04-16T00:00:00.000000000',\n",
       "       '2018-04-17T00:00:00.000000000', '2018-04-18T00:00:00.000000000',\n",
       "       '2018-04-19T00:00:00.000000000', '2018-04-20T00:00:00.000000000',\n",
       "       '2018-04-23T00:00:00.000000000', '2018-04-24T00:00:00.000000000',\n",
       "       '2018-04-25T00:00:00.000000000', '2018-04-26T00:00:00.000000000',\n",
       "       '2018-04-27T00:00:00.000000000', '2018-04-30T00:00:00.000000000',\n",
       "       '2018-05-01T00:00:00.000000000', '2018-05-02T00:00:00.000000000',\n",
       "       '2018-05-03T00:00:00.000000000', '2018-05-04T00:00:00.000000000',\n",
       "       '2018-05-07T00:00:00.000000000', '2018-05-08T00:00:00.000000000',\n",
       "       '2018-05-09T00:00:00.000000000', '2018-05-10T00:00:00.000000000',\n",
       "       '2018-05-11T00:00:00.000000000', '2018-05-14T00:00:00.000000000',\n",
       "       '2018-05-15T00:00:00.000000000', '2018-05-16T00:00:00.000000000',\n",
       "       '2018-05-17T00:00:00.000000000', '2018-05-18T00:00:00.000000000',\n",
       "       '2018-05-21T00:00:00.000000000', '2018-05-22T00:00:00.000000000',\n",
       "       '2018-05-23T00:00:00.000000000', '2018-05-24T00:00:00.000000000',\n",
       "       '2018-05-25T00:00:00.000000000', '2018-05-28T00:00:00.000000000',\n",
       "       '2018-05-29T00:00:00.000000000', '2018-05-30T00:00:00.000000000',\n",
       "       '2018-05-31T00:00:00.000000000', '2018-06-01T00:00:00.000000000',\n",
       "       '2018-06-04T00:00:00.000000000', '2018-06-05T00:00:00.000000000',\n",
       "       '2018-06-06T00:00:00.000000000', '2018-06-07T00:00:00.000000000',\n",
       "       '2018-06-12T00:00:00.000000000', '2018-06-13T00:00:00.000000000',\n",
       "       '2018-06-14T00:00:00.000000000', '2018-06-18T00:00:00.000000000',\n",
       "       '2018-06-19T00:00:00.000000000', '2018-06-20T00:00:00.000000000',\n",
       "       '2018-06-21T00:00:00.000000000', '2018-06-22T00:00:00.000000000',\n",
       "       '2018-06-25T00:00:00.000000000', '2018-06-26T00:00:00.000000000',\n",
       "       '2018-06-27T00:00:00.000000000', '2018-06-28T00:00:00.000000000',\n",
       "       '2018-06-29T00:00:00.000000000', '2018-07-02T00:00:00.000000000',\n",
       "       '2018-07-03T00:00:00.000000000', '2018-07-04T00:00:00.000000000',\n",
       "       '2018-07-05T00:00:00.000000000', '2018-06-11T00:00:00.000000000',\n",
       "       '2018-06-15T00:00:00.000000000'], dtype='datetime64[ns]')"
      ]
     },
     "execution_count": 21,
     "metadata": {},
     "output_type": "execute_result"
    }
   ],
   "source": [
    "df.Date_inputted.unique()\n",
    "# df.Date_inputted.to_csv('dateinputted_check.csv')"
   ]
  },
  {
   "cell_type": "markdown",
   "metadata": {},
   "source": [
    "### County: Just changed Hudson to Hudson County"
   ]
  },
  {
   "cell_type": "code",
   "execution_count": 22,
   "metadata": {
    "collapsed": false
   },
   "outputs": [
    {
     "data": {
      "text/plain": [
       "array(['Union County', 'Atlantic County', 'Bergen County',\n",
       "       'Burlington County', 'Camden County', 'Cumberland County',\n",
       "       'Cape May County', 'Essex County', 'Gloucester County',\n",
       "       'Hudson County', 'Hunterdon County', 'Mercer County',\n",
       "       'Middlesex County', 'Hudson', 'Monmouth County', 'Morris County',\n",
       "       'Ocean County', 'Passaic County', 'State Police', 'Salem County',\n",
       "       'Somerset County', 'Sussex County', 'Warren County'], dtype=object)"
      ]
     },
     "execution_count": 22,
     "metadata": {},
     "output_type": "execute_result"
    }
   ],
   "source": [
    "df.County.unique()"
   ]
  },
  {
   "cell_type": "code",
   "execution_count": 23,
   "metadata": {
    "collapsed": true
   },
   "outputs": [],
   "source": [
    "df.County = df.County.replace(to_replace='Hudson', value='Hudson County', regex=False)"
   ]
  },
  {
   "cell_type": "code",
   "execution_count": 24,
   "metadata": {
    "collapsed": false
   },
   "outputs": [
    {
     "data": {
      "text/plain": [
       "array(['Union County', 'Atlantic County', 'Bergen County',\n",
       "       'Burlington County', 'Camden County', 'Cumberland County',\n",
       "       'Cape May County', 'Essex County', 'Gloucester County',\n",
       "       'Hudson County', 'Hunterdon County', 'Mercer County',\n",
       "       'Middlesex County', 'Monmouth County', 'Morris County',\n",
       "       'Ocean County', 'Passaic County', 'State Police', 'Salem County',\n",
       "       'Somerset County', 'Sussex County', 'Warren County'], dtype=object)"
      ]
     },
     "execution_count": 24,
     "metadata": {},
     "output_type": "execute_result"
    }
   ],
   "source": [
    "df.County.unique()"
   ]
  },
  {
   "cell_type": "markdown",
   "metadata": {},
   "source": [
    "### Town"
   ]
  },
  {
   "cell_type": "markdown",
   "metadata": {},
   "source": [
    "#### Harder to standardize: Needed to go through and change a bunch"
   ]
  },
  {
   "cell_type": "code",
   "execution_count": 25,
   "metadata": {
    "collapsed": false,
    "scrolled": true
   },
   "outputs": [
    {
     "data": {
      "text/plain": [
       "array(['Springfield', 'Union township', 'Roselle Park', 'Scotch Plains',\n",
       "       'Summit', 'Brigantine Beach', 'Galloway', 'Egg Harbor City',\n",
       "       'Buena Borough', 'Margate', 'Mullica', 'Egg Harbor Township',\n",
       "       'Longport', 'Absecon', 'Hamilton', 'Linwood', 'Somers Point',\n",
       "       'Alpine', 'Hammonton', 'Pleasantville', 'Northfield City',\n",
       "       'Ventnor City', 'Bergenfield', 'Carlstadt NJ Scans 9-2017',\n",
       "       'Cliffside Park', 'Allendale', 'Closter', 'Cresskill', 'Bogota',\n",
       "       'East Rutherford', 'Elmwood Park', 'Englewood', 'Demarest',\n",
       "       'Edgewater', 'Dumont', 'Emerson', 'Englewood Cliffs',\n",
       "       'Franklin Lakes', 'Glen Rock', 'Fairlawn', 'Fairview', 'Fort Lee',\n",
       "       'Harrington Park', 'Hasbrouck Heights', 'Haworth', 'Hillsdale',\n",
       "       'Hackensack', 'Ho-Ho-Kus', 'Lodi', 'Leonia', 'Little Ferry',\n",
       "       'Midland Park', 'Moonachie', 'Garfield', 'Lyndhurst', 'Mahwah',\n",
       "       'Oakland', 'Maywood', 'North Arlington', 'Northvale', 'Norwood',\n",
       "       'Montvale', 'Old Tappan', 'Oradell', 'New Milford',\n",
       "       'Palisades Park', 'Paramus', 'Atlantic City', 'Ridgewood',\n",
       "       'Ridgefield Park', 'Rutherford', 'Ramsey', 'Rochelle Park',\n",
       "       'Saddle River', 'Park Ridge', 'Tenafly', 'River Vale', 'RIver Edge',\n",
       "       'Upper Saddle River', 'Waldwick', 'Washington', 'Ridgefield',\n",
       "       'Wallington', 'Wood-ridge', 'Saddle Brook', 'Woodcliff Lake',\n",
       "       'South Hackensack', 'Delran', 'Teaneck', 'Delanco', 'Wyckoff',\n",
       "       'Beverly', 'Bordentown Town', 'Bordentown', 'Burlington CIty',\n",
       "       'Burlington Town', 'Chesterfield', 'Westwood', 'Cinnaminson',\n",
       "       'Eastampton', 'Riverton', 'Moorestown', 'Evesham', 'Mansfield',\n",
       "       'Edgewater Park', 'Florence', 'Lumberton', 'Medford', 'Maple Shade',\n",
       "       'Palmyra', 'Medford Lakes', 'Mount Holly', 'Mount Laurel',\n",
       "       'Audubon', 'Chesilhurst', 'Pemberton', 'Pemberton Boro',\n",
       "       'North Hanover', 'Barrington', 'Westhampton', 'Riverside',\n",
       "       'Bellmawr', 'Berlin Boro', 'Berlin township', 'Brooklawn',\n",
       "       'Clementon', 'Collingswood', 'Haddon', 'Haddon Heights',\n",
       "       'Willing Boro', 'Magnolia', 'PENNSAUKEN', 'Merchantville',\n",
       "       'Haddonfield', 'Gibbsboro', 'Gloucester City', 'Cherry Hill',\n",
       "       'Oaklyn', 'Millville', 'Lindenwold', 'Mount Ephraim', 'Pine Hill',\n",
       "       'Somerdale', 'Stratford', 'Laurel Springs', 'Runnemede Boro',\n",
       "       'Voorhees', 'Winslow', 'Stone Harbor Borough', 'Avalon',\n",
       "       'Waterford', 'Lower Township', 'Cape May', 'North Wildwood',\n",
       "       'Wildwood Crest', 'West Wildwood', 'Middle', 'Sea Isle City',\n",
       "       'Wildwood', 'Ocean City', 'Vineland', 'Bridgeton City', 'Caldwell',\n",
       "       'Belleville', 'Orange', 'Essex Fells', 'Cedar Grove', 'Glen Ridge',\n",
       "       'Bloomfield', 'Fairfield NJ Scans 9-2017', 'East Orange',\n",
       "       'Millburn', 'Roseland', 'Verona 2011-16', 'West Caldwell',\n",
       "       'North Caldwell', 'Irvington', 'Clayton', 'Elk', 'Maplewood',\n",
       "       'Nutley', 'South Orange', 'Greenwich', 'Deptford', 'Montclair',\n",
       "       'West Orange', 'East Greenwich', 'Harrison Township',\n",
       "       'Franklin Township', 'Mantua', 'Monroe', 'Newfield',\n",
       "       'Logan Township', 'Pitman', 'Paulsboro', 'Wenonah',\n",
       "       'South Harrison', 'Westville', 'Woodbury Heights', 'Glassboro',\n",
       "       'Woolwich', 'East Newark', 'West Deptford', 'Woodbury',\n",
       "       'Guttenberg', 'Bayonne', 'Harrison', 'Hoboken', 'Weehawken',\n",
       "       'Kearny', 'North Bergen', 'Union City', 'Secaucus', 'West New York',\n",
       "       'Califon', 'Clinton Township', 'West Amwell', 'Flemington',\n",
       "       'Frenchtown', 'Raritan', 'High Bridge', 'Lambertville', 'Delaware',\n",
       "       'Ewing', 'East Windsor', 'Hightstown', 'Town of Clinton', 'Lebanon',\n",
       "       'Readington', 'Hopewell twp', 'Lawrence', 'Robbinsville',\n",
       "       'Princeton', 'Pennington Boro', 'West Windsor', 'Carteret',\n",
       "       'Cranbury', 'East Brunswick NJ Scans 9-2017', 'Dunellen',\n",
       "       'Milltown', 'Trenton', 'Metuchen', 'Highland Park', 'Jamesburg',\n",
       "       'Middlesex', 'North Brunswick', 'Edison', 'New Brunswick',\n",
       "       'South Amboy', 'Old Bridge', 'Plainsboro', 'Helmetta', 'Piscataway',\n",
       "       'Sayreville', 'South Plainfield', 'Secaucus 60', 'Perth Amboy',\n",
       "       'South Brunswick', 'Spotswood', 'Aberdeen', 'South River',\n",
       "       'Woodbridge', 'Freehold Boro', 'Asbury Park', 'Allenhurst',\n",
       "       'Allentown', 'Avon-By-the-Sea', 'Belmar', 'Atlantic Highlands',\n",
       "       'Brielle', 'Freehold', 'Bradley Beach', 'Fair Haven', 'Colts Neck',\n",
       "       'Deal', 'Eatontown', 'Englishtown', 'Holmdel', 'Hazlett', 'Howell',\n",
       "       'Highlands Boro', 'Keansburg', 'Keyport', 'Lake Como Boro',\n",
       "       'Little Silver', 'Long Branch', 'Manalapan', 'Manasquan',\n",
       "       'Marlboro', 'Middletown', 'Monmouth Beach', 'Matawan', 'Ocean Port',\n",
       "       'Neptune City', 'Red Bank', 'Rumson', 'Ocean Township',\n",
       "       'Sea Bright', 'Sea Girt', 'Spring Lake Boro', 'Tinton Falls',\n",
       "       'Shrewsbury', 'Spring Lake Heights', 'Boonton Township',\n",
       "       'Chester Twp', 'Union Beach', 'Wall', 'Denville',\n",
       "       'West Long Branch', 'Chatham boro', 'Butler', 'Boonton town',\n",
       "       'Chatham Twp', 'Dover', 'East Hanover', 'Kinnelon', 'Harding',\n",
       "       'Hanover', 'Lincoln Park', 'Florham Park', 'Jefferson', 'Long Hill',\n",
       "       'Mendham twp', 'Montville', 'Mendham Boro', 'Morris Township',\n",
       "       'Mount Arlington', 'Morris Plains Boro', 'Netcong',\n",
       "       'Mountain Lakes', 'Morristown', 'Madison', 'Mount Olive',\n",
       "       'Pequannock', 'Randolph', 'Parsippany', 'Rockaway Boro',\n",
       "       'Rockaway Twp', 'Riverdale', 'Lakehurst', 'Wharton', 'Berkeley',\n",
       "       'Beachwood', 'Barnegat', 'Beach Haven', 'Roxbury', 'Bay Head',\n",
       "       'Lakewood', 'Brick', 'Harvey Cedars', 'Lacey', 'Lavallette',\n",
       "       'Island Heights', 'Long Beach Township', 'Little Egg Harbor',\n",
       "       'Point Pleasant', 'Manchester', 'Mantoloking', 'Ocean Gate',\n",
       "       'Pine Beach', 'Plumstead', 'Point Pleasant Beach',\n",
       "       'Seaside Heights', 'South Toms River', 'Jackson', 'Seaside Park',\n",
       "       'Ship Bottom', 'Surf City', 'Toms River', 'Stafford', 'Hawthorne',\n",
       "       'Bloomingdale', 'Tuckerton', 'Little Falls', 'NJSP', 'Ringwood',\n",
       "       'Prospect Park', 'Passaic', 'North Haledon', 'Haledon', 'Wayne',\n",
       "       'Pompton Lakes', 'Wanaque', 'Woodland Park', 'West Milford',\n",
       "       'LOWER ALLOWAYS CREEK', 'Totowa', 'Pennsville', 'Carney_s Point',\n",
       "       'Salem City', 'Penns Grove', 'Woodstown', 'Greenbrook', 'Bernards',\n",
       "       'Bound Brook', 'Bedminster', 'Branchburg', 'Bernardsville',\n",
       "       'Far Hills', 'Bridgewater', 'Franklin', 'Manville', 'Hillsborough',\n",
       "       'Montgomery', 'North Plainfield', 'South Boundbrook',\n",
       "       'Peapack gladstone', 'Warren Township', 'Watchung', 'Vernon',\n",
       "       'Somerville', 'Andover Township', 'Franklin Boro', 'Hopatcong',\n",
       "       'Byram', 'Hamburg', 'Newton', 'Hardyston', 'Sparta', 'Ogdensburg',\n",
       "       'Stanhope', 'Linden', 'Berkely Heights', 'Clark', 'Cranford',\n",
       "       'Kenilworth', 'Mountainside', 'Fanwood', 'Garwood',\n",
       "       'New Providence', 'Hillside', 'Plainfield', 'Roselle',\n",
       "       'Neptune Township', 'Gloucester', 'Clifton', 'Elizabeth',\n",
       "       'Jersey City', 'Paterson', 'Newark', 'Camden', 'Livingston',\n",
       "       'Rahway', 'Westfield', 'Winfield', 'Belvidere', 'Blairstown',\n",
       "       'Hackettstown', 'Independence', 'Lopatcong',\n",
       "       'Phillipsburg NJ Scans 9-2017', 'Pohatcong', 'Washington Township'], dtype=object)"
      ]
     },
     "execution_count": 25,
     "metadata": {},
     "output_type": "execute_result"
    }
   ],
   "source": [
    "df.Town.unique()"
   ]
  },
  {
   "cell_type": "code",
   "execution_count": 26,
   "metadata": {
    "collapsed": true
   },
   "outputs": [],
   "source": [
    "df.Town = df.Town.replace(to_replace='Carlstadt NJ Scans 9-2017', value='Carlstadt')\n",
    "df.Town = df.Town.replace(to_replace='RIver Edge', value='River Edge')\n",
    "df.Town = df.Town.replace(to_replace='PENNSAUKEN', value='Pennsauken')\n",
    "df.Town = df.Town.replace(to_replace='Fairfield NJ Scans 9-2017', value='Fairfield')\n",
    "df.Town = df.Town.replace(to_replace='Verona 2011-16', value='Verona')\n",
    "df.Town = df.Town.replace(to_replace='East Brunswick NJ Scans 9-2017', value='East Brunswick')\n",
    "df.Town = df.Town.replace(to_replace='Secaucus 60', value='Secaucus')\n",
    "df.Town = df.Town.replace(to_replace='LOWER ALLOWAYS CREEK', value='Lower Alloways Creek')\n",
    "df.Town = df.Town.replace(to_replace='Phillipsburg NJ Scans 9-2017', value='Phillipsburg')"
   ]
  },
  {
   "cell_type": "markdown",
   "metadata": {},
   "source": [
    "#### Created unique Town and county combined column for prevention of duplicated town names"
   ]
  },
  {
   "cell_type": "code",
   "execution_count": 27,
   "metadata": {
    "collapsed": false
   },
   "outputs": [
    {
     "name": "stdout",
     "output_type": "stream",
     "text": [
      "Number of unique towns:  461\n"
     ]
    }
   ],
   "source": [
    "df['Town_county'] = df.Town + ', ' + df.County\n",
    "\n",
    "print \"Number of unique towns: \", len(df.Town_county.unique())"
   ]
  },
  {
   "cell_type": "markdown",
   "metadata": {},
   "source": [
    "### Case report no"
   ]
  },
  {
   "cell_type": "markdown",
   "metadata": {},
   "source": [
    "Left mostly uninhibited, but I had to change a couple due to Excel fuckery"
   ]
  },
  {
   "cell_type": "code",
   "execution_count": 28,
   "metadata": {
    "collapsed": false,
    "scrolled": true
   },
   "outputs": [
    {
     "data": {
      "text/html": [
       "<div>\n",
       "<table border=\"1\" class=\"dataframe\">\n",
       "  <thead>\n",
       "    <tr style=\"text-align: right;\">\n",
       "      <th></th>\n",
       "      <th>0</th>\n",
       "    </tr>\n",
       "  </thead>\n",
       "  <tbody>\n",
       "    <tr>\n",
       "      <th>0</th>\n",
       "      <td>I-2012-002796</td>\n",
       "    </tr>\n",
       "    <tr>\n",
       "      <th>1</th>\n",
       "      <td>I-2012-009250</td>\n",
       "    </tr>\n",
       "    <tr>\n",
       "      <th>2</th>\n",
       "      <td>I-2013-000011</td>\n",
       "    </tr>\n",
       "    <tr>\n",
       "      <th>3</th>\n",
       "      <td>I-2013-004131</td>\n",
       "    </tr>\n",
       "    <tr>\n",
       "      <th>4</th>\n",
       "      <td>30-Dec</td>\n",
       "    </tr>\n",
       "    <tr>\n",
       "      <th>5</th>\n",
       "      <td>2012-03273</td>\n",
       "    </tr>\n",
       "    <tr>\n",
       "      <th>6</th>\n",
       "      <td>12-176</td>\n",
       "    </tr>\n",
       "    <tr>\n",
       "      <th>7</th>\n",
       "      <td>12-1558</td>\n",
       "    </tr>\n",
       "    <tr>\n",
       "      <th>8</th>\n",
       "      <td>13-34786</td>\n",
       "    </tr>\n",
       "    <tr>\n",
       "      <th>9</th>\n",
       "      <td>13-36009</td>\n",
       "    </tr>\n",
       "    <tr>\n",
       "      <th>10</th>\n",
       "      <td>I-2013-005300</td>\n",
       "    </tr>\n",
       "    <tr>\n",
       "      <th>11</th>\n",
       "      <td>I-2012-22608</td>\n",
       "    </tr>\n",
       "    <tr>\n",
       "      <th>12</th>\n",
       "      <td>13-36007</td>\n",
       "    </tr>\n",
       "    <tr>\n",
       "      <th>13</th>\n",
       "      <td>13-759</td>\n",
       "    </tr>\n",
       "    <tr>\n",
       "      <th>14</th>\n",
       "      <td>2012-003273</td>\n",
       "    </tr>\n",
       "    <tr>\n",
       "      <th>15</th>\n",
       "      <td>8-Dec</td>\n",
       "    </tr>\n",
       "    <tr>\n",
       "      <th>16</th>\n",
       "      <td>14-00703</td>\n",
       "    </tr>\n",
       "    <tr>\n",
       "      <th>17</th>\n",
       "      <td>I-2012-22455</td>\n",
       "    </tr>\n",
       "    <tr>\n",
       "      <th>18</th>\n",
       "      <td>13-767</td>\n",
       "    </tr>\n",
       "    <tr>\n",
       "      <th>19</th>\n",
       "      <td>14-02067</td>\n",
       "    </tr>\n",
       "    <tr>\n",
       "      <th>20</th>\n",
       "      <td>Dec-66</td>\n",
       "    </tr>\n",
       "    <tr>\n",
       "      <th>21</th>\n",
       "      <td>13-826</td>\n",
       "    </tr>\n",
       "    <tr>\n",
       "      <th>22</th>\n",
       "      <td>Dec-99</td>\n",
       "    </tr>\n",
       "    <tr>\n",
       "      <th>23</th>\n",
       "      <td>12-11742</td>\n",
       "    </tr>\n",
       "    <tr>\n",
       "      <th>24</th>\n",
       "      <td>12-13894</td>\n",
       "    </tr>\n",
       "    <tr>\n",
       "      <th>25</th>\n",
       "      <td>14-02818</td>\n",
       "    </tr>\n",
       "    <tr>\n",
       "      <th>26</th>\n",
       "      <td>I-2012-20605</td>\n",
       "    </tr>\n",
       "    <tr>\n",
       "      <th>27</th>\n",
       "      <td>I-2012-18913</td>\n",
       "    </tr>\n",
       "    <tr>\n",
       "      <th>28</th>\n",
       "      <td>14-02974</td>\n",
       "    </tr>\n",
       "    <tr>\n",
       "      <th>29</th>\n",
       "      <td>I-2012-18510</td>\n",
       "    </tr>\n",
       "    <tr>\n",
       "      <th>...</th>\n",
       "      <td>...</td>\n",
       "    </tr>\n",
       "    <tr>\n",
       "      <th>41419</th>\n",
       "      <td>16-114748</td>\n",
       "    </tr>\n",
       "    <tr>\n",
       "      <th>41420</th>\n",
       "      <td>16-114874</td>\n",
       "    </tr>\n",
       "    <tr>\n",
       "      <th>41421</th>\n",
       "      <td>16-114973</td>\n",
       "    </tr>\n",
       "    <tr>\n",
       "      <th>41422</th>\n",
       "      <td>16-116034</td>\n",
       "    </tr>\n",
       "    <tr>\n",
       "      <th>41423</th>\n",
       "      <td>16-116675</td>\n",
       "    </tr>\n",
       "    <tr>\n",
       "      <th>41424</th>\n",
       "      <td>16-117198</td>\n",
       "    </tr>\n",
       "    <tr>\n",
       "      <th>41425</th>\n",
       "      <td>16-117307</td>\n",
       "    </tr>\n",
       "    <tr>\n",
       "      <th>41426</th>\n",
       "      <td>16-117831</td>\n",
       "    </tr>\n",
       "    <tr>\n",
       "      <th>41427</th>\n",
       "      <td>16-118249</td>\n",
       "    </tr>\n",
       "    <tr>\n",
       "      <th>41428</th>\n",
       "      <td>16-118343</td>\n",
       "    </tr>\n",
       "    <tr>\n",
       "      <th>41429</th>\n",
       "      <td>16-119489</td>\n",
       "    </tr>\n",
       "    <tr>\n",
       "      <th>41430</th>\n",
       "      <td>16-119566</td>\n",
       "    </tr>\n",
       "    <tr>\n",
       "      <th>41431</th>\n",
       "      <td>16-120125A</td>\n",
       "    </tr>\n",
       "    <tr>\n",
       "      <th>41432</th>\n",
       "      <td>16-120445</td>\n",
       "    </tr>\n",
       "    <tr>\n",
       "      <th>41433</th>\n",
       "      <td>16-121101</td>\n",
       "    </tr>\n",
       "    <tr>\n",
       "      <th>41434</th>\n",
       "      <td>16-121280</td>\n",
       "    </tr>\n",
       "    <tr>\n",
       "      <th>41435</th>\n",
       "      <td>16-045452</td>\n",
       "    </tr>\n",
       "    <tr>\n",
       "      <th>41436</th>\n",
       "      <td>16-040091</td>\n",
       "    </tr>\n",
       "    <tr>\n",
       "      <th>41437</th>\n",
       "      <td>16-040432</td>\n",
       "    </tr>\n",
       "    <tr>\n",
       "      <th>41438</th>\n",
       "      <td>16-042203</td>\n",
       "    </tr>\n",
       "    <tr>\n",
       "      <th>41439</th>\n",
       "      <td>16-042845</td>\n",
       "    </tr>\n",
       "    <tr>\n",
       "      <th>41440</th>\n",
       "      <td>16-044263</td>\n",
       "    </tr>\n",
       "    <tr>\n",
       "      <th>41441</th>\n",
       "      <td>16-044458</td>\n",
       "    </tr>\n",
       "    <tr>\n",
       "      <th>41442</th>\n",
       "      <td>16-044756</td>\n",
       "    </tr>\n",
       "    <tr>\n",
       "      <th>41443</th>\n",
       "      <td>16-045727A</td>\n",
       "    </tr>\n",
       "    <tr>\n",
       "      <th>41444</th>\n",
       "      <td>16-046250</td>\n",
       "    </tr>\n",
       "    <tr>\n",
       "      <th>41445</th>\n",
       "      <td>16-046904</td>\n",
       "    </tr>\n",
       "    <tr>\n",
       "      <th>41446</th>\n",
       "      <td>16-048146</td>\n",
       "    </tr>\n",
       "    <tr>\n",
       "      <th>41447</th>\n",
       "      <td>16-048375</td>\n",
       "    </tr>\n",
       "    <tr>\n",
       "      <th>41448</th>\n",
       "      <td>16-048761</td>\n",
       "    </tr>\n",
       "  </tbody>\n",
       "</table>\n",
       "<p>41449 rows × 1 columns</p>\n",
       "</div>"
      ],
      "text/plain": [
       "                   0\n",
       "0      I-2012-002796\n",
       "1      I-2012-009250\n",
       "2      I-2013-000011\n",
       "3      I-2013-004131\n",
       "4             30-Dec\n",
       "5         2012-03273\n",
       "6             12-176\n",
       "7            12-1558\n",
       "8           13-34786\n",
       "9           13-36009\n",
       "10     I-2013-005300\n",
       "11      I-2012-22608\n",
       "12          13-36007\n",
       "13            13-759\n",
       "14       2012-003273\n",
       "15             8-Dec\n",
       "16          14-00703\n",
       "17      I-2012-22455\n",
       "18            13-767\n",
       "19          14-02067\n",
       "20            Dec-66\n",
       "21            13-826\n",
       "22            Dec-99\n",
       "23          12-11742\n",
       "24          12-13894\n",
       "25          14-02818\n",
       "26      I-2012-20605\n",
       "27      I-2012-18913\n",
       "28          14-02974\n",
       "29      I-2012-18510\n",
       "...              ...\n",
       "41419      16-114748\n",
       "41420      16-114874\n",
       "41421      16-114973\n",
       "41422      16-116034\n",
       "41423      16-116675\n",
       "41424      16-117198\n",
       "41425      16-117307\n",
       "41426      16-117831\n",
       "41427      16-118249\n",
       "41428      16-118343\n",
       "41429      16-119489\n",
       "41430      16-119566\n",
       "41431     16-120125A\n",
       "41432      16-120445\n",
       "41433      16-121101\n",
       "41434      16-121280\n",
       "41435      16-045452\n",
       "41436      16-040091\n",
       "41437      16-040432\n",
       "41438      16-042203\n",
       "41439      16-042845\n",
       "41440      16-044263\n",
       "41441      16-044458\n",
       "41442      16-044756\n",
       "41443     16-045727A\n",
       "41444      16-046250\n",
       "41445      16-046904\n",
       "41446      16-048146\n",
       "41447      16-048375\n",
       "41448      16-048761\n",
       "\n",
       "[41449 rows x 1 columns]"
      ]
     },
     "execution_count": 28,
     "metadata": {},
     "output_type": "execute_result"
    }
   ],
   "source": [
    "pd.DataFrame(df.Case_report_no.unique())"
   ]
  },
  {
   "cell_type": "markdown",
   "metadata": {},
   "source": [
    "#### Located places where Excel had added a date, then changed those back to number format"
   ]
  },
  {
   "cell_type": "code",
   "execution_count": 29,
   "metadata": {
    "collapsed": false
   },
   "outputs": [],
   "source": [
    "df.loc[df.Case_report_no.str.contains('Feb'), 'Case_report_no'] = \"2-\" + df[df.Case_report_no.str.contains('Feb')]['Case_report_no'].str.split('-', expand=True)[1]\n",
    "\n",
    "df.loc[df.Case_report_no.str.contains('Nov'), 'Case_report_no'] = \"11-\" + df[df.Case_report_no.str.contains('Nov')]['Case_report_no'].str.split('-', expand=True)[1]\n",
    "\n",
    "df.loc[df.Case_report_no.str.contains('Dec-'), 'Case_report_no'] = \"12-\" + df[df.Case_report_no.str.contains('Dec-')]['Case_report_no'].str.split('-', expand=True)[1]\n",
    "\n",
    "df.loc[df.Case_report_no.str.contains('-Dec'), 'Case_report_no'] = \"12-\" + df[df.Case_report_no.str.contains('-Dec')]['Case_report_no'].str.split('-', expand=True)[0]"
   ]
  },
  {
   "cell_type": "code",
   "execution_count": 30,
   "metadata": {
    "collapsed": true
   },
   "outputs": [],
   "source": [
    "df.Case_report_no = df.Case_report_no.str.upper()"
   ]
  },
  {
   "cell_type": "markdown",
   "metadata": {},
   "source": [
    "### Incident date / Time"
   ]
  },
  {
   "cell_type": "markdown",
   "metadata": {},
   "source": [
    "####  Changed to datetime, but ignored errors for now because there were about 832 of them "
   ]
  },
  {
   "cell_type": "code",
   "execution_count": 31,
   "metadata": {
    "collapsed": false
   },
   "outputs": [
    {
     "data": {
      "text/plain": [
       "array(['4/14/12', '10/2/12', '1/1/13', ..., '05/23/2016', '05/25/2016',\n",
       "       '05/28/2016'], dtype=object)"
      ]
     },
     "execution_count": 31,
     "metadata": {},
     "output_type": "execute_result"
    }
   ],
   "source": [
    "df.Incident_date.unique()"
   ]
  },
  {
   "cell_type": "markdown",
   "metadata": {},
   "source": [
    "Note: Should I change \"XX\" to 01?"
   ]
  },
  {
   "cell_type": "code",
   "execution_count": 32,
   "metadata": {
    "collapsed": false
   },
   "outputs": [
    {
     "data": {
      "text/plain": [
       "72485"
      ]
     },
     "execution_count": 32,
     "metadata": {},
     "output_type": "execute_result"
    }
   ],
   "source": [
    " df.Incident_date.count()"
   ]
  },
  {
   "cell_type": "code",
   "execution_count": 33,
   "metadata": {
    "collapsed": false
   },
   "outputs": [
    {
     "data": {
      "text/plain": [
       "633"
      ]
     },
     "execution_count": 33,
     "metadata": {},
     "output_type": "execute_result"
    }
   ],
   "source": [
    "df[df.Incident_date.str.contains('XX')].Incident_date.count()"
   ]
  },
  {
   "cell_type": "code",
   "execution_count": 34,
   "metadata": {
    "collapsed": false
   },
   "outputs": [],
   "source": [
    "df.Incident_date = pd.to_datetime(df.Incident_date, errors='ignore')"
   ]
  },
  {
   "cell_type": "markdown",
   "metadata": {},
   "source": [
    "#### Incident time -- again ignored errors (mostly blank and illegible)"
   ]
  },
  {
   "cell_type": "code",
   "execution_count": 35,
   "metadata": {
    "collapsed": false
   },
   "outputs": [
    {
     "data": {
      "text/plain": [
       "72485"
      ]
     },
     "execution_count": 35,
     "metadata": {},
     "output_type": "execute_result"
    }
   ],
   "source": [
    "df.Incident_time.count()"
   ]
  },
  {
   "cell_type": "code",
   "execution_count": 36,
   "metadata": {
    "collapsed": false
   },
   "outputs": [
    {
     "name": "stdout",
     "output_type": "stream",
     "text": [
      "Number of blank or illegible values:  937\n"
     ]
    }
   ],
   "source": [
    "print \"Number of blank or illegible values: \", df[df.Incident_time == 'BLANK']['Incident_time'].count() + df[df.Incident_time == 'ILLEGIBLE']['Incident_time'].count()"
   ]
  },
  {
   "cell_type": "code",
   "execution_count": 37,
   "metadata": {
    "collapsed": false
   },
   "outputs": [],
   "source": [
    "df.Incident_time = pd.to_datetime(df.Incident_time, errors='ignore', format=\"%H:%M\")"
   ]
  },
  {
   "cell_type": "markdown",
   "metadata": {},
   "source": [
    "### Incident type"
   ]
  },
  {
   "cell_type": "markdown",
   "metadata": {},
   "source": [
    "#### Reducing the amount of repetition by changing everything to same capitalization"
   ]
  },
  {
   "cell_type": "code",
   "execution_count": 38,
   "metadata": {
    "collapsed": false
   },
   "outputs": [],
   "source": [
    "df.Incident_type = df.Incident_type.str.title()"
   ]
  },
  {
   "cell_type": "code",
   "execution_count": 39,
   "metadata": {
    "collapsed": false,
    "scrolled": true
   },
   "outputs": [
    {
     "data": {
      "text/plain": [
       "Crime In Progress                                                                                           14231\n",
       "Domestic                                                                                                     7552\n",
       "Other Dispute                                                                                                5810\n",
       "Suspicious Person                                                                                            5419\n",
       "Traffic Stop                                                                                                 3976\n",
       "Other: Nothing                                                                                               2203\n",
       "Traffic Violation                                                                                             870\n",
       "On View Arrest                                                                                                670\n",
       "Crime In Progress, Domestic                                                                                   642\n",
       "Crime In Progress, Suspicious Person                                                                          496\n",
       "Other: Disorderly Conduct                                                                                     388\n",
       "Other: Disorderly Person                                                                                      362\n",
       "Other: Redacted                                                                                               334\n",
       "Other: Warrant Arrest                                                                                         300\n",
       "Crime In Progress, Traffic Stop                                                                               287\n",
       "Other: Emotionally Disturbed Person                                                                           274\n",
       "Other: Edp                                                                                                    268\n",
       "Domestic Incident                                                                                             245\n",
       "Other: Disorderly                                                                                             188\n",
       "Mental Health                                                                                                 182\n",
       "Other: Injured Deer                                                                                           179\n",
       "Other Type Of Call: Disorderly                                                                                179\n",
       "Crime In Progress, Other Dispute                                                                              175\n",
       "Domestic Violence                                                                                             160\n",
       "Other: Fight                                                                                                  155\n",
       "Drunk Driver                                                                                                  149\n",
       "Other: Warrant Service                                                                                        143\n",
       "Other Type Of Call: Fight                                                                                     140\n",
       "Other Type Of Call: Disorderly Person                                                                         136\n",
       "Other Type Of Call: Edp                                                                                       136\n",
       "                                                                                                            ...  \n",
       "Other Type Of Call: Endangered Subject                                                                          1\n",
       "Other: D.U.I / Eluding                                                                                          1\n",
       "Other: Report Of A Male Party Starting A Fight                                                                  1\n",
       "Other: Disorderly Person/ Intoxicated                                                                           1\n",
       "Suspicious Person, Other: Disorderly Male                                                                       1\n",
       "Other: Mv Accident, D.W.I                                                                                       1\n",
       "Other: Execution Of Search Warrant At 220-70Th St, Guttenberg, Nj                                               1\n",
       "Domestic Violence, Other: Fight                                                                                 1\n",
       "Other: Physically Resisted During Processing For Dwi                                                            1\n",
       "Other Type Of Call: Suspicious Occupied                                                                         1\n",
       "Other: Disorderly Conduct/ Riot                                                                                 1\n",
       "Other: Physical Attack On P.O                                                                                   1\n",
       "Other Type Of Call: Cds/Shoplifting                                                                             1\n",
       "Other: Disorderly Female Highly Intoxicated                                                                     1\n",
       "Other: Custody Hold For Pending Criminal Charges                                                                1\n",
       "Crime In Progress, Other: Shooting Scene                                                                        1\n",
       "Other: Aggregation Towards Officers                                                                             1\n",
       "Other: Booking Prisoner Physical Control Of Prisoner                                                            1\n",
       "Other Type Of Call: Poss. Of Cds                                                                                1\n",
       "Other: Ran From Police After Being Told To Stop                                                                 1\n",
       "Other Type Of Call: Medical Transport                                                                           1\n",
       "Other Type Of Call: Armed Suicidal Male                                                                         1\n",
       "Other Type Of Call: Theft Of Purse And                                                                          1\n",
       "Other: Suspicious Person/ Bicycle Violation                                                                     1\n",
       "Other Type Of Call: Hindering                                                                                   1\n",
       "Other Type Of Call: Wanted Subject                                                                              1\n",
       "Other: Possession Of Schedule Iii And Iv Narcotics, Drug Paraphernalia, Possession Of Hypodermic Needles        1\n",
       "Other: While Investigating Disorderly Persons                                                                   1\n",
       "Other: Already In Custody For Warrant / Assault On Intake Off                                                   1\n",
       "Other: Disorderly Person, Agg Assault, Terroristic, Threats, Resisting Arrest                                   1\n",
       "Name: Incident_type, dtype: int64"
      ]
     },
     "execution_count": 39,
     "metadata": {},
     "output_type": "execute_result"
    }
   ],
   "source": [
    "df.Incident_type.value_counts()"
   ]
  },
  {
   "cell_type": "code",
   "execution_count": 40,
   "metadata": {
    "collapsed": false
   },
   "outputs": [
    {
     "name": "stdout",
     "output_type": "stream",
     "text": [
      "Number of initial unique values(including commas):  11117\n"
     ]
    }
   ],
   "source": [
    "print \"Number of initial unique values(including commas): \", len(df.Incident_type.unique())"
   ]
  },
  {
   "cell_type": "code",
   "execution_count": 41,
   "metadata": {
    "collapsed": false
   },
   "outputs": [],
   "source": [
    "itype = pd.DataFrame(df.Incident_type.str.split(', ', expand=True))\n",
    "\n",
    "it_agg = itype[0].append(itype[1]).append(itype[2]).append(itype[3]).append(itype[4]).append(itype[5]).append(itype[6]).reset_index(drop=True)\n",
    "\n",
    "it_agg = pd.DataFrame(it_agg)[0].value_counts()\n"
   ]
  },
  {
   "cell_type": "code",
   "execution_count": 42,
   "metadata": {
    "collapsed": false
   },
   "outputs": [
    {
     "name": "stdout",
     "output_type": "stream",
     "text": [
      "Number of unique values(ignoring commas):  9952\n"
     ]
    }
   ],
   "source": [
    "print \"Number of unique values(ignoring commas): \", it_agg.count()"
   ]
  },
  {
   "cell_type": "code",
   "execution_count": 43,
   "metadata": {
    "collapsed": false
   },
   "outputs": [],
   "source": [
    "# pd.DataFrame(df.Incident_type.value_counts()).to_csv('Incident_type_check.csv')"
   ]
  },
  {
   "cell_type": "markdown",
   "metadata": {},
   "source": [
    "<a id='officer_information'></a>\n",
    "\n",
    "## Part 2 -- Officer information\n",
    "\n",
    "[Back to the top](#table_of_contents)"
   ]
  },
  {
   "cell_type": "markdown",
   "metadata": {},
   "source": [
    "### Officer names"
   ]
  },
  {
   "cell_type": "markdown",
   "metadata": {},
   "source": [
    "#### Converting to proper case"
   ]
  },
  {
   "cell_type": "code",
   "execution_count": 44,
   "metadata": {
    "collapsed": false
   },
   "outputs": [],
   "source": [
    "df.Officer_1_first = df.Officer_1_first.str.title()\n",
    "df.Officer_1_last = df.Officer_1_last.str.title()\n",
    "df.Officer_2_first = df.Officer_2_first.str.title()\n",
    "df.Officer_2_last = df.Officer_2_last.str.title()\n",
    "df.Officer_3_first = df.Officer_3_first.str.title()\n",
    "df.Officer_3_last = df.Officer_3_last.str.title()"
   ]
  },
  {
   "cell_type": "code",
   "execution_count": 45,
   "metadata": {
    "collapsed": false
   },
   "outputs": [
    {
     "name": "stdout",
     "output_type": "stream",
     "text": [
      "Number of unique values for first Officer's name:  5336\n"
     ]
    }
   ],
   "source": [
    "print \"Number of unique values for first Officer's name: \", len(df.Officer_1_first.unique())"
   ]
  },
  {
   "cell_type": "markdown",
   "metadata": {},
   "source": [
    "### Officer rank"
   ]
  },
  {
   "cell_type": "code",
   "execution_count": 46,
   "metadata": {
    "collapsed": true
   },
   "outputs": [],
   "source": [
    "df.Officer_1_rank = df.Officer_1_rank.str.upper()\n",
    "df.Officer_2_rank = df.Officer_2_rank.str.upper()\n",
    "df.Officer_3_rank = df.Officer_3_rank.str.upper()"
   ]
  },
  {
   "cell_type": "markdown",
   "metadata": {},
   "source": [
    "#### Initially lots of dirty data: Had to convert to csv and manually translate"
   ]
  },
  {
   "cell_type": "code",
   "execution_count": 47,
   "metadata": {
    "collapsed": false,
    "scrolled": true
   },
   "outputs": [
    {
     "data": {
      "text/plain": [
       "PATROLMAN                    17361\n",
       "BLANK                         9469\n",
       "PO                            7614\n",
       "POLICE OFFICER                6552\n",
       "PTL                           5525\n",
       "OFFICER                       4794\n",
       "SERGEANT                      3338\n",
       "SGT                           2980\n",
       "DETECTIVE                     1792\n",
       "PTLM                          1740\n",
       "TPR                           1118\n",
       "P.O                           1072\n",
       "PATROL OFFICER                1032\n",
       "DET                            995\n",
       "PATROL                         925\n",
       "SLEO II                        615\n",
       "OFC                            524\n",
       "LIEUTENANT                     457\n",
       "LT                             431\n",
       "P.O.                           419\n",
       "CORPORAL                       401\n",
       "CPL                            310\n",
       "SG                             270\n",
       "SLEO                           126\n",
       "CLASS II                       124\n",
       "S.O                            121\n",
       "DSG                             97\n",
       "SLEO 2                          97\n",
       "OFF                             85\n",
       "CAPTAIN                         85\n",
       "                             ...  \n",
       "SPECIAL II POLICE OFFICER        1\n",
       "OIC / PTL                        1\n",
       "PATROLMAN, MPO II                1\n",
       "DETECTIVE/SGT                    1\n",
       "AUXILIARY, APO                   1\n",
       "DET / SGT                        1\n",
       "PTL 4TH CLASS                    1\n",
       "TRAINER                          1\n",
       "AUXILIARY                        1\n",
       "DETECTIVE/OFFICER                1\n",
       "PATROL/POLICE OFFICER            1\n",
       "PATROLMAN, K-9                   1\n",
       "I/DET                            1\n",
       "ACTING SERG                      1\n",
       "S.C.O                            1\n",
       "LT.                              1\n",
       "BLK                              1\n",
       "CLASS I JAIL OFFICER             1\n",
       "RES. P/O                         1\n",
       "K-9 DETECTIVE                    1\n",
       "A/SERGEANT                       1\n",
       "SR. SLEO II                      1\n",
       "SPEC OFFICER II                  1\n",
       "SO III                           1\n",
       "PO/DET                           1\n",
       "A/DSGT                           1\n",
       "DETECTIVE SGT                    1\n",
       "D / SGT                          1\n",
       "PTL/ICA                          1\n",
       "PATROLMAN 5TH CLASS              1\n",
       "Name: Officer_1_rank, dtype: int64"
      ]
     },
     "execution_count": 47,
     "metadata": {},
     "output_type": "execute_result"
    }
   ],
   "source": [
    "df.Officer_1_rank.value_counts()"
   ]
  },
  {
   "cell_type": "code",
   "execution_count": 48,
   "metadata": {
    "collapsed": true
   },
   "outputs": [],
   "source": [
    "# pd.DataFrame(df.Officer_1_rank.value_counts()).to_csv('officer_rank_check.csv')"
   ]
  },
  {
   "cell_type": "markdown",
   "metadata": {},
   "source": [
    "#### Read in new csv with standardized values"
   ]
  },
  {
   "cell_type": "code",
   "execution_count": 49,
   "metadata": {
    "collapsed": true
   },
   "outputs": [],
   "source": [
    "rank = pd.read_csv('Officer_rank_dict.csv', index_col='Input', dtype={'Input':str})"
   ]
  },
  {
   "cell_type": "code",
   "execution_count": 50,
   "metadata": {
    "collapsed": false
   },
   "outputs": [
    {
     "data": {
      "text/html": [
       "<div>\n",
       "<table border=\"1\" class=\"dataframe\">\n",
       "  <thead>\n",
       "    <tr style=\"text-align: right;\">\n",
       "      <th></th>\n",
       "      <th>Officer_1_rank</th>\n",
       "      <th>Standard_name</th>\n",
       "      <th>General_name</th>\n",
       "    </tr>\n",
       "    <tr>\n",
       "      <th>Input</th>\n",
       "      <th></th>\n",
       "      <th></th>\n",
       "      <th></th>\n",
       "    </tr>\n",
       "  </thead>\n",
       "  <tbody>\n",
       "    <tr>\n",
       "      <th>PATROLMAN</th>\n",
       "      <td>26583</td>\n",
       "      <td>OFFICER</td>\n",
       "      <td>Ofc.</td>\n",
       "    </tr>\n",
       "    <tr>\n",
       "      <th>POLICE OFFICER</th>\n",
       "      <td>15657</td>\n",
       "      <td>OFFICER</td>\n",
       "      <td>Ofc.</td>\n",
       "    </tr>\n",
       "    <tr>\n",
       "      <th>BLANK</th>\n",
       "      <td>9469</td>\n",
       "      <td>BLANK</td>\n",
       "      <td>NaN</td>\n",
       "    </tr>\n",
       "    <tr>\n",
       "      <th>SERGEANT</th>\n",
       "      <td>6318</td>\n",
       "      <td>SERGEANT</td>\n",
       "      <td>Sgt.</td>\n",
       "    </tr>\n",
       "    <tr>\n",
       "      <th>OFFICER</th>\n",
       "      <td>4794</td>\n",
       "      <td>OFFICER</td>\n",
       "      <td>Ofc.</td>\n",
       "    </tr>\n",
       "  </tbody>\n",
       "</table>\n",
       "</div>"
      ],
      "text/plain": [
       "                Officer_1_rank Standard_name General_name\n",
       "Input                                                    \n",
       "PATROLMAN                26583       OFFICER         Ofc.\n",
       "POLICE OFFICER           15657       OFFICER         Ofc.\n",
       "BLANK                     9469         BLANK          NaN\n",
       "SERGEANT                  6318      SERGEANT         Sgt.\n",
       "OFFICER                   4794       OFFICER         Ofc."
      ]
     },
     "execution_count": 50,
     "metadata": {},
     "output_type": "execute_result"
    }
   ],
   "source": [
    "rank.head()"
   ]
  },
  {
   "cell_type": "markdown",
   "metadata": {},
   "source": [
    "#### Created a dictionary from the standardized values and mapped it to the original data"
   ]
  },
  {
   "cell_type": "code",
   "execution_count": 51,
   "metadata": {
    "collapsed": false
   },
   "outputs": [],
   "source": [
    "standard_rank = rank['Standard_name'].to_dict()\n",
    "gen_rank = rank['General_name'].to_dict()"
   ]
  },
  {
   "cell_type": "code",
   "execution_count": 52,
   "metadata": {
    "collapsed": false
   },
   "outputs": [],
   "source": [
    "df.Officer_1_rank = df.Officer_1_rank.map(standard_rank)\n",
    "df['Officer_1_genrank'] = df.Officer_1_rank.map(gen_rank)\n"
   ]
  },
  {
   "cell_type": "code",
   "execution_count": 53,
   "metadata": {
    "collapsed": true
   },
   "outputs": [],
   "source": [
    "df.Officer_2_rank = df.Officer_2_rank.map(standard_rank)\n",
    "df['Officer_2_genrank'] = df.Officer_2_rank.map(gen_rank)\n",
    "df.Officer_3_rank = df.Officer_3_rank.map(standard_rank)\n",
    "df['Officer_3_genrank'] = df.Officer_3_rank.map(gen_rank)"
   ]
  },
  {
   "cell_type": "markdown",
   "metadata": {},
   "source": [
    "#### Data is now simplified"
   ]
  },
  {
   "cell_type": "code",
   "execution_count": 54,
   "metadata": {
    "collapsed": false,
    "scrolled": true
   },
   "outputs": [
    {
     "data": {
      "text/plain": [
       "OFFICER                 30675\n",
       "BLANK                    9470\n",
       "SERGEANT                 3759\n",
       "DETECTIVE                2087\n",
       "TROOPER                  1126\n",
       "SLEO II                  1089\n",
       "SLEO                      591\n",
       "LIEUTENANT                472\n",
       "CORPORAL                  406\n",
       "DETECTIVE SERGEANT        215\n",
       "CAPTAIN                   111\n",
       "SLEO I                     93\n",
       "K9 OFFICER                 80\n",
       "ILLEGIBLE                  60\n",
       "MASTER OFFICER             56\n",
       "ND                         50\n",
       "PRIVATE FIRST CLASS        44\n",
       "CHIEF                      40\n",
       "DETECTIVE LIEUTENANT       28\n",
       "DEPUTY CHIEF                9\n",
       "AUX OFFICER                 4\n",
       "SLEO III                    3\n",
       "POLICE AIDE                 2\n",
       "CIVILIAN                    2\n",
       "ACTING DEPUTY CHIEF         1\n",
       "SCHOOL OFFICER              1\n",
       "Name: Officer_1_rank, dtype: int64"
      ]
     },
     "execution_count": 54,
     "metadata": {},
     "output_type": "execute_result"
    }
   ],
   "source": [
    "df.Officer_1_rank.value_counts()"
   ]
  },
  {
   "cell_type": "markdown",
   "metadata": {},
   "source": [
    "### Officer experience"
   ]
  },
  {
   "cell_type": "code",
   "execution_count": 55,
   "metadata": {
    "collapsed": false
   },
   "outputs": [],
   "source": [
    "# pd.DataFrame(df.Officer_1_exp.value_counts()).to_csv('Officer_experience_check.csv')"
   ]
  },
  {
   "cell_type": "code",
   "execution_count": 56,
   "metadata": {
    "collapsed": false,
    "scrolled": true
   },
   "outputs": [
    {
     "data": {
      "text/plain": [
       "1              4933\n",
       "2              3191\n",
       "3              2826\n",
       "8              2671\n",
       "7              2606\n",
       "5              2562\n",
       "10             2517\n",
       "6              2317\n",
       "9              2287\n",
       "4              2142\n",
       "12             2097\n",
       "13             1853\n",
       "11             1846\n",
       "15             1627\n",
       "14             1582\n",
       "16             1224\n",
       "17             1061\n",
       "18              986\n",
       "20              800\n",
       "19              799\n",
       "21              519\n",
       "23              487\n",
       "22              486\n",
       "1.5             464\n",
       "2.5             388\n",
       "24              388\n",
       "25              272\n",
       "4.5             238\n",
       "3.5             215\n",
       "7.5             208\n",
       "               ... \n",
       "3+ Months         1\n",
       "23 Months         1\n",
       "Under 1           1\n",
       "26 Months         1\n",
       "Less Than 1       1\n",
       "21.2              1\n",
       "24.1              1\n",
       "15.25             1\n",
       "Appx 10           1\n",
       "36 Months         1\n",
       "25, 27 Days       1\n",
       "3 weeks           1\n",
       "28.3              1\n",
       "22.9              1\n",
       "22.8              1\n",
       "22.4              1\n",
       "22.7              1\n",
       "22.3              1\n",
       "24.3              1\n",
       "0.7               1\n",
       "24.4              1\n",
       "14.2              1\n",
       "24.9              1\n",
       "14.1              1\n",
       "26.3              1\n",
       "26.2              1\n",
       "26.4              1\n",
       "26.7              1\n",
       "26.9              1\n",
       "2.5 Months        1\n",
       "Name: Officer_1_exp, dtype: int64"
      ]
     },
     "execution_count": 56,
     "metadata": {},
     "output_type": "execute_result"
    }
   ],
   "source": [
    "df.Officer_1_exp.value_counts()"
   ]
  },
  {
   "cell_type": "markdown",
   "metadata": {},
   "source": [
    "#### Took out some unnecessary punctuation and words"
   ]
  },
  {
   "cell_type": "code",
   "execution_count": 57,
   "metadata": {
    "collapsed": false
   },
   "outputs": [],
   "source": [
    "df.Officer_1_exp = df.Officer_1_exp.replace(to_replace=['\\+', 'Approx ', 'Approx. ','Approx, ',\n",
    "                                                       '3 Summer Seasons','>',' (Edison)', '3rd Summer',\n",
    "                                                       'Appx ','Apprx ','Aprx '], value=\"\", regex=True)"
   ]
  },
  {
   "cell_type": "markdown",
   "metadata": {},
   "source": [
    "#### Test of how much lost from trying to convert to numerical"
   ]
  },
  {
   "cell_type": "markdown",
   "metadata": {},
   "source": [
    "I.e. How many still have non-numerical characters in them?"
   ]
  },
  {
   "cell_type": "code",
   "execution_count": 58,
   "metadata": {
    "collapsed": false
   },
   "outputs": [
    {
     "data": {
      "text/plain": [
       "50508"
      ]
     },
     "execution_count": 58,
     "metadata": {},
     "output_type": "execute_result"
    }
   ],
   "source": [
    "df.Officer_1_exp.count()"
   ]
  },
  {
   "cell_type": "code",
   "execution_count": 59,
   "metadata": {
    "collapsed": true
   },
   "outputs": [],
   "source": [
    "df.Officer_1_exp = pd.to_numeric(df.Officer_1_exp, errors='coerce')"
   ]
  },
  {
   "cell_type": "code",
   "execution_count": 60,
   "metadata": {
    "collapsed": false
   },
   "outputs": [
    {
     "data": {
      "text/plain": [
       "49247"
      ]
     },
     "execution_count": 60,
     "metadata": {},
     "output_type": "execute_result"
    }
   ],
   "source": [
    "df.Officer_1_exp.count()"
   ]
  },
  {
   "cell_type": "markdown",
   "metadata": {},
   "source": [
    "### Officer sex : Everything looks pretty clean! :)"
   ]
  },
  {
   "cell_type": "code",
   "execution_count": 61,
   "metadata": {
    "collapsed": false
   },
   "outputs": [
    {
     "data": {
      "text/plain": [
       "Male          51160\n",
       "Not listed    19027\n",
       "Female         2294\n",
       "ILLEGIBLE         4\n",
       "Name: Officer_1_sex, dtype: int64"
      ]
     },
     "execution_count": 61,
     "metadata": {},
     "output_type": "execute_result"
    }
   ],
   "source": [
    "df.Officer_1_sex.value_counts()"
   ]
  },
  {
   "cell_type": "code",
   "execution_count": 62,
   "metadata": {
    "collapsed": false
   },
   "outputs": [
    {
     "data": {
      "text/plain": [
       "Not listed    12548\n",
       "Male            257\n",
       "Female           39\n",
       "Name: Officer_2_sex, dtype: int64"
      ]
     },
     "execution_count": 62,
     "metadata": {},
     "output_type": "execute_result"
    }
   ],
   "source": [
    "df.Officer_2_sex.value_counts()"
   ]
  },
  {
   "cell_type": "code",
   "execution_count": 63,
   "metadata": {
    "collapsed": false
   },
   "outputs": [
    {
     "data": {
      "text/plain": [
       "Not listed    12756\n",
       "Male             80\n",
       "Female            8\n",
       "Name: Officer_3_sex, dtype: int64"
      ]
     },
     "execution_count": 63,
     "metadata": {},
     "output_type": "execute_result"
    }
   ],
   "source": [
    "df.Officer_3_sex.value_counts()"
   ]
  },
  {
   "cell_type": "markdown",
   "metadata": {},
   "source": [
    "### Badge no"
   ]
  },
  {
   "cell_type": "markdown",
   "metadata": {},
   "source": [
    "Basically just capitalized it"
   ]
  },
  {
   "cell_type": "code",
   "execution_count": 64,
   "metadata": {
    "collapsed": false
   },
   "outputs": [
    {
     "data": {
      "text/plain": [
       "6310"
      ]
     },
     "execution_count": 64,
     "metadata": {},
     "output_type": "execute_result"
    }
   ],
   "source": [
    "len(df.Officer_1_badge_no.unique())"
   ]
  },
  {
   "cell_type": "code",
   "execution_count": 65,
   "metadata": {
    "collapsed": false
   },
   "outputs": [],
   "source": [
    "df.Officer_1_badge_no = df.Officer_1_badge_no.str.upper()\n",
    "df.Officer_2_badge_no = df.Officer_2_badge_no.str.upper()\n",
    "df.Supervisor_badge_no = df.Supervisor_badge_no.str.upper()"
   ]
  },
  {
   "cell_type": "markdown",
   "metadata": {},
   "source": [
    "<a id='race'></a>\n",
    "\n",
    "## Race: Did officer and subject combined\n",
    "\n",
    "[Back to the top](#table_of_contents)"
   ]
  },
  {
   "cell_type": "markdown",
   "metadata": {},
   "source": [
    "#### Standard capitalization"
   ]
  },
  {
   "cell_type": "code",
   "execution_count": 66,
   "metadata": {
    "collapsed": true
   },
   "outputs": [],
   "source": [
    "df.Officer_1_race = df.Officer_1_race.str.upper()\n",
    "df.Officer_2_race = df.Officer_2_race.str.upper()\n",
    "df.Officer_3_race = df.Officer_3_race.str.upper()\n",
    "\n",
    "df.Subject_1_race = df.Subject_1_race.str.upper()\n",
    "df.Subject_2_race = df.Subject_2_race.str.upper()\n",
    "df.Subject_3_race = df.Subject_3_race.str.upper()\n"
   ]
  },
  {
   "cell_type": "markdown",
   "metadata": {},
   "source": [
    "#### Still many, many dirty values"
   ]
  },
  {
   "cell_type": "code",
   "execution_count": 67,
   "metadata": {
    "collapsed": false,
    "scrolled": true
   },
   "outputs": [
    {
     "data": {
      "text/plain": [
       "W                            21919\n",
       "WHITE                        15165\n",
       "CAUC                          2577\n",
       "BLACK                         2216\n",
       "HISP                          1397\n",
       "B                             1306\n",
       "WHT                           1282\n",
       "HISPANIC                       911\n",
       "H                              899\n",
       "BLK                            761\n",
       "WT                             697\n",
       "1                              421\n",
       "C                              393\n",
       "ASIAN                          332\n",
       "CAU                            318\n",
       "CAUCASIAN                      267\n",
       "WH                             234\n",
       "WHITE-HISPANIC                 211\n",
       "A                              188\n",
       "WHITE HISPANIC                 171\n",
       "W-WHITE                        146\n",
       "HIS                            119\n",
       "W/H                             90\n",
       "ASIAN OR PACIFIC ISLANDER       67\n",
       "OTHER                           41\n",
       "BLACK HISPANIC                  40\n",
       "BLACK OR AFRICAN AMERICAN       39\n",
       "BK                              35\n",
       "2                               30\n",
       "UNKNOWN                         29\n",
       "                             ...  \n",
       "B/HISP                           1\n",
       "A.AMERICAN                       1\n",
       "PO                               1\n",
       "MIDDLE EASTERN                   1\n",
       "N                                1\n",
       "ASAIN                            1\n",
       "CAUCASIA                         1\n",
       "P                                1\n",
       "LIEUTENANT                       1\n",
       "WHITE, HISPANIC                  1\n",
       "6                                1\n",
       "U                                1\n",
       "W/HIS                            1\n",
       "5                                1\n",
       "AFRO-AM                          1\n",
       "MALE                             1\n",
       "PT                               1\n",
       "PATROLMAN                        1\n",
       "PR                               1\n",
       "HIPS                             1\n",
       "5-JAN                            1\n",
       "A/PI                             1\n",
       "BIN                              1\n",
       "B/NH                             1\n",
       "WHT/H                            1\n",
       "SERGEANT                         1\n",
       "WHT/A.S                          1\n",
       "WAT                              1\n",
       "HISP/BLACK                       1\n",
       "BLACK/HISP                       1\n",
       "Name: Officer_1_race, dtype: int64"
      ]
     },
     "execution_count": 67,
     "metadata": {},
     "output_type": "execute_result"
    }
   ],
   "source": [
    "df.Officer_1_race.value_counts()"
   ]
  },
  {
   "cell_type": "markdown",
   "metadata": {},
   "source": [
    "### Race codes:\n",
    "1. white\n",
    "2. black\n",
    "3. american indian/alaskan native\n",
    "4. asian/pacific islander\n",
    "\n",
    "### Ethnicity:      \n",
    "A. of hispanic origin     \n",
    "B. not of hispanic origin"
   ]
  },
  {
   "cell_type": "markdown",
   "metadata": {},
   "source": [
    "#### Created a list of all unique racial values"
   ]
  },
  {
   "cell_type": "code",
   "execution_count": 68,
   "metadata": {
    "collapsed": true
   },
   "outputs": [],
   "source": [
    "# Retrieve unique values for race in officer categories\n",
    "off_race = pd.concat([pd.DataFrame(df.Officer_1_race.value_counts()),\n",
    "                       pd.DataFrame(df.Officer_2_race.value_counts()),\n",
    "                       pd.DataFrame(df.Officer_3_race.value_counts())\n",
    "                    ])\n",
    "\n",
    "#same with Subject\n",
    "subj_race = pd.concat([pd.DataFrame(df.Subject_1_race.value_counts()),\n",
    "                       pd.DataFrame(df.Subject_2_race.value_counts()),\n",
    "                       pd.DataFrame(df.Subject_3_race.value_counts())\n",
    "                    ])\n",
    "\n",
    "#Combined both into single DF of all race values\n",
    "comb_race = pd.concat([subj_race, off_race])\n",
    "\n",
    "# Exported it to csv to put into separate Google sheets document\n",
    "# pd.DataFrame(comb_race.index.value_counts()).to_csv('Race_values.csv')"
   ]
  },
  {
   "cell_type": "markdown",
   "metadata": {},
   "source": [
    "To create the standardized racial categories, we put all unique race values into a Google spreadsheet and allowed \n",
    "for everyone on the team to edit it. We discussed edge cases and created specific standardized codes, as well as separate codes for when the value indicated both race and ethnicity."
   ]
  },
  {
   "cell_type": "markdown",
   "metadata": {},
   "source": [
    "#### Read in the results"
   ]
  },
  {
   "cell_type": "code",
   "execution_count": 69,
   "metadata": {
    "collapsed": false
   },
   "outputs": [],
   "source": [
    "race_cat = pd.read_csv('https://docs.google.com/spreadsheets/d/1fG0Ehp1hG_I8KIp9KTtCG88XOxBCXtpiEStJg4H1hLE/export?format=csv', index_col='Input', dtype={'Input':str})"
   ]
  },
  {
   "cell_type": "code",
   "execution_count": 70,
   "metadata": {
    "collapsed": false,
    "scrolled": true
   },
   "outputs": [
    {
     "data": {
      "text/html": [
       "<div>\n",
       "<table border=\"1\" class=\"dataframe\">\n",
       "  <thead>\n",
       "    <tr style=\"text-align: right;\">\n",
       "      <th></th>\n",
       "      <th>Standardized_race</th>\n",
       "      <th>Separate_race</th>\n",
       "      <th>Separate_eth</th>\n",
       "    </tr>\n",
       "    <tr>\n",
       "      <th>Input</th>\n",
       "      <th></th>\n",
       "      <th></th>\n",
       "      <th></th>\n",
       "    </tr>\n",
       "  </thead>\n",
       "  <tbody>\n",
       "    <tr>\n",
       "      <th>W</th>\n",
       "      <td>WHITE</td>\n",
       "      <td>NaN</td>\n",
       "      <td>NaN</td>\n",
       "    </tr>\n",
       "    <tr>\n",
       "      <th>H</th>\n",
       "      <td>HISPANIC</td>\n",
       "      <td>NaN</td>\n",
       "      <td>NaN</td>\n",
       "    </tr>\n",
       "    <tr>\n",
       "      <th>B</th>\n",
       "      <td>BLACK</td>\n",
       "      <td>NaN</td>\n",
       "      <td>NaN</td>\n",
       "    </tr>\n",
       "    <tr>\n",
       "      <th>HISP</th>\n",
       "      <td>HISPANIC</td>\n",
       "      <td>NaN</td>\n",
       "      <td>NaN</td>\n",
       "    </tr>\n",
       "    <tr>\n",
       "      <th>BLK</th>\n",
       "      <td>BLACK</td>\n",
       "      <td>NaN</td>\n",
       "      <td>NaN</td>\n",
       "    </tr>\n",
       "    <tr>\n",
       "      <th>WHITE</th>\n",
       "      <td>WHITE</td>\n",
       "      <td>NaN</td>\n",
       "      <td>NaN</td>\n",
       "    </tr>\n",
       "    <tr>\n",
       "      <th>BLACK</th>\n",
       "      <td>BLACK</td>\n",
       "      <td>NaN</td>\n",
       "      <td>NaN</td>\n",
       "    </tr>\n",
       "    <tr>\n",
       "      <th>HIS</th>\n",
       "      <td>HISPANIC</td>\n",
       "      <td>NaN</td>\n",
       "      <td>NaN</td>\n",
       "    </tr>\n",
       "    <tr>\n",
       "      <th>WHITE-HISPANIC</th>\n",
       "      <td>HISPANIC</td>\n",
       "      <td>WHITE</td>\n",
       "      <td>HISPANIC</td>\n",
       "    </tr>\n",
       "    <tr>\n",
       "      <th>HISPANIC</th>\n",
       "      <td>HISPANIC</td>\n",
       "      <td>NaN</td>\n",
       "      <td>NaN</td>\n",
       "    </tr>\n",
       "    <tr>\n",
       "      <th>WHT</th>\n",
       "      <td>WHITE</td>\n",
       "      <td>NaN</td>\n",
       "      <td>NaN</td>\n",
       "    </tr>\n",
       "    <tr>\n",
       "      <th>AA</th>\n",
       "      <td>BLACK</td>\n",
       "      <td>NaN</td>\n",
       "      <td>NaN</td>\n",
       "    </tr>\n",
       "    <tr>\n",
       "      <th>U</th>\n",
       "      <td>ND</td>\n",
       "      <td>NaN</td>\n",
       "      <td>NaN</td>\n",
       "    </tr>\n",
       "    <tr>\n",
       "      <th>BLACK-HISPANIC</th>\n",
       "      <td>HISPANIC</td>\n",
       "      <td>BLACK</td>\n",
       "      <td>HISPANIC</td>\n",
       "    </tr>\n",
       "    <tr>\n",
       "      <th>WT</th>\n",
       "      <td>WHITE</td>\n",
       "      <td>NaN</td>\n",
       "      <td>NaN</td>\n",
       "    </tr>\n",
       "    <tr>\n",
       "      <th>W/H</th>\n",
       "      <td>HISPANIC</td>\n",
       "      <td>WHITE</td>\n",
       "      <td>HISPANIC</td>\n",
       "    </tr>\n",
       "    <tr>\n",
       "      <th>CAU</th>\n",
       "      <td>WHITE</td>\n",
       "      <td>NaN</td>\n",
       "      <td>NaN</td>\n",
       "    </tr>\n",
       "    <tr>\n",
       "      <th>C</th>\n",
       "      <td>WHITE</td>\n",
       "      <td>NaN</td>\n",
       "      <td>NaN</td>\n",
       "    </tr>\n",
       "    <tr>\n",
       "      <th>BLACK HISPANIC</th>\n",
       "      <td>HISPANIC</td>\n",
       "      <td>BLACK</td>\n",
       "      <td>HISPANIC</td>\n",
       "    </tr>\n",
       "    <tr>\n",
       "      <th>5</th>\n",
       "      <td>ND</td>\n",
       "      <td>NaN</td>\n",
       "      <td>NaN</td>\n",
       "    </tr>\n",
       "    <tr>\n",
       "      <th>WHITE HISPANIC</th>\n",
       "      <td>HISPANIC</td>\n",
       "      <td>WHITE</td>\n",
       "      <td>HISPANIC</td>\n",
       "    </tr>\n",
       "    <tr>\n",
       "      <th>1</th>\n",
       "      <td>WHITE</td>\n",
       "      <td>NaN</td>\n",
       "      <td>NaN</td>\n",
       "    </tr>\n",
       "    <tr>\n",
       "      <th>ASIAN</th>\n",
       "      <td>ASIAN</td>\n",
       "      <td>NaN</td>\n",
       "      <td>NaN</td>\n",
       "    </tr>\n",
       "    <tr>\n",
       "      <th>2</th>\n",
       "      <td>BLACK</td>\n",
       "      <td>NaN</td>\n",
       "      <td>NaN</td>\n",
       "    </tr>\n",
       "    <tr>\n",
       "      <th>REDACTED</th>\n",
       "      <td>REDACTED</td>\n",
       "      <td>NaN</td>\n",
       "      <td>NaN</td>\n",
       "    </tr>\n",
       "    <tr>\n",
       "      <th>UNKNOWN</th>\n",
       "      <td>ND</td>\n",
       "      <td>NaN</td>\n",
       "      <td>NaN</td>\n",
       "    </tr>\n",
       "    <tr>\n",
       "      <th>BLACK OR AFRICAN AMERICAN</th>\n",
       "      <td>BLACK</td>\n",
       "      <td>NaN</td>\n",
       "      <td>NaN</td>\n",
       "    </tr>\n",
       "    <tr>\n",
       "      <th>1B</th>\n",
       "      <td>WHITE</td>\n",
       "      <td>NaN</td>\n",
       "      <td>NaN</td>\n",
       "    </tr>\n",
       "    <tr>\n",
       "      <th>CAUC</th>\n",
       "      <td>WHITE</td>\n",
       "      <td>NaN</td>\n",
       "      <td>NaN</td>\n",
       "    </tr>\n",
       "    <tr>\n",
       "      <th>1A</th>\n",
       "      <td>HISPANIC</td>\n",
       "      <td>WHITE</td>\n",
       "      <td>HISPANIC</td>\n",
       "    </tr>\n",
       "    <tr>\n",
       "      <th>...</th>\n",
       "      <td>...</td>\n",
       "      <td>...</td>\n",
       "      <td>...</td>\n",
       "    </tr>\n",
       "    <tr>\n",
       "      <th>B/K</th>\n",
       "      <td>BLACK</td>\n",
       "      <td>NaN</td>\n",
       "      <td>NaN</td>\n",
       "    </tr>\n",
       "    <tr>\n",
       "      <th>ASIA</th>\n",
       "      <td>ASIAN</td>\n",
       "      <td>NaN</td>\n",
       "      <td>NaN</td>\n",
       "    </tr>\n",
       "    <tr>\n",
       "      <th>P-NATIVE HAWAIIAN OR OTHER PACIFIC ISLANDER</th>\n",
       "      <td>PACIFIC ISLANDER</td>\n",
       "      <td>NaN</td>\n",
       "      <td>NaN</td>\n",
       "    </tr>\n",
       "    <tr>\n",
       "      <th>W/F</th>\n",
       "      <td>WHITE</td>\n",
       "      <td>NaN</td>\n",
       "      <td>NaN</td>\n",
       "    </tr>\n",
       "    <tr>\n",
       "      <th>ITALIAN</th>\n",
       "      <td>ND</td>\n",
       "      <td>NaN</td>\n",
       "      <td>NaN</td>\n",
       "    </tr>\n",
       "    <tr>\n",
       "      <th>ASIAN/INDIAN</th>\n",
       "      <td>ASIAN</td>\n",
       "      <td>NaN</td>\n",
       "      <td>NaN</td>\n",
       "    </tr>\n",
       "    <tr>\n",
       "      <th>H/W</th>\n",
       "      <td>HISPANIC</td>\n",
       "      <td>WHITE</td>\n",
       "      <td>HISPANIC</td>\n",
       "    </tr>\n",
       "    <tr>\n",
       "      <th>ASAIN</th>\n",
       "      <td>ASIAN</td>\n",
       "      <td>NaN</td>\n",
       "      <td>NaN</td>\n",
       "    </tr>\n",
       "    <tr>\n",
       "      <th>MULTI</th>\n",
       "      <td>MIXED</td>\n",
       "      <td>NaN</td>\n",
       "      <td>NaN</td>\n",
       "    </tr>\n",
       "    <tr>\n",
       "      <th>PAC ISL</th>\n",
       "      <td>PACIFIC ISLANDER</td>\n",
       "      <td>NaN</td>\n",
       "      <td>NaN</td>\n",
       "    </tr>\n",
       "    <tr>\n",
       "      <th>ILLEGIBLE/HISP</th>\n",
       "      <td>HISPANIC</td>\n",
       "      <td>NaN</td>\n",
       "      <td>NaN</td>\n",
       "    </tr>\n",
       "    <tr>\n",
       "      <th>ME</th>\n",
       "      <td>ND</td>\n",
       "      <td>NaN</td>\n",
       "      <td>NaN</td>\n",
       "    </tr>\n",
       "    <tr>\n",
       "      <th>BALCK</th>\n",
       "      <td>BLACK</td>\n",
       "      <td>NaN</td>\n",
       "      <td>NaN</td>\n",
       "    </tr>\n",
       "    <tr>\n",
       "      <th>WHITE/ HISP</th>\n",
       "      <td>HISPANIC</td>\n",
       "      <td>WHITE</td>\n",
       "      <td>HISPANIC</td>\n",
       "    </tr>\n",
       "    <tr>\n",
       "      <th>IND</th>\n",
       "      <td>ND</td>\n",
       "      <td>NaN</td>\n",
       "      <td>NaN</td>\n",
       "    </tr>\n",
       "    <tr>\n",
       "      <th>HISP/WHT</th>\n",
       "      <td>HISPANIC</td>\n",
       "      <td>WHITE</td>\n",
       "      <td>HISPANIC</td>\n",
       "    </tr>\n",
       "    <tr>\n",
       "      <th>OTHER-HISPANIC</th>\n",
       "      <td>HISPANIC</td>\n",
       "      <td>NaN</td>\n",
       "      <td>NaN</td>\n",
       "    </tr>\n",
       "    <tr>\n",
       "      <th>W / HISP</th>\n",
       "      <td>HISPANIC</td>\n",
       "      <td>WHITE</td>\n",
       "      <td>HISPANIC</td>\n",
       "    </tr>\n",
       "    <tr>\n",
       "      <th>2-Jan</th>\n",
       "      <td>ND</td>\n",
       "      <td>NaN</td>\n",
       "      <td>NaN</td>\n",
       "    </tr>\n",
       "    <tr>\n",
       "      <th>WHITE, HISPANIC</th>\n",
       "      <td>HISPANIC</td>\n",
       "      <td>WHITE</td>\n",
       "      <td>HISPANIC</td>\n",
       "    </tr>\n",
       "    <tr>\n",
       "      <th>HLS</th>\n",
       "      <td>ND</td>\n",
       "      <td>NaN</td>\n",
       "      <td>NaN</td>\n",
       "    </tr>\n",
       "    <tr>\n",
       "      <th>AMER</th>\n",
       "      <td>ND</td>\n",
       "      <td>NaN</td>\n",
       "      <td>NaN</td>\n",
       "    </tr>\n",
       "    <tr>\n",
       "      <th>W N/H</th>\n",
       "      <td>WHITE</td>\n",
       "      <td>WHITE</td>\n",
       "      <td>NONHISPANIC</td>\n",
       "    </tr>\n",
       "    <tr>\n",
       "      <th>AFRICAN/ AMERICAN</th>\n",
       "      <td>BLACK</td>\n",
       "      <td>NaN</td>\n",
       "      <td>NaN</td>\n",
       "    </tr>\n",
       "    <tr>\n",
       "      <th>WHITE/ASIAN</th>\n",
       "      <td>MIXED</td>\n",
       "      <td>NaN</td>\n",
       "      <td>NaN</td>\n",
       "    </tr>\n",
       "    <tr>\n",
       "      <th>H/B</th>\n",
       "      <td>HISPANIC</td>\n",
       "      <td>BLACK</td>\n",
       "      <td>HISPANIC</td>\n",
       "    </tr>\n",
       "    <tr>\n",
       "      <th>WHIS</th>\n",
       "      <td>HISPANIC</td>\n",
       "      <td>WHITE</td>\n",
       "      <td>HISPANIC</td>\n",
       "    </tr>\n",
       "    <tr>\n",
       "      <th>ASIAN/PACIFIC</th>\n",
       "      <td>ASIAN/PACIFIC ISLANDER</td>\n",
       "      <td>NaN</td>\n",
       "      <td>NaN</td>\n",
       "    </tr>\n",
       "    <tr>\n",
       "      <th>BLA</th>\n",
       "      <td>BLACK</td>\n",
       "      <td>NaN</td>\n",
       "      <td>NaN</td>\n",
       "    </tr>\n",
       "    <tr>\n",
       "      <th>ORIENTAL/PACIFIC ISLANDER</th>\n",
       "      <td>ASIAN/PACIFIC ISLANDER</td>\n",
       "      <td>NaN</td>\n",
       "      <td>NaN</td>\n",
       "    </tr>\n",
       "  </tbody>\n",
       "</table>\n",
       "<p>302 rows × 3 columns</p>\n",
       "</div>"
      ],
      "text/plain": [
       "                                                  Standardized_race  \\\n",
       "Input                                                                 \n",
       "W                                                             WHITE   \n",
       "H                                                          HISPANIC   \n",
       "B                                                             BLACK   \n",
       "HISP                                                       HISPANIC   \n",
       "BLK                                                           BLACK   \n",
       "WHITE                                                         WHITE   \n",
       "BLACK                                                         BLACK   \n",
       "HIS                                                        HISPANIC   \n",
       "WHITE-HISPANIC                                             HISPANIC   \n",
       "HISPANIC                                                   HISPANIC   \n",
       "WHT                                                           WHITE   \n",
       "AA                                                            BLACK   \n",
       "U                                                                ND   \n",
       "BLACK-HISPANIC                                             HISPANIC   \n",
       "WT                                                            WHITE   \n",
       "W/H                                                        HISPANIC   \n",
       "CAU                                                           WHITE   \n",
       "C                                                             WHITE   \n",
       "BLACK HISPANIC                                             HISPANIC   \n",
       "5                                                                ND   \n",
       "WHITE HISPANIC                                             HISPANIC   \n",
       "1                                                             WHITE   \n",
       "ASIAN                                                         ASIAN   \n",
       "2                                                             BLACK   \n",
       "REDACTED                                                   REDACTED   \n",
       "UNKNOWN                                                          ND   \n",
       "BLACK OR AFRICAN AMERICAN                                     BLACK   \n",
       "1B                                                            WHITE   \n",
       "CAUC                                                          WHITE   \n",
       "1A                                                         HISPANIC   \n",
       "...                                                             ...   \n",
       "B/K                                                           BLACK   \n",
       "ASIA                                                          ASIAN   \n",
       "P-NATIVE HAWAIIAN OR OTHER PACIFIC ISLANDER        PACIFIC ISLANDER   \n",
       "W/F                                                           WHITE   \n",
       "ITALIAN                                                          ND   \n",
       "ASIAN/INDIAN                                                  ASIAN   \n",
       "H/W                                                        HISPANIC   \n",
       "ASAIN                                                         ASIAN   \n",
       "MULTI                                                         MIXED   \n",
       "PAC ISL                                            PACIFIC ISLANDER   \n",
       "ILLEGIBLE/HISP                                             HISPANIC   \n",
       "ME                                                               ND   \n",
       "BALCK                                                         BLACK   \n",
       "WHITE/ HISP                                                HISPANIC   \n",
       "IND                                                              ND   \n",
       "HISP/WHT                                                   HISPANIC   \n",
       "OTHER-HISPANIC                                             HISPANIC   \n",
       "W / HISP                                                   HISPANIC   \n",
       "2-Jan                                                            ND   \n",
       "WHITE, HISPANIC                                            HISPANIC   \n",
       "HLS                                                              ND   \n",
       "AMER                                                             ND   \n",
       "W N/H                                                         WHITE   \n",
       "AFRICAN/ AMERICAN                                             BLACK   \n",
       "WHITE/ASIAN                                                   MIXED   \n",
       "H/B                                                        HISPANIC   \n",
       "WHIS                                                       HISPANIC   \n",
       "ASIAN/PACIFIC                                ASIAN/PACIFIC ISLANDER   \n",
       "BLA                                                           BLACK   \n",
       "ORIENTAL/PACIFIC ISLANDER                    ASIAN/PACIFIC ISLANDER   \n",
       "\n",
       "                                            Separate_race Separate_eth  \n",
       "Input                                                                   \n",
       "W                                                     NaN          NaN  \n",
       "H                                                     NaN          NaN  \n",
       "B                                                     NaN          NaN  \n",
       "HISP                                                  NaN          NaN  \n",
       "BLK                                                   NaN          NaN  \n",
       "WHITE                                                 NaN          NaN  \n",
       "BLACK                                                 NaN          NaN  \n",
       "HIS                                                   NaN          NaN  \n",
       "WHITE-HISPANIC                                      WHITE     HISPANIC  \n",
       "HISPANIC                                              NaN          NaN  \n",
       "WHT                                                   NaN          NaN  \n",
       "AA                                                    NaN          NaN  \n",
       "U                                                     NaN          NaN  \n",
       "BLACK-HISPANIC                                      BLACK     HISPANIC  \n",
       "WT                                                    NaN          NaN  \n",
       "W/H                                                 WHITE     HISPANIC  \n",
       "CAU                                                   NaN          NaN  \n",
       "C                                                     NaN          NaN  \n",
       "BLACK HISPANIC                                      BLACK     HISPANIC  \n",
       "5                                                     NaN          NaN  \n",
       "WHITE HISPANIC                                      WHITE     HISPANIC  \n",
       "1                                                     NaN          NaN  \n",
       "ASIAN                                                 NaN          NaN  \n",
       "2                                                     NaN          NaN  \n",
       "REDACTED                                              NaN          NaN  \n",
       "UNKNOWN                                               NaN          NaN  \n",
       "BLACK OR AFRICAN AMERICAN                             NaN          NaN  \n",
       "1B                                                    NaN          NaN  \n",
       "CAUC                                                  NaN          NaN  \n",
       "1A                                                  WHITE     HISPANIC  \n",
       "...                                                   ...          ...  \n",
       "B/K                                                   NaN          NaN  \n",
       "ASIA                                                  NaN          NaN  \n",
       "P-NATIVE HAWAIIAN OR OTHER PACIFIC ISLANDER           NaN          NaN  \n",
       "W/F                                                   NaN          NaN  \n",
       "ITALIAN                                               NaN          NaN  \n",
       "ASIAN/INDIAN                                          NaN          NaN  \n",
       "H/W                                                 WHITE     HISPANIC  \n",
       "ASAIN                                                 NaN          NaN  \n",
       "MULTI                                                 NaN          NaN  \n",
       "PAC ISL                                               NaN          NaN  \n",
       "ILLEGIBLE/HISP                                        NaN          NaN  \n",
       "ME                                                    NaN          NaN  \n",
       "BALCK                                                 NaN          NaN  \n",
       "WHITE/ HISP                                         WHITE     HISPANIC  \n",
       "IND                                                   NaN          NaN  \n",
       "HISP/WHT                                            WHITE     HISPANIC  \n",
       "OTHER-HISPANIC                                        NaN          NaN  \n",
       "W / HISP                                            WHITE     HISPANIC  \n",
       "2-Jan                                                 NaN          NaN  \n",
       "WHITE, HISPANIC                                     WHITE     HISPANIC  \n",
       "HLS                                                   NaN          NaN  \n",
       "AMER                                                  NaN          NaN  \n",
       "W N/H                                               WHITE  NONHISPANIC  \n",
       "AFRICAN/ AMERICAN                                     NaN          NaN  \n",
       "WHITE/ASIAN                                           NaN          NaN  \n",
       "H/B                                                 BLACK     HISPANIC  \n",
       "WHIS                                                WHITE     HISPANIC  \n",
       "ASIAN/PACIFIC                                         NaN          NaN  \n",
       "BLA                                                   NaN          NaN  \n",
       "ORIENTAL/PACIFIC ISLANDER                             NaN          NaN  \n",
       "\n",
       "[302 rows x 3 columns]"
      ]
     },
     "execution_count": 70,
     "metadata": {},
     "output_type": "execute_result"
    }
   ],
   "source": [
    "race_cat"
   ]
  },
  {
   "cell_type": "markdown",
   "metadata": {},
   "source": [
    "Created a python dictionary to turn codes into the standardized and separate racial and ethnic cat"
   ]
  },
  {
   "cell_type": "code",
   "execution_count": 71,
   "metadata": {
    "collapsed": false
   },
   "outputs": [],
   "source": [
    "standard_race = race_cat.Standardized_race.to_dict()\n",
    "sep_race = race_cat.Separate_race.to_dict()\n",
    "sep_eth = race_cat.Separate_eth.to_dict()"
   ]
  },
  {
   "cell_type": "code",
   "execution_count": 72,
   "metadata": {
    "collapsed": false
   },
   "outputs": [
    {
     "data": {
      "text/plain": [
       "{nan: nan,\n",
       " '1': 'WHITE',\n",
       " '1(H)': 'HISPANIC',\n",
       " '1/H': 'HISPANIC',\n",
       " '1A': 'HISPANIC',\n",
       " '1B': 'WHITE',\n",
       " '1H': 'HISPANIC',\n",
       " '2': 'BLACK',\n",
       " '2-Jan': 'ND',\n",
       " '2/H': 'HISPANIC',\n",
       " '2A': 'HISPANIC',\n",
       " '2B': 'BLACK',\n",
       " '2H': 'HISPANIC',\n",
       " '3': 'NATIVE AMERICAN',\n",
       " '3B': 'NATIVE AMERICAN',\n",
       " '3K': 'ND',\n",
       " '4': 'ASIAN/PACIFIC ISLANDER',\n",
       " '4A': 'ASIAN',\n",
       " '4B': 'ASIAN/PACIFIC ISLANDER',\n",
       " '5': 'ND',\n",
       " '5-Jan': 'ND',\n",
       " '6': 'ND',\n",
       " '8': 'ND',\n",
       " 'A': 'ASIAN',\n",
       " 'A+AM': 'BLACK',\n",
       " 'A-ASIAN': 'ASIAN',\n",
       " 'A.A': 'BLACK',\n",
       " 'A.AMERICAN': 'BLACK',\n",
       " 'A/A': 'BLACK',\n",
       " 'A/I': 'ND',\n",
       " 'A/PI': 'ASIAN/PACIFIC ISLANDER',\n",
       " 'AA': 'BLACK',\n",
       " 'AF-AM': 'BLACK',\n",
       " 'AF. AM': 'BLACK',\n",
       " 'AFAM': 'BLACK',\n",
       " 'AFRICAN': 'BLACK',\n",
       " 'AFRICAN AMERICAN': 'BLACK',\n",
       " 'AFRICAN ILLEGIBLE': 'BLACK',\n",
       " 'AFRICAN/ AMERICAN': 'BLACK',\n",
       " 'AFRO': 'BLACK',\n",
       " 'AFRO AM': 'BLACK',\n",
       " 'AFRO AMERICAN': 'BLACK',\n",
       " 'AFRO-AM': 'BLACK',\n",
       " 'AFRO-AMER': 'BLACK',\n",
       " 'AFT-AME': 'BLACK',\n",
       " 'AI': 'ND',\n",
       " 'AI/AN': 'NATIVE AMERICAN',\n",
       " 'AIS': 'ASIAN',\n",
       " 'AISP': 'ND',\n",
       " 'AL': 'ND',\n",
       " 'AMER': 'ND',\n",
       " 'AMER INDIAN/ALASKAN': 'NATIVE AMERICAN',\n",
       " 'AMER/AK IND': 'NATIVE AMERICAN',\n",
       " 'AMERICAN INDIAN': 'NATIVE AMERICAN',\n",
       " 'ARAB': 'OTHER',\n",
       " 'ARABIC': 'OTHER',\n",
       " 'AS': 'ASIAN',\n",
       " 'ASAIA': 'ASIAN',\n",
       " 'ASAIN': 'ASIAN',\n",
       " 'ASAIN / PACIFIC': 'ASIAN/PACIFIC ISLANDER',\n",
       " 'ASIA': 'ASIAN',\n",
       " 'ASIAN': 'ASIAN',\n",
       " 'ASIAN / PACIFIC ISLNDR': 'ASIAN/PACIFIC ISLANDER',\n",
       " 'ASIAN OR PACIFIC': 'ASIAN/PACIFIC ISLANDER',\n",
       " 'ASIAN OR PACIFIC ISLANDER': 'ASIAN/PACIFIC ISLANDER',\n",
       " 'ASIAN PACIFIC': 'ASIAN',\n",
       " 'ASIAN PACIFIC/JC': 'ASIAN/PACIFIC ISLANDER',\n",
       " 'ASIAN, INDIAN': 'ASIAN',\n",
       " 'ASIAN/ IND': 'ASIAN',\n",
       " 'ASIAN/ PACIFIC ISLNDR': 'ASIAN/PACIFIC ISLANDER',\n",
       " 'ASIAN/INDIAN': 'ASIAN',\n",
       " 'ASIAN/PACIFIC': 'ASIAN/PACIFIC ISLANDER',\n",
       " 'ASIAN/PACIFIC IS': 'ASIAN/PACIFIC ISLANDER',\n",
       " 'ASIAN/PACIFIC ISLANDER': 'ASIAN/PACIFIC ISLANDER',\n",
       " 'ASIAN/PACIFIC ISLNDR': 'ASIAN/PACIFIC ISLANDER',\n",
       " 'ASISAN': 'ASIAN',\n",
       " 'ASN': 'ASIAN',\n",
       " 'B': 'BLACK',\n",
       " 'B-BLACK OR AFRICAN AMERICAN': 'BLACK',\n",
       " 'B.H': 'HISPANIC',\n",
       " 'B/A': 'ND',\n",
       " 'B/H': 'HISPANIC',\n",
       " 'B/HISP': 'HISPANIC',\n",
       " 'B/K': 'BLACK',\n",
       " 'B/N': 'BLACK',\n",
       " 'B/NH': 'BLACK',\n",
       " 'B/W': 'MIXED',\n",
       " 'B/W/H': 'MIXED',\n",
       " 'BALCK': 'BLACK',\n",
       " 'BH': 'HISPANIC',\n",
       " 'BIN': 'ND',\n",
       " 'BK': 'BLACK',\n",
       " 'BK/ HIS': 'HISPANIC',\n",
       " 'BL': 'BLACK',\n",
       " 'BLA': 'BLACK',\n",
       " 'BLAC': 'BLACK',\n",
       " 'BLACK': 'BLACK',\n",
       " 'BLACK AND AFRICAN AMERICAN': 'BLACK',\n",
       " 'BLACK HISPAN': 'HISPANIC',\n",
       " 'BLACK HISPANIC': 'HISPANIC',\n",
       " 'BLACK OR AFRICAN AMERICAN': 'BLACK',\n",
       " 'BLACK-HISPANIC': 'HISPANIC',\n",
       " 'BLACK-N/HISP': 'BLACK',\n",
       " 'BLACK/AA': 'BLACK',\n",
       " 'BLACK/HISP': 'HISPANIC',\n",
       " 'BLACK/WHITE': 'MIXED',\n",
       " 'BLCK': 'BLACK',\n",
       " 'BLK': 'BLACK',\n",
       " 'BLK/HIS': 'HISPANIC',\n",
       " 'BLK/HISP': 'HISPANIC',\n",
       " 'BLK/ILLEGIBLE': 'BLACK',\n",
       " 'BLOCK': 'BLACK',\n",
       " 'BNH': 'BLACK',\n",
       " 'BRAZIL': 'ND',\n",
       " 'BRAZILIAN': 'ND',\n",
       " 'C': 'WHITE',\n",
       " 'C/H': 'HISPANIC',\n",
       " 'CA': 'WHITE',\n",
       " 'CAC': 'WHITE',\n",
       " 'CAU': 'WHITE',\n",
       " 'CAUC': 'WHITE',\n",
       " 'CAUC/HISP': 'HISPANIC',\n",
       " 'CAUCASIA': 'WHITE',\n",
       " 'CAUCASIAN': 'WHITE',\n",
       " 'CAUCASIO': 'WHITE',\n",
       " 'CAUS': 'WHITE',\n",
       " 'DEER': 'DEER',\n",
       " 'E': 'ND',\n",
       " 'ECU': 'ND',\n",
       " 'ECUADOR': 'ND',\n",
       " 'EGYPT': 'ND',\n",
       " 'EGYPTIAN': 'ND',\n",
       " 'F': 'ND',\n",
       " 'H': 'HISPANIC',\n",
       " 'H W': 'HISPANIC',\n",
       " 'H-HISPANIC': 'HISPANIC',\n",
       " 'H.S': 'HISPANIC',\n",
       " 'H/ W': 'HISPANIC',\n",
       " 'H/ WHITE': 'HISPANIC',\n",
       " 'H/B': 'HISPANIC',\n",
       " 'H/M': 'ND',\n",
       " 'H/W': 'HISPANIC',\n",
       " 'HAT': 'ND',\n",
       " 'HI': 'HISPANIC',\n",
       " 'HINDU': 'ASIAN',\n",
       " 'HIPANI': 'HISPANIC',\n",
       " 'HIPS': 'HISPANIC',\n",
       " 'HIS': 'HISPANIC',\n",
       " 'HIS, WHT': 'HISPANIC',\n",
       " 'HIS/B': 'HISPANIC',\n",
       " 'HIS/W': 'HISPANIC',\n",
       " 'HIS/WHT': 'HISPANIC',\n",
       " 'HISC': 'HISPANIC',\n",
       " 'HISP': 'HISPANIC',\n",
       " 'HISP-WHT': 'HISPANIC',\n",
       " 'HISP/BLACK': 'HISPANIC',\n",
       " 'HISP/BLK': 'HISPANIC',\n",
       " 'HISP/W': 'HISPANIC',\n",
       " 'HISP/WHT': 'HISPANIC',\n",
       " 'HISPA': 'HISPANIC',\n",
       " 'HISPAN': 'HISPANIC',\n",
       " 'HISPANI': 'HISPANIC',\n",
       " 'HISPANIC': 'HISPANIC',\n",
       " 'HISPANIC WHITE': 'HISPANIC',\n",
       " 'HISPANIC-WHITE': 'HISPANIC',\n",
       " 'HISPANIC/WHITE': 'HISPANIC',\n",
       " 'HLS': 'ND',\n",
       " 'HN': 'HISPANIC',\n",
       " 'HSP': 'HISPANIC',\n",
       " 'HW': 'HISPANIC',\n",
       " 'I': 'ND',\n",
       " 'ILLEGIBLE': 'ILLEGIBLE',\n",
       " 'ILLEGIBLE/HISP': 'HISPANIC',\n",
       " 'IND': 'ND',\n",
       " 'INDIAN': 'ND',\n",
       " 'ITALIAN': 'ND',\n",
       " 'K-9': 'ND',\n",
       " 'L': 'HISPANIC',\n",
       " 'L/W': 'HISPANIC',\n",
       " 'LATIN': 'HISPANIC',\n",
       " 'LATINO': 'HISPANIC',\n",
       " 'LIEUTENANT': 'ND',\n",
       " 'M': 'ND',\n",
       " 'M EAST': 'OTHER',\n",
       " 'MALE': 'ND',\n",
       " 'ME': 'ND',\n",
       " 'MEX': 'ND',\n",
       " 'MID EAST': 'OTHER',\n",
       " 'MIDDLE EASTERN': 'OTHER',\n",
       " 'MIX': 'MIXED',\n",
       " 'MIXED': 'MIXED',\n",
       " 'MULTI': 'MIXED',\n",
       " 'N': 'ND',\n",
       " 'NAT': 'NATIVE AMERICAN',\n",
       " 'NAT. AMER': 'NATIVE AMERICAN',\n",
       " 'NAT.AMER': 'NATIVE AMERICAN',\n",
       " 'NATIVE AMERICAN/ASIAN': 'MIXED',\n",
       " 'NEG': 'ND',\n",
       " 'NON-HISPANIC-W': 'WHITE',\n",
       " 'NOT LISTED': 'ND',\n",
       " 'O': 'ND',\n",
       " 'OFFICER': 'ND',\n",
       " 'ORIENTAL/PACIFIC ISLANDER': 'ASIAN/PACIFIC ISLANDER',\n",
       " 'OTHER': 'OTHER',\n",
       " 'OTHER HISPANIC': 'HISPANIC',\n",
       " 'OTHER-HISPANIC': 'HISPANIC',\n",
       " 'P': 'ND',\n",
       " 'P-NATIVE HAWAIIAN OR OTHER PACIFIC ISLANDER': 'PACIFIC ISLANDER',\n",
       " 'PA': 'ND',\n",
       " 'PAC ISL': 'PACIFIC ISLANDER',\n",
       " 'PACIFIC ISLANDER': 'PACIFIC ISLANDER',\n",
       " 'PACIFIC/ASIAN': 'ASIAN/PACIFIC ISLANDER',\n",
       " 'PATROLMAN': 'ND',\n",
       " 'PO': 'ND',\n",
       " 'PORTUGUESE': 'ND',\n",
       " 'PR': 'ND',\n",
       " 'PT': 'ND',\n",
       " 'PTL': 'ND',\n",
       " 'PUERTO RICAN': 'ND',\n",
       " 'Q': 'ND',\n",
       " 'R': 'ND',\n",
       " 'REDACTED': 'REDACTED',\n",
       " 'S': 'ND',\n",
       " 'SERGEANT': 'ND',\n",
       " 'SOUTH ASIAN': 'ASIAN',\n",
       " 'SP': 'HISPANIC',\n",
       " 'SPANIS': 'HISPANIC',\n",
       " 'SPN': 'HISPANIC',\n",
       " 'SPN/BLK': 'HISPANIC',\n",
       " 'TURK': 'ND',\n",
       " 'U': 'ND',\n",
       " 'UNK': 'UNKNOWN',\n",
       " 'UNKNOWN': 'ND',\n",
       " 'W': 'WHITE',\n",
       " 'W (H)': 'HISPANIC',\n",
       " 'W (HISP)': 'HISPANIC',\n",
       " 'W / HISP': 'HISPANIC',\n",
       " 'W HISP': 'HISPANIC',\n",
       " 'W N/H': 'WHITE',\n",
       " 'W W/H': 'HISPANIC',\n",
       " 'W(H)': 'HISPANIC',\n",
       " 'W, HISP': 'HISPANIC',\n",
       " 'W-H': 'HISPANIC',\n",
       " 'W-HIS': 'HISPANIC',\n",
       " 'W-HISP': 'HISPANIC',\n",
       " 'W-NOT HISP': 'WHITE',\n",
       " 'W-WHITE': 'WHITE',\n",
       " 'W.H': 'HISPANIC',\n",
       " 'W/ HISP': 'HISPANIC',\n",
       " 'W/A': 'ND',\n",
       " 'W/B': 'MIXED',\n",
       " 'W/F': 'WHITE',\n",
       " 'W/H': 'HISPANIC',\n",
       " 'W/H HISP': 'HISPANIC',\n",
       " 'W/HIS': 'HISPANIC',\n",
       " 'W/HISP': 'HISPANIC',\n",
       " 'W/M': 'WHITE',\n",
       " 'W/N': 'WHITE',\n",
       " 'W/NH': 'WHITE',\n",
       " 'WAT': 'ND',\n",
       " 'WH': 'WHITE',\n",
       " 'WH-HISP': 'HISPANIC',\n",
       " 'WH/H': 'HISPANIC',\n",
       " 'WHI': 'HISPANIC',\n",
       " 'WHIS': 'HISPANIC',\n",
       " 'WHIT': 'WHITE',\n",
       " 'WHITE': 'WHITE',\n",
       " 'WHITE - NOT HISP.': 'WHITE',\n",
       " 'WHITE / HISP.': 'HISPANIC',\n",
       " 'WHITE / NOT HISP': 'WHITE',\n",
       " 'WHITE / NOT HISP.': 'WHITE',\n",
       " 'WHITE HISP': 'HISPANIC',\n",
       " 'WHITE HISPAN': 'HISPANIC',\n",
       " 'WHITE HISPANIC': 'HISPANIC',\n",
       " 'WHITE, HISPANIC': 'HISPANIC',\n",
       " 'WHITE-HIS': 'HISPANIC',\n",
       " 'WHITE-HISPANIC': 'HISPANIC',\n",
       " 'WHITE-NOT HISP': 'WHITE',\n",
       " 'WHITE-NOT HISP.': 'WHITE',\n",
       " 'WHITE/ HISP': 'HISPANIC',\n",
       " 'WHITE/ NOT HISP.': 'WHITE',\n",
       " 'WHITE/ASIAN': 'MIXED',\n",
       " 'WHITE/H': 'HISPANIC',\n",
       " 'WHITE/HIS': 'HISPANIC',\n",
       " 'WHITE/HISPANIC': 'HISPANIC',\n",
       " 'WHITE/NH': 'WHITE',\n",
       " 'WHITE/NOT HISP': 'WHITE',\n",
       " 'WHT': 'WHITE',\n",
       " 'WHT / HISP': 'HISPANIC',\n",
       " 'WHT.': 'WHITE',\n",
       " 'WHT/A.S': 'MIXED',\n",
       " 'WHT/H': 'HISPANIC',\n",
       " 'WHT/HIS': 'HISPANIC',\n",
       " 'WHT/HISP': 'HISPANIC',\n",
       " 'WHTIE': 'WHITE',\n",
       " 'WI': 'WHITE',\n",
       " 'WT': 'WHITE',\n",
       " 'WT (HISP)': 'HISPANIC',\n",
       " 'WT HIS': 'HISPANIC',\n",
       " 'WT/HI': 'HISPANIC',\n",
       " 'WT/HP': 'HISPANIC',\n",
       " 'WT/HSP': 'HISPANIC'}"
      ]
     },
     "execution_count": 72,
     "metadata": {},
     "output_type": "execute_result"
    }
   ],
   "source": [
    "standard_race"
   ]
  },
  {
   "cell_type": "markdown",
   "metadata": {},
   "source": [
    "#### Then mapped the category, creating extra columns for each"
   ]
  },
  {
   "cell_type": "code",
   "execution_count": 73,
   "metadata": {
    "collapsed": false
   },
   "outputs": [],
   "source": [
    "df['Officer_1_race_st'] = df['Officer_1_race'].map(standard_race)\n",
    "df['Officer_2_race_st'] = df['Officer_2_race'].map(standard_race)\n",
    "df['Officer_3_race_st'] = df['Officer_3_race'].map(standard_race)\n",
    "df['Officer_1_race_sep'] = df['Officer_1_race'].map(sep_race)\n",
    "df['Officer_2_race_sep'] = df['Officer_2_race'].map(sep_race)\n",
    "df['Officer_3_race_sep'] = df['Officer_3_race'].map(sep_race)\n",
    "df['Officer_1_eth_sep'] = df['Officer_1_race'].map(sep_eth)\n",
    "df['Officer_2_eth_sep'] = df['Officer_2_race'].map(sep_eth)\n",
    "df['Officer_3_eth_sep'] = df['Officer_3_race'].map(sep_eth)"
   ]
  },
  {
   "cell_type": "code",
   "execution_count": 74,
   "metadata": {
    "collapsed": false,
    "scrolled": true
   },
   "outputs": [
    {
     "name": "stdout",
     "output_type": "stream",
     "text": [
      "Percent of racial values covered: 0.99965943921\n"
     ]
    }
   ],
   "source": [
    "print \"Percent of racial values covered:\" , float(df.Officer_1_race_st.count()) / float(df.Officer_1_race.count())"
   ]
  },
  {
   "cell_type": "code",
   "execution_count": 75,
   "metadata": {
    "collapsed": false
   },
   "outputs": [
    {
     "name": "stdout",
     "output_type": "stream",
     "text": [
      "Number of rows with separate racial and ethnic values for 1st officer:  620\n"
     ]
    }
   ],
   "source": [
    "print \"Number of rows with separate racial and ethnic values for 1st officer: \", df.Officer_1_eth_sep.count()"
   ]
  },
  {
   "cell_type": "code",
   "execution_count": 76,
   "metadata": {
    "collapsed": false,
    "scrolled": true
   },
   "outputs": [
    {
     "data": {
      "text/plain": [
       "N/A      17\n",
       "5-JAN     1\n",
       "Name: Officer_1_race, dtype: int64"
      ]
     },
     "execution_count": 76,
     "metadata": {},
     "output_type": "execute_result"
    }
   ],
   "source": [
    "# Remaining racial categories to define\n",
    "df[df.Officer_1_race_st.isnull() == True]['Officer_1_race'].value_counts()"
   ]
  },
  {
   "cell_type": "markdown",
   "metadata": {},
   "source": [
    "#### Preliminary racial breakdown of first officer"
   ]
  },
  {
   "cell_type": "code",
   "execution_count": 77,
   "metadata": {
    "collapsed": false
   },
   "outputs": [
    {
     "data": {
      "text/plain": [
       "WHITE                     43460\n",
       "BLACK                      4512\n",
       "HISPANIC                   3989\n",
       "ASIAN                       550\n",
       "ASIAN/PACIFIC ISLANDER      125\n",
       "ND                           88\n",
       "OTHER                        42\n",
       "MIXED                        27\n",
       "ILLEGIBLE                    25\n",
       "UNKNOWN                       8\n",
       "NATIVE AMERICAN               7\n",
       "PACIFIC ISLANDER              3\n",
       "Name: Officer_1_race_st, dtype: int64"
      ]
     },
     "execution_count": 77,
     "metadata": {},
     "output_type": "execute_result"
    }
   ],
   "source": [
    "df.Officer_1_race_st.value_counts()"
   ]
  },
  {
   "cell_type": "code",
   "execution_count": 78,
   "metadata": {
    "collapsed": false
   },
   "outputs": [
    {
     "name": "stdout",
     "output_type": "stream",
     "text": [
      "Total number of columns with completed race 52836\n"
     ]
    }
   ],
   "source": [
    "print \"Total number of columns with completed race\", df.Officer_1_race_st.count()"
   ]
  },
  {
   "cell_type": "markdown",
   "metadata": {},
   "source": [
    "Officer badge no. is fairly straightforward, so skipped ahead "
   ]
  },
  {
   "cell_type": "markdown",
   "metadata": {},
   "source": [
    "### Officer injuries and deaths"
   ]
  },
  {
   "cell_type": "markdown",
   "metadata": {},
   "source": [
    "#### For each one, quickly replaced first officer category mistakes"
   ]
  },
  {
   "cell_type": "code",
   "execution_count": 79,
   "metadata": {
    "collapsed": true
   },
   "outputs": [],
   "source": [
    "df.Officer_1_injured = df.Officer_1_injured.replace(to_replace='N/A  or not listed', value='N/A or not listed')"
   ]
  },
  {
   "cell_type": "code",
   "execution_count": 80,
   "metadata": {
    "collapsed": false
   },
   "outputs": [
    {
     "data": {
      "text/plain": [
       "No                   64508\n",
       "Yes                   6646\n",
       "N/A or not listed     1331\n",
       "Name: Officer_1_injured, dtype: int64"
      ]
     },
     "execution_count": 80,
     "metadata": {},
     "output_type": "execute_result"
    }
   ],
   "source": [
    "df.Officer_1_injured.value_counts()"
   ]
  },
  {
   "cell_type": "code",
   "execution_count": 81,
   "metadata": {
    "collapsed": false
   },
   "outputs": [
    {
     "data": {
      "text/plain": [
       "N/A or not listed    12361\n",
       "No                     437\n",
       "Yes                     46\n",
       "Name: Officer_2_injured, dtype: int64"
      ]
     },
     "execution_count": 81,
     "metadata": {},
     "output_type": "execute_result"
    }
   ],
   "source": [
    "df.Officer_2_injured.value_counts()"
   ]
  },
  {
   "cell_type": "code",
   "execution_count": 82,
   "metadata": {
    "collapsed": false,
    "scrolled": true
   },
   "outputs": [
    {
     "data": {
      "text/plain": [
       "N/A or not listed    12657\n",
       "No                     169\n",
       "Yes                     18\n",
       "Name: Officer_3_injured, dtype: int64"
      ]
     },
     "execution_count": 82,
     "metadata": {},
     "output_type": "execute_result"
    }
   ],
   "source": [
    "df.Officer_3_injured.value_counts()"
   ]
  },
  {
   "cell_type": "code",
   "execution_count": 83,
   "metadata": {
    "collapsed": true
   },
   "outputs": [],
   "source": [
    "df.Officer_1_hosp = df.Officer_1_hosp.replace(to_replace='N/A or Not listed', value='N/A or not listed')"
   ]
  },
  {
   "cell_type": "code",
   "execution_count": 84,
   "metadata": {
    "collapsed": false
   },
   "outputs": [
    {
     "data": {
      "text/plain": [
       "N/A or not listed    49519\n",
       "No                   21742\n",
       "Yes                   1224\n",
       "Name: Officer_1_hosp, dtype: int64"
      ]
     },
     "execution_count": 84,
     "metadata": {},
     "output_type": "execute_result"
    }
   ],
   "source": [
    "df.Officer_1_hosp.value_counts()"
   ]
  },
  {
   "cell_type": "code",
   "execution_count": 85,
   "metadata": {
    "collapsed": false
   },
   "outputs": [
    {
     "data": {
      "text/plain": [
       "N/A or not listed    12361\n",
       "No                     447\n",
       "Yes                     36\n",
       "Name: Officer_2_hosp, dtype: int64"
      ]
     },
     "execution_count": 85,
     "metadata": {},
     "output_type": "execute_result"
    }
   ],
   "source": [
    "df.Officer_2_hosp.value_counts()"
   ]
  },
  {
   "cell_type": "code",
   "execution_count": 86,
   "metadata": {
    "collapsed": false
   },
   "outputs": [
    {
     "data": {
      "text/plain": [
       "N/A or not listed    12657\n",
       "No                     167\n",
       "Yes                     20\n",
       "Name: Officer_3_hosp, dtype: int64"
      ]
     },
     "execution_count": 86,
     "metadata": {},
     "output_type": "execute_result"
    }
   ],
   "source": [
    "df.Officer_3_hosp.value_counts()"
   ]
  },
  {
   "cell_type": "code",
   "execution_count": 87,
   "metadata": {
    "collapsed": true
   },
   "outputs": [],
   "source": [
    "df.Officer_1_killed = df.Officer_1_killed.replace(to_replace=['N/A  or not listed', 'N/A or Not listed'], value='N/A or not listed')"
   ]
  },
  {
   "cell_type": "code",
   "execution_count": 88,
   "metadata": {
    "collapsed": false
   },
   "outputs": [
    {
     "data": {
      "text/plain": [
       "No                   51930\n",
       "N/A or not listed    20493\n",
       "Yes                     62\n",
       "Name: Officer_1_killed, dtype: int64"
      ]
     },
     "execution_count": 88,
     "metadata": {},
     "output_type": "execute_result"
    }
   ],
   "source": [
    "df.Officer_1_killed.value_counts()"
   ]
  },
  {
   "cell_type": "code",
   "execution_count": 89,
   "metadata": {
    "collapsed": false
   },
   "outputs": [
    {
     "data": {
      "text/plain": [
       "N/A or not listed    12553\n",
       "No                     289\n",
       "Yes                      2\n",
       "Name: Officer_2_killed, dtype: int64"
      ]
     },
     "execution_count": 89,
     "metadata": {},
     "output_type": "execute_result"
    }
   ],
   "source": [
    "df.Officer_2_killed.value_counts()"
   ]
  },
  {
   "cell_type": "code",
   "execution_count": 90,
   "metadata": {
    "collapsed": false
   },
   "outputs": [
    {
     "data": {
      "text/plain": [
       "N/A or not listed    12757\n",
       "No                      85\n",
       "Yes                      2\n",
       "Name: Officer_3_killed, dtype: int64"
      ]
     },
     "execution_count": 90,
     "metadata": {},
     "output_type": "execute_result"
    }
   ],
   "source": [
    "df.Officer_3_killed.value_counts()"
   ]
  },
  {
   "cell_type": "markdown",
   "metadata": {},
   "source": [
    "<a id='supervisor'></a>\n",
    "\n",
    "## Supervisor stuff\n",
    "\n",
    "[Back to the top](#table_of_contents)"
   ]
  },
  {
   "cell_type": "markdown",
   "metadata": {},
   "source": [
    "#### First & last name"
   ]
  },
  {
   "cell_type": "code",
   "execution_count": 91,
   "metadata": {
    "collapsed": true
   },
   "outputs": [],
   "source": [
    "df.Supervisor_first = df.Supervisor_first.str.title()"
   ]
  },
  {
   "cell_type": "code",
   "execution_count": 92,
   "metadata": {
    "collapsed": false
   },
   "outputs": [
    {
     "data": {
      "text/plain": [
       "array(['Steve', 'Joseph', 'James', ..., 'Paulo', 'Mcdonald', 'Catalino'], dtype=object)"
      ]
     },
     "execution_count": 92,
     "metadata": {},
     "output_type": "execute_result"
    }
   ],
   "source": [
    "df.Supervisor_first.unique()"
   ]
  },
  {
   "cell_type": "code",
   "execution_count": 93,
   "metadata": {
    "collapsed": true
   },
   "outputs": [],
   "source": [
    "df.Supervisor_last = df.Supervisor_last.str.title()"
   ]
  },
  {
   "cell_type": "code",
   "execution_count": 94,
   "metadata": {
    "collapsed": false
   },
   "outputs": [
    {
     "data": {
      "text/plain": [
       "array(['Hollyfield', 'Cieri', 'Morton', ..., 'Meagher', 'Gural', 'Alago'], dtype=object)"
      ]
     },
     "execution_count": 94,
     "metadata": {},
     "output_type": "execute_result"
    }
   ],
   "source": [
    "df.Supervisor_last.unique()"
   ]
  },
  {
   "cell_type": "markdown",
   "metadata": {},
   "source": [
    "#### Badge no. Fairly straightforward"
   ]
  },
  {
   "cell_type": "code",
   "execution_count": 95,
   "metadata": {
    "collapsed": false
   },
   "outputs": [
    {
     "data": {
      "text/plain": [
       "array(['421', '422', '426', ..., 'A747', 'S281', '0072'], dtype=object)"
      ]
     },
     "execution_count": 95,
     "metadata": {},
     "output_type": "execute_result"
    }
   ],
   "source": [
    "df.Supervisor_badge_no.unique()"
   ]
  },
  {
   "cell_type": "markdown",
   "metadata": {},
   "source": [
    "#### Signature: All clean"
   ]
  },
  {
   "cell_type": "code",
   "execution_count": 96,
   "metadata": {
    "collapsed": false
   },
   "outputs": [
    {
     "data": {
      "text/plain": [
       "Yes    47920\n",
       "No     24565\n",
       "Name: Supervisor_signed, dtype: int64"
      ]
     },
     "execution_count": 96,
     "metadata": {},
     "output_type": "execute_result"
    }
   ],
   "source": [
    "df.Supervisor_signed.value_counts()"
   ]
  },
  {
   "cell_type": "markdown",
   "metadata": {},
   "source": [
    "<a id='subject_profile'></a>\n",
    "\n",
    "## Subject profile\n",
    "\n",
    "[Back to the top](#table_of_contents)"
   ]
  },
  {
   "cell_type": "markdown",
   "metadata": {},
   "source": [
    "### Name & age"
   ]
  },
  {
   "cell_type": "markdown",
   "metadata": {},
   "source": [
    "#### Put last and first in correct caps"
   ]
  },
  {
   "cell_type": "code",
   "execution_count": 97,
   "metadata": {
    "collapsed": false
   },
   "outputs": [],
   "source": [
    "df.Subject_1_first = df.Subject_1_first.str.title()\n",
    "df.Subject_1_last = df.Subject_1_last.str.title()\n",
    "df.Subject_2_first = df.Subject_2_first.str.title()\n",
    "df.Subject_2_last = df.Subject_2_last.str.title()\n",
    "df.Subject_3_first = df.Subject_3_first.str.title()\n",
    "df.Subject_3_last = df.Subject_3_last.str.title()"
   ]
  },
  {
   "cell_type": "code",
   "execution_count": 98,
   "metadata": {
    "collapsed": false
   },
   "outputs": [],
   "source": [
    "df.Subject_1_age = df.Subject_1_age.str.upper()"
   ]
  },
  {
   "cell_type": "code",
   "execution_count": 99,
   "metadata": {
    "collapsed": false,
    "scrolled": true
   },
   "outputs": [
    {
     "data": {
      "text/plain": [
       "22       3316\n",
       "21       3277\n",
       "23       3234\n",
       "25       3045\n",
       "24       2848\n",
       "26       2745\n",
       "20       2695\n",
       "27       2571\n",
       "19       2565\n",
       "28       2435\n",
       "BLANK    2252\n",
       "18       2237\n",
       "30       2149\n",
       "29       2023\n",
       "31       1877\n",
       "32       1782\n",
       "34       1723\n",
       "33       1695\n",
       "17       1604\n",
       "35       1513\n",
       "36       1303\n",
       "37       1299\n",
       "16       1267\n",
       "38       1129\n",
       "39       1023\n",
       "41       1017\n",
       "40        959\n",
       "42        954\n",
       "47        944\n",
       "46        935\n",
       "         ... \n",
       "91         10\n",
       "89          8\n",
       "85          8\n",
       "82          7\n",
       "7           7\n",
       "88          6\n",
       "92          5\n",
       "95          3\n",
       "99          3\n",
       "4           3\n",
       "5           3\n",
       "2           2\n",
       "93          2\n",
       "18-25       2\n",
       "123         2\n",
       "21-25       2\n",
       "94          2\n",
       "40-50       1\n",
       "96          1\n",
       "98          1\n",
       "21-30       1\n",
       "285         1\n",
       "15-30       1\n",
       "170         1\n",
       "1           1\n",
       "6           1\n",
       "135         1\n",
       "3           1\n",
       "28.5        1\n",
       "49/54       1\n",
       "Name: Subject_1_age, dtype: int64"
      ]
     },
     "execution_count": 99,
     "metadata": {},
     "output_type": "execute_result"
    }
   ],
   "source": [
    "df.Subject_1_age.value_counts()"
   ]
  },
  {
   "cell_type": "code",
   "execution_count": 100,
   "metadata": {
    "collapsed": false
   },
   "outputs": [],
   "source": [
    "df.Subject_1_age = df.Subject_1_age.replace(to_replace=['123','135', '170', '285'], value=np.nan)"
   ]
  },
  {
   "cell_type": "code",
   "execution_count": 101,
   "metadata": {
    "collapsed": false
   },
   "outputs": [
    {
     "name": "stdout",
     "output_type": "stream",
     "text": [
      "Percent of age values that are numeric: 0.957270971302\n"
     ]
    }
   ],
   "source": [
    "age = pd.DataFrame(pd.to_numeric(df.Subject_1_age, errors=coerce))\n",
    "\n",
    "print \"Percent of age values that are numeric:\", float(age.count()) / float(df.Subject_1_age.count())"
   ]
  },
  {
   "cell_type": "markdown",
   "metadata": {},
   "source": [
    "### Sex"
   ]
  },
  {
   "cell_type": "code",
   "execution_count": 102,
   "metadata": {
    "collapsed": false
   },
   "outputs": [
    {
     "data": {
      "text/plain": [
       "Male            57900\n",
       "Female          13200\n",
       "Not listed       1152\n",
       "REDACTED          223\n",
       "ILLEGIBLE           5\n",
       "Male, Female        2\n",
       "Unk                 2\n",
       "Male/Female         1\n",
       "Name: Subject_1_sex, dtype: int64"
      ]
     },
     "execution_count": 102,
     "metadata": {},
     "output_type": "execute_result"
    }
   ],
   "source": [
    "df.Subject_1_sex.value_counts()"
   ]
  },
  {
   "cell_type": "code",
   "execution_count": 103,
   "metadata": {
    "collapsed": false
   },
   "outputs": [
    {
     "data": {
      "text/plain": [
       "Not listed       70632\n",
       "Male              1272\n",
       "Female             504\n",
       "Not Listed          66\n",
       "REDACTED             8\n",
       "M                    1\n",
       "Male & Female        1\n",
       "Name: Subject_2_sex, dtype: int64"
      ]
     },
     "execution_count": 103,
     "metadata": {},
     "output_type": "execute_result"
    }
   ],
   "source": [
    "df.Subject_2_sex.value_counts()"
   ]
  },
  {
   "cell_type": "code",
   "execution_count": 104,
   "metadata": {
    "collapsed": true
   },
   "outputs": [],
   "source": [
    "df.Subject_2_sex = df.Subject_2_sex.replace(to_replace='M', value='Male')"
   ]
  },
  {
   "cell_type": "code",
   "execution_count": 105,
   "metadata": {
    "collapsed": false
   },
   "outputs": [
    {
     "data": {
      "text/plain": [
       "Not listed    12759\n",
       "Male             69\n",
       "Female           15\n",
       "REDACTED          1\n",
       "Name: Subject_3_sex, dtype: int64"
      ]
     },
     "execution_count": 105,
     "metadata": {},
     "output_type": "execute_result"
    }
   ],
   "source": [
    "df.Subject_3_sex.value_counts()"
   ]
  },
  {
   "cell_type": "markdown",
   "metadata": {},
   "source": [
    "### Race"
   ]
  },
  {
   "cell_type": "markdown",
   "metadata": {},
   "source": [
    "#### Used existing dictionary from above to map values"
   ]
  },
  {
   "cell_type": "code",
   "execution_count": 106,
   "metadata": {
    "collapsed": true
   },
   "outputs": [],
   "source": [
    "df['Subject_1_race_st'] = df['Subject_1_race'].map(standard_race)\n",
    "df['Subject_2_race_st'] = df['Subject_2_race'].map(standard_race)\n",
    "df['Subject_3_race_st'] = df['Subject_3_race'].map(standard_race)\n",
    "df['Subject_1_race_sep'] = df['Subject_1_race'].map(sep_race)\n",
    "df['Subject_2_race_sep'] = df['Subject_2_race'].map(sep_race)\n",
    "df['Subject_3_race_sep'] = df['Subject_3_race'].map(sep_race)\n",
    "df['Subject_1_eth_sep'] = df['Subject_1_race'].map(sep_eth)\n",
    "df['Subject_2_eth_sep'] = df['Subject_2_race'].map(sep_eth)\n",
    "df['Subject_3_eth_sep'] = df['Subject_3_race'].map(sep_eth)"
   ]
  },
  {
   "cell_type": "code",
   "execution_count": 107,
   "metadata": {
    "collapsed": false,
    "scrolled": true
   },
   "outputs": [
    {
     "name": "stdout",
     "output_type": "stream",
     "text": [
      "Percent of racial values covered: 0.999901377892\n"
     ]
    }
   ],
   "source": [
    "print \"Percent of racial values covered:\", float(df['Subject_1_race_st'].count()) / float(df.Subject_1_race.count())"
   ]
  },
  {
   "cell_type": "code",
   "execution_count": 108,
   "metadata": {
    "collapsed": false
   },
   "outputs": [
    {
     "data": {
      "text/plain": [
       "5-JAN    4\n",
       "2-JAN    3\n",
       "Name: Subject_1_race, dtype: int64"
      ]
     },
     "execution_count": 108,
     "metadata": {},
     "output_type": "execute_result"
    }
   ],
   "source": [
    "df[df['Subject_1_race_st'].isnull() == True].Subject_1_race.value_counts()"
   ]
  },
  {
   "cell_type": "markdown",
   "metadata": {},
   "source": [
    "#### Breakdown of subject race"
   ]
  },
  {
   "cell_type": "code",
   "execution_count": 109,
   "metadata": {
    "collapsed": false
   },
   "outputs": [
    {
     "data": {
      "text/plain": [
       "WHITE                     34214\n",
       "BLACK                     28641\n",
       "HISPANIC                   6810\n",
       "ASIAN                       438\n",
       "ND                          305\n",
       "REDACTED                    249\n",
       "ASIAN/PACIFIC ISLANDER      186\n",
       "OTHER                        35\n",
       "NATIVE AMERICAN              24\n",
       "ILLEGIBLE                    24\n",
       "PACIFIC ISLANDER             20\n",
       "UNKNOWN                      18\n",
       "MIXED                         6\n",
       "DEER                          1\n",
       "Name: Subject_1_race_st, dtype: int64"
      ]
     },
     "execution_count": 109,
     "metadata": {},
     "output_type": "execute_result"
    }
   ],
   "source": [
    "df['Subject_1_race_st'].value_counts()"
   ]
  },
  {
   "cell_type": "code",
   "execution_count": 110,
   "metadata": {
    "collapsed": false
   },
   "outputs": [
    {
     "data": {
      "text/plain": [
       "70971"
      ]
     },
     "execution_count": 110,
     "metadata": {},
     "output_type": "execute_result"
    }
   ],
   "source": [
    "df['Subject_1_race_st'].count()"
   ]
  },
  {
   "cell_type": "code",
   "execution_count": 111,
   "metadata": {
    "collapsed": false
   },
   "outputs": [
    {
     "name": "stdout",
     "output_type": "stream",
     "text": [
      "Number of first subject rows with separate racial, ethnic categories: 1685\n"
     ]
    }
   ],
   "source": [
    "print \"Number of first subject rows with separate racial, ethnic categories:\" , df['Subject_1_eth_sep'].count()"
   ]
  },
  {
   "cell_type": "markdown",
   "metadata": {},
   "source": [
    "<a id='the_event'></a>\n",
    "\n",
    "## The event\n",
    "\n",
    "[Back to the top](#table_of_contents)"
   ]
  },
  {
   "cell_type": "markdown",
   "metadata": {},
   "source": [
    "### Subject actions"
   ]
  },
  {
   "cell_type": "code",
   "execution_count": 112,
   "metadata": {
    "collapsed": false,
    "scrolled": true
   },
   "outputs": [
    {
     "data": {
      "text/html": [
       "<div>\n",
       "<table border=\"1\" class=\"dataframe\">\n",
       "  <thead>\n",
       "    <tr style=\"text-align: right;\">\n",
       "      <th></th>\n",
       "      <th>Subject_1_actions</th>\n",
       "    </tr>\n",
       "  </thead>\n",
       "  <tbody>\n",
       "    <tr>\n",
       "      <th>Resisted police officer control</th>\n",
       "      <td>36444</td>\n",
       "    </tr>\n",
       "    <tr>\n",
       "      <th>Resisted police officer control, Physical threat/attack officer or another -- Self-defense</th>\n",
       "      <td>19788</td>\n",
       "    </tr>\n",
       "    <tr>\n",
       "      <th>Physical threat/attack officer or another -- Self-defense</th>\n",
       "      <td>2109</td>\n",
       "    </tr>\n",
       "    <tr>\n",
       "      <th>Resisted police officer control, Effect an arrest</th>\n",
       "      <td>842</td>\n",
       "    </tr>\n",
       "    <tr>\n",
       "      <th>Resisted police officer control, Physical threat/attack officer or another -- Self-defense, Threatened/attacked officer or another with a blunt object</th>\n",
       "      <td>411</td>\n",
       "    </tr>\n",
       "    <tr>\n",
       "      <th>Resisted police officer control, Physical threat/attack officer or another -- Self-defense, Effect an arrest</th>\n",
       "      <td>345</td>\n",
       "    </tr>\n",
       "    <tr>\n",
       "      <th>Resisted police officer control, Physical threat/attack officer or another -- Self-defense, Threatened/attacked officer or another with a blunt knife/ cutting object</th>\n",
       "      <td>316</td>\n",
       "    </tr>\n",
       "    <tr>\n",
       "      <th>Resisted police officer control, Threatened/attacked officer or another with a blunt knife/ cutting object</th>\n",
       "      <td>199</td>\n",
       "    </tr>\n",
       "    <tr>\n",
       "      <th>Resisted police officer control, Threatened/ attacked officer or another with a motor vehicle</th>\n",
       "      <td>162</td>\n",
       "    </tr>\n",
       "    <tr>\n",
       "      <th>Resisted police officer control, Physical threat/attack officer or another -- Self-defense, Threatened officer or another with firearm</th>\n",
       "      <td>157</td>\n",
       "    </tr>\n",
       "    <tr>\n",
       "      <th>Resisted police officer control, Physical threat/attack officer or another -- Self-defense, Threatened/ attacked officer or another with a motor vehicle</th>\n",
       "      <td>138</td>\n",
       "    </tr>\n",
       "    <tr>\n",
       "      <th>Threatened/attacked officer or another with a blunt knife/ cutting object</th>\n",
       "      <td>126</td>\n",
       "    </tr>\n",
       "    <tr>\n",
       "      <th>Other</th>\n",
       "      <td>111</td>\n",
       "    </tr>\n",
       "    <tr>\n",
       "      <th>Resisted police officer control, Threatened officer or another with firearm</th>\n",
       "      <td>107</td>\n",
       "    </tr>\n",
       "    <tr>\n",
       "      <th>Resisted police officer control, Threatened/attacked officer or another with a blunt object</th>\n",
       "      <td>107</td>\n",
       "    </tr>\n",
       "    <tr>\n",
       "      <th>Injured Deer</th>\n",
       "      <td>98</td>\n",
       "    </tr>\n",
       "    <tr>\n",
       "      <th>Threatened officer or another with firearm</th>\n",
       "      <td>96</td>\n",
       "    </tr>\n",
       "    <tr>\n",
       "      <th>Threatened/ attacked officer or another with a motor vehicle</th>\n",
       "      <td>79</td>\n",
       "    </tr>\n",
       "    <tr>\n",
       "      <th>Resisted police officer control, Restrain for safety</th>\n",
       "      <td>73</td>\n",
       "    </tr>\n",
       "    <tr>\n",
       "      <th>Alcohol-Influence</th>\n",
       "      <td>67</td>\n",
       "    </tr>\n",
       "    <tr>\n",
       "      <th>Resisted police officer control, Fled on foot</th>\n",
       "      <td>58</td>\n",
       "    </tr>\n",
       "    <tr>\n",
       "      <th>Resisted police officer control, Resisting by Flight</th>\n",
       "      <td>46</td>\n",
       "    </tr>\n",
       "    <tr>\n",
       "      <th>Alcohol - Influence</th>\n",
       "      <td>45</td>\n",
       "    </tr>\n",
       "    <tr>\n",
       "      <th>Sober</th>\n",
       "      <td>44</td>\n",
       "    </tr>\n",
       "    <tr>\n",
       "      <th>Resisted police officer control, Physical threat/attack officer or another -- Self-defense, Threatened/attacked officer or another with a blunt object, Threatened/attacked officer or another with a blunt knife/ cutting object</th>\n",
       "      <td>42</td>\n",
       "    </tr>\n",
       "    <tr>\n",
       "      <th>Resisted police officer control, Fled on Foot</th>\n",
       "      <td>40</td>\n",
       "    </tr>\n",
       "    <tr>\n",
       "      <th>Physical threat/attack officer or another -- Self-defense, Threatened/attacked officer or another with a blunt knife/ cutting object</th>\n",
       "      <td>39</td>\n",
       "    </tr>\n",
       "    <tr>\n",
       "      <th>ILLEGIBLE</th>\n",
       "      <td>38</td>\n",
       "    </tr>\n",
       "    <tr>\n",
       "      <th>Injured deer</th>\n",
       "      <td>36</td>\n",
       "    </tr>\n",
       "    <tr>\n",
       "      <th>Physical threat/attack officer or another -- Self-defense, Threatened/attacked officer or another with a blunt object</th>\n",
       "      <td>35</td>\n",
       "    </tr>\n",
       "    <tr>\n",
       "      <th>...</th>\n",
       "      <td>...</td>\n",
       "    </tr>\n",
       "    <tr>\n",
       "      <th>Tried walking away from me when told to stop</th>\n",
       "      <td>1</td>\n",
       "    </tr>\n",
       "    <tr>\n",
       "      <th>Refuses to comply w/officers verbal commands</th>\n",
       "      <td>1</td>\n",
       "    </tr>\n",
       "    <tr>\n",
       "      <th>Resisted police officer control, Physical threat/attack officer or another -- Self-defense, Effect an arrest, Thwart crime, Defense of Another</th>\n",
       "      <td>1</td>\n",
       "    </tr>\n",
       "    <tr>\n",
       "      <th>Resisted police officer control, Physical threat/attack officer or another -- Self-defense, Spit On Police Officer</th>\n",
       "      <td>1</td>\n",
       "    </tr>\n",
       "    <tr>\n",
       "      <th>Resisted police officer control, Refused to follow ILLEGIBLE</th>\n",
       "      <td>1</td>\n",
       "    </tr>\n",
       "    <tr>\n",
       "      <th>Resisted police officer control, Physical threat/attack officer or another -- Self-defense, Running from scene</th>\n",
       "      <td>1</td>\n",
       "    </tr>\n",
       "    <tr>\n",
       "      <th>Resisted police officer control, Physical threat/attack officer or another -- Self-defense, Type of Treat / Attack</th>\n",
       "      <td>1</td>\n",
       "    </tr>\n",
       "    <tr>\n",
       "      <th>Reaching in pockets failing to comply with instruction</th>\n",
       "      <td>1</td>\n",
       "    </tr>\n",
       "    <tr>\n",
       "      <th>Swallowed Object believed to be Narcotics</th>\n",
       "      <td>1</td>\n",
       "    </tr>\n",
       "    <tr>\n",
       "      <th>Resisted police officer control, Prevent destruction of evidence</th>\n",
       "      <td>1</td>\n",
       "    </tr>\n",
       "    <tr>\n",
       "      <th>In possession of pellet gun</th>\n",
       "      <td>1</td>\n",
       "    </tr>\n",
       "    <tr>\n",
       "      <th>Resisted police officer control, Physical threat/attack officer or another -- Self-defense, Had Steak knife in front pocket and attempted to pull it out</th>\n",
       "      <td>1</td>\n",
       "    </tr>\n",
       "    <tr>\n",
       "      <th>Resisted police officer control, Physical threat/attack officer or another -- Self-defense, Threatened to spit on officers</th>\n",
       "      <td>1</td>\n",
       "    </tr>\n",
       "    <tr>\n",
       "      <th>Resisted police officer control, Failed to comply with k9 officers commands</th>\n",
       "      <td>1</td>\n",
       "    </tr>\n",
       "    <tr>\n",
       "      <th>Resisted police officer control, Physical threat/attack officer or another -- Self-defense, Attempted to harm Self</th>\n",
       "      <td>1</td>\n",
       "    </tr>\n",
       "    <tr>\n",
       "      <th>Resisted police officer control, Treated police with physical harm and approached patrols aggressively.</th>\n",
       "      <td>1</td>\n",
       "    </tr>\n",
       "    <tr>\n",
       "      <th>Handgun Formed in Vehicle</th>\n",
       "      <td>1</td>\n",
       "    </tr>\n",
       "    <tr>\n",
       "      <th>Resisted police officer control, Uncooperative intoxicated EDP</th>\n",
       "      <td>1</td>\n",
       "    </tr>\n",
       "    <tr>\n",
       "      <th>Resisted police officer control, ILLEGIBLE officer and hospital staff</th>\n",
       "      <td>1</td>\n",
       "    </tr>\n",
       "    <tr>\n",
       "      <th>Resisted police officer control, Refused to be secured during</th>\n",
       "      <td>1</td>\n",
       "    </tr>\n",
       "    <tr>\n",
       "      <th>Displayed Firearm During, Domestic And Was In The Beginning Stages of Being A Barricaded Subject</th>\n",
       "      <td>1</td>\n",
       "    </tr>\n",
       "    <tr>\n",
       "      <th>Resisted police officer control, Hold feet while getting tide up to the</th>\n",
       "      <td>1</td>\n",
       "    </tr>\n",
       "    <tr>\n",
       "      <th>Physical threat/attack officer or another -- Self-defense, Mental party</th>\n",
       "      <td>1</td>\n",
       "    </tr>\n",
       "    <tr>\n",
       "      <th>Non-compliance to Officer Commands</th>\n",
       "      <td>1</td>\n",
       "    </tr>\n",
       "    <tr>\n",
       "      <th>Resisted police officer control, Effect an arrest, Safety service officer</th>\n",
       "      <td>1</td>\n",
       "    </tr>\n",
       "    <tr>\n",
       "      <th>Resisting arrest specifically by fleeing</th>\n",
       "      <td>1</td>\n",
       "    </tr>\n",
       "    <tr>\n",
       "      <th>Resisted police officer control, Physical threat/attack officer or another -- Self-defense, Kicked officer in the face</th>\n",
       "      <td>1</td>\n",
       "    </tr>\n",
       "    <tr>\n",
       "      <th>Prevented self injury</th>\n",
       "      <td>1</td>\n",
       "    </tr>\n",
       "    <tr>\n",
       "      <th>Resisted police officer control, Physical threat/attack officer or another -- Self-defense, Attacked officer with a rock, kicked and punched officers</th>\n",
       "      <td>1</td>\n",
       "    </tr>\n",
       "    <tr>\n",
       "      <th>EDP Forced to Hospital</th>\n",
       "      <td>1</td>\n",
       "    </tr>\n",
       "  </tbody>\n",
       "</table>\n",
       "<p>6040 rows × 1 columns</p>\n",
       "</div>"
      ],
      "text/plain": [
       "                                                    Subject_1_actions\n",
       "Resisted police officer control                                 36444\n",
       "Resisted police officer control, Physical threa...              19788\n",
       "Physical threat/attack officer or another -- Se...               2109\n",
       "Resisted police officer control, Effect an arrest                 842\n",
       "Resisted police officer control, Physical threa...                411\n",
       "Resisted police officer control, Physical threa...                345\n",
       "Resisted police officer control, Physical threa...                316\n",
       "Resisted police officer control, Threatened/att...                199\n",
       "Resisted police officer control, Threatened/ at...                162\n",
       "Resisted police officer control, Physical threa...                157\n",
       "Resisted police officer control, Physical threa...                138\n",
       "Threatened/attacked officer or another with a b...                126\n",
       "Other                                                             111\n",
       "Resisted police officer control, Threatened off...                107\n",
       "Resisted police officer control, Threatened/att...                107\n",
       "Injured Deer                                                       98\n",
       "Threatened officer or another with firearm                         96\n",
       "Threatened/ attacked officer or another with a ...                 79\n",
       "Resisted police officer control, Restrain for s...                 73\n",
       "Alcohol-Influence                                                  67\n",
       "Resisted police officer control, Fled on foot                      58\n",
       "Resisted police officer control, Resisting by F...                 46\n",
       "Alcohol - Influence                                                45\n",
       "Sober                                                              44\n",
       "Resisted police officer control, Physical threa...                 42\n",
       "Resisted police officer control, Fled on Foot                      40\n",
       "Physical threat/attack officer or another -- Se...                 39\n",
       "ILLEGIBLE                                                          38\n",
       "Injured deer                                                       36\n",
       "Physical threat/attack officer or another -- Se...                 35\n",
       "...                                                               ...\n",
       "Tried walking away from me when told to stop                        1\n",
       "Refuses to comply w/officers verbal commands                        1\n",
       "Resisted police officer control, Physical threa...                  1\n",
       "Resisted police officer control, Physical threa...                  1\n",
       "Resisted police officer control, Refused to fol...                  1\n",
       "Resisted police officer control, Physical threa...                  1\n",
       "Resisted police officer control, Physical threa...                  1\n",
       "Reaching in pockets failing to comply with inst...                  1\n",
       "Swallowed Object believed to be Narcotics                           1\n",
       "Resisted police officer control, Prevent destru...                  1\n",
       "In possession of pellet gun                                         1\n",
       "Resisted police officer control, Physical threa...                  1\n",
       "Resisted police officer control, Physical threa...                  1\n",
       "Resisted police officer control, Failed to comp...                  1\n",
       "Resisted police officer control, Physical threa...                  1\n",
       "Resisted police officer control, Treated police...                  1\n",
       "Handgun Formed in Vehicle                                           1\n",
       "Resisted police officer control, Uncooperative ...                  1\n",
       "Resisted police officer control, ILLEGIBLE offi...                  1\n",
       "Resisted police officer control, Refused to be ...                  1\n",
       "Displayed Firearm During, Domestic And Was In T...                  1\n",
       "Resisted police officer control, Hold feet whil...                  1\n",
       "Physical threat/attack officer or another -- Se...                  1\n",
       "Non-compliance to Officer Commands                                  1\n",
       "Resisted police officer control, Effect an arre...                  1\n",
       "Resisting arrest specifically by fleeing                            1\n",
       "Resisted police officer control, Physical threa...                  1\n",
       "Prevented self injury                                               1\n",
       "Resisted police officer control, Physical threa...                  1\n",
       "EDP Forced to Hospital                                              1\n",
       "\n",
       "[6040 rows x 1 columns]"
      ]
     },
     "execution_count": 112,
     "metadata": {},
     "output_type": "execute_result"
    }
   ],
   "source": [
    "pd.DataFrame(df.Subject_1_actions.value_counts())"
   ]
  },
  {
   "cell_type": "code",
   "execution_count": 113,
   "metadata": {
    "collapsed": false
   },
   "outputs": [
    {
     "name": "stdout",
     "output_type": "stream",
     "text": [
      "Number of unique options (including commas): 6041\n"
     ]
    }
   ],
   "source": [
    "print \"Number of unique options (including commas):\", len(df.Subject_1_actions.unique())"
   ]
  },
  {
   "cell_type": "code",
   "execution_count": 114,
   "metadata": {
    "collapsed": false
   },
   "outputs": [
    {
     "name": "stdout",
     "output_type": "stream",
     "text": [
      "Number of unique options (ignoring commas):  5625\n"
     ]
    }
   ],
   "source": [
    "actions = pd.DataFrame(df.Subject_1_actions.str.split(', ', expand=True))\n",
    "\n",
    "act_agg = actions[0].append(actions[1]).append(actions[2]).append(actions[3]).append(actions[4]).append(actions[5]).append(actions[6]).append(actions[7]).append(actions[8]).reset_index(drop=True)\n",
    "\n",
    "act_agg = pd.DataFrame(act_agg)[0].value_counts()\n",
    "\n",
    "print \"Number of unique options (ignoring commas): \", act_agg.count()"
   ]
  },
  {
   "cell_type": "markdown",
   "metadata": {},
   "source": [
    "\n",
    "### Charges"
   ]
  },
  {
   "cell_type": "code",
   "execution_count": 115,
   "metadata": {
    "collapsed": false,
    "scrolled": true
   },
   "outputs": [
    {
     "data": {
      "text/plain": [
       "BLANK                                                                                       13770\n",
       "Resisting Arrest                                                                             1387\n",
       "Aggravated Assault                                                                            908\n",
       "Disorderly Conduct                                                                            897\n",
       "2C:29-2 Resisting Arrest                                                                      531\n",
       "Obstruction                                                                                   447\n",
       "2                                                                                             374\n",
       "Disorderly Conduct, Resisting Arrest                                                          363\n",
       "Simple Assault                                                                                310\n",
       "2C:33-2                                                                                       264\n",
       "3                                                                                             255\n",
       "2C:29-1A                                                                                      249\n",
       "39:4-50                                                                                       248\n",
       "2C:29-2                                                                                       236\n",
       "2C:12-1B(5)(A)                                                                                235\n",
       "2C:33-2 Disorderly Conduct                                                                    214\n",
       "2C:29-1, 2C:29-2                                                                              208\n",
       "2C:33-2A(1)                                                                                   208\n",
       "2C:33-2A(1), 2C:29-2A(1)                                                                      200\n",
       "Robbery                                                                                       195\n",
       "2C:29-1                                                                                       194\n",
       "Agg Assault                                                                                   194\n",
       "Obstruction, Resisting                                                                        183\n",
       "1                                                                                             183\n",
       "Disorderly, Resisting                                                                         182\n",
       "2C:33-2, 2C:29-2                                                                              165\n",
       "Burglary                                                                                      164\n",
       "Obstruction of Justice                                                                        163\n",
       "2C:29-2A(1)                                                                                   160\n",
       "Obstruction, Resisting Arrest                                                                 157\n",
       "                                                                                            ...  \n",
       "Obstruction, Tampering w/evidence, Resisting Arrest, Poss. of Drug Paraphernalia                1\n",
       "2C:29-1, 2C:33-2A(1), 2C:29-2A, 2C:39-5D                                                        1\n",
       "2C:35-10A(1), 2C:29-2A, 2C:36-2                                                                 1\n",
       "Disorderly Behavior/Resisting Arrest                                                            1\n",
       "Obstruct/False info/Resist                                                                      1\n",
       "2c:12-1b, 2c:29-2a, 2c:29-1                                                                     1\n",
       "Assault, Harras. Etc                                                                            1\n",
       "Robbery, Others                                                                                 1\n",
       "39:4-50, 2C:33-2/ 2C:12-13,2C:29-1                                                              1\n",
       "2C:12-1a, 2C:12-1b.5a, 2C:331a, and ILLEGIBLE                                                   1\n",
       "2C:12-1B (5) A, 39:4-50                                                                         1\n",
       "Agg Asslt, Resist Arr, Discord Cond, Tresspass                                                  1\n",
       "2C:12-1A(1), 2C:29-3B(4), 2C:12-1B(5)(A), 2C:12-1B(5)(A)                                        1\n",
       "2c:12-1a(1), 2c:17-3, 2c:12-1B(1), 2c:12-3                                                      1\n",
       "2C:12-1, 2C:29-2, 2C:17-3                                                                       1\n",
       "Aggravated Assault, Simple Assault, Resisting                                                   1\n",
       "Shoplifting & Obstruction (2 counts)                                                            1\n",
       "2C:29-2a(2), 2C:29-2, 2C:20-7a                                                                  1\n",
       "Obstruction- Resisting                                                                          1\n",
       "Threats                                                                                         1\n",
       "Domestic/Resisting Police                                                                       1\n",
       "2C:35-10A(1), 29-2A(1)                                                                          1\n",
       "Possession/Distribution of heroin                                                               1\n",
       "Crim mischief/Resisting arrest/aggravated assault on police                                     1\n",
       "Gun Possession                                                                                  1\n",
       "2C:35-10(A)(A), 2C:36-2                                                                         1\n",
       "2C:12-1B(5)(A), 2C:35-10A(4), 2C:36-2, 2C:29-2A                                                 1\n",
       "Crim Tresspass Resisting Arrest 2C:29-2A Agg Assault 2C:12-1B Obstruct ILLEGIBLE 2C:29-1        1\n",
       "Resisting Arrest, Criminal, Mischief, Obstructing                                               1\n",
       "2C:29-2B, 2C:29-2a3, 2C:35-5a(1), 2C:35-7.1                                                     1\n",
       "Name: Subject_1_charges, dtype: int64"
      ]
     },
     "execution_count": 115,
     "metadata": {},
     "output_type": "execute_result"
    }
   ],
   "source": [
    "df.Subject_1_charges.value_counts()"
   ]
  },
  {
   "cell_type": "code",
   "execution_count": 116,
   "metadata": {
    "collapsed": false
   },
   "outputs": [],
   "source": [
    "df.Subject_1_charges = df.Subject_1_charges.str.upper()"
   ]
  },
  {
   "cell_type": "markdown",
   "metadata": {},
   "source": [
    "#### First, created one csv with all the unique values for charges"
   ]
  },
  {
   "cell_type": "code",
   "execution_count": 117,
   "metadata": {
    "collapsed": false
   },
   "outputs": [],
   "source": [
    "charges = pd.DataFrame(df.Subject_1_charges.str.split(', ', expand=True))\n",
    "\n",
    "ch_agg = charges[0].append(charges[1]).append(charges[2]).append(charges[3]).append(charges[4]).append(charges[5]).append(charges[6]).append(charges[7]).append(charges[8]).append(charges[9]).append(charges[10]).reset_index(drop=True)\n",
    "\n",
    "ch_agg = pd.DataFrame(ch_agg)[0].value_counts()\n",
    "\n",
    "# ch_agg.to_csv('aggregate_charges.csv')"
   ]
  },
  {
   "cell_type": "markdown",
   "metadata": {},
   "source": [
    "### Nature of force"
   ]
  },
  {
   "cell_type": "markdown",
   "metadata": {},
   "source": [
    "#### Put into title case"
   ]
  },
  {
   "cell_type": "code",
   "execution_count": 118,
   "metadata": {
    "collapsed": true
   },
   "outputs": [],
   "source": [
    "df.Subject_1_force_nature = df.Subject_1_force_nature.str.title()"
   ]
  },
  {
   "cell_type": "code",
   "execution_count": 119,
   "metadata": {
    "collapsed": false
   },
   "outputs": [
    {
     "data": {
      "text/plain": [
       "4661"
      ]
     },
     "execution_count": 119,
     "metadata": {},
     "output_type": "execute_result"
    }
   ],
   "source": [
    "len(df.Subject_1_force_nature.unique())"
   ]
  },
  {
   "cell_type": "code",
   "execution_count": 120,
   "metadata": {
    "collapsed": false,
    "scrolled": true
   },
   "outputs": [
    {
     "data": {
      "text/plain": [
       "Compliance Hold                                                                             35541\n",
       "Compliance Hold, Hands/Fists                                                                12343\n",
       "Hands/Fists                                                                                  3309\n",
       "Chemical Agent (Pepper Spray)                                                                1758\n",
       "Compliance Hold, Chemical Agent (Pepper Spray)                                               1529\n",
       "Physical                                                                                     1458\n",
       "Compliance Hold, Hands/Fists, Kicks/Feet                                                     1039\n",
       "Compliance Hold, Hands/Fists, Chemical Agent (Pepper Spray)                                   831\n",
       "Compliance Hold, Kicks/Feet                                                                   539\n",
       "Compliance Hold, Wrestle To The Ground                                                        437\n",
       "Strike/Use Of Baton Or Other Object                                                           300\n",
       "Compliance Hold, Strike/Use Of Baton Or Other Object                                          286\n",
       "Hands/Fists, Kicks/Feet                                                                       260\n",
       "Hands/Fists, Chemical Agent (Pepper Spray)                                                    256\n",
       "Kicks/Feet                                                                                    254\n",
       "Compliance Hold, Hands/Fists, Strike/Use Of Baton Or Other Object                             221\n",
       "Physical Restraint                                                                            212\n",
       "Canine                                                                                        200\n",
       "Compliance Hold, Taken To The Ground                                                          169\n",
       "Compliance Hold, Physical Restraint                                                           166\n",
       "Pointed Firearm                                                                               159\n",
       "Compliance Hold, Wrestle To Ground                                                            144\n",
       "Compliance Hold, Hands/Fists, Kicks/Feet, Chemical Agent (Pepper Spray)                       115\n",
       "Mechanical/ Enhanced Mechanical                                                               109\n",
       "Compliance Hold, Taken To Ground                                                              109\n",
       "Compliance Hold, Take Down                                                                    104\n",
       "Mechanical/ Enhanced Mechanical, Physical                                                      98\n",
       "Tackle                                                                                         92\n",
       "Hands/Fists, Strike/Use Of Baton Or Other Object                                               88\n",
       "Compliance Hold, Tackle                                                                        84\n",
       "                                                                                            ...  \n",
       "Compliance Hold, Carried To Cell                                                                1\n",
       "Compliance Hold, Knee On Shoulder                                                               1\n",
       "Compliance Hold, Grabbed Subject'S Shirt And Wrist                                              1\n",
       "Compliance Hold, Grabbed His Coat Held Him Next To Car                                          1\n",
       "Constructive W/Drawn                                                                            1\n",
       "Held Subject Down                                                                               1\n",
       "Compliance Hold, Guided Into Patrol Car                                                         1\n",
       "Compliance Hold, Riot Shield                                                                    1\n",
       "Compliance Hold, Hands/Fists, Taken Down To Secure Wrists In Handcuffs                          1\n",
       "Compliance Hold, El Bows And Knees                                                              1\n",
       "Used Ballistic Shield To Pin Suspect Against Wall                                               1\n",
       "Compliance Hold, Hands/Fists, Physically Forced To Ground                                       1\n",
       "Re-Entered @ Taser                                                                              1\n",
       "Compliance Hold, Pulled Subject On Right Side To Get Him To Exit                                1\n",
       "Compliance Hold, Placing Subject On The Ground                                                  1\n",
       "Vehicle Pursuit, Removed From Vehicle                                                           1\n",
       "Hands/Fists, Taking Subject To The Ground                                                       1\n",
       "Tackled To The Ground After Foot Pursuit                                                        1\n",
       "Handcuffs Placed On Him For His Safety                                                          1\n",
       "Compliance Hold, Hands/Fists, Pushes And Shoves                                                 1\n",
       "Point Firearm At Suspect                                                                        1\n",
       "Compliance Hold, Kness Placed On Body - Control                                                 1\n",
       "Hands/Fists, Arm Bar While On Ground                                                            1\n",
       "Chemical Agent (Pepper Spray), Deployed Oc Spray                                                1\n",
       "Bar Stool                                                                                       1\n",
       "Compliance Hold, Leg Sweep/Takedown                                                             1\n",
       "Compliance Hold, Baton Used To Pry Hands Free                                                   1\n",
       "Compliance Hold, Hands/Fists, Strike/Use Of Baton Or Other Object, Wrestle To The Ground        1\n",
       "Hands/Fists, See Supp                                                                           1\n",
       "Applied Pressure Point Behind Subjects Ears                                                     1\n",
       "Name: Subject_1_force_nature, dtype: int64"
      ]
     },
     "execution_count": 120,
     "metadata": {},
     "output_type": "execute_result"
    }
   ],
   "source": [
    "df.Subject_1_force_nature.value_counts()"
   ]
  },
  {
   "cell_type": "code",
   "execution_count": 121,
   "metadata": {
    "collapsed": true
   },
   "outputs": [],
   "source": [
    "df.Subject_2_force_nature = df.Subject_2_force_nature.str.title()"
   ]
  },
  {
   "cell_type": "code",
   "execution_count": 122,
   "metadata": {
    "collapsed": false,
    "scrolled": true
   },
   "outputs": [
    {
     "data": {
      "text/plain": [
       "Compliance Hold                                                                                                                                                                    567\n",
       "Compliance Hold, Hands/Fists                                                                                                                                                       245\n",
       "Chemical Agent (Pepper Spray)                                                                                                                                                      166\n",
       "Hands/Fists                                                                                                                                                                         83\n",
       "Pointed Firearm                                                                                                                                                                     71\n",
       "Compliance Hold, Chemical Agent (Pepper Spray)                                                                                                                                      68\n",
       "N/A                                                                                                                                                                                 67\n",
       "Compliance Hold, Hands/Fists, Kicks/Feet                                                                                                                                            36\n",
       "Compliance Hold, Hands/Fists, Chemical Agent (Pepper Spray)                                                                                                                         31\n",
       "Threat Of Deadly Force                                                                                                                                                              18\n",
       "Compliance Hold, Strike/Use Of Baton Or Other Object                                                                                                                                14\n",
       "Pointed Firearm At Subject                                                                                                                                                          10\n",
       "Other                                                                                                                                                                               10\n",
       "Hands/Fists, Chemical Agent (Pepper Spray)                                                                                                                                           9\n",
       "Compliance Hold, Hands/Fists, Strike/Use Of Baton Or Other Object                                                                                                                    9\n",
       "Pointed Firearm (Constructive Authority)                                                                                                                                             9\n",
       "Weapon Pointed At Suspect                                                                                                                                                            9\n",
       "Hands/Fists, Kicks/Feet                                                                                                                                                              8\n",
       "Compliance Hold, Kicks/Feet                                                                                                                                                          8\n",
       "Kicks/Feet                                                                                                                                                                           8\n",
       "Strike/Use Of Baton Or Other Object                                                                                                                                                  7\n",
       "Constructive Authority                                                                                                                                                               7\n",
       "Held Down                                                                                                                                                                            6\n",
       "Compliance Hold, Wrestle To The Ground                                                                                                                                               6\n",
       "Constructive Pointed Department Issued Firearm                                                                                                                                       5\n",
       "Pointed Duty Weapon                                                                                                                                                                  5\n",
       "Canine                                                                                                                                                                               4\n",
       "Compliance Hold, Hands/Fists, Kicks/Feet, Chemical Agent (Pepper Spray)                                                                                                              4\n",
       "Compliance Hold, Physical Restraint                                                                                                                                                  4\n",
       "Compliance Hold, Knee In Back                                                                                                                                                        3\n",
       "                                                                                                                                                                                  ... \n",
       "Upholstered Duty Weapon                                                                                                                                                              1\n",
       "Shotgun Deployed                                                                                                                                                                     1\n",
       "Grabbed                                                                                                                                                                              1\n",
       "Pointed Gun At Subjects                                                                                                                                                              1\n",
       "Constructive Authority Only Pointed Duty Weapon At Subject                                                                                                                           1\n",
       "Stolen Vehicle Struck To Divert From Ramming W201                                                                                                                                    1\n",
       "Hands/Fists, Brachial Plexis Origin Nerve Point                                                                                                                                      1\n",
       "Constructive Force (Drew Weapon)                                                                                                                                                     1\n",
       "Pointed Firearm At Subjects During High Risk Stop                                                                                                                                    1\n",
       "High Risk Motor Vehicle Stop/Constructive Authority-Pointed Weapon                                                                                                                   1\n",
       "Compliance Hold, Hands/Fists, Constructive Authority                                                                                                                                 1\n",
       "Pointed Shotgun And Suspect                                                                                                                                                          1\n",
       "No Force Used - Constructive Authority Displayed Duty Weapon                                                                                                                         1\n",
       "Exhibit Dept Rifle                                                                                                                                                                   1\n",
       "Pointed Firearm At Subjects During A High Risk Car Stop                                                                                                                              1\n",
       "Compliance Hold, Chemical Agent (Pepper Spray), Canine                                                                                                                               1\n",
       "Constructive Authority- Use Of Rifle                                                                                                                                                 1\n",
       "Pointed Fire Arm At Suspects                                                                                                                                                         1\n",
       "Compliance Hold, Wrestled                                                                                                                                                            1\n",
       "Constructive Authority (Weapon Pointed At Suspect)                                                                                                                                   1\n",
       "Compliance Hold, Hands/Fists, Constructive Baton Used To Back Up Second Male That Grabbed Me While Assisting Officers Arresting A Disorderly Disorderly Suspect #1 (No Contact)      1\n",
       "Chemical Agent (Pepper Spray), Wrestling                                                                                                                                             1\n",
       "Compliance Hold, Chemical Agent (Pepper Spray), Strike/Use Of Baton Or Other Object                                                                                                  1\n",
       "Compliance Hold, Push To Ground                                                                                                                                                      1\n",
       "Compliance Hold, Hands/Fists, Kicks/Fists                                                                                                                                            1\n",
       "Constructive Pointed Department Illegible                                                                                                                                            1\n",
       "Pushed Subject                                                                                                                                                                       1\n",
       "Tackle/Wrestle                                                                                                                                                                       1\n",
       "Blank                                                                                                                                                                                1\n",
       "Pointed Firearm At Subjects                                                                                                                                                          1\n",
       "Name: Subject_2_force_nature, dtype: int64"
      ]
     },
     "execution_count": 122,
     "metadata": {},
     "output_type": "execute_result"
    }
   ],
   "source": [
    "df.Subject_2_force_nature.value_counts()"
   ]
  },
  {
   "cell_type": "code",
   "execution_count": 123,
   "metadata": {
    "collapsed": true
   },
   "outputs": [],
   "source": [
    "df.Subject_3_force_nature = df.Subject_3_force_nature.str.title()"
   ]
  },
  {
   "cell_type": "code",
   "execution_count": 124,
   "metadata": {
    "collapsed": false,
    "scrolled": true
   },
   "outputs": [
    {
     "data": {
      "text/plain": [
       "Chemical Agent (Pepper Spray)                                                          14\n",
       "Compliance Hold, Hands/Fists                                                           10\n",
       "Compliance Hold                                                                         7\n",
       "Pointed Firearm (Constructive Authority)                                                6\n",
       "Constructive Pointed Department Issued Firearm                                          5\n",
       "Pointed Firearm                                                                         5\n",
       "Compliance Hold, Strike/Use Of Baton Or Other Object                                    4\n",
       "Other                                                                                   4\n",
       "Compliance Hold, Hands/Fists, Kicks/Feet                                                3\n",
       "Pointed Firearm At Subjects                                                             2\n",
       "Hands/Fists, Kicks/Feet                                                                 2\n",
       "Constructive Authority Weapon Pointed At Suspects                                       2\n",
       "Constructive Force: Pointed Weapon                                                      2\n",
       "Compliance Hold, Chemical Agent (Pepper Spray)                                          2\n",
       "Handgun Deployed                                                                        1\n",
       "Pointed Firearm At Suspects                                                             1\n",
       "Compliance Hold, Hands/Fists, Take Down                                                 1\n",
       "Firearm Discharge                                                                       1\n",
       "Firearm Drawn To Hold Suspects Actively Burglarizing A Residence                        1\n",
       "Pointed Weapon Constructive Force                                                       1\n",
       "Compliance Hold, Hands/Fists, Chemical Agent (Pepper Spray)                             1\n",
       "Constructive Force                                                                      1\n",
       "Hands/Fists, Chemical Agent (Pepper Spray), Strike/Use Of Baton Or Other Object         1\n",
       "Compliance Hold, Hands/Fists, Wrestled                                                  1\n",
       "Firearm                                                                                 1\n",
       "Pointed Firearm At Suspect                                                              1\n",
       "Compliance Hold, Handcuffed                                                             1\n",
       "Shot Gun Deployed                                                                       1\n",
       "Compliance Hold, Chemical Agent (Pepper Spray), Strike/Use Of Baton Or Other Object     1\n",
       "Constructive Authority (Weapon Pointed At Suspect)                                      1\n",
       "Pointed Fire Arm At Suspects                                                            1\n",
       "Hands/Fists                                                                             1\n",
       "Physical Restraint                                                                      1\n",
       "Hands/Fists, Chemical Agent (Pepper Spray)                                              1\n",
       "Name: Subject_3_force_nature, dtype: int64"
      ]
     },
     "execution_count": 124,
     "metadata": {},
     "output_type": "execute_result"
    }
   ],
   "source": [
    "df.Subject_3_force_nature.value_counts()"
   ]
  },
  {
   "cell_type": "code",
   "execution_count": 125,
   "metadata": {
    "collapsed": false
   },
   "outputs": [
    {
     "data": {
      "text/plain": [
       "4018"
      ]
     },
     "execution_count": 125,
     "metadata": {},
     "output_type": "execute_result"
    }
   ],
   "source": [
    "force_nature = pd.DataFrame(df.Subject_1_force_nature.str.split(', ', expand=True))\n",
    "\n",
    "fn_agg = force_nature[0].append(force_nature[1]).append(force_nature[2]).append(force_nature[3]).append(force_nature[4]).append(force_nature[5]).reset_index(drop=True)\n",
    "\n",
    "fn_agg = pd.DataFrame(fn_agg)[0].value_counts()\n",
    "\n",
    "fn_agg.count()"
   ]
  },
  {
   "cell_type": "markdown",
   "metadata": {},
   "source": [
    "### Firearms"
   ]
  },
  {
   "cell_type": "code",
   "execution_count": 126,
   "metadata": {
    "collapsed": false
   },
   "outputs": [
    {
     "data": {
      "text/plain": [
       "N/A (Select if not listed or blank)    70145\n",
       "Discharged                               866\n",
       "N/A (Select if not listed or BLANK)      744\n",
       "N/A (Select if Not listed or blank)      471\n",
       "Pointing or Pointed                      258\n",
       "Discharge                                  1\n",
       "Name: Firearms_used, dtype: int64"
      ]
     },
     "execution_count": 126,
     "metadata": {},
     "output_type": "execute_result"
    }
   ],
   "source": [
    "df.Firearms_used.value_counts()"
   ]
  },
  {
   "cell_type": "markdown",
   "metadata": {},
   "source": [
    "#### Changed one mistake in \"Discharge\""
   ]
  },
  {
   "cell_type": "code",
   "execution_count": 127,
   "metadata": {
    "collapsed": true
   },
   "outputs": [],
   "source": [
    "df.Firearms_used = df.Firearms_used.str.title()\n",
    "df.Firearms_used = df.Firearms_used.replace(to_replace='Discharge', value='Discharged')"
   ]
  },
  {
   "cell_type": "code",
   "execution_count": 128,
   "metadata": {
    "collapsed": false
   },
   "outputs": [
    {
     "data": {
      "text/plain": [
       "N/A (Select if not listed or blank)    70448\n",
       "Intentional                              800\n",
       "N/A (Select if not listed or BLANK)      744\n",
       "N/A (Select if Not listed or blank)      482\n",
       "Accidental                                11\n",
       "Name: Firearms_discharged, dtype: int64"
      ]
     },
     "execution_count": 128,
     "metadata": {},
     "output_type": "execute_result"
    }
   ],
   "source": [
    "df.Firearms_discharged.value_counts()"
   ]
  },
  {
   "cell_type": "code",
   "execution_count": 129,
   "metadata": {
    "collapsed": true
   },
   "outputs": [],
   "source": [
    "df.Firearms_discharged = df.Firearms_discharged.str.title()"
   ]
  },
  {
   "cell_type": "code",
   "execution_count": 130,
   "metadata": {
    "collapsed": false
   },
   "outputs": [
    {
     "data": {
      "text/plain": [
       "0        64747\n",
       "1          367\n",
       "2          234\n",
       "3           84\n",
       "UNK         30\n",
       "4           28\n",
       "5           14\n",
       "6           10\n",
       "Unk          8\n",
       "DNA          2\n",
       "14           2\n",
       "13           2\n",
       "2-Jan        1\n",
       "15           1\n",
       "11           1\n",
       "12           1\n",
       "8            1\n",
       "More         1\n",
       "7            1\n",
       "4-Mar        1\n",
       "Name: Firearms_shots_no, dtype: int64"
      ]
     },
     "execution_count": 130,
     "metadata": {},
     "output_type": "execute_result"
    }
   ],
   "source": [
    "df.Firearms_shots_no.value_counts()"
   ]
  },
  {
   "cell_type": "code",
   "execution_count": 131,
   "metadata": {
    "collapsed": false
   },
   "outputs": [],
   "source": [
    "df.Firearms_shots_no = df.Firearms_shots_no.str.upper()"
   ]
  },
  {
   "cell_type": "markdown",
   "metadata": {},
   "source": [
    "#### Original value:"
   ]
  },
  {
   "cell_type": "code",
   "execution_count": 132,
   "metadata": {
    "collapsed": false
   },
   "outputs": [
    {
     "data": {
      "text/plain": [
       "20576    2-JAN\n",
       "Name: Firearms_shots_no, dtype: object"
      ]
     },
     "execution_count": 132,
     "metadata": {},
     "output_type": "execute_result"
    }
   ],
   "source": [
    "df.loc[df.Firearms_shots_no.str.contains('JAN', na=False), 'Firearms_shots_no']"
   ]
  },
  {
   "cell_type": "markdown",
   "metadata": {},
   "source": [
    "#### Target value:"
   ]
  },
  {
   "cell_type": "code",
   "execution_count": 133,
   "metadata": {
    "collapsed": false
   },
   "outputs": [
    {
     "data": {
      "text/plain": [
       "20576    1-2\n",
       "Name: 0, dtype: object"
      ]
     },
     "execution_count": 133,
     "metadata": {},
     "output_type": "execute_result"
    }
   ],
   "source": [
    "\"1-\" + df[df.Firearms_shots_no.str.contains('JAN', na=False)]['Firearms_shots_no'].str.split('-', expand=True)[0]"
   ]
  },
  {
   "cell_type": "markdown",
   "metadata": {},
   "source": [
    "#### Combined to change the two:"
   ]
  },
  {
   "cell_type": "code",
   "execution_count": 134,
   "metadata": {
    "collapsed": true
   },
   "outputs": [],
   "source": [
    "df.loc[df.Firearms_shots_no.str.contains('JAN', na=False), 'Firearms_shots_no'] = \"1-\" + df[df.Firearms_shots_no.str.contains('JAN', na=False)]['Firearms_shots_no'].str.split('-', expand=True)[0]"
   ]
  },
  {
   "cell_type": "code",
   "execution_count": 135,
   "metadata": {
    "collapsed": false
   },
   "outputs": [],
   "source": [
    "df.loc[df.Firearms_shots_no.str.contains('MAR', na=False), 'Firearms_shots_no'] = \"3-\" + df[df.Firearms_shots_no.str.contains('MAR', na=False)]['Firearms_shots_no'].str.split('-', expand=True)[0]"
   ]
  },
  {
   "cell_type": "markdown",
   "metadata": {},
   "source": [
    "### Subject injured, hospitalized, killed"
   ]
  },
  {
   "cell_type": "code",
   "execution_count": 136,
   "metadata": {
    "collapsed": true
   },
   "outputs": [],
   "source": [
    "df.Subject_1_injured = df.Subject_1_injured.str.title()\n",
    "df.Subject_2_injured = df.Subject_2_injured.str.title()\n",
    "df.Subject_3_injured = df.Subject_3_injured.str.title()"
   ]
  },
  {
   "cell_type": "code",
   "execution_count": 137,
   "metadata": {
    "collapsed": true
   },
   "outputs": [],
   "source": [
    "df.Subject_1_hosp = df.Subject_1_hosp.str.title()\n",
    "df.Subject_2_hosp = df.Subject_2_hosp.str.title()\n",
    "df.Subject_3_hosp = df.Subject_3_hosp.str.title()"
   ]
  },
  {
   "cell_type": "code",
   "execution_count": 138,
   "metadata": {
    "collapsed": false
   },
   "outputs": [],
   "source": [
    "df.Subject_1_killed = df.Subject_1_killed.str.title()\n",
    "df.Subject_2_killed = df.Subject_2_killed.str.title()"
   ]
  },
  {
   "cell_type": "code",
   "execution_count": 139,
   "metadata": {
    "collapsed": false
   },
   "outputs": [
    {
     "data": {
      "text/plain": [
       "No           51320\n",
       "Yes            355\n",
       "Redacted         2\n",
       "Illegible        1\n",
       "Name: Subject_1_killed, dtype: int64"
      ]
     },
     "execution_count": 139,
     "metadata": {},
     "output_type": "execute_result"
    }
   ],
   "source": [
    "df.Subject_1_killed.value_counts()"
   ]
  },
  {
   "cell_type": "code",
   "execution_count": 140,
   "metadata": {
    "collapsed": false
   },
   "outputs": [
    {
     "data": {
      "text/plain": [
       "array([ nan])"
      ]
     },
     "execution_count": 140,
     "metadata": {},
     "output_type": "execute_result"
    }
   ],
   "source": [
    "df.Subject_3_killed.unique()"
   ]
  },
  {
   "cell_type": "markdown",
   "metadata": {},
   "source": [
    "### Photo and narrative"
   ]
  },
  {
   "cell_type": "code",
   "execution_count": 141,
   "metadata": {
    "collapsed": false
   },
   "outputs": [],
   "source": [
    "df.Subject_1_photo = df.Subject_1_photo.str.title()\n",
    "df.Subject_2_photo = df.Subject_2_photo.str.title()"
   ]
  },
  {
   "cell_type": "code",
   "execution_count": 142,
   "metadata": {
    "collapsed": false
   },
   "outputs": [
    {
     "data": {
      "text/plain": [
       "No     1583\n",
       "N/A     243\n",
       "Yes     181\n",
       "Name: Subject_1_photo, dtype: int64"
      ]
     },
     "execution_count": 142,
     "metadata": {},
     "output_type": "execute_result"
    }
   ],
   "source": [
    "df.Subject_1_photo.value_counts()"
   ]
  },
  {
   "cell_type": "code",
   "execution_count": 143,
   "metadata": {
    "collapsed": false
   },
   "outputs": [
    {
     "data": {
      "text/plain": [
       "array(['See 310',\n",
       "       'After the subject urinated on the floor of the booking room I attempted to scan him with the metal detecting wand in order to place him in a holding cell. In the course of attempting to move the in compliant subject into the holding cell he stripped off all of his clothes, attempted to push his buttocks into me, and braced his hands on the outside of the cell door in order to keep himself out of the cell. I gave multiple verbal commands for the subject to enter the cell and he continued to resist. At which time. With two open hands I pushed on the suspects back to force him into the cell. The suspect stumbled to the rear of the cell and regained his balance along the rear wall of the cell.',\n",
       "       'Subject was forcefully put to the ground while resisting arrest. He was placed under arrest and handcuffed. He was later charged with 3 counts of burglary and criminal mischief. See investigation report for details.',\n",
       "       ...,\n",
       "       'Above individual was having a seizure and it took multiple police and emergency medical personnel to restrain above individual to secure him to the stretcher. I followed the ambulance to St. Claires hospital while p/o Nick Lyasko, Pete Lyasko, Mike Rossi rode in the ambulance to assist medics.',\n",
       "       'On the above date and time, while assisting p/o P. Lyasko with an extremely combative seizure patient, this officer used physical force to restrain the above actor from his continuous attempts to assault medical personnel and all officers present. Actor spit in this officers eye and mouth during the altercation. This officer resorted to handcuffing the actor to the stretcher he was located on to immobilize his right arm due to his extreme strength and lack of compliance.',\n",
       "       'Defendant was arrested for disorderly conduct in this jurisdiction earlier this date. Defendant was in the holding cell threatening physical force when officers remove him from the cell. The defendant was remove from the holding cell to be transported to the MCCF. Prior to his transport the defendant did not comply with officers orders and refused to be handcuffed. P/O Garcia, Scherr, Elko, Sgt Wladich, and myself brought the defendant to the floor and restrained him. The defendant was placed into 35-07 and.'], dtype=object)"
      ]
     },
     "execution_count": 143,
     "metadata": {},
     "output_type": "execute_result"
    }
   ],
   "source": [
    "df.Narrative.unique()"
   ]
  },
  {
   "cell_type": "code",
   "execution_count": 144,
   "metadata": {
    "collapsed": true
   },
   "outputs": [],
   "source": [
    "df.Narrative = df.Narrative.replace(to_replace=['\\r','\\n'], value=' ', regex=True)"
   ]
  },
  {
   "cell_type": "code",
   "execution_count": 145,
   "metadata": {
    "collapsed": true
   },
   "outputs": [],
   "source": [
    "# df.to_csv('Data_cleaning_checkup.csv')"
   ]
  }
 ],
 "metadata": {
  "kernelspec": {
   "display_name": "Python 2",
   "language": "python",
   "name": "python2"
  }
 },
 "nbformat": 4,
 "nbformat_minor": 2
}
