{
 "cells": [
  {
   "cell_type": "code",
   "execution_count": 1,
   "metadata": {
    "collapsed": true
   },
   "outputs": [],
   "source": [
    "import pandas as pd"
   ]
  },
  {
   "cell_type": "code",
   "execution_count": 2,
   "metadata": {
    "collapsed": true
   },
   "outputs": [],
   "source": [
    "import matplotlib.pyplot as plt\n",
    "%matplotlib inline"
   ]
  },
  {
   "cell_type": "code",
   "execution_count": 3,
   "metadata": {
    "collapsed": false
   },
   "outputs": [
    {
     "name": "stderr",
     "output_type": "stream",
     "text": [
      "/Users/epetenko/miniconda2/lib/python2.7/site-packages/IPython/core/interactiveshell.py:2717: DtypeWarning: Columns (35,36,45,67,85,87,90,95,96) have mixed types. Specify dtype option on import or set low_memory=False.\n",
      "  interactivity=interactivity, compiler=compiler, result=result)\n"
     ]
    }
   ],
   "source": [
    "df = pd.read_csv('Master101618v4.csv')"
   ]
  },
  {
   "cell_type": "code",
   "execution_count": 4,
   "metadata": {
    "collapsed": false
   },
   "outputs": [
    {
     "data": {
      "text/html": [
       "<div>\n",
       "<table border=\"1\" class=\"dataframe\">\n",
       "  <thead>\n",
       "    <tr style=\"text-align: right;\">\n",
       "      <th></th>\n",
       "      <th>﻿id</th>\n",
       "      <th>Timestamp</th>\n",
       "      <th>Date_inputted</th>\n",
       "      <th>County</th>\n",
       "      <th>Town</th>\n",
       "      <th>Town_county</th>\n",
       "      <th>File_name</th>\n",
       "      <th>Case_report_no</th>\n",
       "      <th>Incident_date</th>\n",
       "      <th>Incident_time</th>\n",
       "      <th>...</th>\n",
       "      <th>Subject_3_charges_st</th>\n",
       "      <th>Subject_3_force_nature</th>\n",
       "      <th>Subject_3_injured</th>\n",
       "      <th>Subject_3_hosp</th>\n",
       "      <th>Subject_3_killed</th>\n",
       "      <th>Subject_3_photo</th>\n",
       "      <th>Is_second</th>\n",
       "      <th>Is_third</th>\n",
       "      <th>Subject_2_force_nature_new</th>\n",
       "      <th>Subject_3_force_nature_new</th>\n",
       "    </tr>\n",
       "  </thead>\n",
       "  <tbody>\n",
       "    <tr>\n",
       "      <th>0</th>\n",
       "      <td>2115</td>\n",
       "      <td>2/23/18 1:33</td>\n",
       "      <td>2/21/18</td>\n",
       "      <td>Atlantic County</td>\n",
       "      <td>Absecon</td>\n",
       "      <td>Absecon, Atlantic County</td>\n",
       "      <td>ABSECON-UOF-2012-2016</td>\n",
       "      <td>I-2016-028167</td>\n",
       "      <td>11/6/16</td>\n",
       "      <td>10:26</td>\n",
       "      <td>...</td>\n",
       "      <td>NaN</td>\n",
       "      <td>NaN</td>\n",
       "      <td>NaN</td>\n",
       "      <td>NaN</td>\n",
       "      <td>NaN</td>\n",
       "      <td>NaN</td>\n",
       "      <td>NaN</td>\n",
       "      <td>NaN</td>\n",
       "      <td></td>\n",
       "      <td>NaN</td>\n",
       "    </tr>\n",
       "    <tr>\n",
       "      <th>1</th>\n",
       "      <td>1755</td>\n",
       "      <td>2/20/18 3:09</td>\n",
       "      <td>2/21/18</td>\n",
       "      <td>Atlantic County</td>\n",
       "      <td>Absecon</td>\n",
       "      <td>Absecon, Atlantic County</td>\n",
       "      <td>ABSECON-UOF-2012-2016</td>\n",
       "      <td>2012-015242</td>\n",
       "      <td>6/27/12</td>\n",
       "      <td>18:26</td>\n",
       "      <td>...</td>\n",
       "      <td>NaN</td>\n",
       "      <td>NaN</td>\n",
       "      <td>NaN</td>\n",
       "      <td>NaN</td>\n",
       "      <td>NaN</td>\n",
       "      <td>NaN</td>\n",
       "      <td>NaN</td>\n",
       "      <td>NaN</td>\n",
       "      <td></td>\n",
       "      <td>NaN</td>\n",
       "    </tr>\n",
       "    <tr>\n",
       "      <th>2</th>\n",
       "      <td>2092</td>\n",
       "      <td>2/22/18 5:21</td>\n",
       "      <td>2/21/18</td>\n",
       "      <td>Atlantic County</td>\n",
       "      <td>Absecon</td>\n",
       "      <td>Absecon, Atlantic County</td>\n",
       "      <td>ABSECON-UOF-2012-2016</td>\n",
       "      <td>I-2015-001527</td>\n",
       "      <td>1/14/15</td>\n",
       "      <td>2:11</td>\n",
       "      <td>...</td>\n",
       "      <td>NaN</td>\n",
       "      <td>NaN</td>\n",
       "      <td>NaN</td>\n",
       "      <td>NaN</td>\n",
       "      <td>NaN</td>\n",
       "      <td>NaN</td>\n",
       "      <td>NaN</td>\n",
       "      <td>NaN</td>\n",
       "      <td></td>\n",
       "      <td>NaN</td>\n",
       "    </tr>\n",
       "    <tr>\n",
       "      <th>3</th>\n",
       "      <td>2108</td>\n",
       "      <td>2/22/18 7:26</td>\n",
       "      <td>2/21/18</td>\n",
       "      <td>Atlantic County</td>\n",
       "      <td>Absecon</td>\n",
       "      <td>Absecon, Atlantic County</td>\n",
       "      <td>ABSECON-UOF-2012-2016</td>\n",
       "      <td>I-2016-003974</td>\n",
       "      <td>2/14/16</td>\n",
       "      <td>4:34</td>\n",
       "      <td>...</td>\n",
       "      <td>NaN</td>\n",
       "      <td>NaN</td>\n",
       "      <td>NaN</td>\n",
       "      <td>NaN</td>\n",
       "      <td>NaN</td>\n",
       "      <td>NaN</td>\n",
       "      <td>NaN</td>\n",
       "      <td>NaN</td>\n",
       "      <td></td>\n",
       "      <td>NaN</td>\n",
       "    </tr>\n",
       "    <tr>\n",
       "      <th>4</th>\n",
       "      <td>2109</td>\n",
       "      <td>2/22/18 23:47</td>\n",
       "      <td>2/21/18</td>\n",
       "      <td>Atlantic County</td>\n",
       "      <td>Absecon</td>\n",
       "      <td>Absecon, Atlantic County</td>\n",
       "      <td>ABSECON-UOF-2012-2016</td>\n",
       "      <td>I-2016-011235</td>\n",
       "      <td>5/9/16</td>\n",
       "      <td>15:51</td>\n",
       "      <td>...</td>\n",
       "      <td>NaN</td>\n",
       "      <td>NaN</td>\n",
       "      <td>NaN</td>\n",
       "      <td>NaN</td>\n",
       "      <td>NaN</td>\n",
       "      <td>NaN</td>\n",
       "      <td>NaN</td>\n",
       "      <td>NaN</td>\n",
       "      <td></td>\n",
       "      <td>NaN</td>\n",
       "    </tr>\n",
       "  </tbody>\n",
       "</table>\n",
       "<p>5 rows × 99 columns</p>\n",
       "</div>"
      ],
      "text/plain": [
       "    ﻿id      Timestamp Date_inputted           County     Town  \\\n",
       "0  2115   2/23/18 1:33       2/21/18  Atlantic County  Absecon   \n",
       "1  1755   2/20/18 3:09       2/21/18  Atlantic County  Absecon   \n",
       "2  2092   2/22/18 5:21       2/21/18  Atlantic County  Absecon   \n",
       "3  2108   2/22/18 7:26       2/21/18  Atlantic County  Absecon   \n",
       "4  2109  2/22/18 23:47       2/21/18  Atlantic County  Absecon   \n",
       "\n",
       "                Town_county              File_name Case_report_no  \\\n",
       "0  Absecon, Atlantic County  ABSECON-UOF-2012-2016  I-2016-028167   \n",
       "1  Absecon, Atlantic County  ABSECON-UOF-2012-2016    2012-015242   \n",
       "2  Absecon, Atlantic County  ABSECON-UOF-2012-2016  I-2015-001527   \n",
       "3  Absecon, Atlantic County  ABSECON-UOF-2012-2016  I-2016-003974   \n",
       "4  Absecon, Atlantic County  ABSECON-UOF-2012-2016  I-2016-011235   \n",
       "\n",
       "  Incident_date Incident_time            ...             Subject_3_charges_st  \\\n",
       "0       11/6/16         10:26            ...                              NaN   \n",
       "1       6/27/12         18:26            ...                              NaN   \n",
       "2       1/14/15          2:11            ...                              NaN   \n",
       "3       2/14/16          4:34            ...                              NaN   \n",
       "4        5/9/16         15:51            ...                              NaN   \n",
       "\n",
       "  Subject_3_force_nature Subject_3_injured Subject_3_hosp Subject_3_killed  \\\n",
       "0                    NaN               NaN            NaN              NaN   \n",
       "1                    NaN               NaN            NaN              NaN   \n",
       "2                    NaN               NaN            NaN              NaN   \n",
       "3                    NaN               NaN            NaN              NaN   \n",
       "4                    NaN               NaN            NaN              NaN   \n",
       "\n",
       "  Subject_3_photo Is_second Is_third Subject_2_force_nature_new  \\\n",
       "0             NaN       NaN      NaN                              \n",
       "1             NaN       NaN      NaN                              \n",
       "2             NaN       NaN      NaN                              \n",
       "3             NaN       NaN      NaN                              \n",
       "4             NaN       NaN      NaN                              \n",
       "\n",
       "  Subject_3_force_nature_new  \n",
       "0                        NaN  \n",
       "1                        NaN  \n",
       "2                        NaN  \n",
       "3                        NaN  \n",
       "4                        NaN  \n",
       "\n",
       "[5 rows x 99 columns]"
      ]
     },
     "execution_count": 4,
     "metadata": {},
     "output_type": "execute_result"
    }
   ],
   "source": [
    "df.head()"
   ]
  },
  {
   "cell_type": "code",
   "execution_count": 5,
   "metadata": {
    "collapsed": false,
    "scrolled": true
   },
   "outputs": [
    {
     "name": "stdout",
     "output_type": "stream",
     "text": [
      "<class 'pandas.core.frame.DataFrame'>\n",
      "RangeIndex: 70561 entries, 0 to 70560\n",
      "Data columns (total 99 columns):\n",
      "﻿id                           70561 non-null int64\n",
      "Timestamp                     70430 non-null object\n",
      "Date_inputted                 70401 non-null object\n",
      "County                        70561 non-null object\n",
      "Town                          70561 non-null object\n",
      "Town_county                   70561 non-null object\n",
      "File_name                     70517 non-null object\n",
      "Case_report_no                70557 non-null object\n",
      "Incident_date                 70561 non-null object\n",
      "Incident_time                 70561 non-null object\n",
      "Location_city                 22498 non-null object\n",
      "Location_detail               70559 non-null object\n",
      "Incident_type                 69938 non-null object\n",
      "Incident_EDP                  5488 non-null object\n",
      "Officer_1_first               70561 non-null object\n",
      "Officer_1_last                70561 non-null object\n",
      "officerid                     70561 non-null object\n",
      "Officer_1_rank                70561 non-null object\n",
      "Officer_1_exp                 48624 non-null object\n",
      "Officer_1_exp_clean           48798 non-null object\n",
      "Officer_1_sex                 70561 non-null object\n",
      "Officer_1_race                70561 non-null object\n",
      "Officer_1_badge_no            69616 non-null object\n",
      "Officer_1_injured             70561 non-null object\n",
      "Officer_1_hosp                70561 non-null object\n",
      "Officer_1_killed              70561 non-null object\n",
      "Supervisor_first              70511 non-null object\n",
      "Supervisor_last               70511 non-null object\n",
      "Supervisor_badge_no           70511 non-null object\n",
      "Supervisor_signed             70561 non-null object\n",
      "Officer_2_first               12218 non-null object\n",
      "Officer_2_last                12218 non-null object\n",
      "Officer_2_rank                407 non-null object\n",
      "Officer_2_exp                 5 non-null float64\n",
      "Officer_2_sex                 12218 non-null object\n",
      "Officer_2_race                315 non-null object\n",
      "Officer_2_badge_no            996 non-null object\n",
      "Officer_2_injured             12218 non-null object\n",
      "Officer_2_hosp                12218 non-null object\n",
      "Officer_2_killed              12218 non-null object\n",
      "Officer_3_first               12483 non-null object\n",
      "Officer_3_last                12483 non-null object\n",
      "Officer_3_rank                288 non-null object\n",
      "Officer_3_exp                 0 non-null float64\n",
      "Officer_3_sex                 12483 non-null object\n",
      "Officer_3_race                149 non-null object\n",
      "Officer_3_badge_no            311 non-null float64\n",
      "Officer_3_injured             12483 non-null object\n",
      "Officer_3_hosp                12483 non-null object\n",
      "Officer_3_killed              12483 non-null object\n",
      "Subject_1_first               70559 non-null object\n",
      "Subject_1_last                70557 non-null object\n",
      "Subject_1_id                  70435 non-null object\n",
      "Subject_1_age                 70556 non-null object\n",
      "Subject_1_race                70561 non-null object\n",
      "Subject_1_sex                 70558 non-null object\n",
      "Subject_1_actions_OG          70561 non-null object\n",
      "Subject_1_charges             70392 non-null object\n",
      "Subject_1_charges_st          70515 non-null object\n",
      "Subject_1_force_nature        69626 non-null object\n",
      "Subject_1_force_nature_new    70561 non-null object\n",
      "Firearms_used                 70560 non-null object\n",
      "Firearms_discharged           70561 non-null object\n",
      "Firearms_shots_no             63626 non-null object\n",
      "Subject_1_injured             70550 non-null object\n",
      "Subject_1_hosp                70556 non-null object\n",
      "Subject_1_killed              50417 non-null object\n",
      "Subject_1_photo               1748 non-null object\n",
      "Narrative                     2904 non-null object\n",
      "Subject_2_first               70369 non-null object\n",
      "Subject_2_last                70369 non-null object\n",
      "Subject_2_age                 70369 non-null object\n",
      "Subject_2_race                1777 non-null object\n",
      "Subject_2_sex                 70368 non-null object\n",
      "Subject_2_actions             1622 non-null object\n",
      "Subject_2_charges             70246 non-null object\n",
      "Subject_2_charges_st          70246 non-null object\n",
      "Subject_2_force_nature        1644 non-null object\n",
      "Subject_2_injured             70366 non-null object\n",
      "Subject_2_hosp                70351 non-null object\n",
      "Subject_2_killed              1268 non-null object\n",
      "Subject_2_photo               0 non-null float64\n",
      "Subject_3_first               12638 non-null object\n",
      "Subject_3_last                12638 non-null object\n",
      "Subject_3_age                 12638 non-null object\n",
      "Subject_3_race                86 non-null object\n",
      "Subject_3_sex                 12638 non-null object\n",
      "Subject_3_actions             78 non-null object\n",
      "Subject_3_charges             12628 non-null object\n",
      "Subject_3_charges_st          12628 non-null object\n",
      "Subject_3_force_nature        90 non-null object\n",
      "Subject_3_injured             12638 non-null object\n",
      "Subject_3_hosp                12638 non-null object\n",
      "Subject_3_killed              0 non-null float64\n",
      "Subject_3_photo               0 non-null float64\n",
      "Is_second                     420 non-null object\n",
      "Is_third                      155 non-null object\n",
      "Subject_2_force_nature_new    70435 non-null object\n",
      "Subject_3_force_nature_new    90 non-null object\n",
      "dtypes: float64(6), int64(1), object(92)\n",
      "memory usage: 53.3+ MB\n"
     ]
    }
   ],
   "source": [
    "df.info()"
   ]
  },
  {
   "cell_type": "markdown",
   "metadata": {},
   "source": [
    "### Prep columns: Incident key and years"
   ]
  },
  {
   "cell_type": "code",
   "execution_count": 6,
   "metadata": {
    "collapsed": true
   },
   "outputs": [],
   "source": [
    "df['Incident_key'] = df['Town_county'] + ', ' + df.Case_report_no + ', ' + df.Incident_date"
   ]
  },
  {
   "cell_type": "code",
   "execution_count": 7,
   "metadata": {
    "collapsed": false
   },
   "outputs": [],
   "source": [
    "df['Year'] = df.Incident_date.str.split(pat='/', expand=True)[2]\n",
    "\n",
    "df.Year = df.Year.replace(to_replace='12', value='2012')\n",
    "df.Year = df.Year.replace(to_replace='13', value='2013')\n",
    "df.Year = df.Year.replace(to_replace='14', value='2014')\n",
    "df.Year = df.Year.replace(to_replace='15', value='2015')\n",
    "df.Year = df.Year.replace(to_replace='16', value='2016')\n",
    "\n",
    "df.Year = df.Year.replace(to_replace='12 0:00', value='2012')\n",
    "df.Year = df.Year.replace(to_replace='13 0:00', value='2013')\n",
    "df.Year = df.Year.replace(to_replace='14 0:00', value='2014')\n",
    "df.Year = df.Year.replace(to_replace='15 0:00', value='2015')\n",
    "df.Year = df.Year.replace(to_replace='16 0:00', value='2016')\n"
   ]
  },
  {
   "cell_type": "markdown",
   "metadata": {},
   "source": [
    "## Incident totals:"
   ]
  },
  {
   "cell_type": "markdown",
   "metadata": {},
   "source": [
    "#### Total uses of force 2012-2016:"
   ]
  },
  {
   "cell_type": "code",
   "execution_count": 8,
   "metadata": {
    "collapsed": false
   },
   "outputs": [
    {
     "data": {
      "text/plain": [
       "70557"
      ]
     },
     "execution_count": 8,
     "metadata": {},
     "output_type": "execute_result"
    }
   ],
   "source": [
    "df.Incident_key.count()"
   ]
  },
  {
   "cell_type": "markdown",
   "metadata": {},
   "source": [
    "#### Total uses of force by year:"
   ]
  },
  {
   "cell_type": "code",
   "execution_count": 9,
   "metadata": {
    "collapsed": false
   },
   "outputs": [
    {
     "data": {
      "text/plain": [
       "Year\n",
       "2012    13314\n",
       "2013    14002\n",
       "2014    14199\n",
       "2015    14129\n",
       "2016    14777\n",
       "XXXX       21\n",
       "Name: Incident_key, dtype: int64"
      ]
     },
     "execution_count": 9,
     "metadata": {},
     "output_type": "execute_result"
    }
   ],
   "source": [
    "df.pivot_table(index='Year', values='Incident_key', aggfunc=len)"
   ]
  },
  {
   "cell_type": "markdown",
   "metadata": {},
   "source": [
    "#### Incidents 2012-2016 and by year:"
   ]
  },
  {
   "cell_type": "code",
   "execution_count": 10,
   "metadata": {
    "collapsed": false
   },
   "outputs": [
    {
     "name": "stdout",
     "output_type": "stream",
     "text": [
      "Unique incidents, 2012-2016: 43637\n"
     ]
    }
   ],
   "source": [
    "print 'Unique incidents, 2012-2016:', df['Incident_key'].nunique()"
   ]
  },
  {
   "cell_type": "code",
   "execution_count": 11,
   "metadata": {
    "collapsed": false
   },
   "outputs": [
    {
     "data": {
      "text/plain": [
       "Year\n",
       "2012    8751\n",
       "2013    8794\n",
       "2014    8782\n",
       "2015    8501\n",
       "2016    8703\n",
       "XXXX      17\n",
       "Name: Incident_key, dtype: int64"
      ]
     },
     "execution_count": 11,
     "metadata": {},
     "output_type": "execute_result"
    }
   ],
   "source": [
    "by_year = df.pivot_table(index='Year', values='Incident_key', aggfunc=lambda x: len(x.unique()))\n",
    "\n",
    "by_year"
   ]
  },
  {
   "cell_type": "markdown",
   "metadata": {},
   "source": [
    "##  Arrest rates"
   ]
  },
  {
   "cell_type": "markdown",
   "metadata": {},
   "source": [
    "#### Read in arrest dataset"
   ]
  },
  {
   "cell_type": "code",
   "execution_count": 12,
   "metadata": {
    "collapsed": true
   },
   "outputs": [],
   "source": [
    "spreadsheet_id = \"1rd5K7MKdFnoFxIaAVF9LVT9J_EZA1HmRRxKm_ZF_ub8\"\n",
    "to_pre = pd.read_csv(\"https://docs.google.com/spreadsheets/d/\" + spreadsheet_id + \"/export?format=csv\")"
   ]
  },
  {
   "cell_type": "code",
   "execution_count": 13,
   "metadata": {
    "collapsed": false
   },
   "outputs": [
    {
     "data": {
      "text/html": [
       "<div>\n",
       "<table border=\"1\" class=\"dataframe\">\n",
       "  <thead>\n",
       "    <tr style=\"text-align: right;\">\n",
       "      <th></th>\n",
       "      <th>AGENCY</th>\n",
       "      <th>STNAME</th>\n",
       "      <th>ORI</th>\n",
       "      <th>Invensis_county</th>\n",
       "      <th>Invensis_town</th>\n",
       "      <th>Invensis_town_county</th>\n",
       "      <th>TOTAL_ARRESTS_2012</th>\n",
       "      <th>TOTAL_ARRESTS_2013</th>\n",
       "      <th>TOTAL_ARRESTS_2014</th>\n",
       "      <th>TOTAL_ARRESTS_2015</th>\n",
       "      <th>...</th>\n",
       "      <th>Margin of Error; Not Hispanic or Latino: - Asian alone</th>\n",
       "      <th>Estimate; Not Hispanic or Latino: - Native Hawaiian and Other Pacific Islander alone</th>\n",
       "      <th>Margin of Error; Not Hispanic or Latino: - Native Hawaiian and Other Pacific Islander alone</th>\n",
       "      <th>Estimate; Hispanic or Latino:</th>\n",
       "      <th>Margin of Error; Hispanic or Latino:</th>\n",
       "      <th>CENSUS_WHITE_PERCENT</th>\n",
       "      <th>CENSUS_BLACK_PERCENT</th>\n",
       "      <th>CENSUS_AMERICAN_INDIAN_PERCENT</th>\n",
       "      <th>CENSUS_ASIAN_PERCENT</th>\n",
       "      <th>CENSUS_HISPANIC_PERCENT</th>\n",
       "    </tr>\n",
       "  </thead>\n",
       "  <tbody>\n",
       "    <tr>\n",
       "      <th>0</th>\n",
       "      <td>ABERDEEN TOWNSHIP</td>\n",
       "      <td>N J</td>\n",
       "      <td>NJ01330</td>\n",
       "      <td>Monmouth County</td>\n",
       "      <td>Aberdeen</td>\n",
       "      <td>Aberdeen, Monmouth County</td>\n",
       "      <td>617.0</td>\n",
       "      <td>575.0</td>\n",
       "      <td>584.0</td>\n",
       "      <td>626.0</td>\n",
       "      <td>...</td>\n",
       "      <td>323.0</td>\n",
       "      <td>8.0</td>\n",
       "      <td>13.0</td>\n",
       "      <td>1756.0</td>\n",
       "      <td>285.0</td>\n",
       "      <td>70.407829</td>\n",
       "      <td>10.764269</td>\n",
       "      <td>0.049202</td>\n",
       "      <td>5.980757</td>\n",
       "      <td>9.599825</td>\n",
       "    </tr>\n",
       "    <tr>\n",
       "      <th>1</th>\n",
       "      <td>ABSECON</td>\n",
       "      <td>N J</td>\n",
       "      <td>NJ00101</td>\n",
       "      <td>Atlantic County</td>\n",
       "      <td>Absecon</td>\n",
       "      <td>Absecon, Atlantic County</td>\n",
       "      <td>355.0</td>\n",
       "      <td>384.0</td>\n",
       "      <td>291.0</td>\n",
       "      <td>228.0</td>\n",
       "      <td>...</td>\n",
       "      <td>210.0</td>\n",
       "      <td>0.0</td>\n",
       "      <td>17.0</td>\n",
       "      <td>886.0</td>\n",
       "      <td>249.0</td>\n",
       "      <td>74.117089</td>\n",
       "      <td>7.110690</td>\n",
       "      <td>0.118511</td>\n",
       "      <td>5.842617</td>\n",
       "      <td>10.500119</td>\n",
       "    </tr>\n",
       "    <tr>\n",
       "      <th>2</th>\n",
       "      <td>ALLENDALE</td>\n",
       "      <td>N J</td>\n",
       "      <td>NJ00201</td>\n",
       "      <td>Bergen County</td>\n",
       "      <td>Allendale</td>\n",
       "      <td>Allendale, Bergen County</td>\n",
       "      <td>82.0</td>\n",
       "      <td>84.0</td>\n",
       "      <td>103.0</td>\n",
       "      <td>105.0</td>\n",
       "      <td>...</td>\n",
       "      <td>207.0</td>\n",
       "      <td>0.0</td>\n",
       "      <td>17.0</td>\n",
       "      <td>134.0</td>\n",
       "      <td>78.0</td>\n",
       "      <td>83.744643</td>\n",
       "      <td>1.108320</td>\n",
       "      <td>0.000000</td>\n",
       "      <td>11.216196</td>\n",
       "      <td>1.980198</td>\n",
       "    </tr>\n",
       "    <tr>\n",
       "      <th>3</th>\n",
       "      <td>ALLENHURST</td>\n",
       "      <td>N J</td>\n",
       "      <td>NJ01301</td>\n",
       "      <td>Monmouth County</td>\n",
       "      <td>Allenhurst</td>\n",
       "      <td>Allenhurst, Monmouth County</td>\n",
       "      <td>141.0</td>\n",
       "      <td>152.0</td>\n",
       "      <td>135.0</td>\n",
       "      <td>116.0</td>\n",
       "      <td>...</td>\n",
       "      <td>11.0</td>\n",
       "      <td>5.0</td>\n",
       "      <td>10.0</td>\n",
       "      <td>15.0</td>\n",
       "      <td>13.0</td>\n",
       "      <td>94.354839</td>\n",
       "      <td>0.000000</td>\n",
       "      <td>0.000000</td>\n",
       "      <td>1.612903</td>\n",
       "      <td>3.024194</td>\n",
       "    </tr>\n",
       "    <tr>\n",
       "      <th>4</th>\n",
       "      <td>ALLENTOWN</td>\n",
       "      <td>N J</td>\n",
       "      <td>NJ01302</td>\n",
       "      <td>Monmouth County</td>\n",
       "      <td>Allentown</td>\n",
       "      <td>Allentown, Monmouth County</td>\n",
       "      <td>20.0</td>\n",
       "      <td>32.0</td>\n",
       "      <td>64.0</td>\n",
       "      <td>37.0</td>\n",
       "      <td>...</td>\n",
       "      <td>13.0</td>\n",
       "      <td>0.0</td>\n",
       "      <td>12.0</td>\n",
       "      <td>56.0</td>\n",
       "      <td>42.0</td>\n",
       "      <td>90.158730</td>\n",
       "      <td>2.751323</td>\n",
       "      <td>0.000000</td>\n",
       "      <td>0.846561</td>\n",
       "      <td>2.962963</td>\n",
       "    </tr>\n",
       "  </tbody>\n",
       "</table>\n",
       "<p>5 rows × 84 columns</p>\n",
       "</div>"
      ],
      "text/plain": [
       "              AGENCY STNAME      ORI  Invensis_county Invensis_town  \\\n",
       "0  ABERDEEN TOWNSHIP    N J  NJ01330  Monmouth County      Aberdeen   \n",
       "1            ABSECON    N J  NJ00101  Atlantic County       Absecon   \n",
       "2          ALLENDALE    N J  NJ00201    Bergen County     Allendale   \n",
       "3         ALLENHURST    N J  NJ01301  Monmouth County    Allenhurst   \n",
       "4          ALLENTOWN    N J  NJ01302  Monmouth County     Allentown   \n",
       "\n",
       "          Invensis_town_county  TOTAL_ARRESTS_2012  TOTAL_ARRESTS_2013  \\\n",
       "0    Aberdeen, Monmouth County               617.0               575.0   \n",
       "1     Absecon, Atlantic County               355.0               384.0   \n",
       "2     Allendale, Bergen County                82.0                84.0   \n",
       "3  Allenhurst, Monmouth County               141.0               152.0   \n",
       "4   Allentown, Monmouth County                20.0                32.0   \n",
       "\n",
       "   TOTAL_ARRESTS_2014  TOTAL_ARRESTS_2015           ...             \\\n",
       "0               584.0               626.0           ...              \n",
       "1               291.0               228.0           ...              \n",
       "2               103.0               105.0           ...              \n",
       "3               135.0               116.0           ...              \n",
       "4                64.0                37.0           ...              \n",
       "\n",
       "   Margin of Error; Not Hispanic or Latino: - Asian alone  \\\n",
       "0                                              323.0        \n",
       "1                                              210.0        \n",
       "2                                              207.0        \n",
       "3                                               11.0        \n",
       "4                                               13.0        \n",
       "\n",
       "   Estimate; Not Hispanic or Latino: - Native Hawaiian and Other Pacific Islander alone  \\\n",
       "0                                                8.0                                      \n",
       "1                                                0.0                                      \n",
       "2                                                0.0                                      \n",
       "3                                                5.0                                      \n",
       "4                                                0.0                                      \n",
       "\n",
       "   Margin of Error; Not Hispanic or Latino: - Native Hawaiian and Other Pacific Islander alone  \\\n",
       "0                                               13.0                                             \n",
       "1                                               17.0                                             \n",
       "2                                               17.0                                             \n",
       "3                                               10.0                                             \n",
       "4                                               12.0                                             \n",
       "\n",
       "   Estimate; Hispanic or Latino:  Margin of Error; Hispanic or Latino:  \\\n",
       "0                         1756.0                                 285.0   \n",
       "1                          886.0                                 249.0   \n",
       "2                          134.0                                  78.0   \n",
       "3                           15.0                                  13.0   \n",
       "4                           56.0                                  42.0   \n",
       "\n",
       "   CENSUS_WHITE_PERCENT  CENSUS_BLACK_PERCENT  CENSUS_AMERICAN_INDIAN_PERCENT  \\\n",
       "0             70.407829             10.764269                        0.049202   \n",
       "1             74.117089              7.110690                        0.118511   \n",
       "2             83.744643              1.108320                        0.000000   \n",
       "3             94.354839              0.000000                        0.000000   \n",
       "4             90.158730              2.751323                        0.000000   \n",
       "\n",
       "   CENSUS_ASIAN_PERCENT  CENSUS_HISPANIC_PERCENT  \n",
       "0              5.980757                 9.599825  \n",
       "1              5.842617                10.500119  \n",
       "2             11.216196                 1.980198  \n",
       "3              1.612903                 3.024194  \n",
       "4              0.846561                 2.962963  \n",
       "\n",
       "[5 rows x 84 columns]"
      ]
     },
     "execution_count": 13,
     "metadata": {},
     "output_type": "execute_result"
    }
   ],
   "source": [
    "to_pre.head()"
   ]
  },
  {
   "cell_type": "markdown",
   "metadata": {},
   "source": [
    "#### Total arrests, and by year:"
   ]
  },
  {
   "cell_type": "code",
   "execution_count": 14,
   "metadata": {
    "collapsed": false
   },
   "outputs": [
    {
     "data": {
      "text/plain": [
       "TOTAL_ARRESTS_2012    292861.0\n",
       "TOTAL_ARRESTS_2013    278472.0\n",
       "TOTAL_ARRESTS_2014    270359.0\n",
       "TOTAL_ARRESTS_2015    257809.0\n",
       "TOTAL_ARRESTS_2016    262737.0\n",
       "dtype: float64"
      ]
     },
     "execution_count": 14,
     "metadata": {},
     "output_type": "execute_result"
    }
   ],
   "source": [
    "ar = to_pre[['TOTAL_ARRESTS_2012', 'TOTAL_ARRESTS_2013', 'TOTAL_ARRESTS_2014', \n",
    "       'TOTAL_ARRESTS_2015', 'TOTAL_ARRESTS_2016']].sum()\n",
    "\n",
    "ar"
   ]
  },
  {
   "cell_type": "code",
   "execution_count": 15,
   "metadata": {
    "collapsed": false
   },
   "outputs": [],
   "source": [
    "tot_arrests = ar.sum()"
   ]
  },
  {
   "cell_type": "markdown",
   "metadata": {},
   "source": [
    "#### Non-edp incidents by year"
   ]
  },
  {
   "cell_type": "code",
   "execution_count": 16,
   "metadata": {
    "collapsed": false
   },
   "outputs": [
    {
     "data": {
      "text/plain": [
       "Year\n",
       "2012    8447\n",
       "2013    8458\n",
       "2014    8387\n",
       "2015    8060\n",
       "2016    8099\n",
       "XXXX      16\n",
       "Name: Incident_key, dtype: int64"
      ]
     },
     "execution_count": 16,
     "metadata": {},
     "output_type": "execute_result"
    }
   ],
   "source": [
    "all_UOF_data_no_blank_charges = df[(df['Incident_EDP'] != 'EDP') & (df['Subject_1_charges'] != 'EDP/MEDICAL')  | (df['Subject_1_charges'] != 'BLANK')]\n",
    "\n",
    "year_nedp = all_UOF_data_no_blank_charges.pivot_table(index='Year', values='Incident_key', aggfunc=lambda x: len(x.unique()))\n",
    "year_nedp"
   ]
  },
  {
   "cell_type": "markdown",
   "metadata": {},
   "source": [
    "### Incidents per arrest:"
   ]
  },
  {
   "cell_type": "code",
   "execution_count": 17,
   "metadata": {
    "collapsed": false
   },
   "outputs": [
    {
     "name": "stdout",
     "output_type": "stream",
     "text": [
      "Incidents per 1,000 arrests 29.8831775358\n"
     ]
    }
   ],
   "source": [
    "print \"Incidents per 1,000 arrests\", (float(df[df.Incident_EDP != 'EDP'].Incident_key.nunique()) / tot_arrests ) * 1000"
   ]
  },
  {
   "cell_type": "code",
   "execution_count": 56,
   "metadata": {
    "collapsed": false
   },
   "outputs": [
    {
     "name": "stdout",
     "output_type": "stream",
     "text": [
      "Incidents per 1,000 arrests 2012: 29.7213992667\n",
      "Incidents per 1,000 arrests 2013: 31.2256568722\n",
      "Incidents per 1,000 arrests 2014: 32.0528009417\n",
      "Incidents per 1,000 arrests 2015: 32.2099802984\n",
      "Incidents per 1,000 arrests 2016: 31.6577414689\n"
     ]
    }
   ],
   "source": [
    "print \"Incidents per 1,000 arrests 2012:\", (8447 / 284206.0 ) * 1000\n",
    "print \"Incidents per 1,000 arrests 2013:\", (8458 / 270867.0 ) * 1000\n",
    "print \"Incidents per 1,000 arrests 2014:\", (8387 / 261662.0 ) * 1000\n",
    "print \"Incidents per 1,000 arrests 2015:\", (8060 / 250233.0 ) * 1000\n",
    "print \"Incidents per 1,000 arrests 2016:\", (8099 / 255830.0) * 1000"
   ]
  },
  {
   "cell_type": "markdown",
   "metadata": {},
   "source": [
    "## Incidents by race:"
   ]
  },
  {
   "cell_type": "markdown",
   "metadata": {},
   "source": [
    "#### Percentage of subjects in incidents by race:"
   ]
  },
  {
   "cell_type": "code",
   "execution_count": 19,
   "metadata": {
    "collapsed": false
   },
   "outputs": [
    {
     "data": {
      "text/html": [
       "<div>\n",
       "<table border=\"1\" class=\"dataframe\">\n",
       "  <thead>\n",
       "    <tr style=\"text-align: right;\">\n",
       "      <th></th>\n",
       "      <th>Incident_key</th>\n",
       "      <th>Percent of total</th>\n",
       "    </tr>\n",
       "    <tr>\n",
       "      <th>Subject_1_race</th>\n",
       "      <th></th>\n",
       "      <th></th>\n",
       "    </tr>\n",
       "  </thead>\n",
       "  <tbody>\n",
       "    <tr>\n",
       "      <th>asian</th>\n",
       "      <td>273</td>\n",
       "      <td>0.613994</td>\n",
       "    </tr>\n",
       "    <tr>\n",
       "      <th>asian/pacific islander</th>\n",
       "      <td>117</td>\n",
       "      <td>0.263140</td>\n",
       "    </tr>\n",
       "    <tr>\n",
       "      <th>black</th>\n",
       "      <td>17457</td>\n",
       "      <td>39.261858</td>\n",
       "    </tr>\n",
       "    <tr>\n",
       "      <th>blank</th>\n",
       "      <td>1</td>\n",
       "      <td>0.002249</td>\n",
       "    </tr>\n",
       "    <tr>\n",
       "      <th>canine</th>\n",
       "      <td>4</td>\n",
       "      <td>0.008996</td>\n",
       "    </tr>\n",
       "    <tr>\n",
       "      <th>hispanic</th>\n",
       "      <td>4447</td>\n",
       "      <td>10.001574</td>\n",
       "    </tr>\n",
       "    <tr>\n",
       "      <th>illegible</th>\n",
       "      <td>18</td>\n",
       "      <td>0.040483</td>\n",
       "    </tr>\n",
       "    <tr>\n",
       "      <th>mixed</th>\n",
       "      <td>4</td>\n",
       "      <td>0.008996</td>\n",
       "    </tr>\n",
       "    <tr>\n",
       "      <th>native american</th>\n",
       "      <td>17</td>\n",
       "      <td>0.038234</td>\n",
       "    </tr>\n",
       "    <tr>\n",
       "      <th>not listed</th>\n",
       "      <td>877</td>\n",
       "      <td>1.972427</td>\n",
       "    </tr>\n",
       "    <tr>\n",
       "      <th>other</th>\n",
       "      <td>29</td>\n",
       "      <td>0.065223</td>\n",
       "    </tr>\n",
       "    <tr>\n",
       "      <th>pacific islander</th>\n",
       "      <td>8</td>\n",
       "      <td>0.017992</td>\n",
       "    </tr>\n",
       "    <tr>\n",
       "      <th>redacted</th>\n",
       "      <td>158</td>\n",
       "      <td>0.355352</td>\n",
       "    </tr>\n",
       "    <tr>\n",
       "      <th>white</th>\n",
       "      <td>21053</td>\n",
       "      <td>47.349482</td>\n",
       "    </tr>\n",
       "  </tbody>\n",
       "</table>\n",
       "</div>"
      ],
      "text/plain": [
       "                        Incident_key  Percent of total\n",
       "Subject_1_race                                        \n",
       "asian                            273          0.613994\n",
       "asian/pacific islander           117          0.263140\n",
       "black                          17457         39.261858\n",
       "blank                              1          0.002249\n",
       "canine                             4          0.008996\n",
       "hispanic                        4447         10.001574\n",
       "illegible                         18          0.040483\n",
       "mixed                              4          0.008996\n",
       "native american                   17          0.038234\n",
       "not listed                       877          1.972427\n",
       "other                             29          0.065223\n",
       "pacific islander                   8          0.017992\n",
       "redacted                         158          0.355352\n",
       "white                          21053         47.349482"
      ]
     },
     "execution_count": 19,
     "metadata": {},
     "output_type": "execute_result"
    }
   ],
   "source": [
    "race_piv = pd.DataFrame(df.pivot_table(index='Subject_1_race', values='Incident_key', aggfunc=lambda x: len(x.unique())))\n",
    "\n",
    "race_piv['Percent of total'] = (race_piv['Incident_key'] / race_piv.Incident_key.sum(axis=0)) * 100\n",
    "\n",
    "race_piv"
   ]
  },
  {
   "cell_type": "markdown",
   "metadata": {},
   "source": [
    "#### Racial breakdown excluding EDPs:"
   ]
  },
  {
   "cell_type": "code",
   "execution_count": 20,
   "metadata": {
    "collapsed": false
   },
   "outputs": [
    {
     "data": {
      "text/html": [
       "<div>\n",
       "<table border=\"1\" class=\"dataframe\">\n",
       "  <thead>\n",
       "    <tr style=\"text-align: right;\">\n",
       "      <th></th>\n",
       "      <th>Incident_key</th>\n",
       "      <th>Percent of total</th>\n",
       "    </tr>\n",
       "    <tr>\n",
       "      <th>Subject_1_race</th>\n",
       "      <th></th>\n",
       "      <th></th>\n",
       "    </tr>\n",
       "  </thead>\n",
       "  <tbody>\n",
       "    <tr>\n",
       "      <th>asian</th>\n",
       "      <td>238</td>\n",
       "      <td>0.573757</td>\n",
       "    </tr>\n",
       "    <tr>\n",
       "      <th>asian/pacific islander</th>\n",
       "      <td>106</td>\n",
       "      <td>0.255539</td>\n",
       "    </tr>\n",
       "    <tr>\n",
       "      <th>black</th>\n",
       "      <td>16793</td>\n",
       "      <td>40.483595</td>\n",
       "    </tr>\n",
       "    <tr>\n",
       "      <th>blank</th>\n",
       "      <td>1</td>\n",
       "      <td>0.002411</td>\n",
       "    </tr>\n",
       "    <tr>\n",
       "      <th>canine</th>\n",
       "      <td>4</td>\n",
       "      <td>0.009643</td>\n",
       "    </tr>\n",
       "    <tr>\n",
       "      <th>hispanic</th>\n",
       "      <td>4256</td>\n",
       "      <td>10.260119</td>\n",
       "    </tr>\n",
       "    <tr>\n",
       "      <th>illegible</th>\n",
       "      <td>15</td>\n",
       "      <td>0.036161</td>\n",
       "    </tr>\n",
       "    <tr>\n",
       "      <th>mixed</th>\n",
       "      <td>4</td>\n",
       "      <td>0.009643</td>\n",
       "    </tr>\n",
       "    <tr>\n",
       "      <th>native american</th>\n",
       "      <td>15</td>\n",
       "      <td>0.036161</td>\n",
       "    </tr>\n",
       "    <tr>\n",
       "      <th>not listed</th>\n",
       "      <td>814</td>\n",
       "      <td>1.962344</td>\n",
       "    </tr>\n",
       "    <tr>\n",
       "      <th>other</th>\n",
       "      <td>22</td>\n",
       "      <td>0.053036</td>\n",
       "    </tr>\n",
       "    <tr>\n",
       "      <th>pacific islander</th>\n",
       "      <td>8</td>\n",
       "      <td>0.019286</td>\n",
       "    </tr>\n",
       "    <tr>\n",
       "      <th>redacted</th>\n",
       "      <td>147</td>\n",
       "      <td>0.354379</td>\n",
       "    </tr>\n",
       "    <tr>\n",
       "      <th>white</th>\n",
       "      <td>19058</td>\n",
       "      <td>45.943926</td>\n",
       "    </tr>\n",
       "  </tbody>\n",
       "</table>\n",
       "</div>"
      ],
      "text/plain": [
       "                        Incident_key  Percent of total\n",
       "Subject_1_race                                        \n",
       "asian                            238          0.573757\n",
       "asian/pacific islander           106          0.255539\n",
       "black                          16793         40.483595\n",
       "blank                              1          0.002411\n",
       "canine                             4          0.009643\n",
       "hispanic                        4256         10.260119\n",
       "illegible                         15          0.036161\n",
       "mixed                              4          0.009643\n",
       "native american                   15          0.036161\n",
       "not listed                       814          1.962344\n",
       "other                             22          0.053036\n",
       "pacific islander                   8          0.019286\n",
       "redacted                         147          0.354379\n",
       "white                          19058         45.943926"
      ]
     },
     "execution_count": 20,
     "metadata": {},
     "output_type": "execute_result"
    }
   ],
   "source": [
    "race_nedp = pd.DataFrame(df[df.Incident_EDP != 'EDP'].pivot_table(index='Subject_1_race', values='Incident_key', aggfunc=lambda x: len(x.unique())))\n",
    "\n",
    "race_nedp['Percent of total'] = (race_nedp['Incident_key'] / race_nedp.Incident_key.sum(axis=0)) * 100\n",
    "\n",
    "race_nedp"
   ]
  },
  {
   "cell_type": "markdown",
   "metadata": {},
   "source": [
    "#### Percent of arrests:"
   ]
  },
  {
   "cell_type": "code",
   "execution_count": 21,
   "metadata": {
    "collapsed": true
   },
   "outputs": [],
   "source": [
    "wh_arrests = to_pre[[u'TOTAL_WHITE_ARRESTS_2012', u'TOTAL_WHITE_ARRESTS_2013',\n",
    "       u'TOTAL_WHITE_ARRESTS_2014', u'TOTAL_WHITE_ARRESTS_2015',\n",
    "       u'TOTAL_WHITE_ARRESTS_2016']].sum().sum()\n",
    "\n",
    "bl_arrests = to_pre[[u'TOTAL_BLACK_ARRESTS_2012',\n",
    "       u'TOTAL_BLACK_ARRESTS_2013', u'TOTAL_BLACK_ARRESTS_2014',\n",
    "       u'TOTAL_BLACK_ARRESTS_2015', u'TOTAL_BLACK_ARRESTS_2016']].sum().sum()\n",
    "\n",
    "hi_arrests = 0\n",
    "\n",
    "api_arrests = to_pre[[u'TOTAL_API_ARRESTS_2013', u'TOTAL_API_ARRESTS_2014',\n",
    "       u'TOTAL_API_ARRESTS_2015', u'TOTAL_API_ARRESTS_2016']].sum().sum()\n",
    "\n",
    "aian_arrests = to_pre[[  u'TOTAL_AIAN_ARRESTS_2012', u'TOTAL_AIAN_ARRESTS_2013',\n",
    "       u'TOTAL_AIAN_ARRESTS_2014', u'TOTAL_AIAN_ARRESTS_2015',\n",
    "       u'TOTAL_AIAN_ARRESTS_2016']].sum().sum()"
   ]
  },
  {
   "cell_type": "code",
   "execution_count": 22,
   "metadata": {
    "collapsed": false
   },
   "outputs": [
    {
     "name": "stdout",
     "output_type": "stream",
     "text": [
      "White people percent of arrests:  54.7369108775\n",
      "Black people percent of arrests:  34.816236223\n",
      "Hispanic people percent of arrests:  0.0\n",
      "API people percent of arrests:  1.04108092712\n",
      "AIAN people percent of arrests:  0.149606750069\n"
     ]
    }
   ],
   "source": [
    "print 'White people percent of arrests: ', wh_arrests / tot_arrests * 100\n",
    "print 'Black people percent of arrests: ', bl_arrests / tot_arrests * 100\n",
    "print 'Hispanic people percent of arrests: ', hi_arrests / tot_arrests * 100\n",
    "print 'API people percent of arrests: ', api_arrests / tot_arrests * 100\n",
    "print 'AIAN people percent of arrests: ', aian_arrests / tot_arrests * 100"
   ]
  },
  {
   "cell_type": "markdown",
   "metadata": {},
   "source": [
    "#### Percent of population:"
   ]
  },
  {
   "cell_type": "code",
   "execution_count": 23,
   "metadata": {
    "collapsed": false
   },
   "outputs": [],
   "source": [
    "# Read in Census summary because some of the pop data appeared to be messed up in the arrests file (prob. NJSP)\n",
    "pop_df = pd.read_csv('Data_sources/Race_pop/ACS_16_5YR_B03002_with_ann.csv', skiprows=1)"
   ]
  },
  {
   "cell_type": "code",
   "execution_count": 24,
   "metadata": {
    "collapsed": false
   },
   "outputs": [],
   "source": [
    "tot_pop = float(pop_df['Estimate; Total:'].sum())\n",
    "wh_pop = float(pop_df['Estimate; Not Hispanic or Latino: - White alone'].sum())\n",
    "bl_pop = float(pop_df['Estimate; Not Hispanic or Latino: - Black or African American alone'].sum())\n",
    "hi_pop = float( pop_df['Estimate; Hispanic or Latino:'].sum())\n",
    "api_pop = float( pop_df['Estimate; Not Hispanic or Latino: - Asian alone'].sum() + pop_df['Estimate; Not Hispanic or Latino: - Native Hawaiian and Other Pacific Islander alone'].sum())\n",
    "aian_pop = float( pop_df['Estimate; Not Hispanic or Latino: - American Indian and Alaska Native alone'].sum())"
   ]
  },
  {
   "cell_type": "code",
   "execution_count": 25,
   "metadata": {
    "collapsed": false
   },
   "outputs": [
    {
     "name": "stdout",
     "output_type": "stream",
     "text": [
      "White people percent of population: 56.6949239613\n",
      "Black people percent of population: 12.7185642552\n",
      "Hispanic people percent of population: 19.2904434725\n",
      "API people percent of population: 9.15246511227\n",
      "AIAN people percent of population: 0.106657472147\n"
     ]
    }
   ],
   "source": [
    "print 'White people percent of population:', (wh_pop / tot_pop) * 100\n",
    "print 'Black people percent of population:', (bl_pop / tot_pop) * 100\n",
    "print 'Hispanic people percent of population:', (hi_pop / tot_pop) * 100\n",
    "print 'API people percent of population:', (api_pop / tot_pop) * 100\n",
    "print 'AIAN people percent of population:', (aian_pop / tot_pop) * 100"
   ]
  },
  {
   "cell_type": "markdown",
   "metadata": {},
   "source": [
    "#### White-black odds ratios:"
   ]
  },
  {
   "cell_type": "code",
   "execution_count": 26,
   "metadata": {
    "collapsed": false
   },
   "outputs": [
    {
     "name": "stdout",
     "output_type": "stream",
     "text": [
      "Black - white population odds ratio: 3.6962531717\n"
     ]
    }
   ],
   "source": [
    "print \"Black - white population odds ratio:\" , ((race_piv.loc[['black'], \n",
    "                                                              ['Incident_key']].Incident_key.sum() / bl_pop) / (race_piv.loc[['white'],\n",
    "                                                                                                                             ['Incident_key']].Incident_key.sum() / wh_pop))"
   ]
  },
  {
   "cell_type": "code",
   "execution_count": 27,
   "metadata": {
    "collapsed": false
   },
   "outputs": [
    {
     "name": "stdout",
     "output_type": "stream",
     "text": [
      "Black - white arrests odds ratio: 1.38531784635\n"
     ]
    }
   ],
   "source": [
    "# excluded EDPs\n",
    "print \"Black - white arrests odds ratio:\" , ((race_nedp.loc[['black'], \n",
    "                                                              ['Incident_key']].Incident_key.sum() / bl_arrests) / (race_nedp.loc[['white'],\n",
    "                                                                                                                             ['Incident_key']].Incident_key.sum() / wh_arrests))"
   ]
  },
  {
   "cell_type": "markdown",
   "metadata": {},
   "source": [
    "## Officer statistics"
   ]
  },
  {
   "cell_type": "markdown",
   "metadata": {},
   "source": [
    "#### Total number of unique officers:"
   ]
  },
  {
   "cell_type": "code",
   "execution_count": 28,
   "metadata": {
    "collapsed": false
   },
   "outputs": [
    {
     "data": {
      "text/plain": [
       "19231"
      ]
     },
     "execution_count": 28,
     "metadata": {},
     "output_type": "execute_result"
    }
   ],
   "source": [
    "df.officerid.nunique()"
   ]
  },
  {
   "cell_type": "markdown",
   "metadata": {},
   "source": [
    "#### Incidents per officer, on average:"
   ]
  },
  {
   "cell_type": "code",
   "execution_count": 29,
   "metadata": {
    "collapsed": false
   },
   "outputs": [
    {
     "data": {
      "text/plain": [
       "3.6689199729603246"
      ]
     },
     "execution_count": 29,
     "metadata": {},
     "output_type": "execute_result"
    }
   ],
   "source": [
    "float(df.Incident_key.count()) / df.officerid.nunique()"
   ]
  },
  {
   "cell_type": "markdown",
   "metadata": {},
   "source": [
    "#### Officer racial breakdown"
   ]
  },
  {
   "cell_type": "code",
   "execution_count": 30,
   "metadata": {
    "collapsed": false
   },
   "outputs": [
    {
     "data": {
      "text/html": [
       "<div>\n",
       "<table border=\"1\" class=\"dataframe\">\n",
       "  <thead>\n",
       "    <tr style=\"text-align: right;\">\n",
       "      <th></th>\n",
       "      <th>Incident_key</th>\n",
       "      <th>Percent</th>\n",
       "    </tr>\n",
       "    <tr>\n",
       "      <th>Officer_1_race</th>\n",
       "      <th></th>\n",
       "      <th></th>\n",
       "    </tr>\n",
       "  </thead>\n",
       "  <tbody>\n",
       "    <tr>\n",
       "      <th>asian</th>\n",
       "      <td>531</td>\n",
       "      <td>0.752540</td>\n",
       "    </tr>\n",
       "    <tr>\n",
       "      <th>asian/pacific islander</th>\n",
       "      <td>121</td>\n",
       "      <td>0.171483</td>\n",
       "    </tr>\n",
       "    <tr>\n",
       "      <th>black</th>\n",
       "      <td>4467</td>\n",
       "      <td>6.330693</td>\n",
       "    </tr>\n",
       "    <tr>\n",
       "      <th>black/white</th>\n",
       "      <td>2</td>\n",
       "      <td>0.002834</td>\n",
       "    </tr>\n",
       "    <tr>\n",
       "      <th>hispanic</th>\n",
       "      <td>3980</td>\n",
       "      <td>5.640510</td>\n",
       "    </tr>\n",
       "    <tr>\n",
       "      <th>illegible</th>\n",
       "      <td>23</td>\n",
       "      <td>0.032596</td>\n",
       "    </tr>\n",
       "    <tr>\n",
       "      <th>mixed</th>\n",
       "      <td>27</td>\n",
       "      <td>0.038265</td>\n",
       "    </tr>\n",
       "    <tr>\n",
       "      <th>native american</th>\n",
       "      <td>7</td>\n",
       "      <td>0.009920</td>\n",
       "    </tr>\n",
       "    <tr>\n",
       "      <th>not listed</th>\n",
       "      <td>19224</td>\n",
       "      <td>27.244512</td>\n",
       "    </tr>\n",
       "    <tr>\n",
       "      <th>other</th>\n",
       "      <td>37</td>\n",
       "      <td>0.052437</td>\n",
       "    </tr>\n",
       "    <tr>\n",
       "      <th>pacific islander</th>\n",
       "      <td>3</td>\n",
       "      <td>0.004252</td>\n",
       "    </tr>\n",
       "    <tr>\n",
       "      <th>unknown</th>\n",
       "      <td>92</td>\n",
       "      <td>0.130384</td>\n",
       "    </tr>\n",
       "    <tr>\n",
       "      <th>white</th>\n",
       "      <td>42047</td>\n",
       "      <td>59.589575</td>\n",
       "    </tr>\n",
       "  </tbody>\n",
       "</table>\n",
       "</div>"
      ],
      "text/plain": [
       "                        Incident_key    Percent\n",
       "Officer_1_race                                 \n",
       "asian                            531   0.752540\n",
       "asian/pacific islander           121   0.171483\n",
       "black                           4467   6.330693\n",
       "black/white                        2   0.002834\n",
       "hispanic                        3980   5.640510\n",
       "illegible                         23   0.032596\n",
       "mixed                             27   0.038265\n",
       "native american                    7   0.009920\n",
       "not listed                     19224  27.244512\n",
       "other                             37   0.052437\n",
       "pacific islander                   3   0.004252\n",
       "unknown                           92   0.130384\n",
       "white                          42047  59.589575"
      ]
     },
     "execution_count": 30,
     "metadata": {},
     "output_type": "execute_result"
    }
   ],
   "source": [
    "offrace = pd.DataFrame(df.pivot_table(index='Officer_1_race', values='Incident_key', aggfunc=len))\n",
    "offrace['Percent'] = (offrace.Incident_key / offrace.Incident_key.sum(axis=0)) * 100\n",
    "offrace"
   ]
  },
  {
   "cell_type": "markdown",
   "metadata": {},
   "source": [
    "## Top officers\n"
   ]
  },
  {
   "cell_type": "code",
   "execution_count": 31,
   "metadata": {
    "collapsed": false
   },
   "outputs": [
    {
     "data": {
      "text/html": [
       "<div>\n",
       "<table border=\"1\" class=\"dataframe\">\n",
       "  <thead>\n",
       "    <tr style=\"text-align: right;\">\n",
       "      <th></th>\n",
       "      <th>Number of incidents for this officer</th>\n",
       "    </tr>\n",
       "  </thead>\n",
       "  <tbody>\n",
       "    <tr>\n",
       "      <th>ScottMSendrickAtlanticCity</th>\n",
       "      <td>62</td>\n",
       "    </tr>\n",
       "    <tr>\n",
       "      <th>JamesDayVineland</th>\n",
       "      <td>59</td>\n",
       "    </tr>\n",
       "    <tr>\n",
       "      <th>JosephDixonMillville</th>\n",
       "      <td>58</td>\n",
       "    </tr>\n",
       "    <tr>\n",
       "      <th>RyanPDuffyPaterson</th>\n",
       "      <td>56</td>\n",
       "    </tr>\n",
       "    <tr>\n",
       "      <th>PatrickJoyceLongBranch</th>\n",
       "      <td>52</td>\n",
       "    </tr>\n",
       "  </tbody>\n",
       "</table>\n",
       "</div>"
      ],
      "text/plain": [
       "                            Number of incidents for this officer\n",
       "ScottMSendrickAtlanticCity                                    62\n",
       "JamesDayVineland                                              59\n",
       "JosephDixonMillville                                          58\n",
       "RyanPDuffyPaterson                                            56\n",
       "PatrickJoyceLongBranch                                        52"
      ]
     },
     "execution_count": 31,
     "metadata": {},
     "output_type": "execute_result"
    }
   ],
   "source": [
    "#basic list of top officers\n",
    "top_off_start = pd.DataFrame(df.officerid.value_counts().head(26))\n",
    "top_off_start = top_off_start.rename(columns={'officerid':'Number of incidents for this officer'})\n",
    "top_off_start.head()"
   ]
  },
  {
   "cell_type": "code",
   "execution_count": 32,
   "metadata": {
    "collapsed": false
   },
   "outputs": [],
   "source": [
    "#got rid of MIs cause they were throwing first names off\n",
    "df.Officer_1_first = df.Officer_1_first.str.split(pat=' ', expand=True)[0]\n",
    "\n",
    "#then created pivot table of info you're looking for\n",
    "all_off = pd.DataFrame(df.pivot_table(index=['officerid', 'Officer_1_first', 'Officer_1_last', 'Officer_1_rank', \n",
    "                               'Officer_1_race', 'Town_county'], values='Incident_key', aggfunc=len)).reset_index()\n",
    "\n",
    "all_off = all_off.rename(columns={'Incident_key': 'Rows with this data'})"
   ]
  },
  {
   "cell_type": "code",
   "execution_count": 33,
   "metadata": {
    "collapsed": false
   },
   "outputs": [],
   "source": [
    "#merge em\n",
    "top_off_all = top_off_start.merge(all_off, how='left', left_index=True, right_on='officerid')"
   ]
  },
  {
   "cell_type": "code",
   "execution_count": 34,
   "metadata": {
    "collapsed": false,
    "scrolled": false
   },
   "outputs": [],
   "source": [
    "#Pivot table of department totals\n",
    "town_county_piv = pd.DataFrame(df.pivot_table(index='Town_county', values='Incident_key', aggfunc=lambda x: len(x.unique())))\n",
    "town_county_piv = town_county_piv.rename(columns={'Incident_key': 'Department_incidents'})"
   ]
  },
  {
   "cell_type": "code",
   "execution_count": 35,
   "metadata": {
    "collapsed": false
   },
   "outputs": [],
   "source": [
    "top_off = top_off_all.merge(town_county_piv, how='left', left_on='Town_county', right_index=True)\n",
    "\n",
    "top_off['Percent of department'] = (top_off['Number of incidents for this officer'] / top_off['Department_incidents']) * 100"
   ]
  },
  {
   "cell_type": "code",
   "execution_count": 36,
   "metadata": {
    "collapsed": false
   },
   "outputs": [
    {
     "data": {
      "text/html": [
       "<div>\n",
       "<table border=\"1\" class=\"dataframe\">\n",
       "  <thead>\n",
       "    <tr style=\"text-align: right;\">\n",
       "      <th></th>\n",
       "      <th>Number of incidents for this officer</th>\n",
       "      <th>officerid</th>\n",
       "      <th>Officer_1_first</th>\n",
       "      <th>Officer_1_last</th>\n",
       "      <th>Officer_1_rank</th>\n",
       "      <th>Officer_1_race</th>\n",
       "      <th>Town_county</th>\n",
       "      <th>Rows with this data</th>\n",
       "      <th>Department_incidents</th>\n",
       "      <th>Percent of department</th>\n",
       "    </tr>\n",
       "  </thead>\n",
       "  <tbody>\n",
       "    <tr>\n",
       "      <th>21214</th>\n",
       "      <td>62</td>\n",
       "      <td>ScottMSendrickAtlanticCity</td>\n",
       "      <td>Scott</td>\n",
       "      <td>Sendrick</td>\n",
       "      <td>Ofc.</td>\n",
       "      <td>not listed</td>\n",
       "      <td>Atlantic City, Atlantic County</td>\n",
       "      <td>4</td>\n",
       "      <td>1671</td>\n",
       "      <td>3.710353</td>\n",
       "    </tr>\n",
       "    <tr>\n",
       "      <th>21215</th>\n",
       "      <td>62</td>\n",
       "      <td>ScottMSendrickAtlanticCity</td>\n",
       "      <td>Scott</td>\n",
       "      <td>Sendrick</td>\n",
       "      <td>Ofc.</td>\n",
       "      <td>white</td>\n",
       "      <td>Atlantic City, Atlantic County</td>\n",
       "      <td>58</td>\n",
       "      <td>1671</td>\n",
       "      <td>3.710353</td>\n",
       "    </tr>\n",
       "    <tr>\n",
       "      <th>9518</th>\n",
       "      <td>59</td>\n",
       "      <td>JamesDayVineland</td>\n",
       "      <td>James</td>\n",
       "      <td>Day</td>\n",
       "      <td>Ofc.</td>\n",
       "      <td>white</td>\n",
       "      <td>Vineland, Cumberland County</td>\n",
       "      <td>59</td>\n",
       "      <td>916</td>\n",
       "      <td>6.441048</td>\n",
       "    </tr>\n",
       "    <tr>\n",
       "      <th>12197</th>\n",
       "      <td>58</td>\n",
       "      <td>JosephDixonMillville</td>\n",
       "      <td>Joseph</td>\n",
       "      <td>Dixon</td>\n",
       "      <td>Ofc.</td>\n",
       "      <td>not listed</td>\n",
       "      <td>Millville, Cumberland County</td>\n",
       "      <td>58</td>\n",
       "      <td>454</td>\n",
       "      <td>12.775330</td>\n",
       "    </tr>\n",
       "    <tr>\n",
       "      <th>20804</th>\n",
       "      <td>56</td>\n",
       "      <td>RyanPDuffyPaterson</td>\n",
       "      <td>Ryan</td>\n",
       "      <td>Duffy</td>\n",
       "      <td>Ofc.</td>\n",
       "      <td>not listed</td>\n",
       "      <td>Paterson, Passaic County</td>\n",
       "      <td>56</td>\n",
       "      <td>1467</td>\n",
       "      <td>3.817314</td>\n",
       "    </tr>\n",
       "  </tbody>\n",
       "</table>\n",
       "</div>"
      ],
      "text/plain": [
       "       Number of incidents for this officer                   officerid  \\\n",
       "21214                                    62  ScottMSendrickAtlanticCity   \n",
       "21215                                    62  ScottMSendrickAtlanticCity   \n",
       "9518                                     59            JamesDayVineland   \n",
       "12197                                    58        JosephDixonMillville   \n",
       "20804                                    56          RyanPDuffyPaterson   \n",
       "\n",
       "      Officer_1_first Officer_1_last Officer_1_rank Officer_1_race  \\\n",
       "21214           Scott       Sendrick           Ofc.     not listed   \n",
       "21215           Scott       Sendrick           Ofc.          white   \n",
       "9518            James            Day           Ofc.          white   \n",
       "12197          Joseph          Dixon           Ofc.     not listed   \n",
       "20804            Ryan          Duffy           Ofc.     not listed   \n",
       "\n",
       "                          Town_county  Rows with this data  \\\n",
       "21214  Atlantic City, Atlantic County                    4   \n",
       "21215  Atlantic City, Atlantic County                   58   \n",
       "9518      Vineland, Cumberland County                   59   \n",
       "12197    Millville, Cumberland County                   58   \n",
       "20804        Paterson, Passaic County                   56   \n",
       "\n",
       "       Department_incidents  Percent of department  \n",
       "21214                  1671               3.710353  \n",
       "21215                  1671               3.710353  \n",
       "9518                    916               6.441048  \n",
       "12197                   454              12.775330  \n",
       "20804                  1467               3.817314  "
      ]
     },
     "execution_count": 36,
     "metadata": {},
     "output_type": "execute_result"
    }
   ],
   "source": [
    "top_off.head()"
   ]
  },
  {
   "cell_type": "code",
   "execution_count": 37,
   "metadata": {
    "collapsed": true
   },
   "outputs": [],
   "source": [
    "# top_off.to_csv('Data_slices/Top_officers_in_replication.csv')"
   ]
  },
  {
   "cell_type": "markdown",
   "metadata": {},
   "source": [
    "## Types of force/reasons for force"
   ]
  },
  {
   "cell_type": "markdown",
   "metadata": {},
   "source": [
    "#### Nature of force used"
   ]
  },
  {
   "cell_type": "code",
   "execution_count": 38,
   "metadata": {
    "collapsed": true
   },
   "outputs": [],
   "source": [
    "#list of categories\n",
    "force = ['compliance hold', 'hands/fist',  'leg strikes', \n",
    "         'tackle/wrestle to the ground',  'chemical agent', \n",
    "         'strike/use of baton or other object', 'deadly']"
   ]
  },
  {
   "cell_type": "code",
   "execution_count": 39,
   "metadata": {
    "collapsed": false
   },
   "outputs": [],
   "source": [
    "#function that runs through and searches for categories\n",
    "def get_string_data(list_name, column_name):\n",
    "    new_piv = []\n",
    "    for n in list_name:\n",
    "        this_type_count = df[df[column_name].str.contains(n)].Incident_key.count()\n",
    "        this_type_unique = df[df[column_name].str.contains(n)].Incident_key.nunique()\n",
    "        this_type_percent_count = (float(this_type_count) / df.Incident_key.count()) * 100\n",
    "        this_type_percent_unique = (float(this_type_unique) / df.Incident_key.nunique()) * 100\n",
    "        this_list = n, this_type_count, this_type_unique, this_type_percent_count, this_type_percent_unique\n",
    "        new_piv.append(this_list)\n",
    "    return pd.DataFrame(new_piv, columns=['Force', 'Number of rows', 'Number of unique incidents', 'Percent of rows', 'Percent of incidents'])"
   ]
  },
  {
   "cell_type": "code",
   "execution_count": 40,
   "metadata": {
    "collapsed": false
   },
   "outputs": [],
   "source": [
    "#creating the final pivot\n",
    "force_piv = get_string_data(force, 'Subject_1_force_nature_new')"
   ]
  },
  {
   "cell_type": "code",
   "execution_count": 41,
   "metadata": {
    "collapsed": false
   },
   "outputs": [
    {
     "data": {
      "text/html": [
       "<div>\n",
       "<table border=\"1\" class=\"dataframe\">\n",
       "  <thead>\n",
       "    <tr style=\"text-align: right;\">\n",
       "      <th></th>\n",
       "      <th>Force</th>\n",
       "      <th>Number of rows</th>\n",
       "      <th>Number of unique incidents</th>\n",
       "      <th>Percent of rows</th>\n",
       "      <th>Percent of incidents</th>\n",
       "    </tr>\n",
       "  </thead>\n",
       "  <tbody>\n",
       "    <tr>\n",
       "      <th>0</th>\n",
       "      <td>compliance hold</td>\n",
       "      <td>56990</td>\n",
       "      <td>35142</td>\n",
       "      <td>80.771575</td>\n",
       "      <td>80.532576</td>\n",
       "    </tr>\n",
       "    <tr>\n",
       "      <th>1</th>\n",
       "      <td>hands/fist</td>\n",
       "      <td>19826</td>\n",
       "      <td>13809</td>\n",
       "      <td>28.099267</td>\n",
       "      <td>31.645164</td>\n",
       "    </tr>\n",
       "    <tr>\n",
       "      <th>2</th>\n",
       "      <td>leg strikes</td>\n",
       "      <td>3008</td>\n",
       "      <td>2446</td>\n",
       "      <td>4.263220</td>\n",
       "      <td>5.605335</td>\n",
       "    </tr>\n",
       "    <tr>\n",
       "      <th>3</th>\n",
       "      <td>tackle/wrestle to the ground</td>\n",
       "      <td>4347</td>\n",
       "      <td>3428</td>\n",
       "      <td>6.160976</td>\n",
       "      <td>7.855719</td>\n",
       "    </tr>\n",
       "    <tr>\n",
       "      <th>4</th>\n",
       "      <td>chemical agent</td>\n",
       "      <td>4966</td>\n",
       "      <td>4438</td>\n",
       "      <td>7.038281</td>\n",
       "      <td>10.170268</td>\n",
       "    </tr>\n",
       "    <tr>\n",
       "      <th>5</th>\n",
       "      <td>strike/use of baton or other object</td>\n",
       "      <td>1176</td>\n",
       "      <td>1028</td>\n",
       "      <td>1.666738</td>\n",
       "      <td>2.355799</td>\n",
       "    </tr>\n",
       "    <tr>\n",
       "      <th>6</th>\n",
       "      <td>deadly</td>\n",
       "      <td>345</td>\n",
       "      <td>250</td>\n",
       "      <td>0.488966</td>\n",
       "      <td>0.572908</td>\n",
       "    </tr>\n",
       "  </tbody>\n",
       "</table>\n",
       "</div>"
      ],
      "text/plain": [
       "                                 Force  Number of rows  \\\n",
       "0                      compliance hold           56990   \n",
       "1                           hands/fist           19826   \n",
       "2                          leg strikes            3008   \n",
       "3         tackle/wrestle to the ground            4347   \n",
       "4                       chemical agent            4966   \n",
       "5  strike/use of baton or other object            1176   \n",
       "6                               deadly             345   \n",
       "\n",
       "   Number of unique incidents  Percent of rows  Percent of incidents  \n",
       "0                       35142        80.771575             80.532576  \n",
       "1                       13809        28.099267             31.645164  \n",
       "2                        2446         4.263220              5.605335  \n",
       "3                        3428         6.160976              7.855719  \n",
       "4                        4438         7.038281             10.170268  \n",
       "5                        1028         1.666738              2.355799  \n",
       "6                         250         0.488966              0.572908  "
      ]
     },
     "execution_count": 41,
     "metadata": {},
     "output_type": "execute_result"
    }
   ],
   "source": [
    "force_piv"
   ]
  },
  {
   "cell_type": "markdown",
   "metadata": {},
   "source": [
    "### Deadly force"
   ]
  },
  {
   "cell_type": "code",
   "execution_count": 42,
   "metadata": {
    "collapsed": false
   },
   "outputs": [
    {
     "name": "stdout",
     "output_type": "stream",
     "text": [
      "Number of rows:  366\n"
     ]
    }
   ],
   "source": [
    "print 'Number of rows: ', df[df.Firearms_discharged == 'Intentional'].Incident_key.count()"
   ]
  },
  {
   "cell_type": "code",
   "execution_count": 43,
   "metadata": {
    "collapsed": false
   },
   "outputs": [
    {
     "name": "stdout",
     "output_type": "stream",
     "text": [
      "Number of incidents:  266\n"
     ]
    }
   ],
   "source": [
    "print 'Number of incidents: ', df[df.Firearms_discharged == 'Intentional'].Incident_key.nunique()"
   ]
  },
  {
   "cell_type": "markdown",
   "metadata": {},
   "source": [
    "### Subject actions"
   ]
  },
  {
   "cell_type": "code",
   "execution_count": 44,
   "metadata": {
    "collapsed": true
   },
   "outputs": [],
   "source": [
    "actions = ['resisted police officer control', 'physical threat/attack officer or another -- self-defense',\n",
    "          'threatened/attacked officer or another with a blunt object', \n",
    "          'threatened/attacked officer or another with a knife/cutting object',\n",
    "          'threatened officer or another with firearm',\n",
    "           'fire firearm at officer or another',\n",
    "           'threatened/ attacked officer or another with a motor vehicle']"
   ]
  },
  {
   "cell_type": "code",
   "execution_count": 45,
   "metadata": {
    "collapsed": true
   },
   "outputs": [],
   "source": [
    "actions_piv = get_string_data(actions, 'Subject_1_actions_OG')"
   ]
  },
  {
   "cell_type": "code",
   "execution_count": 46,
   "metadata": {
    "collapsed": false
   },
   "outputs": [
    {
     "data": {
      "text/html": [
       "<div>\n",
       "<table border=\"1\" class=\"dataframe\">\n",
       "  <thead>\n",
       "    <tr style=\"text-align: right;\">\n",
       "      <th></th>\n",
       "      <th>Force</th>\n",
       "      <th>Number of rows</th>\n",
       "      <th>Number of unique incidents</th>\n",
       "      <th>Percent of rows</th>\n",
       "      <th>Percent of incidents</th>\n",
       "    </tr>\n",
       "  </thead>\n",
       "  <tbody>\n",
       "    <tr>\n",
       "      <th>0</th>\n",
       "      <td>resisted police officer control</td>\n",
       "      <td>63300</td>\n",
       "      <td>38810</td>\n",
       "      <td>89.714699</td>\n",
       "      <td>88.938286</td>\n",
       "    </tr>\n",
       "    <tr>\n",
       "      <th>1</th>\n",
       "      <td>physical threat/attack officer or another -- s...</td>\n",
       "      <td>24979</td>\n",
       "      <td>15403</td>\n",
       "      <td>35.402582</td>\n",
       "      <td>35.298027</td>\n",
       "    </tr>\n",
       "    <tr>\n",
       "      <th>2</th>\n",
       "      <td>threatened/attacked officer or another with a ...</td>\n",
       "      <td>692</td>\n",
       "      <td>458</td>\n",
       "      <td>0.980767</td>\n",
       "      <td>1.049568</td>\n",
       "    </tr>\n",
       "    <tr>\n",
       "      <th>3</th>\n",
       "      <td>threatened/attacked officer or another with a ...</td>\n",
       "      <td>563</td>\n",
       "      <td>363</td>\n",
       "      <td>0.797936</td>\n",
       "      <td>0.831863</td>\n",
       "    </tr>\n",
       "    <tr>\n",
       "      <th>4</th>\n",
       "      <td>threatened officer or another with firearm</td>\n",
       "      <td>521</td>\n",
       "      <td>333</td>\n",
       "      <td>0.738410</td>\n",
       "      <td>0.763114</td>\n",
       "    </tr>\n",
       "    <tr>\n",
       "      <th>5</th>\n",
       "      <td>fire firearm at officer or another</td>\n",
       "      <td>99</td>\n",
       "      <td>53</td>\n",
       "      <td>0.140312</td>\n",
       "      <td>0.121457</td>\n",
       "    </tr>\n",
       "    <tr>\n",
       "      <th>6</th>\n",
       "      <td>threatened/ attacked officer or another with a...</td>\n",
       "      <td>473</td>\n",
       "      <td>322</td>\n",
       "      <td>0.670380</td>\n",
       "      <td>0.737906</td>\n",
       "    </tr>\n",
       "  </tbody>\n",
       "</table>\n",
       "</div>"
      ],
      "text/plain": [
       "                                               Force  Number of rows  \\\n",
       "0                    resisted police officer control           63300   \n",
       "1  physical threat/attack officer or another -- s...           24979   \n",
       "2  threatened/attacked officer or another with a ...             692   \n",
       "3  threatened/attacked officer or another with a ...             563   \n",
       "4         threatened officer or another with firearm             521   \n",
       "5                 fire firearm at officer or another              99   \n",
       "6  threatened/ attacked officer or another with a...             473   \n",
       "\n",
       "   Number of unique incidents  Percent of rows  Percent of incidents  \n",
       "0                       38810        89.714699             88.938286  \n",
       "1                       15403        35.402582             35.298027  \n",
       "2                         458         0.980767              1.049568  \n",
       "3                         363         0.797936              0.831863  \n",
       "4                         333         0.738410              0.763114  \n",
       "5                          53         0.140312              0.121457  \n",
       "6                         322         0.670380              0.737906  "
      ]
     },
     "execution_count": 46,
     "metadata": {},
     "output_type": "execute_result"
    }
   ],
   "source": [
    "actions_piv"
   ]
  },
  {
   "cell_type": "markdown",
   "metadata": {},
   "source": [
    "## Injured and hospitalized"
   ]
  },
  {
   "cell_type": "markdown",
   "metadata": {},
   "source": [
    "### Subjects injuried"
   ]
  },
  {
   "cell_type": "code",
   "execution_count": 47,
   "metadata": {
    "collapsed": false
   },
   "outputs": [],
   "source": [
    "subj_inj = pd.DataFrame(df.pivot_table(index='Subject_1_injured', values='Incident_key', aggfunc=lambda x: len(x.unique())))"
   ]
  },
  {
   "cell_type": "code",
   "execution_count": 48,
   "metadata": {
    "collapsed": false
   },
   "outputs": [
    {
     "name": "stdout",
     "output_type": "stream",
     "text": [
      "Subjects percent injured:  0.208359451957\n"
     ]
    }
   ],
   "source": [
    "print 'Subjects percent injured: ',  float(subj_inj.loc[['yes'], ['Incident_key']].Incident_key.sum() )/  subj_inj.Incident_key.sum(axis=0)"
   ]
  },
  {
   "cell_type": "markdown",
   "metadata": {},
   "source": [
    "### Subjects hospitalized"
   ]
  },
  {
   "cell_type": "code",
   "execution_count": 49,
   "metadata": {
    "collapsed": false
   },
   "outputs": [
    {
     "name": "stdout",
     "output_type": "stream",
     "text": [
      "Subjects percent hospitalized:  0.0994907774131\n"
     ]
    }
   ],
   "source": [
    "subj_hosp = pd.DataFrame(df.pivot_table(index='Subject_1_hosp', values='Incident_key', aggfunc=lambda x: len(x.unique())))\n",
    "\n",
    "print 'Subjects percent hospitalized: ',  float(subj_hosp.loc[['yes'], ['Incident_key']].Incident_key.sum() )/ subj_hosp.Incident_key.sum(axis=0)"
   ]
  },
  {
   "cell_type": "code",
   "execution_count": 50,
   "metadata": {
    "collapsed": false
   },
   "outputs": [
    {
     "data": {
      "text/html": [
       "<div>\n",
       "<table border=\"1\" class=\"dataframe\">\n",
       "  <thead>\n",
       "    <tr style=\"text-align: right;\">\n",
       "      <th></th>\n",
       "      <th>Incident_key</th>\n",
       "    </tr>\n",
       "    <tr>\n",
       "      <th>Subject_1_hosp</th>\n",
       "      <th></th>\n",
       "    </tr>\n",
       "  </thead>\n",
       "  <tbody>\n",
       "    <tr>\n",
       "      <th>No</th>\n",
       "      <td>1</td>\n",
       "    </tr>\n",
       "    <tr>\n",
       "      <th>no</th>\n",
       "      <td>10798</td>\n",
       "    </tr>\n",
       "    <tr>\n",
       "      <th>not listed</th>\n",
       "      <td>28986</td>\n",
       "    </tr>\n",
       "    <tr>\n",
       "      <th>redacted</th>\n",
       "      <td>4</td>\n",
       "    </tr>\n",
       "    <tr>\n",
       "      <th>yes</th>\n",
       "      <td>4396</td>\n",
       "    </tr>\n",
       "  </tbody>\n",
       "</table>\n",
       "</div>"
      ],
      "text/plain": [
       "                Incident_key\n",
       "Subject_1_hosp              \n",
       "No                         1\n",
       "no                     10798\n",
       "not listed             28986\n",
       "redacted                   4\n",
       "yes                     4396"
      ]
     },
     "execution_count": 50,
     "metadata": {},
     "output_type": "execute_result"
    }
   ],
   "source": [
    "subj_hosp"
   ]
  },
  {
   "cell_type": "markdown",
   "metadata": {},
   "source": [
    "### Officers injured"
   ]
  },
  {
   "cell_type": "code",
   "execution_count": 51,
   "metadata": {
    "collapsed": false
   },
   "outputs": [
    {
     "name": "stdout",
     "output_type": "stream",
     "text": [
      "Officers percent injured:  0.11850294004\n"
     ]
    }
   ],
   "source": [
    "off_inj = pd.DataFrame(df.pivot_table(index='Officer_1_injured', values='Incident_key', aggfunc=lambda x: len(x.unique())))\n",
    "\n",
    "print 'Officers percent injured: ',  float(off_inj.loc[['yes'], ['Incident_key']].Incident_key.sum() )/ off_inj.Incident_key.sum(axis=0)"
   ]
  },
  {
   "cell_type": "markdown",
   "metadata": {},
   "source": [
    "### Officers hospitalized"
   ]
  },
  {
   "cell_type": "code",
   "execution_count": 52,
   "metadata": {
    "collapsed": false
   },
   "outputs": [
    {
     "name": "stdout",
     "output_type": "stream",
     "text": [
      "Officers percent hospitalized:  0.0240048685931\n"
     ]
    }
   ],
   "source": [
    "off_hosp = pd.DataFrame(df.pivot_table(index='Officer_1_hosp', values='Incident_key', aggfunc=lambda x: len(x.unique())))\n",
    "\n",
    "print 'Officers percent hospitalized: ',  float(off_hosp.loc[['yes'], ['Incident_key']].Incident_key.sum() )/ off_hosp.Incident_key.sum(axis=0)"
   ]
  },
  {
   "cell_type": "markdown",
   "metadata": {},
   "source": [
    "## Top towns"
   ]
  },
  {
   "cell_type": "markdown",
   "metadata": {},
   "source": [
    "#### read in arrests data and get total arrests"
   ]
  },
  {
   "cell_type": "code",
   "execution_count": 53,
   "metadata": {
    "collapsed": true
   },
   "outputs": [],
   "source": [
    "to_pre['Tot_arrests'] = to_pre.TOTAL_ARRESTS_2012 + to_pre.TOTAL_ARRESTS_2013 + to_pre.TOTAL_ARRESTS_2014  + to_pre.TOTAL_ARRESTS_2015 + to_pre.TOTAL_ARRESTS_2016\n",
    "to = to_pre[[ u'Invensis_town_county', u'Tot_arrests']]\n",
    "to_piv = pd.DataFrame(to.pivot_table(index='Invensis_town_county', values=['Tot_arrests'], aggfunc=sum))"
   ]
  },
  {
   "cell_type": "markdown",
   "metadata": {},
   "source": [
    "#### Merge with non-EDP numbers"
   ]
  },
  {
   "cell_type": "code",
   "execution_count": 54,
   "metadata": {
    "collapsed": true
   },
   "outputs": [],
   "source": [
    "t_a = pd.DataFrame(df[df.Incident_EDP != 'EDP'].groupby('Town_county').Incident_key.nunique()).merge(to_piv, \n",
    "                                                                     left_index=True, \n",
    "                                                                     right_index=True, \n",
    "                                                                     how='left')\n",
    "\n",
    "t_a['Incidents_per_1000_arrests'] = (t_a.Incident_key / t_a.Tot_arrests) * 1000"
   ]
  },
  {
   "cell_type": "code",
   "execution_count": 55,
   "metadata": {
    "collapsed": false
   },
   "outputs": [
    {
     "data": {
      "text/html": [
       "<div>\n",
       "<table border=\"1\" class=\"dataframe\">\n",
       "  <thead>\n",
       "    <tr style=\"text-align: right;\">\n",
       "      <th></th>\n",
       "      <th>Incident_key</th>\n",
       "      <th>Tot_arrests</th>\n",
       "      <th>Incidents_per_1000_arrests</th>\n",
       "    </tr>\n",
       "    <tr>\n",
       "      <th>Town_county</th>\n",
       "      <th></th>\n",
       "      <th></th>\n",
       "      <th></th>\n",
       "    </tr>\n",
       "  </thead>\n",
       "  <tbody>\n",
       "    <tr>\n",
       "      <th>Maplewood, Essex County</th>\n",
       "      <td>172</td>\n",
       "      <td>1549.0</td>\n",
       "      <td>111.039380</td>\n",
       "    </tr>\n",
       "    <tr>\n",
       "      <th>Atlantic City, Atlantic County</th>\n",
       "      <td>1653</td>\n",
       "      <td>14973.0</td>\n",
       "      <td>110.398718</td>\n",
       "    </tr>\n",
       "    <tr>\n",
       "      <th>Pine Beach, Ocean County</th>\n",
       "      <td>10</td>\n",
       "      <td>99.0</td>\n",
       "      <td>101.010101</td>\n",
       "    </tr>\n",
       "    <tr>\n",
       "      <th>Woodland Park, Passaic County</th>\n",
       "      <td>52</td>\n",
       "      <td>527.0</td>\n",
       "      <td>98.671727</td>\n",
       "    </tr>\n",
       "    <tr>\n",
       "      <th>Pleasantville, Atlantic County</th>\n",
       "      <td>161</td>\n",
       "      <td>1661.0</td>\n",
       "      <td>96.929561</td>\n",
       "    </tr>\n",
       "    <tr>\n",
       "      <th>Wenonah, Gloucester County</th>\n",
       "      <td>12</td>\n",
       "      <td>127.0</td>\n",
       "      <td>94.488189</td>\n",
       "    </tr>\n",
       "    <tr>\n",
       "      <th>Sea Girt, Monmouth County</th>\n",
       "      <td>50</td>\n",
       "      <td>578.0</td>\n",
       "      <td>86.505190</td>\n",
       "    </tr>\n",
       "    <tr>\n",
       "      <th>Sea Isle City, Cape May County</th>\n",
       "      <td>73</td>\n",
       "      <td>933.0</td>\n",
       "      <td>78.242229</td>\n",
       "    </tr>\n",
       "    <tr>\n",
       "      <th>Voorhees, Camden County</th>\n",
       "      <td>172</td>\n",
       "      <td>2207.0</td>\n",
       "      <td>77.933847</td>\n",
       "    </tr>\n",
       "    <tr>\n",
       "      <th>Long Branch, Monmouth County</th>\n",
       "      <td>348</td>\n",
       "      <td>4544.0</td>\n",
       "      <td>76.584507</td>\n",
       "    </tr>\n",
       "    <tr>\n",
       "      <th>Park Ridge, Bergen County</th>\n",
       "      <td>26</td>\n",
       "      <td>362.0</td>\n",
       "      <td>71.823204</td>\n",
       "    </tr>\n",
       "    <tr>\n",
       "      <th>South Toms River, Ocean County</th>\n",
       "      <td>31</td>\n",
       "      <td>438.0</td>\n",
       "      <td>70.776256</td>\n",
       "    </tr>\n",
       "    <tr>\n",
       "      <th>Beachwood, Ocean County</th>\n",
       "      <td>48</td>\n",
       "      <td>682.0</td>\n",
       "      <td>70.381232</td>\n",
       "    </tr>\n",
       "    <tr>\n",
       "      <th>Bayonne, Hudson County</th>\n",
       "      <td>357</td>\n",
       "      <td>5149.0</td>\n",
       "      <td>69.333851</td>\n",
       "    </tr>\n",
       "    <tr>\n",
       "      <th>Nutley, Essex County</th>\n",
       "      <td>104</td>\n",
       "      <td>1502.0</td>\n",
       "      <td>69.241012</td>\n",
       "    </tr>\n",
       "    <tr>\n",
       "      <th>Belleville, Essex County</th>\n",
       "      <td>202</td>\n",
       "      <td>2940.0</td>\n",
       "      <td>68.707483</td>\n",
       "    </tr>\n",
       "    <tr>\n",
       "      <th>Pompton Lakes, Passaic County</th>\n",
       "      <td>51</td>\n",
       "      <td>748.0</td>\n",
       "      <td>68.181818</td>\n",
       "    </tr>\n",
       "    <tr>\n",
       "      <th>Roselle, Union County</th>\n",
       "      <td>200</td>\n",
       "      <td>2968.0</td>\n",
       "      <td>67.385445</td>\n",
       "    </tr>\n",
       "    <tr>\n",
       "      <th>Beverly, Burlington County</th>\n",
       "      <td>38</td>\n",
       "      <td>606.0</td>\n",
       "      <td>62.706271</td>\n",
       "    </tr>\n",
       "    <tr>\n",
       "      <th>West New York, Hudson County</th>\n",
       "      <td>274</td>\n",
       "      <td>4377.0</td>\n",
       "      <td>62.599954</td>\n",
       "    </tr>\n",
       "    <tr>\n",
       "      <th>Woodlynne, Camden County</th>\n",
       "      <td>35</td>\n",
       "      <td>564.0</td>\n",
       "      <td>62.056738</td>\n",
       "    </tr>\n",
       "    <tr>\n",
       "      <th>Hamburg, Sussex County</th>\n",
       "      <td>21</td>\n",
       "      <td>339.0</td>\n",
       "      <td>61.946903</td>\n",
       "    </tr>\n",
       "    <tr>\n",
       "      <th>Cresskill, Bergen County</th>\n",
       "      <td>23</td>\n",
       "      <td>374.0</td>\n",
       "      <td>61.497326</td>\n",
       "    </tr>\n",
       "    <tr>\n",
       "      <th>Lavallette, Ocean County</th>\n",
       "      <td>9</td>\n",
       "      <td>151.0</td>\n",
       "      <td>59.602649</td>\n",
       "    </tr>\n",
       "    <tr>\n",
       "      <th>Green Brook, Somerset County</th>\n",
       "      <td>32</td>\n",
       "      <td>547.0</td>\n",
       "      <td>58.500914</td>\n",
       "    </tr>\n",
       "  </tbody>\n",
       "</table>\n",
       "</div>"
      ],
      "text/plain": [
       "                                Incident_key  Tot_arrests  \\\n",
       "Town_county                                                 \n",
       "Maplewood, Essex County                  172       1549.0   \n",
       "Atlantic City, Atlantic County          1653      14973.0   \n",
       "Pine Beach, Ocean County                  10         99.0   \n",
       "Woodland Park, Passaic County             52        527.0   \n",
       "Pleasantville, Atlantic County           161       1661.0   \n",
       "Wenonah, Gloucester County                12        127.0   \n",
       "Sea Girt, Monmouth County                 50        578.0   \n",
       "Sea Isle City, Cape May County            73        933.0   \n",
       "Voorhees, Camden County                  172       2207.0   \n",
       "Long Branch, Monmouth County             348       4544.0   \n",
       "Park Ridge, Bergen County                 26        362.0   \n",
       "South Toms River, Ocean County            31        438.0   \n",
       "Beachwood, Ocean County                   48        682.0   \n",
       "Bayonne, Hudson County                   357       5149.0   \n",
       "Nutley, Essex County                     104       1502.0   \n",
       "Belleville, Essex County                 202       2940.0   \n",
       "Pompton Lakes, Passaic County             51        748.0   \n",
       "Roselle, Union County                    200       2968.0   \n",
       "Beverly, Burlington County                38        606.0   \n",
       "West New York, Hudson County             274       4377.0   \n",
       "Woodlynne, Camden County                  35        564.0   \n",
       "Hamburg, Sussex County                    21        339.0   \n",
       "Cresskill, Bergen County                  23        374.0   \n",
       "Lavallette, Ocean County                   9        151.0   \n",
       "Green Brook, Somerset County              32        547.0   \n",
       "\n",
       "                                Incidents_per_1000_arrests  \n",
       "Town_county                                                 \n",
       "Maplewood, Essex County                         111.039380  \n",
       "Atlantic City, Atlantic County                  110.398718  \n",
       "Pine Beach, Ocean County                        101.010101  \n",
       "Woodland Park, Passaic County                    98.671727  \n",
       "Pleasantville, Atlantic County                   96.929561  \n",
       "Wenonah, Gloucester County                       94.488189  \n",
       "Sea Girt, Monmouth County                        86.505190  \n",
       "Sea Isle City, Cape May County                   78.242229  \n",
       "Voorhees, Camden County                          77.933847  \n",
       "Long Branch, Monmouth County                     76.584507  \n",
       "Park Ridge, Bergen County                        71.823204  \n",
       "South Toms River, Ocean County                   70.776256  \n",
       "Beachwood, Ocean County                          70.381232  \n",
       "Bayonne, Hudson County                           69.333851  \n",
       "Nutley, Essex County                             69.241012  \n",
       "Belleville, Essex County                         68.707483  \n",
       "Pompton Lakes, Passaic County                    68.181818  \n",
       "Roselle, Union County                            67.385445  \n",
       "Beverly, Burlington County                       62.706271  \n",
       "West New York, Hudson County                     62.599954  \n",
       "Woodlynne, Camden County                         62.056738  \n",
       "Hamburg, Sussex County                           61.946903  \n",
       "Cresskill, Bergen County                         61.497326  \n",
       "Lavallette, Ocean County                         59.602649  \n",
       "Green Brook, Somerset County                     58.500914  "
      ]
     },
     "execution_count": 55,
     "metadata": {},
     "output_type": "execute_result"
    }
   ],
   "source": [
    "t_a[t_a.index != 'NJSP, State Police'].sort_values(by='Incidents_per_1000_arrests', ascending=False).head(25)"
   ]
  }
 ],
 "metadata": {
  "kernelspec": {
   "display_name": "Python 2",
   "language": "python",
   "name": "python2"
  },
  "language_info": {
   "codemirror_mode": {
    "name": "ipython",
    "version": 2
   },
   "file_extension": ".py",
   "mimetype": "text/x-python",
   "name": "python",
   "nbconvert_exporter": "python",
   "pygments_lexer": "ipython2",
   "version": "2.7.12"
  }
 },
 "nbformat": 4,
 "nbformat_minor": 2
}
