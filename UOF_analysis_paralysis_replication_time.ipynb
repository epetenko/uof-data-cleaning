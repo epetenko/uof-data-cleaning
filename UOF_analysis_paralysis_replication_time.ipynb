{
 "cells": [
  {
   "cell_type": "code",
   "execution_count": 1,
   "metadata": {
    "collapsed": true
   },
   "outputs": [],
   "source": [
    "import pandas as pd"
   ]
  },
  {
   "cell_type": "code",
   "execution_count": 2,
   "metadata": {
    "collapsed": true
   },
   "outputs": [],
   "source": [
    "import matplotlib.pyplot as plt\n",
    "%matplotlib inline"
   ]
  },
  {
   "cell_type": "code",
   "execution_count": 3,
   "metadata": {
    "collapsed": false,
    "scrolled": true
   },
   "outputs": [
    {
     "name": "stderr",
     "output_type": "stream",
     "text": [
      "/Users/epetenko/miniconda2/lib/python2.7/site-packages/IPython/core/interactiveshell.py:2717: DtypeWarning: Columns (20,31,32,33,35,36,37,38,39,40,41,42,43,45,46,48,49,50,68,83,84,85,86,87,88,89,90,91,92,93,96,97) have mixed types. Specify dtype option on import or set low_memory=False.\n",
      "  interactivity=interactivity, compiler=compiler, result=result)\n"
     ]
    }
   ],
   "source": [
    "df = pd.read_csv('Master010419v3.csv')"
   ]
  },
  {
   "cell_type": "code",
   "execution_count": 4,
   "metadata": {
    "collapsed": false,
    "scrolled": true
   },
   "outputs": [
    {
     "data": {
      "text/html": [
       "<div>\n",
       "<table border=\"1\" class=\"dataframe\">\n",
       "  <thead>\n",
       "    <tr style=\"text-align: right;\">\n",
       "      <th></th>\n",
       "      <th>﻿ï»¿id</th>\n",
       "      <th>Timestamp</th>\n",
       "      <th>Date_inputted</th>\n",
       "      <th>County</th>\n",
       "      <th>Town</th>\n",
       "      <th>Town_county</th>\n",
       "      <th>File_name</th>\n",
       "      <th>Case_report_no</th>\n",
       "      <th>Incident_date</th>\n",
       "      <th>Incident_time</th>\n",
       "      <th>...</th>\n",
       "      <th>Subject_3_charges_clean</th>\n",
       "      <th>Subject_3_force_nature</th>\n",
       "      <th>Subject_3_injured</th>\n",
       "      <th>Subject_3_hosp</th>\n",
       "      <th>Subject_3_killed</th>\n",
       "      <th>Subject_3_photo</th>\n",
       "      <th>Is_second</th>\n",
       "      <th>Is_third</th>\n",
       "      <th>Subject_2_force_nature_clean</th>\n",
       "      <th>Subject_3_force_nature_clean</th>\n",
       "    </tr>\n",
       "  </thead>\n",
       "  <tbody>\n",
       "    <tr>\n",
       "      <th>0</th>\n",
       "      <td>0</td>\n",
       "      <td>6/7/18 6:04</td>\n",
       "      <td>6/8/18</td>\n",
       "      <td>Union County</td>\n",
       "      <td>Springfield</td>\n",
       "      <td>Springfield, Union County</td>\n",
       "      <td>SPRINGFIELD-UNION-UOF-2012-2016</td>\n",
       "      <td>I-2012-002796</td>\n",
       "      <td>4/14/12</td>\n",
       "      <td>7:46</td>\n",
       "      <td>...</td>\n",
       "      <td>NaN</td>\n",
       "      <td>NaN</td>\n",
       "      <td>NaN</td>\n",
       "      <td>NaN</td>\n",
       "      <td>NaN</td>\n",
       "      <td>NaN</td>\n",
       "      <td>NaN</td>\n",
       "      <td>NaN</td>\n",
       "      <td></td>\n",
       "      <td>NaN</td>\n",
       "    </tr>\n",
       "    <tr>\n",
       "      <th>1</th>\n",
       "      <td>1</td>\n",
       "      <td>6/7/18 6:17</td>\n",
       "      <td>6/8/18</td>\n",
       "      <td>Union County</td>\n",
       "      <td>Springfield</td>\n",
       "      <td>Springfield, Union County</td>\n",
       "      <td>SPRINGFIELD-UNION-UOF-2012-2016</td>\n",
       "      <td>I-2012-009250</td>\n",
       "      <td>10/2/12</td>\n",
       "      <td>4:34</td>\n",
       "      <td>...</td>\n",
       "      <td>NaN</td>\n",
       "      <td>NaN</td>\n",
       "      <td>NaN</td>\n",
       "      <td>NaN</td>\n",
       "      <td>NaN</td>\n",
       "      <td>NaN</td>\n",
       "      <td>NaN</td>\n",
       "      <td>NaN</td>\n",
       "      <td></td>\n",
       "      <td>NaN</td>\n",
       "    </tr>\n",
       "    <tr>\n",
       "      <th>2</th>\n",
       "      <td>2</td>\n",
       "      <td>6/7/18 6:23</td>\n",
       "      <td>6/8/18</td>\n",
       "      <td>Union County</td>\n",
       "      <td>Springfield</td>\n",
       "      <td>Springfield, Union County</td>\n",
       "      <td>SPRINGFIELD-UNION-UOF-2012-2016</td>\n",
       "      <td>I-2013-000011</td>\n",
       "      <td>1/1/13</td>\n",
       "      <td>1:39</td>\n",
       "      <td>...</td>\n",
       "      <td>NaN</td>\n",
       "      <td>NaN</td>\n",
       "      <td>NaN</td>\n",
       "      <td>NaN</td>\n",
       "      <td>NaN</td>\n",
       "      <td>NaN</td>\n",
       "      <td>NaN</td>\n",
       "      <td>NaN</td>\n",
       "      <td></td>\n",
       "      <td>NaN</td>\n",
       "    </tr>\n",
       "    <tr>\n",
       "      <th>3</th>\n",
       "      <td>3</td>\n",
       "      <td>6/7/18 6:32</td>\n",
       "      <td>6/8/18</td>\n",
       "      <td>Union County</td>\n",
       "      <td>Springfield</td>\n",
       "      <td>Springfield, Union County</td>\n",
       "      <td>SPRINGFIELD-UNION-UOF-2012-2016</td>\n",
       "      <td>I-2013-004131</td>\n",
       "      <td>4/19/13</td>\n",
       "      <td>11:59</td>\n",
       "      <td>...</td>\n",
       "      <td>NaN</td>\n",
       "      <td>NaN</td>\n",
       "      <td>NaN</td>\n",
       "      <td>NaN</td>\n",
       "      <td>NaN</td>\n",
       "      <td>NaN</td>\n",
       "      <td>NaN</td>\n",
       "      <td>NaN</td>\n",
       "      <td></td>\n",
       "      <td>NaN</td>\n",
       "    </tr>\n",
       "    <tr>\n",
       "      <th>4</th>\n",
       "      <td>4</td>\n",
       "      <td>6/7/18 6:39</td>\n",
       "      <td>6/8/18</td>\n",
       "      <td>Union County</td>\n",
       "      <td>Springfield</td>\n",
       "      <td>Springfield, Union County</td>\n",
       "      <td>SPRINGFIELD-UNION-UOF-2012-2016</td>\n",
       "      <td>I-2013-004131</td>\n",
       "      <td>4/19/13</td>\n",
       "      <td>10:51</td>\n",
       "      <td>...</td>\n",
       "      <td>NaN</td>\n",
       "      <td>NaN</td>\n",
       "      <td>NaN</td>\n",
       "      <td>NaN</td>\n",
       "      <td>NaN</td>\n",
       "      <td>NaN</td>\n",
       "      <td>NaN</td>\n",
       "      <td>NaN</td>\n",
       "      <td></td>\n",
       "      <td>NaN</td>\n",
       "    </tr>\n",
       "  </tbody>\n",
       "</table>\n",
       "<p>5 rows × 100 columns</p>\n",
       "</div>"
      ],
      "text/plain": [
       "   ﻿ï»¿id    Timestamp Date_inputted        County         Town  \\\n",
       "0       0  6/7/18 6:04        6/8/18  Union County  Springfield   \n",
       "1       1  6/7/18 6:17        6/8/18  Union County  Springfield   \n",
       "2       2  6/7/18 6:23        6/8/18  Union County  Springfield   \n",
       "3       3  6/7/18 6:32        6/8/18  Union County  Springfield   \n",
       "4       4  6/7/18 6:39        6/8/18  Union County  Springfield   \n",
       "\n",
       "                 Town_county                        File_name Case_report_no  \\\n",
       "0  Springfield, Union County  SPRINGFIELD-UNION-UOF-2012-2016  I-2012-002796   \n",
       "1  Springfield, Union County  SPRINGFIELD-UNION-UOF-2012-2016  I-2012-009250   \n",
       "2  Springfield, Union County  SPRINGFIELD-UNION-UOF-2012-2016  I-2013-000011   \n",
       "3  Springfield, Union County  SPRINGFIELD-UNION-UOF-2012-2016  I-2013-004131   \n",
       "4  Springfield, Union County  SPRINGFIELD-UNION-UOF-2012-2016  I-2013-004131   \n",
       "\n",
       "  Incident_date Incident_time             ...               \\\n",
       "0       4/14/12          7:46             ...                \n",
       "1       10/2/12          4:34             ...                \n",
       "2        1/1/13          1:39             ...                \n",
       "3       4/19/13         11:59             ...                \n",
       "4       4/19/13         10:51             ...                \n",
       "\n",
       "  Subject_3_charges_clean Subject_3_force_nature Subject_3_injured  \\\n",
       "0                     NaN                    NaN               NaN   \n",
       "1                     NaN                    NaN               NaN   \n",
       "2                     NaN                    NaN               NaN   \n",
       "3                     NaN                    NaN               NaN   \n",
       "4                     NaN                    NaN               NaN   \n",
       "\n",
       "  Subject_3_hosp Subject_3_killed Subject_3_photo Is_second Is_third  \\\n",
       "0            NaN              NaN             NaN       NaN      NaN   \n",
       "1            NaN              NaN             NaN       NaN      NaN   \n",
       "2            NaN              NaN             NaN       NaN      NaN   \n",
       "3            NaN              NaN             NaN       NaN      NaN   \n",
       "4            NaN              NaN             NaN       NaN      NaN   \n",
       "\n",
       "  Subject_2_force_nature_clean Subject_3_force_nature_clean  \n",
       "0                                                       NaN  \n",
       "1                                                       NaN  \n",
       "2                                                       NaN  \n",
       "3                                                       NaN  \n",
       "4                                                       NaN  \n",
       "\n",
       "[5 rows x 100 columns]"
      ]
     },
     "execution_count": 4,
     "metadata": {},
     "output_type": "execute_result"
    }
   ],
   "source": [
    "df.head()"
   ]
  },
  {
   "cell_type": "code",
   "execution_count": 5,
   "metadata": {
    "collapsed": false,
    "scrolled": true
   },
   "outputs": [
    {
     "name": "stdout",
     "output_type": "stream",
     "text": [
      "<class 'pandas.core.frame.DataFrame'>\n",
      "RangeIndex: 70405 entries, 0 to 70404\n",
      "Data columns (total 100 columns):\n",
      "﻿ï»¿id                          70405 non-null int64\n",
      "Timestamp                       70272 non-null object\n",
      "Date_inputted                   70244 non-null object\n",
      "County                          70405 non-null object\n",
      "Town                            70405 non-null object\n",
      "Town_county                     70405 non-null object\n",
      "File_name                       70362 non-null object\n",
      "Case_report_no                  70401 non-null object\n",
      "Incident_date                   70405 non-null object\n",
      "Incident_time                   70405 non-null object\n",
      "Location_city                   22416 non-null object\n",
      "Location_detail                 70404 non-null object\n",
      "Incident_type                   69785 non-null object\n",
      "Incident_EDP                    5483 non-null object\n",
      "Officer_1_first                 70405 non-null object\n",
      "officer_1_middle                29530 non-null object\n",
      "Officer_1_last                  70405 non-null object\n",
      "officerid                       70405 non-null object\n",
      "Officer_1_rank                  70405 non-null object\n",
      "Officer_1_exp_raw               48591 non-null object\n",
      "Officer_1_exp_clean             48731 non-null object\n",
      "Officer_1_sex                   70405 non-null object\n",
      "Officer_1_race                  70405 non-null object\n",
      "Officer_1_badge_no              69487 non-null object\n",
      "Officer_1_injured               70405 non-null object\n",
      "Officer_1_hosp                  70405 non-null object\n",
      "Officer_1_killed                70405 non-null object\n",
      "Supervisor_first                70356 non-null object\n",
      "Supervisor_last                 70356 non-null object\n",
      "Supervisor_badge_no             70356 non-null object\n",
      "Supervisor_signed               70405 non-null object\n",
      "Officer_2_first                 12153 non-null object\n",
      "Officer_2_last                  12153 non-null object\n",
      "Officer_2_rank                  351 non-null object\n",
      "Officer_2_exp                   4 non-null float64\n",
      "Officer_2_sex                   12152 non-null object\n",
      "Officer_2_race                  313 non-null object\n",
      "Officer_2_badge_no              987 non-null object\n",
      "Officer_2_injured               12152 non-null object\n",
      "Officer_2_hosp                  12152 non-null object\n",
      "Officer_2_killed                12152 non-null object\n",
      "Officer_3_first                 12414 non-null object\n",
      "Officer_3_last                  12414 non-null object\n",
      "Officer_3_rank                  232 non-null object\n",
      "Officer_3_exp                   0 non-null float64\n",
      "Officer_3_sex                   12414 non-null object\n",
      "Officer_3_race                  149 non-null object\n",
      "Officer_3_badge_no              308 non-null float64\n",
      "Officer_3_injured               12414 non-null object\n",
      "Officer_3_hosp                  12414 non-null object\n",
      "Officer_3_killed                12414 non-null object\n",
      "Subject_1_first                 70403 non-null object\n",
      "Subject_1_last                  70401 non-null object\n",
      "Subject_1_id                    70276 non-null object\n",
      "Subject_1_age                   70400 non-null object\n",
      "Subject_1_race                  70405 non-null object\n",
      "Subject_1_sex                   70402 non-null object\n",
      "Subject_1_actions               70405 non-null object\n",
      "Subject_1_charges_raw           70231 non-null object\n",
      "Subject_1_charges_clean         70360 non-null object\n",
      "Subject_1_force_nature_raw      69503 non-null object\n",
      "Subject_1_force_nature_clean    70405 non-null object\n",
      "Firearms_used                   70404 non-null object\n",
      "Firearms_discharged             70405 non-null object\n",
      "Firearms_shots_no               63559 non-null object\n",
      "Subject_1_injured               70394 non-null object\n",
      "Subject_1_hosp                  70400 non-null object\n",
      "Subject_1_killed                50335 non-null object\n",
      "Subject_1_photo                 1733 non-null object\n",
      "Narrative                       2877 non-null object\n",
      "Subject_2_first                 70144 non-null object\n",
      "Subject_2_last                  70144 non-null object\n",
      "Subject_2_age                   70144 non-null object\n",
      "Subject_2_race                  1774 non-null object\n",
      "Subject_2_sex                   70143 non-null object\n",
      "Subject_2_actions               1619 non-null object\n",
      "Subject_2_charges_raw           70020 non-null object\n",
      "Subject_2_charges_clean         70021 non-null object\n",
      "Subject_2_force_nature          1641 non-null object\n",
      "Subject_2_injured               70141 non-null object\n",
      "Subject_2_hosp                  70125 non-null object\n",
      "Subject_2_killed                1264 non-null object\n",
      "Subject_2_photo                 0 non-null float64\n",
      "Subject_3_first                 12521 non-null object\n",
      "Subject_3_last                  12521 non-null object\n",
      "Subject_3_age                   12521 non-null object\n",
      "Subject_3_race                  86 non-null object\n",
      "Subject_3_sex                   12521 non-null object\n",
      "Subject_3_actions               78 non-null object\n",
      "Subject_3_charges_raw           12511 non-null object\n",
      "Subject_3_charges_clean         12511 non-null object\n",
      "Subject_3_force_nature          90 non-null object\n",
      "Subject_3_injured               12521 non-null object\n",
      "Subject_3_hosp                  12521 non-null object\n",
      "Subject_3_killed                0 non-null float64\n",
      "Subject_3_photo                 0 non-null float64\n",
      "Is_second                       415 non-null object\n",
      "Is_third                        153 non-null object\n",
      "Subject_2_force_nature_clean    70209 non-null object\n",
      "Subject_3_force_nature_clean    90 non-null object\n",
      "dtypes: float64(6), int64(1), object(93)\n",
      "memory usage: 53.7+ MB\n"
     ]
    }
   ],
   "source": [
    "df.info()"
   ]
  },
  {
   "cell_type": "markdown",
   "metadata": {},
   "source": [
    "### Prep columns: Incident key and years"
   ]
  },
  {
   "cell_type": "code",
   "execution_count": 6,
   "metadata": {
    "collapsed": false
   },
   "outputs": [],
   "source": [
    "# df.Case_report_no = df.Case_report_no.astype(str)\n",
    "# df.Incident_date = df.Incident_date.astype(str)\n",
    "df['Incident_key'] = df['Town_county'] + ', ' + df.Case_report_no + ', ' + df.Incident_date"
   ]
  },
  {
   "cell_type": "code",
   "execution_count": 7,
   "metadata": {
    "collapsed": false,
    "scrolled": true
   },
   "outputs": [
    {
     "data": {
      "text/plain": [
       "array(['4/14/12', '10/2/12', '1/1/13', ..., 'XX/03/2015', '1/14/13 0:00',\n",
       "       '3/31/15 0:00'], dtype=object)"
      ]
     },
     "execution_count": 7,
     "metadata": {},
     "output_type": "execute_result"
    }
   ],
   "source": [
    "df.Incident_date.unique()"
   ]
  },
  {
   "cell_type": "code",
   "execution_count": 8,
   "metadata": {
    "collapsed": false
   },
   "outputs": [],
   "source": [
    "df['Year'] = df.Incident_date.str.split(pat='/', expand=True)[2]\n",
    "df['Month'] = df.Incident_date.str.split(pat='/', expand=True)[0]\n",
    "\n",
    "\n",
    "df.Year = df.Year.replace(to_replace='12', value='2012')\n",
    "df.Year = df.Year.replace(to_replace='13', value='2013')\n",
    "df.Year = df.Year.replace(to_replace='14', value='2014')\n",
    "df.Year = df.Year.replace(to_replace='15', value='2015')\n",
    "df.Year = df.Year.replace(to_replace='16', value='2016')\n",
    "\n",
    "df.Year = df.Year.replace(to_replace='12 0:00', value='2012')\n",
    "df.Year = df.Year.replace(to_replace='13 0:00', value='2013')\n",
    "df.Year = df.Year.replace(to_replace='14 0:00', value='2014')\n",
    "df.Year = df.Year.replace(to_replace='15 0:00', value='2015')\n",
    "df.Year = df.Year.replace(to_replace='16 0:00', value='2016')\n",
    "df.Year = df.Year.replace(to_replace=' 00:00:00', value='')\n"
   ]
  },
  {
   "cell_type": "code",
   "execution_count": 9,
   "metadata": {
    "collapsed": false
   },
   "outputs": [
    {
     "data": {
      "text/plain": [
       "array(['2012', '2013', '2014', '2015', '2016', None, 'XXXX'], dtype=object)"
      ]
     },
     "execution_count": 9,
     "metadata": {},
     "output_type": "execute_result"
    }
   ],
   "source": [
    "df.Year.unique()"
   ]
  },
  {
   "cell_type": "markdown",
   "metadata": {},
   "source": [
    "## Incident totals:"
   ]
  },
  {
   "cell_type": "markdown",
   "metadata": {},
   "source": [
    "#### Total uses of force 2012-2016:"
   ]
  },
  {
   "cell_type": "code",
   "execution_count": 10,
   "metadata": {
    "collapsed": false
   },
   "outputs": [
    {
     "data": {
      "text/plain": [
       "70401"
      ]
     },
     "execution_count": 10,
     "metadata": {},
     "output_type": "execute_result"
    }
   ],
   "source": [
    "df.Incident_key.count()"
   ]
  },
  {
   "cell_type": "code",
   "execution_count": 12,
   "metadata": {
    "collapsed": false
   },
   "outputs": [
    {
     "data": {
      "text/plain": [
       "70272"
      ]
     },
     "execution_count": 12,
     "metadata": {},
     "output_type": "execute_result"
    }
   ],
   "source": [
    "df.Timestamp.count()"
   ]
  },
  {
   "cell_type": "markdown",
   "metadata": {},
   "source": [
    "#### Total uses of force by year:"
   ]
  },
  {
   "cell_type": "code",
   "execution_count": 13,
   "metadata": {
    "collapsed": false
   },
   "outputs": [
    {
     "data": {
      "text/plain": [
       "Year\n",
       "2012    13263\n",
       "2013    13951\n",
       "2014    14156\n",
       "2015    14106\n",
       "2016    14789\n",
       "XXXX       21\n",
       "Name: Incident_key, dtype: int64"
      ]
     },
     "execution_count": 13,
     "metadata": {},
     "output_type": "execute_result"
    }
   ],
   "source": [
    "df.pivot_table(index='Year', values='Incident_key', aggfunc=len)"
   ]
  },
  {
   "cell_type": "markdown",
   "metadata": {},
   "source": [
    "#### Incidents 2012-2016 and by year:"
   ]
  },
  {
   "cell_type": "code",
   "execution_count": 14,
   "metadata": {
    "collapsed": false
   },
   "outputs": [
    {
     "name": "stdout",
     "output_type": "stream",
     "text": [
      "Unique incidents, 2012-2016: 43629\n"
     ]
    }
   ],
   "source": [
    "print 'Unique incidents, 2012-2016:', df['Incident_key'].nunique()"
   ]
  },
  {
   "cell_type": "code",
   "execution_count": 15,
   "metadata": {
    "collapsed": false
   },
   "outputs": [
    {
     "data": {
      "text/plain": [
       "Year\n",
       "2012    8743\n",
       "2013    8785\n",
       "2014    8775\n",
       "2015    8495\n",
       "2016    8725\n",
       "XXXX      17\n",
       "Name: Incident_key, dtype: int64"
      ]
     },
     "execution_count": 15,
     "metadata": {},
     "output_type": "execute_result"
    }
   ],
   "source": [
    "by_year = df.pivot_table(index='Year', values='Incident_key', aggfunc=lambda x: len(x.unique()))\n",
    "\n",
    "by_year"
   ]
  },
  {
   "cell_type": "markdown",
   "metadata": {},
   "source": [
    "### Subject race"
   ]
  },
  {
   "cell_type": "code",
   "execution_count": 16,
   "metadata": {
    "collapsed": false
   },
   "outputs": [
    {
     "data": {
      "text/html": [
       "<div>\n",
       "<table border=\"1\" class=\"dataframe\">\n",
       "  <thead>\n",
       "    <tr style=\"text-align: right;\">\n",
       "      <th></th>\n",
       "      <th>Incident_key</th>\n",
       "      <th>Percent</th>\n",
       "    </tr>\n",
       "    <tr>\n",
       "      <th>Subject_1_race</th>\n",
       "      <th></th>\n",
       "      <th></th>\n",
       "    </tr>\n",
       "  </thead>\n",
       "  <tbody>\n",
       "    <tr>\n",
       "      <th>REDACTED</th>\n",
       "      <td>2</td>\n",
       "      <td>0.000045</td>\n",
       "    </tr>\n",
       "    <tr>\n",
       "      <th>asian</th>\n",
       "      <td>272</td>\n",
       "      <td>0.006119</td>\n",
       "    </tr>\n",
       "    <tr>\n",
       "      <th>asian/pacific islander</th>\n",
       "      <td>118</td>\n",
       "      <td>0.002655</td>\n",
       "    </tr>\n",
       "    <tr>\n",
       "      <th>black</th>\n",
       "      <td>17453</td>\n",
       "      <td>0.392635</td>\n",
       "    </tr>\n",
       "    <tr>\n",
       "      <th>blank</th>\n",
       "      <td>1</td>\n",
       "      <td>0.000022</td>\n",
       "    </tr>\n",
       "    <tr>\n",
       "      <th>canine</th>\n",
       "      <td>5</td>\n",
       "      <td>0.000112</td>\n",
       "    </tr>\n",
       "    <tr>\n",
       "      <th>hispanic</th>\n",
       "      <td>4451</td>\n",
       "      <td>0.100133</td>\n",
       "    </tr>\n",
       "    <tr>\n",
       "      <th>illegible</th>\n",
       "      <td>18</td>\n",
       "      <td>0.000405</td>\n",
       "    </tr>\n",
       "    <tr>\n",
       "      <th>mixed</th>\n",
       "      <td>4</td>\n",
       "      <td>0.000090</td>\n",
       "    </tr>\n",
       "    <tr>\n",
       "      <th>native american</th>\n",
       "      <td>17</td>\n",
       "      <td>0.000382</td>\n",
       "    </tr>\n",
       "    <tr>\n",
       "      <th>not listed</th>\n",
       "      <td>872</td>\n",
       "      <td>0.019617</td>\n",
       "    </tr>\n",
       "    <tr>\n",
       "      <th>other</th>\n",
       "      <td>29</td>\n",
       "      <td>0.000652</td>\n",
       "    </tr>\n",
       "    <tr>\n",
       "      <th>pacific islander</th>\n",
       "      <td>8</td>\n",
       "      <td>0.000180</td>\n",
       "    </tr>\n",
       "    <tr>\n",
       "      <th>redacted</th>\n",
       "      <td>158</td>\n",
       "      <td>0.003554</td>\n",
       "    </tr>\n",
       "    <tr>\n",
       "      <th>white</th>\n",
       "      <td>21043</td>\n",
       "      <td>0.473398</td>\n",
       "    </tr>\n",
       "  </tbody>\n",
       "</table>\n",
       "</div>"
      ],
      "text/plain": [
       "                        Incident_key   Percent\n",
       "Subject_1_race                                \n",
       "REDACTED                           2  0.000045\n",
       "asian                            272  0.006119\n",
       "asian/pacific islander           118  0.002655\n",
       "black                          17453  0.392635\n",
       "blank                              1  0.000022\n",
       "canine                             5  0.000112\n",
       "hispanic                        4451  0.100133\n",
       "illegible                         18  0.000405\n",
       "mixed                              4  0.000090\n",
       "native american                   17  0.000382\n",
       "not listed                       872  0.019617\n",
       "other                             29  0.000652\n",
       "pacific islander                   8  0.000180\n",
       "redacted                         158  0.003554\n",
       "white                          21043  0.473398"
      ]
     },
     "execution_count": 16,
     "metadata": {},
     "output_type": "execute_result"
    }
   ],
   "source": [
    "subj_race = pd.DataFrame(df.pivot_table(index='Subject_1_race', values='Incident_key', aggfunc=lambda x: len(x.unique())))\n",
    "subj_race['Percent'] = subj_race['Incident_key'] / subj_race['Incident_key'].sum()\n",
    "subj_race"
   ]
  },
  {
   "cell_type": "markdown",
   "metadata": {},
   "source": [
    "##  Arrest rates"
   ]
  },
  {
   "cell_type": "markdown",
   "metadata": {},
   "source": [
    "#### Read in arrest dataset"
   ]
  },
  {
   "cell_type": "code",
   "execution_count": 17,
   "metadata": {
    "collapsed": true
   },
   "outputs": [],
   "source": [
    "spreadsheet_id = \"1rd5K7MKdFnoFxIaAVF9LVT9J_EZA1HmRRxKm_ZF_ub8\"\n",
    "to_pre = pd.read_csv(\"https://docs.google.com/spreadsheets/d/\" + spreadsheet_id + \"/export?format=csv\")"
   ]
  },
  {
   "cell_type": "code",
   "execution_count": 18,
   "metadata": {
    "collapsed": false
   },
   "outputs": [
    {
     "data": {
      "text/html": [
       "<div>\n",
       "<table border=\"1\" class=\"dataframe\">\n",
       "  <thead>\n",
       "    <tr style=\"text-align: right;\">\n",
       "      <th></th>\n",
       "      <th>AGENCY</th>\n",
       "      <th>STNAME</th>\n",
       "      <th>ORI</th>\n",
       "      <th>Invensis_county</th>\n",
       "      <th>Invensis_town</th>\n",
       "      <th>Invensis_town_county</th>\n",
       "      <th>TOTAL_ARRESTS_2012</th>\n",
       "      <th>TOTAL_ARRESTS_2013</th>\n",
       "      <th>TOTAL_ARRESTS_2014</th>\n",
       "      <th>TOTAL_ARRESTS_2015</th>\n",
       "      <th>...</th>\n",
       "      <th>AIAN_PERCENT_ARRESTS_2012</th>\n",
       "      <th>AIAN_PERCENT_ARRESTS_2013</th>\n",
       "      <th>AIAN_PERCENT_ARRESTS_2014</th>\n",
       "      <th>AIAN_PERCENT_ARRESTS_2015</th>\n",
       "      <th>AIAN_PERCENT_ARRESTS_2016</th>\n",
       "      <th>API_PERCENT_ARRESTS_2012</th>\n",
       "      <th>API_PERCENT_ARRESTS_2013</th>\n",
       "      <th>API_PERCENT_ARRESTS_2014</th>\n",
       "      <th>API_PERCENT_ARRESTS_2015</th>\n",
       "      <th>API_PERCENT_ARRESTS_2016</th>\n",
       "    </tr>\n",
       "  </thead>\n",
       "  <tbody>\n",
       "    <tr>\n",
       "      <th>0</th>\n",
       "      <td>ABERDEEN TOWNSHIP</td>\n",
       "      <td>N J</td>\n",
       "      <td>NJ01330</td>\n",
       "      <td>Monmouth County</td>\n",
       "      <td>Aberdeen</td>\n",
       "      <td>Aberdeen, Monmouth County</td>\n",
       "      <td>617.0</td>\n",
       "      <td>575.0</td>\n",
       "      <td>584.0</td>\n",
       "      <td>626.0</td>\n",
       "      <td>...</td>\n",
       "      <td>0.000000</td>\n",
       "      <td>0.000000</td>\n",
       "      <td>0.000000</td>\n",
       "      <td>0.000000</td>\n",
       "      <td>0.000000</td>\n",
       "      <td>0.972447</td>\n",
       "      <td>1.913043</td>\n",
       "      <td>0.513699</td>\n",
       "      <td>1.597444</td>\n",
       "      <td>1.286765</td>\n",
       "    </tr>\n",
       "    <tr>\n",
       "      <th>1</th>\n",
       "      <td>ABSECON</td>\n",
       "      <td>N J</td>\n",
       "      <td>NJ00101</td>\n",
       "      <td>Atlantic County</td>\n",
       "      <td>Absecon</td>\n",
       "      <td>Absecon, Atlantic County</td>\n",
       "      <td>355.0</td>\n",
       "      <td>384.0</td>\n",
       "      <td>291.0</td>\n",
       "      <td>228.0</td>\n",
       "      <td>...</td>\n",
       "      <td>0.845070</td>\n",
       "      <td>0.781250</td>\n",
       "      <td>0.000000</td>\n",
       "      <td>0.000000</td>\n",
       "      <td>0.000000</td>\n",
       "      <td>0.000000</td>\n",
       "      <td>1.041667</td>\n",
       "      <td>2.405498</td>\n",
       "      <td>1.315789</td>\n",
       "      <td>1.606426</td>\n",
       "    </tr>\n",
       "    <tr>\n",
       "      <th>2</th>\n",
       "      <td>ALLENDALE</td>\n",
       "      <td>N J</td>\n",
       "      <td>NJ00201</td>\n",
       "      <td>Bergen County</td>\n",
       "      <td>Allendale</td>\n",
       "      <td>Allendale, Bergen County</td>\n",
       "      <td>82.0</td>\n",
       "      <td>84.0</td>\n",
       "      <td>103.0</td>\n",
       "      <td>105.0</td>\n",
       "      <td>...</td>\n",
       "      <td>3.658537</td>\n",
       "      <td>2.380952</td>\n",
       "      <td>1.941748</td>\n",
       "      <td>0.952381</td>\n",
       "      <td>1.176471</td>\n",
       "      <td>1.219512</td>\n",
       "      <td>0.000000</td>\n",
       "      <td>0.970874</td>\n",
       "      <td>4.761905</td>\n",
       "      <td>8.235294</td>\n",
       "    </tr>\n",
       "    <tr>\n",
       "      <th>3</th>\n",
       "      <td>ALLENHURST</td>\n",
       "      <td>N J</td>\n",
       "      <td>NJ01301</td>\n",
       "      <td>Monmouth County</td>\n",
       "      <td>Allenhurst</td>\n",
       "      <td>Allenhurst, Monmouth County</td>\n",
       "      <td>141.0</td>\n",
       "      <td>152.0</td>\n",
       "      <td>135.0</td>\n",
       "      <td>116.0</td>\n",
       "      <td>...</td>\n",
       "      <td>0.000000</td>\n",
       "      <td>1.315789</td>\n",
       "      <td>0.000000</td>\n",
       "      <td>0.000000</td>\n",
       "      <td>0.000000</td>\n",
       "      <td>0.000000</td>\n",
       "      <td>0.000000</td>\n",
       "      <td>0.000000</td>\n",
       "      <td>0.000000</td>\n",
       "      <td>0.000000</td>\n",
       "    </tr>\n",
       "    <tr>\n",
       "      <th>4</th>\n",
       "      <td>ALLENTOWN</td>\n",
       "      <td>N J</td>\n",
       "      <td>NJ01302</td>\n",
       "      <td>Monmouth County</td>\n",
       "      <td>Allentown</td>\n",
       "      <td>Allentown, Monmouth County</td>\n",
       "      <td>20.0</td>\n",
       "      <td>32.0</td>\n",
       "      <td>64.0</td>\n",
       "      <td>37.0</td>\n",
       "      <td>...</td>\n",
       "      <td>0.000000</td>\n",
       "      <td>3.125000</td>\n",
       "      <td>1.562500</td>\n",
       "      <td>0.000000</td>\n",
       "      <td>0.000000</td>\n",
       "      <td>0.000000</td>\n",
       "      <td>3.125000</td>\n",
       "      <td>0.000000</td>\n",
       "      <td>0.000000</td>\n",
       "      <td>0.000000</td>\n",
       "    </tr>\n",
       "  </tbody>\n",
       "</table>\n",
       "<p>5 rows × 61 columns</p>\n",
       "</div>"
      ],
      "text/plain": [
       "              AGENCY STNAME      ORI  Invensis_county Invensis_town  \\\n",
       "0  ABERDEEN TOWNSHIP    N J  NJ01330  Monmouth County      Aberdeen   \n",
       "1            ABSECON    N J  NJ00101  Atlantic County       Absecon   \n",
       "2          ALLENDALE    N J  NJ00201    Bergen County     Allendale   \n",
       "3         ALLENHURST    N J  NJ01301  Monmouth County    Allenhurst   \n",
       "4          ALLENTOWN    N J  NJ01302  Monmouth County     Allentown   \n",
       "\n",
       "          Invensis_town_county  TOTAL_ARRESTS_2012  TOTAL_ARRESTS_2013  \\\n",
       "0    Aberdeen, Monmouth County               617.0               575.0   \n",
       "1     Absecon, Atlantic County               355.0               384.0   \n",
       "2     Allendale, Bergen County                82.0                84.0   \n",
       "3  Allenhurst, Monmouth County               141.0               152.0   \n",
       "4   Allentown, Monmouth County                20.0                32.0   \n",
       "\n",
       "   TOTAL_ARRESTS_2014  TOTAL_ARRESTS_2015            ...             \\\n",
       "0               584.0               626.0            ...              \n",
       "1               291.0               228.0            ...              \n",
       "2               103.0               105.0            ...              \n",
       "3               135.0               116.0            ...              \n",
       "4                64.0                37.0            ...              \n",
       "\n",
       "   AIAN_PERCENT_ARRESTS_2012  AIAN_PERCENT_ARRESTS_2013  \\\n",
       "0                   0.000000                   0.000000   \n",
       "1                   0.845070                   0.781250   \n",
       "2                   3.658537                   2.380952   \n",
       "3                   0.000000                   1.315789   \n",
       "4                   0.000000                   3.125000   \n",
       "\n",
       "   AIAN_PERCENT_ARRESTS_2014  AIAN_PERCENT_ARRESTS_2015  \\\n",
       "0                   0.000000                   0.000000   \n",
       "1                   0.000000                   0.000000   \n",
       "2                   1.941748                   0.952381   \n",
       "3                   0.000000                   0.000000   \n",
       "4                   1.562500                   0.000000   \n",
       "\n",
       "   AIAN_PERCENT_ARRESTS_2016  API_PERCENT_ARRESTS_2012  \\\n",
       "0                   0.000000                  0.972447   \n",
       "1                   0.000000                  0.000000   \n",
       "2                   1.176471                  1.219512   \n",
       "3                   0.000000                  0.000000   \n",
       "4                   0.000000                  0.000000   \n",
       "\n",
       "   API_PERCENT_ARRESTS_2013  API_PERCENT_ARRESTS_2014  \\\n",
       "0                  1.913043                  0.513699   \n",
       "1                  1.041667                  2.405498   \n",
       "2                  0.000000                  0.970874   \n",
       "3                  0.000000                  0.000000   \n",
       "4                  3.125000                  0.000000   \n",
       "\n",
       "   API_PERCENT_ARRESTS_2015  API_PERCENT_ARRESTS_2016  \n",
       "0                  1.597444                  1.286765  \n",
       "1                  1.315789                  1.606426  \n",
       "2                  4.761905                  8.235294  \n",
       "3                  0.000000                  0.000000  \n",
       "4                  0.000000                  0.000000  \n",
       "\n",
       "[5 rows x 61 columns]"
      ]
     },
     "execution_count": 18,
     "metadata": {},
     "output_type": "execute_result"
    }
   ],
   "source": [
    "to_pre.head()"
   ]
  },
  {
   "cell_type": "markdown",
   "metadata": {},
   "source": [
    "#### Total arrests, and by year:"
   ]
  },
  {
   "cell_type": "code",
   "execution_count": 19,
   "metadata": {
    "collapsed": false
   },
   "outputs": [
    {
     "data": {
      "text/plain": [
       "TOTAL_ARRESTS_2012    292861.0\n",
       "TOTAL_ARRESTS_2013    278472.0\n",
       "TOTAL_ARRESTS_2014    270359.0\n",
       "TOTAL_ARRESTS_2015    257809.0\n",
       "TOTAL_ARRESTS_2016    262737.0\n",
       "dtype: float64"
      ]
     },
     "execution_count": 19,
     "metadata": {},
     "output_type": "execute_result"
    }
   ],
   "source": [
    "ar = to_pre[['TOTAL_ARRESTS_2012', 'TOTAL_ARRESTS_2013', 'TOTAL_ARRESTS_2014', \n",
    "       'TOTAL_ARRESTS_2015', 'TOTAL_ARRESTS_2016']].sum()\n",
    "\n",
    "ar"
   ]
  },
  {
   "cell_type": "code",
   "execution_count": 20,
   "metadata": {
    "collapsed": false
   },
   "outputs": [],
   "source": [
    "tot_arrests = ar.sum()"
   ]
  },
  {
   "cell_type": "markdown",
   "metadata": {},
   "source": [
    "#### Non-edp incidents by year"
   ]
  },
  {
   "cell_type": "code",
   "execution_count": 21,
   "metadata": {
    "collapsed": false
   },
   "outputs": [
    {
     "data": {
      "text/plain": [
       "Year\n",
       "2012    8439\n",
       "2013    8450\n",
       "2014    8378\n",
       "2015    8051\n",
       "2016    8119\n",
       "XXXX      16\n",
       "Name: Incident_key, dtype: int64"
      ]
     },
     "execution_count": 21,
     "metadata": {},
     "output_type": "execute_result"
    }
   ],
   "source": [
    "all_UOF_data_no_blank_charges = df[(df['Incident_EDP'] != 'EDP') & (df['Subject_1_charges_raw'] != 'EDP/MEDICAL')  | (df['Subject_1_charges_raw'] != 'BLANK')]\n",
    "\n",
    "year_nedp = all_UOF_data_no_blank_charges.pivot_table(index='Year', values='Incident_key', aggfunc=lambda x: len(x.unique()))\n",
    "year_nedp"
   ]
  },
  {
   "cell_type": "markdown",
   "metadata": {},
   "source": [
    "### Incidents per arrest:"
   ]
  },
  {
   "cell_type": "code",
   "execution_count": 22,
   "metadata": {
    "collapsed": false
   },
   "outputs": [
    {
     "name": "stdout",
     "output_type": "stream",
     "text": [
      "Incidents per 1,000 arrests 30.4939371828\n"
     ]
    }
   ],
   "source": [
    "print \"Incidents per 1,000 arrests\", (float(all_UOF_data_no_blank_charges.Incident_key.nunique()) / tot_arrests ) * 1000"
   ]
  },
  {
   "cell_type": "code",
   "execution_count": 23,
   "metadata": {
    "collapsed": false
   },
   "outputs": [
    {
     "name": "stdout",
     "output_type": "stream",
     "text": [
      "Incidents per 1,000 arrests 2012: 29.6932506703\n",
      "Incidents per 1,000 arrests 2013: 31.1961220821\n",
      "Incidents per 1,000 arrests 2014: 32.0184054238\n",
      "Incidents per 1,000 arrests 2015: 32.1740138191\n",
      "Incidents per 1,000 arrests 2016: 31.7359183833\n"
     ]
    }
   ],
   "source": [
    "print \"Incidents per 1,000 arrests 2012:\", (8439 / 284206.0 ) * 1000\n",
    "print \"Incidents per 1,000 arrests 2013:\", (8450 / 270867.0 ) * 1000\n",
    "print \"Incidents per 1,000 arrests 2014:\", (8378 / 261662.0 ) * 1000\n",
    "print \"Incidents per 1,000 arrests 2015:\", (8051 / 250233.0 ) * 1000\n",
    "print \"Incidents per 1,000 arrests 2016:\", (8119 / 255830.0) * 1000"
   ]
  },
  {
   "cell_type": "code",
   "execution_count": 24,
   "metadata": {
    "collapsed": false
   },
   "outputs": [
    {
     "data": {
      "text/html": [
       "<div>\n",
       "<table border=\"1\" class=\"dataframe\">\n",
       "  <thead>\n",
       "    <tr style=\"text-align: right;\">\n",
       "      <th></th>\n",
       "      <th>Incident_key</th>\n",
       "      <th>Percent of total</th>\n",
       "    </tr>\n",
       "    <tr>\n",
       "      <th>Subject_1_race</th>\n",
       "      <th></th>\n",
       "      <th></th>\n",
       "    </tr>\n",
       "  </thead>\n",
       "  <tbody>\n",
       "    <tr>\n",
       "      <th>REDACTED</th>\n",
       "      <td>2</td>\n",
       "      <td>0.004499</td>\n",
       "    </tr>\n",
       "    <tr>\n",
       "      <th>asian</th>\n",
       "      <td>272</td>\n",
       "      <td>0.611910</td>\n",
       "    </tr>\n",
       "    <tr>\n",
       "      <th>asian/pacific islander</th>\n",
       "      <td>118</td>\n",
       "      <td>0.265461</td>\n",
       "    </tr>\n",
       "    <tr>\n",
       "      <th>black</th>\n",
       "      <td>17453</td>\n",
       "      <td>39.263459</td>\n",
       "    </tr>\n",
       "    <tr>\n",
       "      <th>blank</th>\n",
       "      <td>1</td>\n",
       "      <td>0.002250</td>\n",
       "    </tr>\n",
       "    <tr>\n",
       "      <th>canine</th>\n",
       "      <td>5</td>\n",
       "      <td>0.011248</td>\n",
       "    </tr>\n",
       "    <tr>\n",
       "      <th>hispanic</th>\n",
       "      <td>4451</td>\n",
       "      <td>10.013273</td>\n",
       "    </tr>\n",
       "    <tr>\n",
       "      <th>illegible</th>\n",
       "      <td>18</td>\n",
       "      <td>0.040494</td>\n",
       "    </tr>\n",
       "    <tr>\n",
       "      <th>mixed</th>\n",
       "      <td>4</td>\n",
       "      <td>0.008999</td>\n",
       "    </tr>\n",
       "    <tr>\n",
       "      <th>native american</th>\n",
       "      <td>17</td>\n",
       "      <td>0.038244</td>\n",
       "    </tr>\n",
       "    <tr>\n",
       "      <th>not listed</th>\n",
       "      <td>872</td>\n",
       "      <td>1.961711</td>\n",
       "    </tr>\n",
       "    <tr>\n",
       "      <th>other</th>\n",
       "      <td>29</td>\n",
       "      <td>0.065240</td>\n",
       "    </tr>\n",
       "    <tr>\n",
       "      <th>pacific islander</th>\n",
       "      <td>8</td>\n",
       "      <td>0.017997</td>\n",
       "    </tr>\n",
       "    <tr>\n",
       "      <th>redacted</th>\n",
       "      <td>158</td>\n",
       "      <td>0.355448</td>\n",
       "    </tr>\n",
       "    <tr>\n",
       "      <th>white</th>\n",
       "      <td>21043</td>\n",
       "      <td>47.339767</td>\n",
       "    </tr>\n",
       "  </tbody>\n",
       "</table>\n",
       "</div>"
      ],
      "text/plain": [
       "                        Incident_key  Percent of total\n",
       "Subject_1_race                                        \n",
       "REDACTED                           2          0.004499\n",
       "asian                            272          0.611910\n",
       "asian/pacific islander           118          0.265461\n",
       "black                          17453         39.263459\n",
       "blank                              1          0.002250\n",
       "canine                             5          0.011248\n",
       "hispanic                        4451         10.013273\n",
       "illegible                         18          0.040494\n",
       "mixed                              4          0.008999\n",
       "native american                   17          0.038244\n",
       "not listed                       872          1.961711\n",
       "other                             29          0.065240\n",
       "pacific islander                   8          0.017997\n",
       "redacted                         158          0.355448\n",
       "white                          21043         47.339767"
      ]
     },
     "execution_count": 24,
     "metadata": {},
     "output_type": "execute_result"
    }
   ],
   "source": [
    "race_piv = pd.DataFrame(df.pivot_table(index='Subject_1_race', values='Incident_key', aggfunc=lambda x: len(x.unique())))\n",
    "\n",
    "race_piv['Percent of total'] = (race_piv['Incident_key'] / race_piv.Incident_key.sum(axis=0)) * 100\n",
    "\n",
    "race_piv\n"
   ]
  },
  {
   "cell_type": "code",
   "execution_count": 25,
   "metadata": {
    "collapsed": false
   },
   "outputs": [
    {
     "data": {
      "text/html": [
       "<div>\n",
       "<table border=\"1\" class=\"dataframe\">\n",
       "  <thead>\n",
       "    <tr style=\"text-align: right;\">\n",
       "      <th></th>\n",
       "      <th>Incident_key</th>\n",
       "      <th>Percent of total</th>\n",
       "    </tr>\n",
       "    <tr>\n",
       "      <th>Subject_1_race</th>\n",
       "      <th></th>\n",
       "      <th></th>\n",
       "    </tr>\n",
       "  </thead>\n",
       "  <tbody>\n",
       "    <tr>\n",
       "      <th>REDACTED</th>\n",
       "      <td>2</td>\n",
       "      <td>0.004725</td>\n",
       "    </tr>\n",
       "    <tr>\n",
       "      <th>asian</th>\n",
       "      <td>250</td>\n",
       "      <td>0.590626</td>\n",
       "    </tr>\n",
       "    <tr>\n",
       "      <th>asian/pacific islander</th>\n",
       "      <td>111</td>\n",
       "      <td>0.262238</td>\n",
       "    </tr>\n",
       "    <tr>\n",
       "      <th>black</th>\n",
       "      <td>16975</td>\n",
       "      <td>40.103478</td>\n",
       "    </tr>\n",
       "    <tr>\n",
       "      <th>blank</th>\n",
       "      <td>1</td>\n",
       "      <td>0.002363</td>\n",
       "    </tr>\n",
       "    <tr>\n",
       "      <th>canine</th>\n",
       "      <td>5</td>\n",
       "      <td>0.011813</td>\n",
       "    </tr>\n",
       "    <tr>\n",
       "      <th>hispanic</th>\n",
       "      <td>4305</td>\n",
       "      <td>10.170573</td>\n",
       "    </tr>\n",
       "    <tr>\n",
       "      <th>illegible</th>\n",
       "      <td>17</td>\n",
       "      <td>0.040163</td>\n",
       "    </tr>\n",
       "    <tr>\n",
       "      <th>mixed</th>\n",
       "      <td>4</td>\n",
       "      <td>0.009450</td>\n",
       "    </tr>\n",
       "    <tr>\n",
       "      <th>native american</th>\n",
       "      <td>16</td>\n",
       "      <td>0.037800</td>\n",
       "    </tr>\n",
       "    <tr>\n",
       "      <th>not listed</th>\n",
       "      <td>822</td>\n",
       "      <td>1.941977</td>\n",
       "    </tr>\n",
       "    <tr>\n",
       "      <th>other</th>\n",
       "      <td>23</td>\n",
       "      <td>0.054338</td>\n",
       "    </tr>\n",
       "    <tr>\n",
       "      <th>pacific islander</th>\n",
       "      <td>8</td>\n",
       "      <td>0.018900</td>\n",
       "    </tr>\n",
       "    <tr>\n",
       "      <th>redacted</th>\n",
       "      <td>149</td>\n",
       "      <td>0.352013</td>\n",
       "    </tr>\n",
       "    <tr>\n",
       "      <th>white</th>\n",
       "      <td>19640</td>\n",
       "      <td>46.399546</td>\n",
       "    </tr>\n",
       "  </tbody>\n",
       "</table>\n",
       "</div>"
      ],
      "text/plain": [
       "                        Incident_key  Percent of total\n",
       "Subject_1_race                                        \n",
       "REDACTED                           2          0.004725\n",
       "asian                            250          0.590626\n",
       "asian/pacific islander           111          0.262238\n",
       "black                          16975         40.103478\n",
       "blank                              1          0.002363\n",
       "canine                             5          0.011813\n",
       "hispanic                        4305         10.170573\n",
       "illegible                         17          0.040163\n",
       "mixed                              4          0.009450\n",
       "native american                   16          0.037800\n",
       "not listed                       822          1.941977\n",
       "other                             23          0.054338\n",
       "pacific islander                   8          0.018900\n",
       "redacted                         149          0.352013\n",
       "white                          19640         46.399546"
      ]
     },
     "execution_count": 25,
     "metadata": {},
     "output_type": "execute_result"
    }
   ],
   "source": [
    "race_nedp = pd.DataFrame(all_UOF_data_no_blank_charges.pivot_table(index='Subject_1_race', values='Incident_key', aggfunc=lambda x: len(x.unique())))\n",
    "\n",
    "race_nedp['Percent of total'] = (race_nedp['Incident_key'] / race_nedp.Incident_key.sum(axis=0)) * 100\n",
    "\n",
    "race_nedp\n"
   ]
  },
  {
   "cell_type": "code",
   "execution_count": 26,
   "metadata": {
    "collapsed": true
   },
   "outputs": [],
   "source": [
    "wh_arrests = to_pre[[u'TOTAL_WHITE_ARRESTS_2012', u'TOTAL_WHITE_ARRESTS_2013',\n",
    "       u'TOTAL_WHITE_ARRESTS_2014', u'TOTAL_WHITE_ARRESTS_2015',\n",
    "       u'TOTAL_WHITE_ARRESTS_2016']].sum().sum()\n",
    "\n",
    "bl_arrests = to_pre[[u'TOTAL_BLACK_ARRESTS_2012',\n",
    "       u'TOTAL_BLACK_ARRESTS_2013', u'TOTAL_BLACK_ARRESTS_2014',\n",
    "       u'TOTAL_BLACK_ARRESTS_2015', u'TOTAL_BLACK_ARRESTS_2016']].sum().sum()\n",
    "\n",
    "hi_arrests = 0\n",
    "\n",
    "api_arrests = to_pre[[u'TOTAL_API_ARRESTS_2013', u'TOTAL_API_ARRESTS_2014',\n",
    "       u'TOTAL_API_ARRESTS_2015', u'TOTAL_API_ARRESTS_2016']].sum().sum()\n",
    "\n",
    "aian_arrests = to_pre[[  u'TOTAL_AIAN_ARRESTS_2012', u'TOTAL_AIAN_ARRESTS_2013',\n",
    "       u'TOTAL_AIAN_ARRESTS_2014', u'TOTAL_AIAN_ARRESTS_2015',\n",
    "       u'TOTAL_AIAN_ARRESTS_2016']].sum().sum()\n"
   ]
  },
  {
   "cell_type": "code",
   "execution_count": 27,
   "metadata": {
    "collapsed": false
   },
   "outputs": [
    {
     "name": "stdout",
     "output_type": "stream",
     "text": [
      "White people percent of arrests:  60.3204432706\n",
      "Black people percent of arrests:  37.7711530584\n",
      "Hispanic people percent of arrests:  0.0\n",
      "API people percent of arrests:  1.14231140227\n",
      "AIAN people percent of arrests:  0.16260007429\n"
     ]
    }
   ],
   "source": [
    "print 'White people percent of arrests: ', wh_arrests / tot_arrests * 100\n",
    "print 'Black people percent of arrests: ', bl_arrests / tot_arrests * 100\n",
    "print 'Hispanic people percent of arrests: ', hi_arrests / tot_arrests * 100\n",
    "print 'API people percent of arrests: ', api_arrests / tot_arrests * 100\n",
    "print 'AIAN people percent of arrests: ', aian_arrests / tot_arrests * 100\n"
   ]
  },
  {
   "cell_type": "code",
   "execution_count": 28,
   "metadata": {
    "collapsed": true
   },
   "outputs": [],
   "source": [
    "# Read in Census summary because some of the pop data appeared to be messed up in the arrests file (prob. NJSP)\n",
    "pop_df = pd.read_csv('Data_sources/Race_pop/ACS_16_5YR_B03002_with_ann.csv', skiprows=1)\n"
   ]
  },
  {
   "cell_type": "code",
   "execution_count": 29,
   "metadata": {
    "collapsed": true
   },
   "outputs": [],
   "source": [
    "tot_pop = float(pop_df['Estimate; Total:'].sum())\n",
    "wh_pop = float(pop_df['Estimate; Not Hispanic or Latino: - White alone'].sum())\n",
    "bl_pop = float(pop_df['Estimate; Not Hispanic or Latino: - Black or African American alone'].sum())\n",
    "hi_pop = float( pop_df['Estimate; Hispanic or Latino:'].sum())\n",
    "api_pop = float( pop_df['Estimate; Not Hispanic or Latino: - Asian alone'].sum() + pop_df['Estimate; Not Hispanic or Latino: - Native Hawaiian and Other Pacific Islander alone'].sum())\n",
    "aian_pop = float( pop_df['Estimate; Not Hispanic or Latino: - American Indian and Alaska Native alone'].sum())\n"
   ]
  },
  {
   "cell_type": "code",
   "execution_count": 30,
   "metadata": {
    "collapsed": false
   },
   "outputs": [
    {
     "name": "stdout",
     "output_type": "stream",
     "text": [
      "White people percent of population: 56.6949239613\n",
      "Black people percent of population: 12.7185642552\n",
      "Hispanic people percent of population: 19.2904434725\n",
      "API people percent of population: 9.15246511227\n",
      "AIAN people percent of population: 0.106657472147\n"
     ]
    }
   ],
   "source": [
    "print 'White people percent of population:', (wh_pop / tot_pop) * 100\n",
    "print 'Black people percent of population:', (bl_pop / tot_pop) * 100\n",
    "print 'Hispanic people percent of population:', (hi_pop / tot_pop) * 100\n",
    "print 'API people percent of population:', (api_pop / tot_pop) * 100\n",
    "print 'AIAN people percent of population:', (aian_pop / tot_pop) * 100\n"
   ]
  },
  {
   "cell_type": "code",
   "execution_count": 31,
   "metadata": {
    "collapsed": false
   },
   "outputs": [
    {
     "name": "stdout",
     "output_type": "stream",
     "text": [
      "Black - white population odds ratio: 3.69716235416\n"
     ]
    }
   ],
   "source": [
    "print \"Black - white population odds ratio:\" , ((race_piv.loc[['black'], \n",
    "                                                              ['Incident_key']].Incident_key.sum() / bl_pop) / (race_piv.loc[['white'],\n",
    "                                                                                                                             ['Incident_key']].Incident_key.sum() / wh_pop))\n"
   ]
  },
  {
   "cell_type": "code",
   "execution_count": 32,
   "metadata": {
    "collapsed": false
   },
   "outputs": [
    {
     "name": "stdout",
     "output_type": "stream",
     "text": [
      "Black - white arrests odds ratio: 1.38029711699\n"
     ]
    }
   ],
   "source": [
    "# excluded EDPs\n",
    "print \"Black - white arrests odds ratio:\" , ((race_nedp.loc[['black'], \n",
    "                                                              ['Incident_key']].Incident_key.sum() / bl_arrests) / (race_nedp.loc[['white'],\n",
    "                                                                                                                             ['Incident_key']].Incident_key.sum() / wh_arrests))\n"
   ]
  },
  {
   "cell_type": "markdown",
   "metadata": {},
   "source": [
    "## Officer statistics"
   ]
  },
  {
   "cell_type": "markdown",
   "metadata": {},
   "source": [
    "#### Total number of unique officers:"
   ]
  },
  {
   "cell_type": "code",
   "execution_count": 33,
   "metadata": {
    "collapsed": false
   },
   "outputs": [
    {
     "data": {
      "text/plain": [
       "17369"
      ]
     },
     "execution_count": 33,
     "metadata": {},
     "output_type": "execute_result"
    }
   ],
   "source": [
    "df.officerid.nunique()"
   ]
  },
  {
   "cell_type": "markdown",
   "metadata": {},
   "source": [
    "#### Incidents per officer, on average:"
   ]
  },
  {
   "cell_type": "code",
   "execution_count": 34,
   "metadata": {
    "collapsed": false
   },
   "outputs": [
    {
     "data": {
      "text/plain": [
       "4.053255800564224"
      ]
     },
     "execution_count": 34,
     "metadata": {},
     "output_type": "execute_result"
    }
   ],
   "source": [
    "float(df.Incident_key.count()) / df.officerid.nunique()"
   ]
  },
  {
   "cell_type": "markdown",
   "metadata": {},
   "source": [
    "#### Officer racial breakdown"
   ]
  },
  {
   "cell_type": "code",
   "execution_count": 35,
   "metadata": {
    "collapsed": false
   },
   "outputs": [
    {
     "data": {
      "text/html": [
       "<div>\n",
       "<table border=\"1\" class=\"dataframe\">\n",
       "  <thead>\n",
       "    <tr style=\"text-align: right;\">\n",
       "      <th></th>\n",
       "      <th>Incident_key</th>\n",
       "      <th>Percent</th>\n",
       "    </tr>\n",
       "    <tr>\n",
       "      <th>Officer_1_race</th>\n",
       "      <th></th>\n",
       "      <th></th>\n",
       "    </tr>\n",
       "  </thead>\n",
       "  <tbody>\n",
       "    <tr>\n",
       "      <th>asian</th>\n",
       "      <td>530</td>\n",
       "      <td>0.752787</td>\n",
       "    </tr>\n",
       "    <tr>\n",
       "      <th>asian/pacific islander</th>\n",
       "      <td>120</td>\n",
       "      <td>0.170442</td>\n",
       "    </tr>\n",
       "    <tr>\n",
       "      <th>black</th>\n",
       "      <td>4457</td>\n",
       "      <td>6.330516</td>\n",
       "    </tr>\n",
       "    <tr>\n",
       "      <th>black/white</th>\n",
       "      <td>2</td>\n",
       "      <td>0.002841</td>\n",
       "    </tr>\n",
       "    <tr>\n",
       "      <th>hispanic</th>\n",
       "      <td>3981</td>\n",
       "      <td>5.654428</td>\n",
       "    </tr>\n",
       "    <tr>\n",
       "      <th>illegible</th>\n",
       "      <td>23</td>\n",
       "      <td>0.032668</td>\n",
       "    </tr>\n",
       "    <tr>\n",
       "      <th>mixed</th>\n",
       "      <td>27</td>\n",
       "      <td>0.038350</td>\n",
       "    </tr>\n",
       "    <tr>\n",
       "      <th>native american</th>\n",
       "      <td>7</td>\n",
       "      <td>0.009942</td>\n",
       "    </tr>\n",
       "    <tr>\n",
       "      <th>not listed</th>\n",
       "      <td>19144</td>\n",
       "      <td>27.191251</td>\n",
       "    </tr>\n",
       "    <tr>\n",
       "      <th>other</th>\n",
       "      <td>37</td>\n",
       "      <td>0.052553</td>\n",
       "    </tr>\n",
       "    <tr>\n",
       "      <th>pacific islander</th>\n",
       "      <td>3</td>\n",
       "      <td>0.004261</td>\n",
       "    </tr>\n",
       "    <tr>\n",
       "      <th>unknown</th>\n",
       "      <td>91</td>\n",
       "      <td>0.129252</td>\n",
       "    </tr>\n",
       "    <tr>\n",
       "      <th>white</th>\n",
       "      <td>41983</td>\n",
       "      <td>59.630708</td>\n",
       "    </tr>\n",
       "  </tbody>\n",
       "</table>\n",
       "</div>"
      ],
      "text/plain": [
       "                        Incident_key    Percent\n",
       "Officer_1_race                                 \n",
       "asian                            530   0.752787\n",
       "asian/pacific islander           120   0.170442\n",
       "black                           4457   6.330516\n",
       "black/white                        2   0.002841\n",
       "hispanic                        3981   5.654428\n",
       "illegible                         23   0.032668\n",
       "mixed                             27   0.038350\n",
       "native american                    7   0.009942\n",
       "not listed                     19144  27.191251\n",
       "other                             37   0.052553\n",
       "pacific islander                   3   0.004261\n",
       "unknown                           91   0.129252\n",
       "white                          41983  59.630708"
      ]
     },
     "execution_count": 35,
     "metadata": {},
     "output_type": "execute_result"
    }
   ],
   "source": [
    "offrace = pd.DataFrame(df.pivot_table(index='Officer_1_race', values='Incident_key', aggfunc=len))\n",
    "offrace['Percent'] = (offrace.Incident_key / offrace.Incident_key.sum(axis=0)) * 100\n",
    "offrace"
   ]
  },
  {
   "cell_type": "markdown",
   "metadata": {},
   "source": [
    "## Top officers\n"
   ]
  },
  {
   "cell_type": "code",
   "execution_count": 36,
   "metadata": {
    "collapsed": true
   },
   "outputs": [],
   "source": [
    "df['MonthYear'] = df.Month + \"/\" + df.Year"
   ]
  },
  {
   "cell_type": "code",
   "execution_count": 37,
   "metadata": {
    "collapsed": false
   },
   "outputs": [],
   "source": [
    "# short_df = df[(df.Year != '2012') & (df.MonthYear != '1/2013') & (df.MonthYear  != '01/2013')]"
   ]
  },
  {
   "cell_type": "code",
   "execution_count": 38,
   "metadata": {
    "collapsed": false
   },
   "outputs": [
    {
     "data": {
      "text/html": [
       "<div>\n",
       "<table border=\"1\" class=\"dataframe\">\n",
       "  <thead>\n",
       "    <tr style=\"text-align: right;\">\n",
       "      <th></th>\n",
       "      <th>Number of incidents for this officer</th>\n",
       "    </tr>\n",
       "  </thead>\n",
       "  <tbody>\n",
       "    <tr>\n",
       "      <th>ScottMSendrickAtlanticCity</th>\n",
       "      <td>62</td>\n",
       "    </tr>\n",
       "    <tr>\n",
       "      <th>JamesDayVineland</th>\n",
       "      <td>59</td>\n",
       "    </tr>\n",
       "    <tr>\n",
       "      <th>JosephDixonMillville</th>\n",
       "      <td>58</td>\n",
       "    </tr>\n",
       "    <tr>\n",
       "      <th>RyanPDuffyPaterson</th>\n",
       "      <td>57</td>\n",
       "    </tr>\n",
       "    <tr>\n",
       "      <th>PatrickJoyceLongBranch</th>\n",
       "      <td>52</td>\n",
       "    </tr>\n",
       "  </tbody>\n",
       "</table>\n",
       "</div>"
      ],
      "text/plain": [
       "                            Number of incidents for this officer\n",
       "ScottMSendrickAtlanticCity                                    62\n",
       "JamesDayVineland                                              59\n",
       "JosephDixonMillville                                          58\n",
       "RyanPDuffyPaterson                                            57\n",
       "PatrickJoyceLongBranch                                        52"
      ]
     },
     "execution_count": 38,
     "metadata": {},
     "output_type": "execute_result"
    }
   ],
   "source": [
    "#basic list of top officers\n",
    "top_off_start = pd.DataFrame(df.officerid.value_counts().head(30))\n",
    "top_off_start = top_off_start.rename(columns={'officerid':'Number of incidents for this officer'})\n",
    "top_off_start.head()"
   ]
  },
  {
   "cell_type": "code",
   "execution_count": 39,
   "metadata": {
    "collapsed": false
   },
   "outputs": [
    {
     "data": {
      "text/plain": [
       "<matplotlib.axes._subplots.AxesSubplot at 0x10c9bf210>"
      ]
     },
     "execution_count": 39,
     "metadata": {},
     "output_type": "execute_result"
    },
    {
     "data": {
      "image/png": "[encoded data removed]",
      "text/plain": [
       "<matplotlib.figure.Figure at 0x10431db90>"
      ]
     },
     "metadata": {},
     "output_type": "display_data"
    }
   ],
   "source": [
    "pd.DataFrame(df.officerid.value_counts()).plot(kind='hist',title='Number of incidents per officer')"
   ]
  },
  {
   "cell_type": "code",
   "execution_count": 40,
   "metadata": {
    "collapsed": false
   },
   "outputs": [],
   "source": [
    "#got rid of MIs cause they were throwing first names off\n",
    "df.Officer_1_first = df.Officer_1_first.str.split(pat=' ', expand=True)[0]\n",
    "\n",
    "#then created pivot table of info you're looking for\n",
    "all_off = pd.DataFrame(df.pivot_table(index=['officerid', 'Officer_1_first', 'Officer_1_last', 'Officer_1_rank', \n",
    "                               'Officer_1_race', 'Town_county'], values='Incident_key', aggfunc=len)).reset_index()\n",
    "\n",
    "all_off = all_off.rename(columns={'Incident_key': 'Rows with this data'})"
   ]
  },
  {
   "cell_type": "code",
   "execution_count": 41,
   "metadata": {
    "collapsed": false
   },
   "outputs": [],
   "source": [
    "#merge em\n",
    "top_off_all = top_off_start.merge(all_off, how='left', left_index=True, right_on='officerid')"
   ]
  },
  {
   "cell_type": "code",
   "execution_count": 42,
   "metadata": {
    "collapsed": false,
    "scrolled": false
   },
   "outputs": [],
   "source": [
    "#Pivot table of department totals\n",
    "town_county_piv = pd.DataFrame(df.pivot_table(index='Town_county', values='Incident_key', aggfunc=lambda x: len(x.unique())))\n",
    "town_county_piv = town_county_piv.rename(columns={'Incident_key': 'Department_incidents'})"
   ]
  },
  {
   "cell_type": "code",
   "execution_count": 43,
   "metadata": {
    "collapsed": false
   },
   "outputs": [],
   "source": [
    "top_off = top_off_all.merge(town_county_piv, how='left', left_on='Town_county', right_index=True)\n",
    "\n",
    "top_off['Percent of department'] = (top_off['Number of incidents for this officer'] / top_off['Department_incidents']) * 100"
   ]
  },
  {
   "cell_type": "code",
   "execution_count": 44,
   "metadata": {
    "collapsed": false
   },
   "outputs": [
    {
     "data": {
      "text/html": [
       "<div>\n",
       "<table border=\"1\" class=\"dataframe\">\n",
       "  <thead>\n",
       "    <tr style=\"text-align: right;\">\n",
       "      <th></th>\n",
       "      <th>Number of incidents for this officer</th>\n",
       "      <th>officerid</th>\n",
       "      <th>Officer_1_first</th>\n",
       "      <th>Officer_1_last</th>\n",
       "      <th>Officer_1_rank</th>\n",
       "      <th>Officer_1_race</th>\n",
       "      <th>Town_county</th>\n",
       "      <th>Rows with this data</th>\n",
       "      <th>Department_incidents</th>\n",
       "      <th>Percent of department</th>\n",
       "    </tr>\n",
       "  </thead>\n",
       "  <tbody>\n",
       "    <tr>\n",
       "      <th>19740</th>\n",
       "      <td>62</td>\n",
       "      <td>ScottMSendrickAtlanticCity</td>\n",
       "      <td>Scott</td>\n",
       "      <td>Sendrick</td>\n",
       "      <td>Ofc.</td>\n",
       "      <td>not listed</td>\n",
       "      <td>Atlantic City, Atlantic County</td>\n",
       "      <td>4</td>\n",
       "      <td>1668</td>\n",
       "      <td>3.717026</td>\n",
       "    </tr>\n",
       "    <tr>\n",
       "      <th>19741</th>\n",
       "      <td>62</td>\n",
       "      <td>ScottMSendrickAtlanticCity</td>\n",
       "      <td>Scott</td>\n",
       "      <td>Sendrick</td>\n",
       "      <td>Ofc.</td>\n",
       "      <td>white</td>\n",
       "      <td>Atlantic City, Atlantic County</td>\n",
       "      <td>58</td>\n",
       "      <td>1668</td>\n",
       "      <td>3.717026</td>\n",
       "    </tr>\n",
       "    <tr>\n",
       "      <th>8546</th>\n",
       "      <td>59</td>\n",
       "      <td>JamesDayVineland</td>\n",
       "      <td>James</td>\n",
       "      <td>Day</td>\n",
       "      <td>Ofc.</td>\n",
       "      <td>white</td>\n",
       "      <td>Vineland, Cumberland County</td>\n",
       "      <td>59</td>\n",
       "      <td>916</td>\n",
       "      <td>6.441048</td>\n",
       "    </tr>\n",
       "    <tr>\n",
       "      <th>11168</th>\n",
       "      <td>58</td>\n",
       "      <td>JosephDixonMillville</td>\n",
       "      <td>Joseph</td>\n",
       "      <td>Dixon</td>\n",
       "      <td>Ofc.</td>\n",
       "      <td>not listed</td>\n",
       "      <td>Millville, Cumberland County</td>\n",
       "      <td>58</td>\n",
       "      <td>454</td>\n",
       "      <td>12.775330</td>\n",
       "    </tr>\n",
       "    <tr>\n",
       "      <th>19367</th>\n",
       "      <td>57</td>\n",
       "      <td>RyanPDuffyPaterson</td>\n",
       "      <td>R</td>\n",
       "      <td>Duffy</td>\n",
       "      <td>Ofc.</td>\n",
       "      <td>not listed</td>\n",
       "      <td>Paterson, Passaic County</td>\n",
       "      <td>1</td>\n",
       "      <td>1466</td>\n",
       "      <td>3.888131</td>\n",
       "    </tr>\n",
       "  </tbody>\n",
       "</table>\n",
       "</div>"
      ],
      "text/plain": [
       "       Number of incidents for this officer                   officerid  \\\n",
       "19740                                    62  ScottMSendrickAtlanticCity   \n",
       "19741                                    62  ScottMSendrickAtlanticCity   \n",
       "8546                                     59            JamesDayVineland   \n",
       "11168                                    58        JosephDixonMillville   \n",
       "19367                                    57          RyanPDuffyPaterson   \n",
       "\n",
       "      Officer_1_first Officer_1_last Officer_1_rank Officer_1_race  \\\n",
       "19740           Scott       Sendrick           Ofc.     not listed   \n",
       "19741           Scott       Sendrick           Ofc.          white   \n",
       "8546            James            Day           Ofc.          white   \n",
       "11168          Joseph          Dixon           Ofc.     not listed   \n",
       "19367               R          Duffy           Ofc.     not listed   \n",
       "\n",
       "                          Town_county  Rows with this data  \\\n",
       "19740  Atlantic City, Atlantic County                    4   \n",
       "19741  Atlantic City, Atlantic County                   58   \n",
       "8546      Vineland, Cumberland County                   59   \n",
       "11168    Millville, Cumberland County                   58   \n",
       "19367        Paterson, Passaic County                    1   \n",
       "\n",
       "       Department_incidents  Percent of department  \n",
       "19740                  1668               3.717026  \n",
       "19741                  1668               3.717026  \n",
       "8546                    916               6.441048  \n",
       "11168                   454              12.775330  \n",
       "19367                  1466               3.888131  "
      ]
     },
     "execution_count": 44,
     "metadata": {},
     "output_type": "execute_result"
    }
   ],
   "source": [
    "top_off.head()"
   ]
  },
  {
   "cell_type": "markdown",
   "metadata": {},
   "source": [
    "### Subjects injuried"
   ]
  },
  {
   "cell_type": "code",
   "execution_count": 45,
   "metadata": {
    "collapsed": false
   },
   "outputs": [],
   "source": [
    "subj_inj = pd.DataFrame(df.pivot_table(index='Subject_1_injured', values='Incident_key', aggfunc=lambda x: len(x.unique())))"
   ]
  },
  {
   "cell_type": "code",
   "execution_count": 46,
   "metadata": {
    "collapsed": false
   },
   "outputs": [
    {
     "name": "stdout",
     "output_type": "stream",
     "text": [
      "Subjects percent injured:  0.207828559912\n"
     ]
    }
   ],
   "source": [
    "print 'Subjects percent injured: ',  float(subj_inj.loc[['yes'], ['Incident_key']].Incident_key.sum() )/  subj_inj.Incident_key.sum(axis=0)"
   ]
  },
  {
   "cell_type": "markdown",
   "metadata": {},
   "source": [
    "### Subjects hospitalized"
   ]
  },
  {
   "cell_type": "code",
   "execution_count": 47,
   "metadata": {
    "collapsed": false
   },
   "outputs": [
    {
     "name": "stdout",
     "output_type": "stream",
     "text": [
      "Subjects percent hospitalized:  0.0992188384467\n"
     ]
    }
   ],
   "source": [
    "subj_hosp = pd.DataFrame(df.pivot_table(index='Subject_1_hosp', values='Incident_key', aggfunc=lambda x: len(x.unique())))\n",
    "\n",
    "print 'Subjects percent hospitalized: ',  float(subj_hosp.loc[['yes'], ['Incident_key']].Incident_key.sum() )/ subj_hosp.Incident_key.sum(axis=0)"
   ]
  },
  {
   "cell_type": "code",
   "execution_count": 48,
   "metadata": {
    "collapsed": false
   },
   "outputs": [
    {
     "data": {
      "text/html": [
       "<div>\n",
       "<table border=\"1\" class=\"dataframe\">\n",
       "  <thead>\n",
       "    <tr style=\"text-align: right;\">\n",
       "      <th></th>\n",
       "      <th>Incident_key</th>\n",
       "    </tr>\n",
       "    <tr>\n",
       "      <th>Subject_1_hosp</th>\n",
       "      <th></th>\n",
       "    </tr>\n",
       "  </thead>\n",
       "  <tbody>\n",
       "    <tr>\n",
       "      <th>No</th>\n",
       "      <td>1</td>\n",
       "    </tr>\n",
       "    <tr>\n",
       "      <th>no</th>\n",
       "      <td>10788</td>\n",
       "    </tr>\n",
       "    <tr>\n",
       "      <th>not listed</th>\n",
       "      <td>28990</td>\n",
       "    </tr>\n",
       "    <tr>\n",
       "      <th>redacted</th>\n",
       "      <td>4</td>\n",
       "    </tr>\n",
       "    <tr>\n",
       "      <th>yes</th>\n",
       "      <td>4382</td>\n",
       "    </tr>\n",
       "  </tbody>\n",
       "</table>\n",
       "</div>"
      ],
      "text/plain": [
       "                Incident_key\n",
       "Subject_1_hosp              \n",
       "No                         1\n",
       "no                     10788\n",
       "not listed             28990\n",
       "redacted                   4\n",
       "yes                     4382"
      ]
     },
     "execution_count": 48,
     "metadata": {},
     "output_type": "execute_result"
    }
   ],
   "source": [
    "subj_hosp"
   ]
  },
  {
   "cell_type": "markdown",
   "metadata": {},
   "source": [
    "### Officers injured"
   ]
  },
  {
   "cell_type": "code",
   "execution_count": 49,
   "metadata": {
    "collapsed": false
   },
   "outputs": [
    {
     "name": "stdout",
     "output_type": "stream",
     "text": [
      "Officers percent injured:  0.118361739578\n"
     ]
    }
   ],
   "source": [
    "off_inj = pd.DataFrame(df.pivot_table(index='Officer_1_injured', values='Incident_key', aggfunc=lambda x: len(x.unique())))\n",
    "\n",
    "print 'Officers percent injured: ',  float(off_inj.loc[['yes'], ['Incident_key']].Incident_key.sum() )/ off_inj.Incident_key.sum(axis=0)"
   ]
  },
  {
   "cell_type": "markdown",
   "metadata": {},
   "source": [
    "### Officers hospitalized"
   ]
  },
  {
   "cell_type": "code",
   "execution_count": 50,
   "metadata": {
    "collapsed": false
   },
   "outputs": [
    {
     "name": "stdout",
     "output_type": "stream",
     "text": [
      "Officers percent hospitalized:  0.0237445599477\n"
     ]
    }
   ],
   "source": [
    "off_hosp = pd.DataFrame(df.pivot_table(index='Officer_1_hosp', values='Incident_key', aggfunc=lambda x: len(x.unique())))\n",
    "\n",
    "print 'Officers percent hospitalized: ',  float(off_hosp.loc[['yes'], ['Incident_key']].Incident_key.sum() )/ off_hosp.Incident_key.sum(axis=0)"
   ]
  }
 ],
 "metadata": {
  "kernelspec": {
   "display_name": "Python 2",
   "language": "python",
   "name": "python2"
  },
  "language_info": {
   "codemirror_mode": {
    "name": "ipython",
    "version": 2
   },
   "file_extension": ".py",
   "mimetype": "text/x-python",
   "name": "python",
   "nbconvert_exporter": "python",
   "pygments_lexer": "ipython2",
   "version": "2.7.12"
  }
 },
 "nbformat": 4,
 "nbformat_minor": 2
}
